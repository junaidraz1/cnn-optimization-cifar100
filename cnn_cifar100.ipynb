{
 "cells": [
  {
   "cell_type": "markdown",
   "metadata": {
    "id": "Xtpu3gYYXBAj"
   },
   "source": [
    "# **Import Libraries**"
   ]
  },
  {
   "cell_type": "code",
   "execution_count": null,
   "metadata": {
    "id": "5h-lU07SWw8p",
    "jupyter": {
     "source_hidden": true
    }
   },
   "outputs": [],
   "source": [
    "# Enable TensorFlow Debug Mode\n",
    "import tensorflow as tf\n",
    "tf.data.experimental.enable_debug_mode()\n",
    "\n",
    "# Essential Libraries\n",
    "import numpy as np\n",
    "import time\n",
    "import matplotlib.pyplot as plt\n",
    "\n",
    "# TensorFlow and Keras Modules\n",
    "from tensorflow import keras\n",
    "from tensorflow.keras import layers, models, regularizers, Input, activations, optimizers,  backend as K\n",
    "from tensorflow.keras.utils import to_categorical\n",
    "from tensorflow.keras.activations import swish, gelu\n",
    "from tensorflow.keras.layers import LeakyReLU\n",
    "from tensorflow.keras.optimizers import SGD\n",
    "from tensorflow.keras.backend import sigmoid\n",
    "\n",
    "# Dataset Handling\n",
    "import tensorflow_datasets as tfds\n",
    "from sklearn.model_selection import train_test_split"
   ]
  },
  {
   "cell_type": "markdown",
   "metadata": {
    "id": "b8G4MdFhYKhS"
   },
   "source": [
    "### Task 1: Load the CIFAR-100 data set and select a subset to work with. The data set is already split into training and test sets.  "
   ]
  },
  {
   "cell_type": "code",
   "execution_count": null,
   "metadata": {
    "colab": {
     "base_uri": "https://localhost:8080/"
    },
    "collapsed": true,
    "id": "34bQ4T8HXRs_",
    "jupyter": {
     "outputs_hidden": true,
     "source_hidden": true
    },
    "outputId": "50196674-7c2f-4ef4-ef24-48e8ea773e7f"
   },
   "outputs": [
    {
     "name": "stdout",
     "output_type": "stream",
     "text": [
      "Downloading data from https://www.cs.toronto.edu/~kriz/cifar-100-python.tar.gz\n",
      "\u001b[1m169001437/169001437\u001b[0m \u001b[32m━━━━━━━━━━━━━━━━━━━━\u001b[0m\u001b[37m\u001b[0m \u001b[1m4s\u001b[0m 0us/step\n",
      "Train Data Shape: (3000, 32, 32, 3), Train Labels: (3000, 10)\n",
      "Test Data Shape: (500, 32, 32, 3), Test Labels: (500, 10)\n"
     ]
    }
   ],
   "source": [
    "### Step 1: Load and Extract a Subset from CIFAR-100\n",
    "\n",
    "# Load CIFAR-100 dataset (already split into train and test sets)\n",
    "(x_train, y_train), (x_test, y_test) = tf.keras.datasets.cifar100.load_data()\n",
    "\n",
    "# Manually define CIFAR-100 class labels for reference\n",
    "cifar100_labels = [\n",
    "    'apple', 'aquarium_fish', 'baby', 'bear', 'beaver', 'bed', 'bee', 'beetle', 'bicycle', 'bottle', 'bowl', 'boy',\n",
    "    'bridge', 'bus', 'butterfly', 'camel', 'can', 'castle', 'caterpillar', 'cattle', 'chair', 'chimpanzee', 'clock',\n",
    "    'cloud', 'cockroach', 'couch', 'crab', 'crocodile', 'cup', 'dinosaur', 'dolphin', 'elephant', 'flatfish',\n",
    "    'forest', 'fox', 'girl', 'hamster', 'house', 'kangaroo', 'keyboard', 'lamp', 'lawn_mower', 'leopard', 'lion',\n",
    "    'lizard', 'lobster', 'man', 'maple_tree', 'motorcycle', 'mountain', 'mouse', 'mushroom', 'oak_tree', 'orange',\n",
    "    'orchid', 'otter', 'palm_tree', 'pear', 'pickup_truck', 'pine_tree', 'plain', 'plate', 'poppy', 'porcupine',\n",
    "    'possum', 'rabbit', 'raccoon', 'ray', 'road', 'rocket', 'rose', 'sea', 'seal', 'shark', 'shrew', 'skunk',\n",
    "    'skyscraper', 'snail', 'snake', 'spider', 'squirrel', 'streetcar', 'sunflower', 'sweet_pepper', 'table',\n",
    "    'tank', 'telephone', 'television', 'tiger', 'tractor', 'train', 'trout', 'tulip', 'turtle', 'wardrobe',\n",
    "    'whale', 'willow_tree', 'wolf', 'woman', 'worm'\n",
    "]\n",
    "\n",
    "# Select 10 specific classes from CIFAR-100\n",
    "selected_classes = ['apple', 'bus', 'dolphin', 'motorcycle', 'rabbit', 'skyscraper', 'snake', 'tiger', 'train', 'whale']\n",
    "selected_class_indices = [cifar100_labels.index(cls) for cls in selected_classes]\n",
    "\n",
    "# Extract images belonging to the selected classes from the dataset\n",
    "selected_train_indices = np.isin(y_train, selected_class_indices).flatten()\n",
    "selected_test_indices = np.isin(y_test, selected_class_indices).flatten()\n",
    "\n",
    "x_train_selected, y_train_selected = x_train[selected_train_indices], y_train[selected_train_indices]\n",
    "x_test_selected, y_test_selected = x_test[selected_test_indices], y_test[selected_test_indices]\n",
    "\n",
    "# Convert original class labels to new indices (0 to 9) for the selected classes\n",
    "class_mapping = {old_label: new_label for new_label, old_label in enumerate(selected_class_indices)}\n",
    "y_train_selected = np.vectorize(class_mapping.get)(y_train_selected)\n",
    "y_test_selected = np.vectorize(class_mapping.get)(y_test_selected)\n",
    "\n",
    "# Reduce dataset size (e.g., 300 images per class for training, 50 per class for testing)\n",
    "num_images_per_class_train = 300\n",
    "num_images_per_class_test = 50\n",
    "\n",
    "x_train_final, y_train_final = [], []\n",
    "x_test_final, y_test_final = [], []\n",
    "\n",
    "# Select the first 'num_images_per_class' samples for each class\n",
    "for cls in range(len(selected_classes)):\n",
    "    cls_indices_train = np.where(y_train_selected == cls)[0][:num_images_per_class_train]\n",
    "    cls_indices_test = np.where(y_test_selected == cls)[0][:num_images_per_class_test]\n",
    "\n",
    "    x_train_final.append(x_train_selected[cls_indices_train])\n",
    "    y_train_final.append(y_train_selected[cls_indices_train])\n",
    "\n",
    "    x_test_final.append(x_test_selected[cls_indices_test])\n",
    "    y_test_final.append(y_test_selected[cls_indices_test])\n",
    "\n",
    "# Convert lists to numpy arrays\n",
    "x_train_final = np.concatenate(x_train_final, axis=0)\n",
    "y_train_final = np.concatenate(y_train_final, axis=0)\n",
    "x_test_final = np.concatenate(x_test_final, axis=0)\n",
    "y_test_final = np.concatenate(y_test_final, axis=0)\n",
    "\n",
    "# Normalize image pixel values to the range [0,1]\n",
    "x_train_final = x_train_final.astype('float32') / 255.0\n",
    "x_test_final = x_test_final.astype('float32') / 255.0\n",
    "\n",
    "# One-hot encode labels for training and testing sets\n",
    "y_train_final = to_categorical(y_train_final, num_classes=len(selected_classes))\n",
    "y_test_final = to_categorical(y_test_final, num_classes=len(selected_classes))\n",
    "\n",
    "# Verify final dataset shape\n",
    "print(f\"Train Data Shape: {x_train_final.shape}, Train Labels: {y_train_final.shape}\")\n",
    "print(f\"Test Data Shape: {x_test_final.shape}, Test Labels: {y_test_final.shape}\")"
   ]
  },
  {
   "cell_type": "markdown",
   "metadata": {
    "id": "rm-ZoQ9kYMUL"
   },
   "source": [
    "### Task 2: Build a CNN consisting of several convolutional and max pooling layers (see the tensorflow example), several inner dense layers."
   ]
  },
  {
   "cell_type": "code",
   "execution_count": null,
   "metadata": {
    "colab": {
     "base_uri": "https://localhost:8080/",
     "height": 680
    },
    "collapsed": true,
    "id": "X4bNTGQ9YCuT",
    "jupyter": {
     "outputs_hidden": true,
     "source_hidden": true
    },
    "outputId": "a67474bf-b94a-422d-e4eb-b7e6be9fe284"
   },
   "outputs": [
    {
     "data": {
      "text/html": [
       "<pre style=\"white-space:pre;overflow-x:auto;line-height:normal;font-family:Menlo,'DejaVu Sans Mono',consolas,'Courier New',monospace\"><span style=\"font-weight: bold\">Model: \"sequential\"</span>\n",
       "</pre>\n"
      ],
      "text/plain": [
       "\u001b[1mModel: \"sequential\"\u001b[0m\n"
      ]
     },
     "metadata": {},
     "output_type": "display_data"
    },
    {
     "data": {
      "text/html": [
       "<pre style=\"white-space:pre;overflow-x:auto;line-height:normal;font-family:Menlo,'DejaVu Sans Mono',consolas,'Courier New',monospace\">┏━━━━━━━━━━━━━━━━━━━━━━━━━━━━━━━━━━━━━━┳━━━━━━━━━━━━━━━━━━━━━━━━━━━━━┳━━━━━━━━━━━━━━━━━┓\n",
       "┃<span style=\"font-weight: bold\"> Layer (type)                         </span>┃<span style=\"font-weight: bold\"> Output Shape                </span>┃<span style=\"font-weight: bold\">         Param # </span>┃\n",
       "┡━━━━━━━━━━━━━━━━━━━━━━━━━━━━━━━━━━━━━━╇━━━━━━━━━━━━━━━━━━━━━━━━━━━━━╇━━━━━━━━━━━━━━━━━┩\n",
       "│ conv2d (<span style=\"color: #0087ff; text-decoration-color: #0087ff\">Conv2D</span>)                      │ (<span style=\"color: #00d7ff; text-decoration-color: #00d7ff\">None</span>, <span style=\"color: #00af00; text-decoration-color: #00af00\">32</span>, <span style=\"color: #00af00; text-decoration-color: #00af00\">32</span>, <span style=\"color: #00af00; text-decoration-color: #00af00\">32</span>)          │             <span style=\"color: #00af00; text-decoration-color: #00af00\">896</span> │\n",
       "├──────────────────────────────────────┼─────────────────────────────┼─────────────────┤\n",
       "│ conv2d_1 (<span style=\"color: #0087ff; text-decoration-color: #0087ff\">Conv2D</span>)                    │ (<span style=\"color: #00d7ff; text-decoration-color: #00d7ff\">None</span>, <span style=\"color: #00af00; text-decoration-color: #00af00\">32</span>, <span style=\"color: #00af00; text-decoration-color: #00af00\">32</span>, <span style=\"color: #00af00; text-decoration-color: #00af00\">32</span>)          │           <span style=\"color: #00af00; text-decoration-color: #00af00\">9,248</span> │\n",
       "├──────────────────────────────────────┼─────────────────────────────┼─────────────────┤\n",
       "│ max_pooling2d (<span style=\"color: #0087ff; text-decoration-color: #0087ff\">MaxPooling2D</span>)         │ (<span style=\"color: #00d7ff; text-decoration-color: #00d7ff\">None</span>, <span style=\"color: #00af00; text-decoration-color: #00af00\">16</span>, <span style=\"color: #00af00; text-decoration-color: #00af00\">16</span>, <span style=\"color: #00af00; text-decoration-color: #00af00\">32</span>)          │               <span style=\"color: #00af00; text-decoration-color: #00af00\">0</span> │\n",
       "├──────────────────────────────────────┼─────────────────────────────┼─────────────────┤\n",
       "│ dropout (<span style=\"color: #0087ff; text-decoration-color: #0087ff\">Dropout</span>)                    │ (<span style=\"color: #00d7ff; text-decoration-color: #00d7ff\">None</span>, <span style=\"color: #00af00; text-decoration-color: #00af00\">16</span>, <span style=\"color: #00af00; text-decoration-color: #00af00\">16</span>, <span style=\"color: #00af00; text-decoration-color: #00af00\">32</span>)          │               <span style=\"color: #00af00; text-decoration-color: #00af00\">0</span> │\n",
       "├──────────────────────────────────────┼─────────────────────────────┼─────────────────┤\n",
       "│ conv2d_2 (<span style=\"color: #0087ff; text-decoration-color: #0087ff\">Conv2D</span>)                    │ (<span style=\"color: #00d7ff; text-decoration-color: #00d7ff\">None</span>, <span style=\"color: #00af00; text-decoration-color: #00af00\">16</span>, <span style=\"color: #00af00; text-decoration-color: #00af00\">16</span>, <span style=\"color: #00af00; text-decoration-color: #00af00\">64</span>)          │          <span style=\"color: #00af00; text-decoration-color: #00af00\">18,496</span> │\n",
       "├──────────────────────────────────────┼─────────────────────────────┼─────────────────┤\n",
       "│ conv2d_3 (<span style=\"color: #0087ff; text-decoration-color: #0087ff\">Conv2D</span>)                    │ (<span style=\"color: #00d7ff; text-decoration-color: #00d7ff\">None</span>, <span style=\"color: #00af00; text-decoration-color: #00af00\">16</span>, <span style=\"color: #00af00; text-decoration-color: #00af00\">16</span>, <span style=\"color: #00af00; text-decoration-color: #00af00\">64</span>)          │          <span style=\"color: #00af00; text-decoration-color: #00af00\">36,928</span> │\n",
       "├──────────────────────────────────────┼─────────────────────────────┼─────────────────┤\n",
       "│ max_pooling2d_1 (<span style=\"color: #0087ff; text-decoration-color: #0087ff\">MaxPooling2D</span>)       │ (<span style=\"color: #00d7ff; text-decoration-color: #00d7ff\">None</span>, <span style=\"color: #00af00; text-decoration-color: #00af00\">8</span>, <span style=\"color: #00af00; text-decoration-color: #00af00\">8</span>, <span style=\"color: #00af00; text-decoration-color: #00af00\">64</span>)            │               <span style=\"color: #00af00; text-decoration-color: #00af00\">0</span> │\n",
       "├──────────────────────────────────────┼─────────────────────────────┼─────────────────┤\n",
       "│ dropout_1 (<span style=\"color: #0087ff; text-decoration-color: #0087ff\">Dropout</span>)                  │ (<span style=\"color: #00d7ff; text-decoration-color: #00d7ff\">None</span>, <span style=\"color: #00af00; text-decoration-color: #00af00\">8</span>, <span style=\"color: #00af00; text-decoration-color: #00af00\">8</span>, <span style=\"color: #00af00; text-decoration-color: #00af00\">64</span>)            │               <span style=\"color: #00af00; text-decoration-color: #00af00\">0</span> │\n",
       "├──────────────────────────────────────┼─────────────────────────────┼─────────────────┤\n",
       "│ conv2d_4 (<span style=\"color: #0087ff; text-decoration-color: #0087ff\">Conv2D</span>)                    │ (<span style=\"color: #00d7ff; text-decoration-color: #00d7ff\">None</span>, <span style=\"color: #00af00; text-decoration-color: #00af00\">8</span>, <span style=\"color: #00af00; text-decoration-color: #00af00\">8</span>, <span style=\"color: #00af00; text-decoration-color: #00af00\">128</span>)           │          <span style=\"color: #00af00; text-decoration-color: #00af00\">73,856</span> │\n",
       "├──────────────────────────────────────┼─────────────────────────────┼─────────────────┤\n",
       "│ conv2d_5 (<span style=\"color: #0087ff; text-decoration-color: #0087ff\">Conv2D</span>)                    │ (<span style=\"color: #00d7ff; text-decoration-color: #00d7ff\">None</span>, <span style=\"color: #00af00; text-decoration-color: #00af00\">8</span>, <span style=\"color: #00af00; text-decoration-color: #00af00\">8</span>, <span style=\"color: #00af00; text-decoration-color: #00af00\">128</span>)           │         <span style=\"color: #00af00; text-decoration-color: #00af00\">147,584</span> │\n",
       "├──────────────────────────────────────┼─────────────────────────────┼─────────────────┤\n",
       "│ max_pooling2d_2 (<span style=\"color: #0087ff; text-decoration-color: #0087ff\">MaxPooling2D</span>)       │ (<span style=\"color: #00d7ff; text-decoration-color: #00d7ff\">None</span>, <span style=\"color: #00af00; text-decoration-color: #00af00\">4</span>, <span style=\"color: #00af00; text-decoration-color: #00af00\">4</span>, <span style=\"color: #00af00; text-decoration-color: #00af00\">128</span>)           │               <span style=\"color: #00af00; text-decoration-color: #00af00\">0</span> │\n",
       "├──────────────────────────────────────┼─────────────────────────────┼─────────────────┤\n",
       "│ dropout_2 (<span style=\"color: #0087ff; text-decoration-color: #0087ff\">Dropout</span>)                  │ (<span style=\"color: #00d7ff; text-decoration-color: #00d7ff\">None</span>, <span style=\"color: #00af00; text-decoration-color: #00af00\">4</span>, <span style=\"color: #00af00; text-decoration-color: #00af00\">4</span>, <span style=\"color: #00af00; text-decoration-color: #00af00\">128</span>)           │               <span style=\"color: #00af00; text-decoration-color: #00af00\">0</span> │\n",
       "├──────────────────────────────────────┼─────────────────────────────┼─────────────────┤\n",
       "│ flatten (<span style=\"color: #0087ff; text-decoration-color: #0087ff\">Flatten</span>)                    │ (<span style=\"color: #00d7ff; text-decoration-color: #00d7ff\">None</span>, <span style=\"color: #00af00; text-decoration-color: #00af00\">2048</span>)                │               <span style=\"color: #00af00; text-decoration-color: #00af00\">0</span> │\n",
       "├──────────────────────────────────────┼─────────────────────────────┼─────────────────┤\n",
       "│ dense (<span style=\"color: #0087ff; text-decoration-color: #0087ff\">Dense</span>)                        │ (<span style=\"color: #00d7ff; text-decoration-color: #00d7ff\">None</span>, <span style=\"color: #00af00; text-decoration-color: #00af00\">512</span>)                 │       <span style=\"color: #00af00; text-decoration-color: #00af00\">1,049,088</span> │\n",
       "├──────────────────────────────────────┼─────────────────────────────┼─────────────────┤\n",
       "│ dropout_3 (<span style=\"color: #0087ff; text-decoration-color: #0087ff\">Dropout</span>)                  │ (<span style=\"color: #00d7ff; text-decoration-color: #00d7ff\">None</span>, <span style=\"color: #00af00; text-decoration-color: #00af00\">512</span>)                 │               <span style=\"color: #00af00; text-decoration-color: #00af00\">0</span> │\n",
       "├──────────────────────────────────────┼─────────────────────────────┼─────────────────┤\n",
       "│ dense_1 (<span style=\"color: #0087ff; text-decoration-color: #0087ff\">Dense</span>)                      │ (<span style=\"color: #00d7ff; text-decoration-color: #00d7ff\">None</span>, <span style=\"color: #00af00; text-decoration-color: #00af00\">10</span>)                  │           <span style=\"color: #00af00; text-decoration-color: #00af00\">5,130</span> │\n",
       "└──────────────────────────────────────┴─────────────────────────────┴─────────────────┘\n",
       "</pre>\n"
      ],
      "text/plain": [
       "┏━━━━━━━━━━━━━━━━━━━━━━━━━━━━━━━━━━━━━━┳━━━━━━━━━━━━━━━━━━━━━━━━━━━━━┳━━━━━━━━━━━━━━━━━┓\n",
       "┃\u001b[1m \u001b[0m\u001b[1mLayer (type)                        \u001b[0m\u001b[1m \u001b[0m┃\u001b[1m \u001b[0m\u001b[1mOutput Shape               \u001b[0m\u001b[1m \u001b[0m┃\u001b[1m \u001b[0m\u001b[1m        Param #\u001b[0m\u001b[1m \u001b[0m┃\n",
       "┡━━━━━━━━━━━━━━━━━━━━━━━━━━━━━━━━━━━━━━╇━━━━━━━━━━━━━━━━━━━━━━━━━━━━━╇━━━━━━━━━━━━━━━━━┩\n",
       "│ conv2d (\u001b[38;5;33mConv2D\u001b[0m)                      │ (\u001b[38;5;45mNone\u001b[0m, \u001b[38;5;34m32\u001b[0m, \u001b[38;5;34m32\u001b[0m, \u001b[38;5;34m32\u001b[0m)          │             \u001b[38;5;34m896\u001b[0m │\n",
       "├──────────────────────────────────────┼─────────────────────────────┼─────────────────┤\n",
       "│ conv2d_1 (\u001b[38;5;33mConv2D\u001b[0m)                    │ (\u001b[38;5;45mNone\u001b[0m, \u001b[38;5;34m32\u001b[0m, \u001b[38;5;34m32\u001b[0m, \u001b[38;5;34m32\u001b[0m)          │           \u001b[38;5;34m9,248\u001b[0m │\n",
       "├──────────────────────────────────────┼─────────────────────────────┼─────────────────┤\n",
       "│ max_pooling2d (\u001b[38;5;33mMaxPooling2D\u001b[0m)         │ (\u001b[38;5;45mNone\u001b[0m, \u001b[38;5;34m16\u001b[0m, \u001b[38;5;34m16\u001b[0m, \u001b[38;5;34m32\u001b[0m)          │               \u001b[38;5;34m0\u001b[0m │\n",
       "├──────────────────────────────────────┼─────────────────────────────┼─────────────────┤\n",
       "│ dropout (\u001b[38;5;33mDropout\u001b[0m)                    │ (\u001b[38;5;45mNone\u001b[0m, \u001b[38;5;34m16\u001b[0m, \u001b[38;5;34m16\u001b[0m, \u001b[38;5;34m32\u001b[0m)          │               \u001b[38;5;34m0\u001b[0m │\n",
       "├──────────────────────────────────────┼─────────────────────────────┼─────────────────┤\n",
       "│ conv2d_2 (\u001b[38;5;33mConv2D\u001b[0m)                    │ (\u001b[38;5;45mNone\u001b[0m, \u001b[38;5;34m16\u001b[0m, \u001b[38;5;34m16\u001b[0m, \u001b[38;5;34m64\u001b[0m)          │          \u001b[38;5;34m18,496\u001b[0m │\n",
       "├──────────────────────────────────────┼─────────────────────────────┼─────────────────┤\n",
       "│ conv2d_3 (\u001b[38;5;33mConv2D\u001b[0m)                    │ (\u001b[38;5;45mNone\u001b[0m, \u001b[38;5;34m16\u001b[0m, \u001b[38;5;34m16\u001b[0m, \u001b[38;5;34m64\u001b[0m)          │          \u001b[38;5;34m36,928\u001b[0m │\n",
       "├──────────────────────────────────────┼─────────────────────────────┼─────────────────┤\n",
       "│ max_pooling2d_1 (\u001b[38;5;33mMaxPooling2D\u001b[0m)       │ (\u001b[38;5;45mNone\u001b[0m, \u001b[38;5;34m8\u001b[0m, \u001b[38;5;34m8\u001b[0m, \u001b[38;5;34m64\u001b[0m)            │               \u001b[38;5;34m0\u001b[0m │\n",
       "├──────────────────────────────────────┼─────────────────────────────┼─────────────────┤\n",
       "│ dropout_1 (\u001b[38;5;33mDropout\u001b[0m)                  │ (\u001b[38;5;45mNone\u001b[0m, \u001b[38;5;34m8\u001b[0m, \u001b[38;5;34m8\u001b[0m, \u001b[38;5;34m64\u001b[0m)            │               \u001b[38;5;34m0\u001b[0m │\n",
       "├──────────────────────────────────────┼─────────────────────────────┼─────────────────┤\n",
       "│ conv2d_4 (\u001b[38;5;33mConv2D\u001b[0m)                    │ (\u001b[38;5;45mNone\u001b[0m, \u001b[38;5;34m8\u001b[0m, \u001b[38;5;34m8\u001b[0m, \u001b[38;5;34m128\u001b[0m)           │          \u001b[38;5;34m73,856\u001b[0m │\n",
       "├──────────────────────────────────────┼─────────────────────────────┼─────────────────┤\n",
       "│ conv2d_5 (\u001b[38;5;33mConv2D\u001b[0m)                    │ (\u001b[38;5;45mNone\u001b[0m, \u001b[38;5;34m8\u001b[0m, \u001b[38;5;34m8\u001b[0m, \u001b[38;5;34m128\u001b[0m)           │         \u001b[38;5;34m147,584\u001b[0m │\n",
       "├──────────────────────────────────────┼─────────────────────────────┼─────────────────┤\n",
       "│ max_pooling2d_2 (\u001b[38;5;33mMaxPooling2D\u001b[0m)       │ (\u001b[38;5;45mNone\u001b[0m, \u001b[38;5;34m4\u001b[0m, \u001b[38;5;34m4\u001b[0m, \u001b[38;5;34m128\u001b[0m)           │               \u001b[38;5;34m0\u001b[0m │\n",
       "├──────────────────────────────────────┼─────────────────────────────┼─────────────────┤\n",
       "│ dropout_2 (\u001b[38;5;33mDropout\u001b[0m)                  │ (\u001b[38;5;45mNone\u001b[0m, \u001b[38;5;34m4\u001b[0m, \u001b[38;5;34m4\u001b[0m, \u001b[38;5;34m128\u001b[0m)           │               \u001b[38;5;34m0\u001b[0m │\n",
       "├──────────────────────────────────────┼─────────────────────────────┼─────────────────┤\n",
       "│ flatten (\u001b[38;5;33mFlatten\u001b[0m)                    │ (\u001b[38;5;45mNone\u001b[0m, \u001b[38;5;34m2048\u001b[0m)                │               \u001b[38;5;34m0\u001b[0m │\n",
       "├──────────────────────────────────────┼─────────────────────────────┼─────────────────┤\n",
       "│ dense (\u001b[38;5;33mDense\u001b[0m)                        │ (\u001b[38;5;45mNone\u001b[0m, \u001b[38;5;34m512\u001b[0m)                 │       \u001b[38;5;34m1,049,088\u001b[0m │\n",
       "├──────────────────────────────────────┼─────────────────────────────┼─────────────────┤\n",
       "│ dropout_3 (\u001b[38;5;33mDropout\u001b[0m)                  │ (\u001b[38;5;45mNone\u001b[0m, \u001b[38;5;34m512\u001b[0m)                 │               \u001b[38;5;34m0\u001b[0m │\n",
       "├──────────────────────────────────────┼─────────────────────────────┼─────────────────┤\n",
       "│ dense_1 (\u001b[38;5;33mDense\u001b[0m)                      │ (\u001b[38;5;45mNone\u001b[0m, \u001b[38;5;34m10\u001b[0m)                  │           \u001b[38;5;34m5,130\u001b[0m │\n",
       "└──────────────────────────────────────┴─────────────────────────────┴─────────────────┘\n"
      ]
     },
     "metadata": {},
     "output_type": "display_data"
    },
    {
     "data": {
      "text/html": [
       "<pre style=\"white-space:pre;overflow-x:auto;line-height:normal;font-family:Menlo,'DejaVu Sans Mono',consolas,'Courier New',monospace\"><span style=\"font-weight: bold\"> Total params: </span><span style=\"color: #00af00; text-decoration-color: #00af00\">1,341,226</span> (5.12 MB)\n",
       "</pre>\n"
      ],
      "text/plain": [
       "\u001b[1m Total params: \u001b[0m\u001b[38;5;34m1,341,226\u001b[0m (5.12 MB)\n"
      ]
     },
     "metadata": {},
     "output_type": "display_data"
    },
    {
     "data": {
      "text/html": [
       "<pre style=\"white-space:pre;overflow-x:auto;line-height:normal;font-family:Menlo,'DejaVu Sans Mono',consolas,'Courier New',monospace\"><span style=\"font-weight: bold\"> Trainable params: </span><span style=\"color: #00af00; text-decoration-color: #00af00\">1,341,226</span> (5.12 MB)\n",
       "</pre>\n"
      ],
      "text/plain": [
       "\u001b[1m Trainable params: \u001b[0m\u001b[38;5;34m1,341,226\u001b[0m (5.12 MB)\n"
      ]
     },
     "metadata": {},
     "output_type": "display_data"
    },
    {
     "data": {
      "text/html": [
       "<pre style=\"white-space:pre;overflow-x:auto;line-height:normal;font-family:Menlo,'DejaVu Sans Mono',consolas,'Courier New',monospace\"><span style=\"font-weight: bold\"> Non-trainable params: </span><span style=\"color: #00af00; text-decoration-color: #00af00\">0</span> (0.00 B)\n",
       "</pre>\n"
      ],
      "text/plain": [
       "\u001b[1m Non-trainable params: \u001b[0m\u001b[38;5;34m0\u001b[0m (0.00 B)\n"
      ]
     },
     "metadata": {},
     "output_type": "display_data"
    }
   ],
   "source": [
    "# Define the CNN model using an explicit Input layer\n",
    "model = models.Sequential([\n",
    "    layers.Input(shape=(32, 32, 3)),  # Input layer for 32x32 RGB images\n",
    "\n",
    "    # First convolutional block\n",
    "    layers.Conv2D(32, (3, 3), activation='relu', padding='same'),  # First convolutional layer with 32 filters\n",
    "    layers.Conv2D(32, (3, 3), activation='relu', padding='same'),  # Second convolutional layer\n",
    "    layers.MaxPooling2D((2, 2)),  # Max pooling to reduce spatial dimensions\n",
    "    layers.Dropout(0.25),  # Dropout to prevent overfitting\n",
    "\n",
    "    # Second convolutional block\n",
    "    layers.Conv2D(64, (3, 3), activation='relu', padding='same'),  # Third convolutional layer with 64 filters\n",
    "    layers.Conv2D(64, (3, 3), activation='relu', padding='same'),  # Fourth convolutional layer\n",
    "    layers.MaxPooling2D((2, 2)),  # Max pooling layer\n",
    "    layers.Dropout(0.25),  # Dropout to prevent overfitting\n",
    "\n",
    "    # Third convolutional block\n",
    "    layers.Conv2D(128, (3, 3), activation='relu', padding='same'),  # Fifth convolutional layer with 128 filters\n",
    "    layers.Conv2D(128, (3, 3), activation='relu', padding='same'),  # Sixth convolutional layer\n",
    "    layers.MaxPooling2D((2, 2)),  # Max pooling layer\n",
    "    layers.Dropout(0.25),  # Dropout to reduce overfitting\n",
    "\n",
    "    # Fully connected (dense) layers\n",
    "    layers.Flatten(),  # Flatten feature maps into a single vector\n",
    "    layers.Dense(512, activation='relu'),  # Fully connected layer with 512 neurons\n",
    "    layers.Dropout(0.5),  # Dropout to further reduce overfitting\n",
    "    layers.Dense(10, activation='softmax')  # Output layer with 10 neurons (one per class) and softmax activation\n",
    "])\n",
    "\n",
    "# Compile the model with Adam optimizer and categorical cross-entropy loss\n",
    "model.compile(optimizer='adam',\n",
    "              loss='categorical_crossentropy',\n",
    "              metrics=['accuracy'])\n",
    "\n",
    "# Print the model summary to visualize the architecture\n",
    "model.summary()"
   ]
  },
  {
   "cell_type": "markdown",
   "metadata": {
    "id": "9QazM6ltYV7S",
    "jp-MarkdownHeadingCollapsed": true
   },
   "source": [
    "### Task 3: Train your CNN on the training set (extracted in task 1)"
   ]
  },
  {
   "cell_type": "code",
   "execution_count": null,
   "metadata": {
    "colab": {
     "base_uri": "https://localhost:8080/",
     "height": 391
    },
    "collapsed": true,
    "id": "NmoAkM6YYQPt",
    "jupyter": {
     "outputs_hidden": true
    },
    "outputId": "d9c46f1c-359b-4623-f963-17df443772ba"
   },
   "outputs": [
    {
     "name": "stdout",
     "output_type": "stream",
     "text": [
      "Epoch 1/25\n",
      "\u001b[1m 2/47\u001b[0m \u001b[37m━━━━━━━━━━━━━━━━━━━━\u001b[0m \u001b[1m18s\u001b[0m 411ms/step - accuracy: 0.0664 - loss: 2.3085"
     ]
    },
    {
     "ename": "KeyboardInterrupt",
     "evalue": "",
     "output_type": "error",
     "traceback": [
      "\u001b[0;31m---------------------------------------------------------------------------\u001b[0m",
      "\u001b[0;31mKeyboardInterrupt\u001b[0m                         Traceback (most recent call last)",
      "\u001b[0;32m<ipython-input-4-f42d837cd3fc>\u001b[0m in \u001b[0;36m<cell line: 0>\u001b[0;34m()\u001b[0m\n\u001b[1;32m      5\u001b[0m \u001b[0;34m\u001b[0m\u001b[0m\n\u001b[1;32m      6\u001b[0m \u001b[0;31m# Train the model on the training dataset\u001b[0m\u001b[0;34m\u001b[0m\u001b[0;34m\u001b[0m\u001b[0m\n\u001b[0;32m----> 7\u001b[0;31m history = model.fit(x_train_final, y_train_final,  # Training data and labels\n\u001b[0m\u001b[1;32m      8\u001b[0m                     \u001b[0mepochs\u001b[0m\u001b[0;34m=\u001b[0m\u001b[0;36m25\u001b[0m\u001b[0;34m,\u001b[0m  \u001b[0;31m# Number of training iterations over the dataset\u001b[0m\u001b[0;34m\u001b[0m\u001b[0;34m\u001b[0m\u001b[0m\n\u001b[1;32m      9\u001b[0m                     \u001b[0mbatch_size\u001b[0m\u001b[0;34m=\u001b[0m\u001b[0;36m64\u001b[0m\u001b[0;34m,\u001b[0m  \u001b[0;31m# Number of samples per gradient update\u001b[0m\u001b[0;34m\u001b[0m\u001b[0;34m\u001b[0m\u001b[0m\n",
      "\u001b[0;32m/usr/local/lib/python3.11/dist-packages/keras/src/utils/traceback_utils.py\u001b[0m in \u001b[0;36merror_handler\u001b[0;34m(*args, **kwargs)\u001b[0m\n\u001b[1;32m    115\u001b[0m         \u001b[0mfiltered_tb\u001b[0m \u001b[0;34m=\u001b[0m \u001b[0;32mNone\u001b[0m\u001b[0;34m\u001b[0m\u001b[0;34m\u001b[0m\u001b[0m\n\u001b[1;32m    116\u001b[0m         \u001b[0;32mtry\u001b[0m\u001b[0;34m:\u001b[0m\u001b[0;34m\u001b[0m\u001b[0;34m\u001b[0m\u001b[0m\n\u001b[0;32m--> 117\u001b[0;31m             \u001b[0;32mreturn\u001b[0m \u001b[0mfn\u001b[0m\u001b[0;34m(\u001b[0m\u001b[0;34m*\u001b[0m\u001b[0margs\u001b[0m\u001b[0;34m,\u001b[0m \u001b[0;34m**\u001b[0m\u001b[0mkwargs\u001b[0m\u001b[0;34m)\u001b[0m\u001b[0;34m\u001b[0m\u001b[0;34m\u001b[0m\u001b[0m\n\u001b[0m\u001b[1;32m    118\u001b[0m         \u001b[0;32mexcept\u001b[0m \u001b[0mException\u001b[0m \u001b[0;32mas\u001b[0m \u001b[0me\u001b[0m\u001b[0;34m:\u001b[0m\u001b[0;34m\u001b[0m\u001b[0;34m\u001b[0m\u001b[0m\n\u001b[1;32m    119\u001b[0m             \u001b[0mfiltered_tb\u001b[0m \u001b[0;34m=\u001b[0m \u001b[0m_process_traceback_frames\u001b[0m\u001b[0;34m(\u001b[0m\u001b[0me\u001b[0m\u001b[0;34m.\u001b[0m\u001b[0m__traceback__\u001b[0m\u001b[0;34m)\u001b[0m\u001b[0;34m\u001b[0m\u001b[0;34m\u001b[0m\u001b[0m\n",
      "\u001b[0;32m/usr/local/lib/python3.11/dist-packages/keras/src/backend/tensorflow/trainer.py\u001b[0m in \u001b[0;36mfit\u001b[0;34m(self, x, y, batch_size, epochs, verbose, callbacks, validation_split, validation_data, shuffle, class_weight, sample_weight, initial_epoch, steps_per_epoch, validation_steps, validation_batch_size, validation_freq)\u001b[0m\n\u001b[1;32m    369\u001b[0m                 \u001b[0;32mfor\u001b[0m \u001b[0mstep\u001b[0m\u001b[0;34m,\u001b[0m \u001b[0miterator\u001b[0m \u001b[0;32min\u001b[0m \u001b[0mepoch_iterator\u001b[0m\u001b[0;34m:\u001b[0m\u001b[0;34m\u001b[0m\u001b[0;34m\u001b[0m\u001b[0m\n\u001b[1;32m    370\u001b[0m                     \u001b[0mcallbacks\u001b[0m\u001b[0;34m.\u001b[0m\u001b[0mon_train_batch_begin\u001b[0m\u001b[0;34m(\u001b[0m\u001b[0mstep\u001b[0m\u001b[0;34m)\u001b[0m\u001b[0;34m\u001b[0m\u001b[0;34m\u001b[0m\u001b[0m\n\u001b[0;32m--> 371\u001b[0;31m                     \u001b[0mlogs\u001b[0m \u001b[0;34m=\u001b[0m \u001b[0mself\u001b[0m\u001b[0;34m.\u001b[0m\u001b[0mtrain_function\u001b[0m\u001b[0;34m(\u001b[0m\u001b[0miterator\u001b[0m\u001b[0;34m)\u001b[0m\u001b[0;34m\u001b[0m\u001b[0;34m\u001b[0m\u001b[0m\n\u001b[0m\u001b[1;32m    372\u001b[0m                     \u001b[0mcallbacks\u001b[0m\u001b[0;34m.\u001b[0m\u001b[0mon_train_batch_end\u001b[0m\u001b[0;34m(\u001b[0m\u001b[0mstep\u001b[0m\u001b[0;34m,\u001b[0m \u001b[0mlogs\u001b[0m\u001b[0;34m)\u001b[0m\u001b[0;34m\u001b[0m\u001b[0;34m\u001b[0m\u001b[0m\n\u001b[1;32m    373\u001b[0m                     \u001b[0;32mif\u001b[0m \u001b[0mself\u001b[0m\u001b[0;34m.\u001b[0m\u001b[0mstop_training\u001b[0m\u001b[0;34m:\u001b[0m\u001b[0;34m\u001b[0m\u001b[0;34m\u001b[0m\u001b[0m\n",
      "\u001b[0;32m/usr/local/lib/python3.11/dist-packages/keras/src/backend/tensorflow/trainer.py\u001b[0m in \u001b[0;36mfunction\u001b[0;34m(iterator)\u001b[0m\n\u001b[1;32m    217\u001b[0m                 \u001b[0miterator\u001b[0m\u001b[0;34m,\u001b[0m \u001b[0;34m(\u001b[0m\u001b[0mtf\u001b[0m\u001b[0;34m.\u001b[0m\u001b[0mdata\u001b[0m\u001b[0;34m.\u001b[0m\u001b[0mIterator\u001b[0m\u001b[0;34m,\u001b[0m \u001b[0mtf\u001b[0m\u001b[0;34m.\u001b[0m\u001b[0mdistribute\u001b[0m\u001b[0;34m.\u001b[0m\u001b[0mDistributedIterator\u001b[0m\u001b[0;34m)\u001b[0m\u001b[0;34m\u001b[0m\u001b[0;34m\u001b[0m\u001b[0m\n\u001b[1;32m    218\u001b[0m             ):\n\u001b[0;32m--> 219\u001b[0;31m                 \u001b[0mopt_outputs\u001b[0m \u001b[0;34m=\u001b[0m \u001b[0mmulti_step_on_iterator\u001b[0m\u001b[0;34m(\u001b[0m\u001b[0miterator\u001b[0m\u001b[0;34m)\u001b[0m\u001b[0;34m\u001b[0m\u001b[0;34m\u001b[0m\u001b[0m\n\u001b[0m\u001b[1;32m    220\u001b[0m                 \u001b[0;32mif\u001b[0m \u001b[0;32mnot\u001b[0m \u001b[0mopt_outputs\u001b[0m\u001b[0;34m.\u001b[0m\u001b[0mhas_value\u001b[0m\u001b[0;34m(\u001b[0m\u001b[0;34m)\u001b[0m\u001b[0;34m:\u001b[0m\u001b[0;34m\u001b[0m\u001b[0;34m\u001b[0m\u001b[0m\n\u001b[1;32m    221\u001b[0m                     \u001b[0;32mraise\u001b[0m \u001b[0mStopIteration\u001b[0m\u001b[0;34m\u001b[0m\u001b[0;34m\u001b[0m\u001b[0m\n",
      "\u001b[0;32m/usr/local/lib/python3.11/dist-packages/tensorflow/python/util/traceback_utils.py\u001b[0m in \u001b[0;36merror_handler\u001b[0;34m(*args, **kwargs)\u001b[0m\n\u001b[1;32m    148\u001b[0m     \u001b[0mfiltered_tb\u001b[0m \u001b[0;34m=\u001b[0m \u001b[0;32mNone\u001b[0m\u001b[0;34m\u001b[0m\u001b[0;34m\u001b[0m\u001b[0m\n\u001b[1;32m    149\u001b[0m     \u001b[0;32mtry\u001b[0m\u001b[0;34m:\u001b[0m\u001b[0;34m\u001b[0m\u001b[0;34m\u001b[0m\u001b[0m\n\u001b[0;32m--> 150\u001b[0;31m       \u001b[0;32mreturn\u001b[0m \u001b[0mfn\u001b[0m\u001b[0;34m(\u001b[0m\u001b[0;34m*\u001b[0m\u001b[0margs\u001b[0m\u001b[0;34m,\u001b[0m \u001b[0;34m**\u001b[0m\u001b[0mkwargs\u001b[0m\u001b[0;34m)\u001b[0m\u001b[0;34m\u001b[0m\u001b[0;34m\u001b[0m\u001b[0m\n\u001b[0m\u001b[1;32m    151\u001b[0m     \u001b[0;32mexcept\u001b[0m \u001b[0mException\u001b[0m \u001b[0;32mas\u001b[0m \u001b[0me\u001b[0m\u001b[0;34m:\u001b[0m\u001b[0;34m\u001b[0m\u001b[0;34m\u001b[0m\u001b[0m\n\u001b[1;32m    152\u001b[0m       \u001b[0mfiltered_tb\u001b[0m \u001b[0;34m=\u001b[0m \u001b[0m_process_traceback_frames\u001b[0m\u001b[0;34m(\u001b[0m\u001b[0me\u001b[0m\u001b[0;34m.\u001b[0m\u001b[0m__traceback__\u001b[0m\u001b[0;34m)\u001b[0m\u001b[0;34m\u001b[0m\u001b[0;34m\u001b[0m\u001b[0m\n",
      "\u001b[0;32m/usr/local/lib/python3.11/dist-packages/tensorflow/python/eager/polymorphic_function/polymorphic_function.py\u001b[0m in \u001b[0;36m__call__\u001b[0;34m(self, *args, **kwds)\u001b[0m\n\u001b[1;32m    831\u001b[0m \u001b[0;34m\u001b[0m\u001b[0m\n\u001b[1;32m    832\u001b[0m       \u001b[0;32mwith\u001b[0m \u001b[0mOptionalXlaContext\u001b[0m\u001b[0;34m(\u001b[0m\u001b[0mself\u001b[0m\u001b[0;34m.\u001b[0m\u001b[0m_jit_compile\u001b[0m\u001b[0;34m)\u001b[0m\u001b[0;34m:\u001b[0m\u001b[0;34m\u001b[0m\u001b[0;34m\u001b[0m\u001b[0m\n\u001b[0;32m--> 833\u001b[0;31m         \u001b[0mresult\u001b[0m \u001b[0;34m=\u001b[0m \u001b[0mself\u001b[0m\u001b[0;34m.\u001b[0m\u001b[0m_call\u001b[0m\u001b[0;34m(\u001b[0m\u001b[0;34m*\u001b[0m\u001b[0margs\u001b[0m\u001b[0;34m,\u001b[0m \u001b[0;34m**\u001b[0m\u001b[0mkwds\u001b[0m\u001b[0;34m)\u001b[0m\u001b[0;34m\u001b[0m\u001b[0;34m\u001b[0m\u001b[0m\n\u001b[0m\u001b[1;32m    834\u001b[0m \u001b[0;34m\u001b[0m\u001b[0m\n\u001b[1;32m    835\u001b[0m       \u001b[0mnew_tracing_count\u001b[0m \u001b[0;34m=\u001b[0m \u001b[0mself\u001b[0m\u001b[0;34m.\u001b[0m\u001b[0mexperimental_get_tracing_count\u001b[0m\u001b[0;34m(\u001b[0m\u001b[0;34m)\u001b[0m\u001b[0;34m\u001b[0m\u001b[0;34m\u001b[0m\u001b[0m\n",
      "\u001b[0;32m/usr/local/lib/python3.11/dist-packages/tensorflow/python/eager/polymorphic_function/polymorphic_function.py\u001b[0m in \u001b[0;36m_call\u001b[0;34m(self, *args, **kwds)\u001b[0m\n\u001b[1;32m    876\u001b[0m       \u001b[0;31m# In this case we have not created variables on the first call. So we can\u001b[0m\u001b[0;34m\u001b[0m\u001b[0;34m\u001b[0m\u001b[0m\n\u001b[1;32m    877\u001b[0m       \u001b[0;31m# run the first trace but we should fail if variables are created.\u001b[0m\u001b[0;34m\u001b[0m\u001b[0;34m\u001b[0m\u001b[0m\n\u001b[0;32m--> 878\u001b[0;31m       results = tracing_compilation.call_function(\n\u001b[0m\u001b[1;32m    879\u001b[0m           \u001b[0margs\u001b[0m\u001b[0;34m,\u001b[0m \u001b[0mkwds\u001b[0m\u001b[0;34m,\u001b[0m \u001b[0mself\u001b[0m\u001b[0;34m.\u001b[0m\u001b[0m_variable_creation_config\u001b[0m\u001b[0;34m\u001b[0m\u001b[0;34m\u001b[0m\u001b[0m\n\u001b[1;32m    880\u001b[0m       )\n",
      "\u001b[0;32m/usr/local/lib/python3.11/dist-packages/tensorflow/python/eager/polymorphic_function/tracing_compilation.py\u001b[0m in \u001b[0;36mcall_function\u001b[0;34m(args, kwargs, tracing_options)\u001b[0m\n\u001b[1;32m    137\u001b[0m   \u001b[0mbound_args\u001b[0m \u001b[0;34m=\u001b[0m \u001b[0mfunction\u001b[0m\u001b[0;34m.\u001b[0m\u001b[0mfunction_type\u001b[0m\u001b[0;34m.\u001b[0m\u001b[0mbind\u001b[0m\u001b[0;34m(\u001b[0m\u001b[0;34m*\u001b[0m\u001b[0margs\u001b[0m\u001b[0;34m,\u001b[0m \u001b[0;34m**\u001b[0m\u001b[0mkwargs\u001b[0m\u001b[0;34m)\u001b[0m\u001b[0;34m\u001b[0m\u001b[0;34m\u001b[0m\u001b[0m\n\u001b[1;32m    138\u001b[0m   \u001b[0mflat_inputs\u001b[0m \u001b[0;34m=\u001b[0m \u001b[0mfunction\u001b[0m\u001b[0;34m.\u001b[0m\u001b[0mfunction_type\u001b[0m\u001b[0;34m.\u001b[0m\u001b[0munpack_inputs\u001b[0m\u001b[0;34m(\u001b[0m\u001b[0mbound_args\u001b[0m\u001b[0;34m)\u001b[0m\u001b[0;34m\u001b[0m\u001b[0;34m\u001b[0m\u001b[0m\n\u001b[0;32m--> 139\u001b[0;31m   return function._call_flat(  # pylint: disable=protected-access\n\u001b[0m\u001b[1;32m    140\u001b[0m       \u001b[0mflat_inputs\u001b[0m\u001b[0;34m,\u001b[0m \u001b[0mcaptured_inputs\u001b[0m\u001b[0;34m=\u001b[0m\u001b[0mfunction\u001b[0m\u001b[0;34m.\u001b[0m\u001b[0mcaptured_inputs\u001b[0m\u001b[0;34m\u001b[0m\u001b[0;34m\u001b[0m\u001b[0m\n\u001b[1;32m    141\u001b[0m   )\n",
      "\u001b[0;32m/usr/local/lib/python3.11/dist-packages/tensorflow/python/eager/polymorphic_function/concrete_function.py\u001b[0m in \u001b[0;36m_call_flat\u001b[0;34m(self, tensor_inputs, captured_inputs)\u001b[0m\n\u001b[1;32m   1320\u001b[0m         and executing_eagerly):\n\u001b[1;32m   1321\u001b[0m       \u001b[0;31m# No tape is watching; skip to running the function.\u001b[0m\u001b[0;34m\u001b[0m\u001b[0;34m\u001b[0m\u001b[0m\n\u001b[0;32m-> 1322\u001b[0;31m       \u001b[0;32mreturn\u001b[0m \u001b[0mself\u001b[0m\u001b[0;34m.\u001b[0m\u001b[0m_inference_function\u001b[0m\u001b[0;34m.\u001b[0m\u001b[0mcall_preflattened\u001b[0m\u001b[0;34m(\u001b[0m\u001b[0margs\u001b[0m\u001b[0;34m)\u001b[0m\u001b[0;34m\u001b[0m\u001b[0;34m\u001b[0m\u001b[0m\n\u001b[0m\u001b[1;32m   1323\u001b[0m     forward_backward = self._select_forward_and_backward_functions(\n\u001b[1;32m   1324\u001b[0m         \u001b[0margs\u001b[0m\u001b[0;34m,\u001b[0m\u001b[0;34m\u001b[0m\u001b[0;34m\u001b[0m\u001b[0m\n",
      "\u001b[0;32m/usr/local/lib/python3.11/dist-packages/tensorflow/python/eager/polymorphic_function/atomic_function.py\u001b[0m in \u001b[0;36mcall_preflattened\u001b[0;34m(self, args)\u001b[0m\n\u001b[1;32m    214\u001b[0m   \u001b[0;32mdef\u001b[0m \u001b[0mcall_preflattened\u001b[0m\u001b[0;34m(\u001b[0m\u001b[0mself\u001b[0m\u001b[0;34m,\u001b[0m \u001b[0margs\u001b[0m\u001b[0;34m:\u001b[0m \u001b[0mSequence\u001b[0m\u001b[0;34m[\u001b[0m\u001b[0mcore\u001b[0m\u001b[0;34m.\u001b[0m\u001b[0mTensor\u001b[0m\u001b[0;34m]\u001b[0m\u001b[0;34m)\u001b[0m \u001b[0;34m->\u001b[0m \u001b[0mAny\u001b[0m\u001b[0;34m:\u001b[0m\u001b[0;34m\u001b[0m\u001b[0;34m\u001b[0m\u001b[0m\n\u001b[1;32m    215\u001b[0m     \u001b[0;34m\"\"\"Calls with flattened tensor inputs and returns the structured output.\"\"\"\u001b[0m\u001b[0;34m\u001b[0m\u001b[0;34m\u001b[0m\u001b[0m\n\u001b[0;32m--> 216\u001b[0;31m     \u001b[0mflat_outputs\u001b[0m \u001b[0;34m=\u001b[0m \u001b[0mself\u001b[0m\u001b[0;34m.\u001b[0m\u001b[0mcall_flat\u001b[0m\u001b[0;34m(\u001b[0m\u001b[0;34m*\u001b[0m\u001b[0margs\u001b[0m\u001b[0;34m)\u001b[0m\u001b[0;34m\u001b[0m\u001b[0;34m\u001b[0m\u001b[0m\n\u001b[0m\u001b[1;32m    217\u001b[0m     \u001b[0;32mreturn\u001b[0m \u001b[0mself\u001b[0m\u001b[0;34m.\u001b[0m\u001b[0mfunction_type\u001b[0m\u001b[0;34m.\u001b[0m\u001b[0mpack_output\u001b[0m\u001b[0;34m(\u001b[0m\u001b[0mflat_outputs\u001b[0m\u001b[0;34m)\u001b[0m\u001b[0;34m\u001b[0m\u001b[0;34m\u001b[0m\u001b[0m\n\u001b[1;32m    218\u001b[0m \u001b[0;34m\u001b[0m\u001b[0m\n",
      "\u001b[0;32m/usr/local/lib/python3.11/dist-packages/tensorflow/python/eager/polymorphic_function/atomic_function.py\u001b[0m in \u001b[0;36mcall_flat\u001b[0;34m(self, *args)\u001b[0m\n\u001b[1;32m    249\u001b[0m         \u001b[0;32mwith\u001b[0m \u001b[0mrecord\u001b[0m\u001b[0;34m.\u001b[0m\u001b[0mstop_recording\u001b[0m\u001b[0;34m(\u001b[0m\u001b[0;34m)\u001b[0m\u001b[0;34m:\u001b[0m\u001b[0;34m\u001b[0m\u001b[0;34m\u001b[0m\u001b[0m\n\u001b[1;32m    250\u001b[0m           \u001b[0;32mif\u001b[0m \u001b[0mself\u001b[0m\u001b[0;34m.\u001b[0m\u001b[0m_bound_context\u001b[0m\u001b[0;34m.\u001b[0m\u001b[0mexecuting_eagerly\u001b[0m\u001b[0;34m(\u001b[0m\u001b[0;34m)\u001b[0m\u001b[0;34m:\u001b[0m\u001b[0;34m\u001b[0m\u001b[0;34m\u001b[0m\u001b[0m\n\u001b[0;32m--> 251\u001b[0;31m             outputs = self._bound_context.call_function(\n\u001b[0m\u001b[1;32m    252\u001b[0m                 \u001b[0mself\u001b[0m\u001b[0;34m.\u001b[0m\u001b[0mname\u001b[0m\u001b[0;34m,\u001b[0m\u001b[0;34m\u001b[0m\u001b[0;34m\u001b[0m\u001b[0m\n\u001b[1;32m    253\u001b[0m                 \u001b[0mlist\u001b[0m\u001b[0;34m(\u001b[0m\u001b[0margs\u001b[0m\u001b[0;34m)\u001b[0m\u001b[0;34m,\u001b[0m\u001b[0;34m\u001b[0m\u001b[0;34m\u001b[0m\u001b[0m\n",
      "\u001b[0;32m/usr/local/lib/python3.11/dist-packages/tensorflow/python/eager/context.py\u001b[0m in \u001b[0;36mcall_function\u001b[0;34m(self, name, tensor_inputs, num_outputs)\u001b[0m\n\u001b[1;32m   1681\u001b[0m     \u001b[0mcancellation_context\u001b[0m \u001b[0;34m=\u001b[0m \u001b[0mcancellation\u001b[0m\u001b[0;34m.\u001b[0m\u001b[0mcontext\u001b[0m\u001b[0;34m(\u001b[0m\u001b[0;34m)\u001b[0m\u001b[0;34m\u001b[0m\u001b[0;34m\u001b[0m\u001b[0m\n\u001b[1;32m   1682\u001b[0m     \u001b[0;32mif\u001b[0m \u001b[0mcancellation_context\u001b[0m \u001b[0;32mis\u001b[0m \u001b[0;32mNone\u001b[0m\u001b[0;34m:\u001b[0m\u001b[0;34m\u001b[0m\u001b[0;34m\u001b[0m\u001b[0m\n\u001b[0;32m-> 1683\u001b[0;31m       outputs = execute.execute(\n\u001b[0m\u001b[1;32m   1684\u001b[0m           \u001b[0mname\u001b[0m\u001b[0;34m.\u001b[0m\u001b[0mdecode\u001b[0m\u001b[0;34m(\u001b[0m\u001b[0;34m\"utf-8\"\u001b[0m\u001b[0;34m)\u001b[0m\u001b[0;34m,\u001b[0m\u001b[0;34m\u001b[0m\u001b[0;34m\u001b[0m\u001b[0m\n\u001b[1;32m   1685\u001b[0m           \u001b[0mnum_outputs\u001b[0m\u001b[0;34m=\u001b[0m\u001b[0mnum_outputs\u001b[0m\u001b[0;34m,\u001b[0m\u001b[0;34m\u001b[0m\u001b[0;34m\u001b[0m\u001b[0m\n",
      "\u001b[0;32m/usr/local/lib/python3.11/dist-packages/tensorflow/python/eager/execute.py\u001b[0m in \u001b[0;36mquick_execute\u001b[0;34m(op_name, num_outputs, inputs, attrs, ctx, name)\u001b[0m\n\u001b[1;32m     51\u001b[0m   \u001b[0;32mtry\u001b[0m\u001b[0;34m:\u001b[0m\u001b[0;34m\u001b[0m\u001b[0;34m\u001b[0m\u001b[0m\n\u001b[1;32m     52\u001b[0m     \u001b[0mctx\u001b[0m\u001b[0;34m.\u001b[0m\u001b[0mensure_initialized\u001b[0m\u001b[0;34m(\u001b[0m\u001b[0;34m)\u001b[0m\u001b[0;34m\u001b[0m\u001b[0;34m\u001b[0m\u001b[0m\n\u001b[0;32m---> 53\u001b[0;31m     tensors = pywrap_tfe.TFE_Py_Execute(ctx._handle, device_name, op_name,\n\u001b[0m\u001b[1;32m     54\u001b[0m                                         inputs, attrs, num_outputs)\n\u001b[1;32m     55\u001b[0m   \u001b[0;32mexcept\u001b[0m \u001b[0mcore\u001b[0m\u001b[0;34m.\u001b[0m\u001b[0m_NotOkStatusException\u001b[0m \u001b[0;32mas\u001b[0m \u001b[0me\u001b[0m\u001b[0;34m:\u001b[0m\u001b[0;34m\u001b[0m\u001b[0;34m\u001b[0m\u001b[0m\n",
      "\u001b[0;31mKeyboardInterrupt\u001b[0m: "
     ]
    }
   ],
   "source": [
    "# Compile the model\n",
    "model.compile(optimizer='adam',  # Using Adam optimizer for adaptive learning rate adjustment\n",
    "              loss='categorical_crossentropy',  # Loss function for multi-class classification\n",
    "              metrics=['accuracy'])  # Tracking accuracy as the evaluation metric\n",
    "\n",
    "# Train the model on the training dataset\n",
    "history = model.fit(x_train_final, y_train_final,  # Training data and labels\n",
    "                    epochs=25,  # Number of training iterations over the dataset\n",
    "                    batch_size=64,  # Number of samples per gradient update\n",
    "                    validation_data=(x_test_final, y_test_final))  # Evaluate performance on the test set"
   ]
  },
  {
   "cell_type": "markdown",
   "metadata": {
    "id": "rVGA25vCYf1A"
   },
   "source": [
    "### Task 4: Evaluate your trained model using the test data set. What is the accuracy of your model?"
   ]
  },
  {
   "cell_type": "code",
   "execution_count": null,
   "metadata": {
    "colab": {
     "base_uri": "https://localhost:8080/"
    },
    "collapsed": true,
    "id": "S5s2w9CVYYC2",
    "jupyter": {
     "outputs_hidden": true,
     "source_hidden": true
    },
    "outputId": "ef6d8a0e-582f-4999-8644-ece72d28d8b4"
   },
   "outputs": [
    {
     "name": "stdout",
     "output_type": "stream",
     "text": [
      "\u001b[1m16/16\u001b[0m \u001b[32m━━━━━━━━━━━━━━━━━━━━\u001b[0m\u001b[37m\u001b[0m \u001b[1m2s\u001b[0m 51ms/step - accuracy: 0.7417 - loss: 0.9077\n",
      "Test Accuracy: 71.20%\n"
     ]
    }
   ],
   "source": [
    "# Evaluate the model\n",
    "test_loss, test_accuracy = model.evaluate(x_test_final, y_test_final)\n",
    "\n",
    "# Print accuracy\n",
    "print(f\"Test Accuracy: {test_accuracy * 100:.2f}%\")"
   ]
  },
  {
   "cell_type": "markdown",
   "metadata": {
    "id": "as5BLaW7YkVZ"
   },
   "source": [
    "#### Task 4.1: Plotting training and validation accuracy"
   ]
  },
  {
   "cell_type": "code",
   "execution_count": null,
   "metadata": {
    "colab": {
     "base_uri": "https://localhost:8080/",
     "height": 487
    },
    "collapsed": true,
    "id": "9RChBADsYlyI",
    "jupyter": {
     "outputs_hidden": true,
     "source_hidden": true
    },
    "outputId": "544e6b4b-7664-4a04-f8ac-6bc1f0c69653"
   },
   "outputs": [
    {
     "data": {
      "image/png": "[encoded data removed]",
      "text/plain": [
       "<Figure size 1200x500 with 2 Axes>"
      ]
     },
     "metadata": {},
     "output_type": "display_data"
    }
   ],
   "source": [
    "# Plot training & validation accuracy\n",
    "plt.figure(figsize=(12, 5))  # Set figure size for better visibility\n",
    "\n",
    "# Subplot 1: Training and validation accuracy\n",
    "plt.subplot(1, 2, 1)  # Create first subplot (1 row, 2 columns, position 1)\n",
    "plt.plot(history.history['accuracy'], label='Train Accuracy')  # Plot training accuracy\n",
    "plt.plot(history.history['val_accuracy'], label='Validation Accuracy')  # Plot validation accuracy\n",
    "plt.xlabel('Epochs')  # Label for x-axis\n",
    "plt.ylabel('Accuracy')  # Label for y-axis\n",
    "plt.legend()  # Display legend\n",
    "plt.title('Training & Validation Accuracy')  # Title of the plot\n",
    "\n",
    "# Subplot 2: Training and validation loss\n",
    "plt.subplot(1, 2, 2)  # Create second subplot (1 row, 2 columns, position 2)\n",
    "plt.plot(history.history['loss'], label='Train Loss')  # Plot training loss\n",
    "plt.plot(history.history['val_loss'], label='Validation Loss')  # Plot validation loss\n",
    "plt.xlabel('Epochs')  # Label for x-axis\n",
    "plt.ylabel('Loss')  # Label for y-axis\n",
    "plt.legend()  # Display legend\n",
    "plt.title('Training & Validation Loss')  # Title of the plot\n",
    "\n",
    "# Display the plots\n",
    "plt.show()"
   ]
  },
  {
   "cell_type": "markdown",
   "metadata": {
    "id": "IiRD3TbiiQPb",
    "jp-MarkdownHeadingCollapsed": true
   },
   "source": [
    "### Task 4 Conclusion:"
   ]
  },
  {
   "cell_type": "markdown",
   "metadata": {
    "id": "ECTbPP8Oj2F7"
   },
   "source": [
    "<font color = green>The CNN model trained on a subset of CIFAR-100 achieved a test accuracy of 71 20%, demonstrating its ability to generalize well to unseen data. This result indicates that the model is effectively learning distinguishing features from the selected 10 classes despite the limited training data. The chosen architecture, consisting of multiple convolutional layers, dropout regularization, and fully connected layers, played a key role in achieving this performance."
   ]
  },
  {
   "cell_type": "markdown",
   "metadata": {
    "id": "sViFlRfWpG0Y"
   },
   "source": [
    "### Task 5: Do the following experiments to improve accuracy:"
   ]
  },
  {
   "cell_type": "markdown",
   "metadata": {
    "id": "8nnpRKhwpBs5"
   },
   "source": [
    "#### Task 5.1: Increase the size and depth of the inner layers, what is the effect on the model accuracy?"
   ]
  },
  {
   "cell_type": "markdown",
   "metadata": {
    "id": "9NxcH6qtiQPb",
    "jp-MarkdownHeadingCollapsed": true
   },
   "source": [
    "##### Task 5.1.1: Defining a deep and optimized CNN model"
   ]
  },
  {
   "cell_type": "code",
   "execution_count": null,
   "metadata": {
    "collapsed": true,
    "id": "zr_lrQsjpP8K",
    "jupyter": {
     "outputs_hidden": true
    }
   },
   "outputs": [],
   "source": [
    "# Define a deeper and optimized CNN model\n",
    "model_v2 = models.Sequential([\n",
    "    layers.Input(shape=(32, 32, 3)),  # Explicit Input layer specifying the input shape\n",
    "\n",
    "    # First Convolutional Block\n",
    "    layers.Conv2D(64, (3, 3), activation='relu', padding='same'),  # First convolution layer with 64 filters\n",
    "    layers.BatchNormalization(),  # Normalize activations for stable training\n",
    "    layers.Conv2D(64, (3, 3), activation='relu', padding='same'),  # Second convolution layer\n",
    "    layers.BatchNormalization(),  # Normalize activations\n",
    "    layers.MaxPooling2D((2, 2)),  # Reduce spatial dimensions (downsampling)\n",
    "    layers.Dropout(0.2),  # Prevent overfitting by randomly dropping connections\n",
    "\n",
    "    # Second Convolutional Block\n",
    "    layers.Conv2D(128, (3, 3), activation='relu', padding='same'),  # First convolution layer with 128 filters\n",
    "    layers.BatchNormalization(),  # Normalize activations\n",
    "    layers.Conv2D(128, (3, 3), activation='relu', padding='same'),  # Second convolution layer\n",
    "    layers.BatchNormalization(),  # Normalize activations\n",
    "    layers.MaxPooling2D((2, 2)),  # Downsampling\n",
    "    layers.Dropout(0.3),  # Higher dropout rate to further prevent overfitting\n",
    "\n",
    "    # Third Convolutional Block\n",
    "    layers.Conv2D(256, (3, 3), activation='relu', padding='same'),  # First convolution layer with 256 filters\n",
    "    layers.BatchNormalization(),  # Normalize activations\n",
    "    layers.Conv2D(256, (3, 3), activation='relu', padding='same'),  # Second convolution layer\n",
    "    layers.BatchNormalization(),  # Normalize activations\n",
    "    layers.MaxPooling2D((2, 2)),  # Downsampling\n",
    "    layers.Dropout(0.4),  # Increase dropout rate for more regularization\n",
    "\n",
    "    # Fourth Convolutional Block\n",
    "    layers.Conv2D(512, (3, 3), activation='relu', padding='same'),  # First convolution layer with 512 filters\n",
    "    layers.BatchNormalization(),  # Normalize activations\n",
    "    layers.Conv2D(512, (3, 3), activation='relu', padding='same'),  # Second convolution layer\n",
    "    layers.BatchNormalization(),  # Normalize activations\n",
    "    layers.MaxPooling2D((2, 2)),  # Downsampling\n",
    "    layers.Dropout(0.4),  # Maintain high dropout to reduce overfitting\n",
    "\n",
    "    # Fully Connected Layers\n",
    "    layers.Flatten(),  # Flatten the feature maps into a 1D vector for classification\n",
    "    layers.Dense(512, activation='relu', kernel_regularizer=regularizers.l2(0.001)),  # First dense layer with L2 regularization\n",
    "    layers.BatchNormalization(),  # Normalize activations\n",
    "    layers.Dropout(0.4),  # Dropout for regularization\n",
    "\n",
    "    layers.Dense(256, activation='relu', kernel_regularizer=regularizers.l2(0.001)),  # Second dense layer with L2 regularization\n",
    "    layers.BatchNormalization(),  # Normalize activations\n",
    "    layers.Dropout(0.3),  # Dropout for regularization\n",
    "\n",
    "    layers.Dense(10, activation='softmax')  # Output layer with 10 classes using softmax activation\n",
    "])"
   ]
  },
  {
   "cell_type": "markdown",
   "metadata": {
    "id": "FQTBNh2Wh1x8",
    "jp-MarkdownHeadingCollapsed": true
   },
   "source": [
    "##### Task 5.1.2: Model Compilation"
   ]
  },
  {
   "cell_type": "code",
   "execution_count": null,
   "metadata": {
    "colab": {
     "base_uri": "https://localhost:8080/",
     "height": 1000
    },
    "id": "xcAyz09MiQPb",
    "outputId": "45e7d3b8-831f-4509-bea5-920da944e133"
   },
   "outputs": [
    {
     "data": {
      "text/html": [
       "<pre style=\"white-space:pre;overflow-x:auto;line-height:normal;font-family:Menlo,'DejaVu Sans Mono',consolas,'Courier New',monospace\"><span style=\"font-weight: bold\">Model: \"sequential_1\"</span>\n",
       "</pre>\n"
      ],
      "text/plain": [
       "\u001b[1mModel: \"sequential_1\"\u001b[0m\n"
      ]
     },
     "metadata": {},
     "output_type": "display_data"
    },
    {
     "data": {
      "text/html": [
       "<pre style=\"white-space:pre;overflow-x:auto;line-height:normal;font-family:Menlo,'DejaVu Sans Mono',consolas,'Courier New',monospace\">┏━━━━━━━━━━━━━━━━━━━━━━━━━━━━━━━━━━━━━━┳━━━━━━━━━━━━━━━━━━━━━━━━━━━━━┳━━━━━━━━━━━━━━━━━┓\n",
       "┃<span style=\"font-weight: bold\"> Layer (type)                         </span>┃<span style=\"font-weight: bold\"> Output Shape                </span>┃<span style=\"font-weight: bold\">         Param # </span>┃\n",
       "┡━━━━━━━━━━━━━━━━━━━━━━━━━━━━━━━━━━━━━━╇━━━━━━━━━━━━━━━━━━━━━━━━━━━━━╇━━━━━━━━━━━━━━━━━┩\n",
       "│ conv2d_6 (<span style=\"color: #0087ff; text-decoration-color: #0087ff\">Conv2D</span>)                    │ (<span style=\"color: #00d7ff; text-decoration-color: #00d7ff\">None</span>, <span style=\"color: #00af00; text-decoration-color: #00af00\">32</span>, <span style=\"color: #00af00; text-decoration-color: #00af00\">32</span>, <span style=\"color: #00af00; text-decoration-color: #00af00\">64</span>)          │           <span style=\"color: #00af00; text-decoration-color: #00af00\">1,792</span> │\n",
       "├──────────────────────────────────────┼─────────────────────────────┼─────────────────┤\n",
       "│ batch_normalization                  │ (<span style=\"color: #00d7ff; text-decoration-color: #00d7ff\">None</span>, <span style=\"color: #00af00; text-decoration-color: #00af00\">32</span>, <span style=\"color: #00af00; text-decoration-color: #00af00\">32</span>, <span style=\"color: #00af00; text-decoration-color: #00af00\">64</span>)          │             <span style=\"color: #00af00; text-decoration-color: #00af00\">256</span> │\n",
       "│ (<span style=\"color: #0087ff; text-decoration-color: #0087ff\">BatchNormalization</span>)                 │                             │                 │\n",
       "├──────────────────────────────────────┼─────────────────────────────┼─────────────────┤\n",
       "│ conv2d_7 (<span style=\"color: #0087ff; text-decoration-color: #0087ff\">Conv2D</span>)                    │ (<span style=\"color: #00d7ff; text-decoration-color: #00d7ff\">None</span>, <span style=\"color: #00af00; text-decoration-color: #00af00\">32</span>, <span style=\"color: #00af00; text-decoration-color: #00af00\">32</span>, <span style=\"color: #00af00; text-decoration-color: #00af00\">64</span>)          │          <span style=\"color: #00af00; text-decoration-color: #00af00\">36,928</span> │\n",
       "├──────────────────────────────────────┼─────────────────────────────┼─────────────────┤\n",
       "│ batch_normalization_1                │ (<span style=\"color: #00d7ff; text-decoration-color: #00d7ff\">None</span>, <span style=\"color: #00af00; text-decoration-color: #00af00\">32</span>, <span style=\"color: #00af00; text-decoration-color: #00af00\">32</span>, <span style=\"color: #00af00; text-decoration-color: #00af00\">64</span>)          │             <span style=\"color: #00af00; text-decoration-color: #00af00\">256</span> │\n",
       "│ (<span style=\"color: #0087ff; text-decoration-color: #0087ff\">BatchNormalization</span>)                 │                             │                 │\n",
       "├──────────────────────────────────────┼─────────────────────────────┼─────────────────┤\n",
       "│ max_pooling2d_3 (<span style=\"color: #0087ff; text-decoration-color: #0087ff\">MaxPooling2D</span>)       │ (<span style=\"color: #00d7ff; text-decoration-color: #00d7ff\">None</span>, <span style=\"color: #00af00; text-decoration-color: #00af00\">16</span>, <span style=\"color: #00af00; text-decoration-color: #00af00\">16</span>, <span style=\"color: #00af00; text-decoration-color: #00af00\">64</span>)          │               <span style=\"color: #00af00; text-decoration-color: #00af00\">0</span> │\n",
       "├──────────────────────────────────────┼─────────────────────────────┼─────────────────┤\n",
       "│ dropout_4 (<span style=\"color: #0087ff; text-decoration-color: #0087ff\">Dropout</span>)                  │ (<span style=\"color: #00d7ff; text-decoration-color: #00d7ff\">None</span>, <span style=\"color: #00af00; text-decoration-color: #00af00\">16</span>, <span style=\"color: #00af00; text-decoration-color: #00af00\">16</span>, <span style=\"color: #00af00; text-decoration-color: #00af00\">64</span>)          │               <span style=\"color: #00af00; text-decoration-color: #00af00\">0</span> │\n",
       "├──────────────────────────────────────┼─────────────────────────────┼─────────────────┤\n",
       "│ conv2d_8 (<span style=\"color: #0087ff; text-decoration-color: #0087ff\">Conv2D</span>)                    │ (<span style=\"color: #00d7ff; text-decoration-color: #00d7ff\">None</span>, <span style=\"color: #00af00; text-decoration-color: #00af00\">16</span>, <span style=\"color: #00af00; text-decoration-color: #00af00\">16</span>, <span style=\"color: #00af00; text-decoration-color: #00af00\">128</span>)         │          <span style=\"color: #00af00; text-decoration-color: #00af00\">73,856</span> │\n",
       "├──────────────────────────────────────┼─────────────────────────────┼─────────────────┤\n",
       "│ batch_normalization_2                │ (<span style=\"color: #00d7ff; text-decoration-color: #00d7ff\">None</span>, <span style=\"color: #00af00; text-decoration-color: #00af00\">16</span>, <span style=\"color: #00af00; text-decoration-color: #00af00\">16</span>, <span style=\"color: #00af00; text-decoration-color: #00af00\">128</span>)         │             <span style=\"color: #00af00; text-decoration-color: #00af00\">512</span> │\n",
       "│ (<span style=\"color: #0087ff; text-decoration-color: #0087ff\">BatchNormalization</span>)                 │                             │                 │\n",
       "├──────────────────────────────────────┼─────────────────────────────┼─────────────────┤\n",
       "│ conv2d_9 (<span style=\"color: #0087ff; text-decoration-color: #0087ff\">Conv2D</span>)                    │ (<span style=\"color: #00d7ff; text-decoration-color: #00d7ff\">None</span>, <span style=\"color: #00af00; text-decoration-color: #00af00\">16</span>, <span style=\"color: #00af00; text-decoration-color: #00af00\">16</span>, <span style=\"color: #00af00; text-decoration-color: #00af00\">128</span>)         │         <span style=\"color: #00af00; text-decoration-color: #00af00\">147,584</span> │\n",
       "├──────────────────────────────────────┼─────────────────────────────┼─────────────────┤\n",
       "│ batch_normalization_3                │ (<span style=\"color: #00d7ff; text-decoration-color: #00d7ff\">None</span>, <span style=\"color: #00af00; text-decoration-color: #00af00\">16</span>, <span style=\"color: #00af00; text-decoration-color: #00af00\">16</span>, <span style=\"color: #00af00; text-decoration-color: #00af00\">128</span>)         │             <span style=\"color: #00af00; text-decoration-color: #00af00\">512</span> │\n",
       "│ (<span style=\"color: #0087ff; text-decoration-color: #0087ff\">BatchNormalization</span>)                 │                             │                 │\n",
       "├──────────────────────────────────────┼─────────────────────────────┼─────────────────┤\n",
       "│ max_pooling2d_4 (<span style=\"color: #0087ff; text-decoration-color: #0087ff\">MaxPooling2D</span>)       │ (<span style=\"color: #00d7ff; text-decoration-color: #00d7ff\">None</span>, <span style=\"color: #00af00; text-decoration-color: #00af00\">8</span>, <span style=\"color: #00af00; text-decoration-color: #00af00\">8</span>, <span style=\"color: #00af00; text-decoration-color: #00af00\">128</span>)           │               <span style=\"color: #00af00; text-decoration-color: #00af00\">0</span> │\n",
       "├──────────────────────────────────────┼─────────────────────────────┼─────────────────┤\n",
       "│ dropout_5 (<span style=\"color: #0087ff; text-decoration-color: #0087ff\">Dropout</span>)                  │ (<span style=\"color: #00d7ff; text-decoration-color: #00d7ff\">None</span>, <span style=\"color: #00af00; text-decoration-color: #00af00\">8</span>, <span style=\"color: #00af00; text-decoration-color: #00af00\">8</span>, <span style=\"color: #00af00; text-decoration-color: #00af00\">128</span>)           │               <span style=\"color: #00af00; text-decoration-color: #00af00\">0</span> │\n",
       "├──────────────────────────────────────┼─────────────────────────────┼─────────────────┤\n",
       "│ conv2d_10 (<span style=\"color: #0087ff; text-decoration-color: #0087ff\">Conv2D</span>)                   │ (<span style=\"color: #00d7ff; text-decoration-color: #00d7ff\">None</span>, <span style=\"color: #00af00; text-decoration-color: #00af00\">8</span>, <span style=\"color: #00af00; text-decoration-color: #00af00\">8</span>, <span style=\"color: #00af00; text-decoration-color: #00af00\">256</span>)           │         <span style=\"color: #00af00; text-decoration-color: #00af00\">295,168</span> │\n",
       "├──────────────────────────────────────┼─────────────────────────────┼─────────────────┤\n",
       "│ batch_normalization_4                │ (<span style=\"color: #00d7ff; text-decoration-color: #00d7ff\">None</span>, <span style=\"color: #00af00; text-decoration-color: #00af00\">8</span>, <span style=\"color: #00af00; text-decoration-color: #00af00\">8</span>, <span style=\"color: #00af00; text-decoration-color: #00af00\">256</span>)           │           <span style=\"color: #00af00; text-decoration-color: #00af00\">1,024</span> │\n",
       "│ (<span style=\"color: #0087ff; text-decoration-color: #0087ff\">BatchNormalization</span>)                 │                             │                 │\n",
       "├──────────────────────────────────────┼─────────────────────────────┼─────────────────┤\n",
       "│ conv2d_11 (<span style=\"color: #0087ff; text-decoration-color: #0087ff\">Conv2D</span>)                   │ (<span style=\"color: #00d7ff; text-decoration-color: #00d7ff\">None</span>, <span style=\"color: #00af00; text-decoration-color: #00af00\">8</span>, <span style=\"color: #00af00; text-decoration-color: #00af00\">8</span>, <span style=\"color: #00af00; text-decoration-color: #00af00\">256</span>)           │         <span style=\"color: #00af00; text-decoration-color: #00af00\">590,080</span> │\n",
       "├──────────────────────────────────────┼─────────────────────────────┼─────────────────┤\n",
       "│ batch_normalization_5                │ (<span style=\"color: #00d7ff; text-decoration-color: #00d7ff\">None</span>, <span style=\"color: #00af00; text-decoration-color: #00af00\">8</span>, <span style=\"color: #00af00; text-decoration-color: #00af00\">8</span>, <span style=\"color: #00af00; text-decoration-color: #00af00\">256</span>)           │           <span style=\"color: #00af00; text-decoration-color: #00af00\">1,024</span> │\n",
       "│ (<span style=\"color: #0087ff; text-decoration-color: #0087ff\">BatchNormalization</span>)                 │                             │                 │\n",
       "├──────────────────────────────────────┼─────────────────────────────┼─────────────────┤\n",
       "│ max_pooling2d_5 (<span style=\"color: #0087ff; text-decoration-color: #0087ff\">MaxPooling2D</span>)       │ (<span style=\"color: #00d7ff; text-decoration-color: #00d7ff\">None</span>, <span style=\"color: #00af00; text-decoration-color: #00af00\">4</span>, <span style=\"color: #00af00; text-decoration-color: #00af00\">4</span>, <span style=\"color: #00af00; text-decoration-color: #00af00\">256</span>)           │               <span style=\"color: #00af00; text-decoration-color: #00af00\">0</span> │\n",
       "├──────────────────────────────────────┼─────────────────────────────┼─────────────────┤\n",
       "│ dropout_6 (<span style=\"color: #0087ff; text-decoration-color: #0087ff\">Dropout</span>)                  │ (<span style=\"color: #00d7ff; text-decoration-color: #00d7ff\">None</span>, <span style=\"color: #00af00; text-decoration-color: #00af00\">4</span>, <span style=\"color: #00af00; text-decoration-color: #00af00\">4</span>, <span style=\"color: #00af00; text-decoration-color: #00af00\">256</span>)           │               <span style=\"color: #00af00; text-decoration-color: #00af00\">0</span> │\n",
       "├──────────────────────────────────────┼─────────────────────────────┼─────────────────┤\n",
       "│ conv2d_12 (<span style=\"color: #0087ff; text-decoration-color: #0087ff\">Conv2D</span>)                   │ (<span style=\"color: #00d7ff; text-decoration-color: #00d7ff\">None</span>, <span style=\"color: #00af00; text-decoration-color: #00af00\">4</span>, <span style=\"color: #00af00; text-decoration-color: #00af00\">4</span>, <span style=\"color: #00af00; text-decoration-color: #00af00\">512</span>)           │       <span style=\"color: #00af00; text-decoration-color: #00af00\">1,180,160</span> │\n",
       "├──────────────────────────────────────┼─────────────────────────────┼─────────────────┤\n",
       "│ batch_normalization_6                │ (<span style=\"color: #00d7ff; text-decoration-color: #00d7ff\">None</span>, <span style=\"color: #00af00; text-decoration-color: #00af00\">4</span>, <span style=\"color: #00af00; text-decoration-color: #00af00\">4</span>, <span style=\"color: #00af00; text-decoration-color: #00af00\">512</span>)           │           <span style=\"color: #00af00; text-decoration-color: #00af00\">2,048</span> │\n",
       "│ (<span style=\"color: #0087ff; text-decoration-color: #0087ff\">BatchNormalization</span>)                 │                             │                 │\n",
       "├──────────────────────────────────────┼─────────────────────────────┼─────────────────┤\n",
       "│ conv2d_13 (<span style=\"color: #0087ff; text-decoration-color: #0087ff\">Conv2D</span>)                   │ (<span style=\"color: #00d7ff; text-decoration-color: #00d7ff\">None</span>, <span style=\"color: #00af00; text-decoration-color: #00af00\">4</span>, <span style=\"color: #00af00; text-decoration-color: #00af00\">4</span>, <span style=\"color: #00af00; text-decoration-color: #00af00\">512</span>)           │       <span style=\"color: #00af00; text-decoration-color: #00af00\">2,359,808</span> │\n",
       "├──────────────────────────────────────┼─────────────────────────────┼─────────────────┤\n",
       "│ batch_normalization_7                │ (<span style=\"color: #00d7ff; text-decoration-color: #00d7ff\">None</span>, <span style=\"color: #00af00; text-decoration-color: #00af00\">4</span>, <span style=\"color: #00af00; text-decoration-color: #00af00\">4</span>, <span style=\"color: #00af00; text-decoration-color: #00af00\">512</span>)           │           <span style=\"color: #00af00; text-decoration-color: #00af00\">2,048</span> │\n",
       "│ (<span style=\"color: #0087ff; text-decoration-color: #0087ff\">BatchNormalization</span>)                 │                             │                 │\n",
       "├──────────────────────────────────────┼─────────────────────────────┼─────────────────┤\n",
       "│ max_pooling2d_6 (<span style=\"color: #0087ff; text-decoration-color: #0087ff\">MaxPooling2D</span>)       │ (<span style=\"color: #00d7ff; text-decoration-color: #00d7ff\">None</span>, <span style=\"color: #00af00; text-decoration-color: #00af00\">2</span>, <span style=\"color: #00af00; text-decoration-color: #00af00\">2</span>, <span style=\"color: #00af00; text-decoration-color: #00af00\">512</span>)           │               <span style=\"color: #00af00; text-decoration-color: #00af00\">0</span> │\n",
       "├──────────────────────────────────────┼─────────────────────────────┼─────────────────┤\n",
       "│ dropout_7 (<span style=\"color: #0087ff; text-decoration-color: #0087ff\">Dropout</span>)                  │ (<span style=\"color: #00d7ff; text-decoration-color: #00d7ff\">None</span>, <span style=\"color: #00af00; text-decoration-color: #00af00\">2</span>, <span style=\"color: #00af00; text-decoration-color: #00af00\">2</span>, <span style=\"color: #00af00; text-decoration-color: #00af00\">512</span>)           │               <span style=\"color: #00af00; text-decoration-color: #00af00\">0</span> │\n",
       "├──────────────────────────────────────┼─────────────────────────────┼─────────────────┤\n",
       "│ flatten_1 (<span style=\"color: #0087ff; text-decoration-color: #0087ff\">Flatten</span>)                  │ (<span style=\"color: #00d7ff; text-decoration-color: #00d7ff\">None</span>, <span style=\"color: #00af00; text-decoration-color: #00af00\">2048</span>)                │               <span style=\"color: #00af00; text-decoration-color: #00af00\">0</span> │\n",
       "├──────────────────────────────────────┼─────────────────────────────┼─────────────────┤\n",
       "│ dense_2 (<span style=\"color: #0087ff; text-decoration-color: #0087ff\">Dense</span>)                      │ (<span style=\"color: #00d7ff; text-decoration-color: #00d7ff\">None</span>, <span style=\"color: #00af00; text-decoration-color: #00af00\">512</span>)                 │       <span style=\"color: #00af00; text-decoration-color: #00af00\">1,049,088</span> │\n",
       "├──────────────────────────────────────┼─────────────────────────────┼─────────────────┤\n",
       "│ batch_normalization_8                │ (<span style=\"color: #00d7ff; text-decoration-color: #00d7ff\">None</span>, <span style=\"color: #00af00; text-decoration-color: #00af00\">512</span>)                 │           <span style=\"color: #00af00; text-decoration-color: #00af00\">2,048</span> │\n",
       "│ (<span style=\"color: #0087ff; text-decoration-color: #0087ff\">BatchNormalization</span>)                 │                             │                 │\n",
       "├──────────────────────────────────────┼─────────────────────────────┼─────────────────┤\n",
       "│ dropout_8 (<span style=\"color: #0087ff; text-decoration-color: #0087ff\">Dropout</span>)                  │ (<span style=\"color: #00d7ff; text-decoration-color: #00d7ff\">None</span>, <span style=\"color: #00af00; text-decoration-color: #00af00\">512</span>)                 │               <span style=\"color: #00af00; text-decoration-color: #00af00\">0</span> │\n",
       "├──────────────────────────────────────┼─────────────────────────────┼─────────────────┤\n",
       "│ dense_3 (<span style=\"color: #0087ff; text-decoration-color: #0087ff\">Dense</span>)                      │ (<span style=\"color: #00d7ff; text-decoration-color: #00d7ff\">None</span>, <span style=\"color: #00af00; text-decoration-color: #00af00\">256</span>)                 │         <span style=\"color: #00af00; text-decoration-color: #00af00\">131,328</span> │\n",
       "├──────────────────────────────────────┼─────────────────────────────┼─────────────────┤\n",
       "│ batch_normalization_9                │ (<span style=\"color: #00d7ff; text-decoration-color: #00d7ff\">None</span>, <span style=\"color: #00af00; text-decoration-color: #00af00\">256</span>)                 │           <span style=\"color: #00af00; text-decoration-color: #00af00\">1,024</span> │\n",
       "│ (<span style=\"color: #0087ff; text-decoration-color: #0087ff\">BatchNormalization</span>)                 │                             │                 │\n",
       "├──────────────────────────────────────┼─────────────────────────────┼─────────────────┤\n",
       "│ dropout_9 (<span style=\"color: #0087ff; text-decoration-color: #0087ff\">Dropout</span>)                  │ (<span style=\"color: #00d7ff; text-decoration-color: #00d7ff\">None</span>, <span style=\"color: #00af00; text-decoration-color: #00af00\">256</span>)                 │               <span style=\"color: #00af00; text-decoration-color: #00af00\">0</span> │\n",
       "├──────────────────────────────────────┼─────────────────────────────┼─────────────────┤\n",
       "│ dense_4 (<span style=\"color: #0087ff; text-decoration-color: #0087ff\">Dense</span>)                      │ (<span style=\"color: #00d7ff; text-decoration-color: #00d7ff\">None</span>, <span style=\"color: #00af00; text-decoration-color: #00af00\">10</span>)                  │           <span style=\"color: #00af00; text-decoration-color: #00af00\">2,570</span> │\n",
       "└──────────────────────────────────────┴─────────────────────────────┴─────────────────┘\n",
       "</pre>\n"
      ],
      "text/plain": [
       "┏━━━━━━━━━━━━━━━━━━━━━━━━━━━━━━━━━━━━━━┳━━━━━━━━━━━━━━━━━━━━━━━━━━━━━┳━━━━━━━━━━━━━━━━━┓\n",
       "┃\u001b[1m \u001b[0m\u001b[1mLayer (type)                        \u001b[0m\u001b[1m \u001b[0m┃\u001b[1m \u001b[0m\u001b[1mOutput Shape               \u001b[0m\u001b[1m \u001b[0m┃\u001b[1m \u001b[0m\u001b[1m        Param #\u001b[0m\u001b[1m \u001b[0m┃\n",
       "┡━━━━━━━━━━━━━━━━━━━━━━━━━━━━━━━━━━━━━━╇━━━━━━━━━━━━━━━━━━━━━━━━━━━━━╇━━━━━━━━━━━━━━━━━┩\n",
       "│ conv2d_6 (\u001b[38;5;33mConv2D\u001b[0m)                    │ (\u001b[38;5;45mNone\u001b[0m, \u001b[38;5;34m32\u001b[0m, \u001b[38;5;34m32\u001b[0m, \u001b[38;5;34m64\u001b[0m)          │           \u001b[38;5;34m1,792\u001b[0m │\n",
       "├──────────────────────────────────────┼─────────────────────────────┼─────────────────┤\n",
       "│ batch_normalization                  │ (\u001b[38;5;45mNone\u001b[0m, \u001b[38;5;34m32\u001b[0m, \u001b[38;5;34m32\u001b[0m, \u001b[38;5;34m64\u001b[0m)          │             \u001b[38;5;34m256\u001b[0m │\n",
       "│ (\u001b[38;5;33mBatchNormalization\u001b[0m)                 │                             │                 │\n",
       "├──────────────────────────────────────┼─────────────────────────────┼─────────────────┤\n",
       "│ conv2d_7 (\u001b[38;5;33mConv2D\u001b[0m)                    │ (\u001b[38;5;45mNone\u001b[0m, \u001b[38;5;34m32\u001b[0m, \u001b[38;5;34m32\u001b[0m, \u001b[38;5;34m64\u001b[0m)          │          \u001b[38;5;34m36,928\u001b[0m │\n",
       "├──────────────────────────────────────┼─────────────────────────────┼─────────────────┤\n",
       "│ batch_normalization_1                │ (\u001b[38;5;45mNone\u001b[0m, \u001b[38;5;34m32\u001b[0m, \u001b[38;5;34m32\u001b[0m, \u001b[38;5;34m64\u001b[0m)          │             \u001b[38;5;34m256\u001b[0m │\n",
       "│ (\u001b[38;5;33mBatchNormalization\u001b[0m)                 │                             │                 │\n",
       "├──────────────────────────────────────┼─────────────────────────────┼─────────────────┤\n",
       "│ max_pooling2d_3 (\u001b[38;5;33mMaxPooling2D\u001b[0m)       │ (\u001b[38;5;45mNone\u001b[0m, \u001b[38;5;34m16\u001b[0m, \u001b[38;5;34m16\u001b[0m, \u001b[38;5;34m64\u001b[0m)          │               \u001b[38;5;34m0\u001b[0m │\n",
       "├──────────────────────────────────────┼─────────────────────────────┼─────────────────┤\n",
       "│ dropout_4 (\u001b[38;5;33mDropout\u001b[0m)                  │ (\u001b[38;5;45mNone\u001b[0m, \u001b[38;5;34m16\u001b[0m, \u001b[38;5;34m16\u001b[0m, \u001b[38;5;34m64\u001b[0m)          │               \u001b[38;5;34m0\u001b[0m │\n",
       "├──────────────────────────────────────┼─────────────────────────────┼─────────────────┤\n",
       "│ conv2d_8 (\u001b[38;5;33mConv2D\u001b[0m)                    │ (\u001b[38;5;45mNone\u001b[0m, \u001b[38;5;34m16\u001b[0m, \u001b[38;5;34m16\u001b[0m, \u001b[38;5;34m128\u001b[0m)         │          \u001b[38;5;34m73,856\u001b[0m │\n",
       "├──────────────────────────────────────┼─────────────────────────────┼─────────────────┤\n",
       "│ batch_normalization_2                │ (\u001b[38;5;45mNone\u001b[0m, \u001b[38;5;34m16\u001b[0m, \u001b[38;5;34m16\u001b[0m, \u001b[38;5;34m128\u001b[0m)         │             \u001b[38;5;34m512\u001b[0m │\n",
       "│ (\u001b[38;5;33mBatchNormalization\u001b[0m)                 │                             │                 │\n",
       "├──────────────────────────────────────┼─────────────────────────────┼─────────────────┤\n",
       "│ conv2d_9 (\u001b[38;5;33mConv2D\u001b[0m)                    │ (\u001b[38;5;45mNone\u001b[0m, \u001b[38;5;34m16\u001b[0m, \u001b[38;5;34m16\u001b[0m, \u001b[38;5;34m128\u001b[0m)         │         \u001b[38;5;34m147,584\u001b[0m │\n",
       "├──────────────────────────────────────┼─────────────────────────────┼─────────────────┤\n",
       "│ batch_normalization_3                │ (\u001b[38;5;45mNone\u001b[0m, \u001b[38;5;34m16\u001b[0m, \u001b[38;5;34m16\u001b[0m, \u001b[38;5;34m128\u001b[0m)         │             \u001b[38;5;34m512\u001b[0m │\n",
       "│ (\u001b[38;5;33mBatchNormalization\u001b[0m)                 │                             │                 │\n",
       "├──────────────────────────────────────┼─────────────────────────────┼─────────────────┤\n",
       "│ max_pooling2d_4 (\u001b[38;5;33mMaxPooling2D\u001b[0m)       │ (\u001b[38;5;45mNone\u001b[0m, \u001b[38;5;34m8\u001b[0m, \u001b[38;5;34m8\u001b[0m, \u001b[38;5;34m128\u001b[0m)           │               \u001b[38;5;34m0\u001b[0m │\n",
       "├──────────────────────────────────────┼─────────────────────────────┼─────────────────┤\n",
       "│ dropout_5 (\u001b[38;5;33mDropout\u001b[0m)                  │ (\u001b[38;5;45mNone\u001b[0m, \u001b[38;5;34m8\u001b[0m, \u001b[38;5;34m8\u001b[0m, \u001b[38;5;34m128\u001b[0m)           │               \u001b[38;5;34m0\u001b[0m │\n",
       "├──────────────────────────────────────┼─────────────────────────────┼─────────────────┤\n",
       "│ conv2d_10 (\u001b[38;5;33mConv2D\u001b[0m)                   │ (\u001b[38;5;45mNone\u001b[0m, \u001b[38;5;34m8\u001b[0m, \u001b[38;5;34m8\u001b[0m, \u001b[38;5;34m256\u001b[0m)           │         \u001b[38;5;34m295,168\u001b[0m │\n",
       "├──────────────────────────────────────┼─────────────────────────────┼─────────────────┤\n",
       "│ batch_normalization_4                │ (\u001b[38;5;45mNone\u001b[0m, \u001b[38;5;34m8\u001b[0m, \u001b[38;5;34m8\u001b[0m, \u001b[38;5;34m256\u001b[0m)           │           \u001b[38;5;34m1,024\u001b[0m │\n",
       "│ (\u001b[38;5;33mBatchNormalization\u001b[0m)                 │                             │                 │\n",
       "├──────────────────────────────────────┼─────────────────────────────┼─────────────────┤\n",
       "│ conv2d_11 (\u001b[38;5;33mConv2D\u001b[0m)                   │ (\u001b[38;5;45mNone\u001b[0m, \u001b[38;5;34m8\u001b[0m, \u001b[38;5;34m8\u001b[0m, \u001b[38;5;34m256\u001b[0m)           │         \u001b[38;5;34m590,080\u001b[0m │\n",
       "├──────────────────────────────────────┼─────────────────────────────┼─────────────────┤\n",
       "│ batch_normalization_5                │ (\u001b[38;5;45mNone\u001b[0m, \u001b[38;5;34m8\u001b[0m, \u001b[38;5;34m8\u001b[0m, \u001b[38;5;34m256\u001b[0m)           │           \u001b[38;5;34m1,024\u001b[0m │\n",
       "│ (\u001b[38;5;33mBatchNormalization\u001b[0m)                 │                             │                 │\n",
       "├──────────────────────────────────────┼─────────────────────────────┼─────────────────┤\n",
       "│ max_pooling2d_5 (\u001b[38;5;33mMaxPooling2D\u001b[0m)       │ (\u001b[38;5;45mNone\u001b[0m, \u001b[38;5;34m4\u001b[0m, \u001b[38;5;34m4\u001b[0m, \u001b[38;5;34m256\u001b[0m)           │               \u001b[38;5;34m0\u001b[0m │\n",
       "├──────────────────────────────────────┼─────────────────────────────┼─────────────────┤\n",
       "│ dropout_6 (\u001b[38;5;33mDropout\u001b[0m)                  │ (\u001b[38;5;45mNone\u001b[0m, \u001b[38;5;34m4\u001b[0m, \u001b[38;5;34m4\u001b[0m, \u001b[38;5;34m256\u001b[0m)           │               \u001b[38;5;34m0\u001b[0m │\n",
       "├──────────────────────────────────────┼─────────────────────────────┼─────────────────┤\n",
       "│ conv2d_12 (\u001b[38;5;33mConv2D\u001b[0m)                   │ (\u001b[38;5;45mNone\u001b[0m, \u001b[38;5;34m4\u001b[0m, \u001b[38;5;34m4\u001b[0m, \u001b[38;5;34m512\u001b[0m)           │       \u001b[38;5;34m1,180,160\u001b[0m │\n",
       "├──────────────────────────────────────┼─────────────────────────────┼─────────────────┤\n",
       "│ batch_normalization_6                │ (\u001b[38;5;45mNone\u001b[0m, \u001b[38;5;34m4\u001b[0m, \u001b[38;5;34m4\u001b[0m, \u001b[38;5;34m512\u001b[0m)           │           \u001b[38;5;34m2,048\u001b[0m │\n",
       "│ (\u001b[38;5;33mBatchNormalization\u001b[0m)                 │                             │                 │\n",
       "├──────────────────────────────────────┼─────────────────────────────┼─────────────────┤\n",
       "│ conv2d_13 (\u001b[38;5;33mConv2D\u001b[0m)                   │ (\u001b[38;5;45mNone\u001b[0m, \u001b[38;5;34m4\u001b[0m, \u001b[38;5;34m4\u001b[0m, \u001b[38;5;34m512\u001b[0m)           │       \u001b[38;5;34m2,359,808\u001b[0m │\n",
       "├──────────────────────────────────────┼─────────────────────────────┼─────────────────┤\n",
       "│ batch_normalization_7                │ (\u001b[38;5;45mNone\u001b[0m, \u001b[38;5;34m4\u001b[0m, \u001b[38;5;34m4\u001b[0m, \u001b[38;5;34m512\u001b[0m)           │           \u001b[38;5;34m2,048\u001b[0m │\n",
       "│ (\u001b[38;5;33mBatchNormalization\u001b[0m)                 │                             │                 │\n",
       "├──────────────────────────────────────┼─────────────────────────────┼─────────────────┤\n",
       "│ max_pooling2d_6 (\u001b[38;5;33mMaxPooling2D\u001b[0m)       │ (\u001b[38;5;45mNone\u001b[0m, \u001b[38;5;34m2\u001b[0m, \u001b[38;5;34m2\u001b[0m, \u001b[38;5;34m512\u001b[0m)           │               \u001b[38;5;34m0\u001b[0m │\n",
       "├──────────────────────────────────────┼─────────────────────────────┼─────────────────┤\n",
       "│ dropout_7 (\u001b[38;5;33mDropout\u001b[0m)                  │ (\u001b[38;5;45mNone\u001b[0m, \u001b[38;5;34m2\u001b[0m, \u001b[38;5;34m2\u001b[0m, \u001b[38;5;34m512\u001b[0m)           │               \u001b[38;5;34m0\u001b[0m │\n",
       "├──────────────────────────────────────┼─────────────────────────────┼─────────────────┤\n",
       "│ flatten_1 (\u001b[38;5;33mFlatten\u001b[0m)                  │ (\u001b[38;5;45mNone\u001b[0m, \u001b[38;5;34m2048\u001b[0m)                │               \u001b[38;5;34m0\u001b[0m │\n",
       "├──────────────────────────────────────┼─────────────────────────────┼─────────────────┤\n",
       "│ dense_2 (\u001b[38;5;33mDense\u001b[0m)                      │ (\u001b[38;5;45mNone\u001b[0m, \u001b[38;5;34m512\u001b[0m)                 │       \u001b[38;5;34m1,049,088\u001b[0m │\n",
       "├──────────────────────────────────────┼─────────────────────────────┼─────────────────┤\n",
       "│ batch_normalization_8                │ (\u001b[38;5;45mNone\u001b[0m, \u001b[38;5;34m512\u001b[0m)                 │           \u001b[38;5;34m2,048\u001b[0m │\n",
       "│ (\u001b[38;5;33mBatchNormalization\u001b[0m)                 │                             │                 │\n",
       "├──────────────────────────────────────┼─────────────────────────────┼─────────────────┤\n",
       "│ dropout_8 (\u001b[38;5;33mDropout\u001b[0m)                  │ (\u001b[38;5;45mNone\u001b[0m, \u001b[38;5;34m512\u001b[0m)                 │               \u001b[38;5;34m0\u001b[0m │\n",
       "├──────────────────────────────────────┼─────────────────────────────┼─────────────────┤\n",
       "│ dense_3 (\u001b[38;5;33mDense\u001b[0m)                      │ (\u001b[38;5;45mNone\u001b[0m, \u001b[38;5;34m256\u001b[0m)                 │         \u001b[38;5;34m131,328\u001b[0m │\n",
       "├──────────────────────────────────────┼─────────────────────────────┼─────────────────┤\n",
       "│ batch_normalization_9                │ (\u001b[38;5;45mNone\u001b[0m, \u001b[38;5;34m256\u001b[0m)                 │           \u001b[38;5;34m1,024\u001b[0m │\n",
       "│ (\u001b[38;5;33mBatchNormalization\u001b[0m)                 │                             │                 │\n",
       "├──────────────────────────────────────┼─────────────────────────────┼─────────────────┤\n",
       "│ dropout_9 (\u001b[38;5;33mDropout\u001b[0m)                  │ (\u001b[38;5;45mNone\u001b[0m, \u001b[38;5;34m256\u001b[0m)                 │               \u001b[38;5;34m0\u001b[0m │\n",
       "├──────────────────────────────────────┼─────────────────────────────┼─────────────────┤\n",
       "│ dense_4 (\u001b[38;5;33mDense\u001b[0m)                      │ (\u001b[38;5;45mNone\u001b[0m, \u001b[38;5;34m10\u001b[0m)                  │           \u001b[38;5;34m2,570\u001b[0m │\n",
       "└──────────────────────────────────────┴─────────────────────────────┴─────────────────┘\n"
      ]
     },
     "metadata": {},
     "output_type": "display_data"
    },
    {
     "data": {
      "text/html": [
       "<pre style=\"white-space:pre;overflow-x:auto;line-height:normal;font-family:Menlo,'DejaVu Sans Mono',consolas,'Courier New',monospace\"><span style=\"font-weight: bold\"> Total params: </span><span style=\"color: #00af00; text-decoration-color: #00af00\">5,879,114</span> (22.43 MB)\n",
       "</pre>\n"
      ],
      "text/plain": [
       "\u001b[1m Total params: \u001b[0m\u001b[38;5;34m5,879,114\u001b[0m (22.43 MB)\n"
      ]
     },
     "metadata": {},
     "output_type": "display_data"
    },
    {
     "data": {
      "text/html": [
       "<pre style=\"white-space:pre;overflow-x:auto;line-height:normal;font-family:Menlo,'DejaVu Sans Mono',consolas,'Courier New',monospace\"><span style=\"font-weight: bold\"> Trainable params: </span><span style=\"color: #00af00; text-decoration-color: #00af00\">5,873,738</span> (22.41 MB)\n",
       "</pre>\n"
      ],
      "text/plain": [
       "\u001b[1m Trainable params: \u001b[0m\u001b[38;5;34m5,873,738\u001b[0m (22.41 MB)\n"
      ]
     },
     "metadata": {},
     "output_type": "display_data"
    },
    {
     "data": {
      "text/html": [
       "<pre style=\"white-space:pre;overflow-x:auto;line-height:normal;font-family:Menlo,'DejaVu Sans Mono',consolas,'Courier New',monospace\"><span style=\"font-weight: bold\"> Non-trainable params: </span><span style=\"color: #00af00; text-decoration-color: #00af00\">5,376</span> (21.00 KB)\n",
       "</pre>\n"
      ],
      "text/plain": [
       "\u001b[1m Non-trainable params: \u001b[0m\u001b[38;5;34m5,376\u001b[0m (21.00 KB)\n"
      ]
     },
     "metadata": {},
     "output_type": "display_data"
    }
   ],
   "source": [
    "# Compile the model with a lower learning rate\n",
    "model_v2.compile(optimizer=tf.keras.optimizers.Adam(learning_rate=0.0005),\n",
    "                 loss='categorical_crossentropy',\n",
    "                 metrics=['accuracy'])\n",
    "\n",
    "# Print the model summary\n",
    "model_v2.summary()"
   ]
  },
  {
   "cell_type": "markdown",
   "metadata": {
    "id": "siq1POkNiQPc",
    "jp-MarkdownHeadingCollapsed": true
   },
   "source": [
    "##### Task 5.1.3: Training and evaluating the model"
   ]
  },
  {
   "cell_type": "code",
   "execution_count": null,
   "metadata": {
    "colab": {
     "base_uri": "https://localhost:8080/"
    },
    "collapsed": true,
    "id": "vX7IcCKtiQPc",
    "jupyter": {
     "outputs_hidden": true
    },
    "outputId": "07d2576f-1f7e-4384-f723-019ea75204ff"
   },
   "outputs": [
    {
     "name": "stdout",
     "output_type": "stream",
     "text": [
      "Epoch 1/25\n",
      "\u001b[1m47/47\u001b[0m \u001b[32m━━━━━━━━━━━━━━━━━━━━\u001b[0m\u001b[37m\u001b[0m \u001b[1m34s\u001b[0m 354ms/step - accuracy: 0.2107 - loss: 3.8616 - val_accuracy: 0.1000 - val_loss: 4.1013\n",
      "Epoch 2/25\n",
      "\u001b[1m47/47\u001b[0m \u001b[32m━━━━━━━━━━━━━━━━━━━━\u001b[0m\u001b[37m\u001b[0m \u001b[1m2s\u001b[0m 43ms/step - accuracy: 0.4387 - loss: 2.8646 - val_accuracy: 0.1020 - val_loss: 5.4558\n",
      "Epoch 3/25\n",
      "\u001b[1m47/47\u001b[0m \u001b[32m━━━━━━━━━━━━━━━━━━━━\u001b[0m\u001b[37m\u001b[0m \u001b[1m2s\u001b[0m 41ms/step - accuracy: 0.4989 - loss: 2.6538 - val_accuracy: 0.1180 - val_loss: 6.5186\n",
      "Epoch 4/25\n",
      "\u001b[1m47/47\u001b[0m \u001b[32m━━━━━━━━━━━━━━━━━━━━\u001b[0m\u001b[37m\u001b[0m \u001b[1m2s\u001b[0m 41ms/step - accuracy: 0.5383 - loss: 2.4526 - val_accuracy: 0.1420 - val_loss: 5.6900\n",
      "Epoch 5/25\n",
      "\u001b[1m47/47\u001b[0m \u001b[32m━━━━━━━━━━━━━━━━━━━━\u001b[0m\u001b[37m\u001b[0m \u001b[1m2s\u001b[0m 41ms/step - accuracy: 0.5751 - loss: 2.3039 - val_accuracy: 0.1440 - val_loss: 6.0478\n",
      "Epoch 6/25\n",
      "\u001b[1m47/47\u001b[0m \u001b[32m━━━━━━━━━━━━━━━━━━━━\u001b[0m\u001b[37m\u001b[0m \u001b[1m2s\u001b[0m 41ms/step - accuracy: 0.5822 - loss: 2.2699 - val_accuracy: 0.1240 - val_loss: 5.7831\n",
      "Epoch 7/25\n",
      "\u001b[1m47/47\u001b[0m \u001b[32m━━━━━━━━━━━━━━━━━━━━\u001b[0m\u001b[37m\u001b[0m \u001b[1m2s\u001b[0m 41ms/step - accuracy: 0.6141 - loss: 2.1741 - val_accuracy: 0.2340 - val_loss: 4.4581\n",
      "Epoch 8/25\n",
      "\u001b[1m47/47\u001b[0m \u001b[32m━━━━━━━━━━━━━━━━━━━━\u001b[0m\u001b[37m\u001b[0m \u001b[1m2s\u001b[0m 44ms/step - accuracy: 0.6453 - loss: 2.0428 - val_accuracy: 0.3000 - val_loss: 3.6742\n",
      "Epoch 9/25\n",
      "\u001b[1m47/47\u001b[0m \u001b[32m━━━━━━━━━━━━━━━━━━━━\u001b[0m\u001b[37m\u001b[0m \u001b[1m2s\u001b[0m 40ms/step - accuracy: 0.6900 - loss: 1.9326 - val_accuracy: 0.3280 - val_loss: 3.5696\n",
      "Epoch 10/25\n",
      "\u001b[1m47/47\u001b[0m \u001b[32m━━━━━━━━━━━━━━━━━━━━\u001b[0m\u001b[37m\u001b[0m \u001b[1m2s\u001b[0m 40ms/step - accuracy: 0.6907 - loss: 1.8975 - val_accuracy: 0.3980 - val_loss: 3.3232\n",
      "Epoch 11/25\n",
      "\u001b[1m47/47\u001b[0m \u001b[32m━━━━━━━━━━━━━━━━━━━━\u001b[0m\u001b[37m\u001b[0m \u001b[1m2s\u001b[0m 40ms/step - accuracy: 0.7274 - loss: 1.8306 - val_accuracy: 0.4580 - val_loss: 2.7465\n",
      "Epoch 12/25\n",
      "\u001b[1m47/47\u001b[0m \u001b[32m━━━━━━━━━━━━━━━━━━━━\u001b[0m\u001b[37m\u001b[0m \u001b[1m2s\u001b[0m 40ms/step - accuracy: 0.7399 - loss: 1.7399 - val_accuracy: 0.4720 - val_loss: 2.5789\n",
      "Epoch 13/25\n",
      "\u001b[1m47/47\u001b[0m \u001b[32m━━━━━━━━━━━━━━━━━━━━\u001b[0m\u001b[37m\u001b[0m \u001b[1m2s\u001b[0m 40ms/step - accuracy: 0.7432 - loss: 1.7006 - val_accuracy: 0.6740 - val_loss: 1.9054\n",
      "Epoch 14/25\n",
      "\u001b[1m47/47\u001b[0m \u001b[32m━━━━━━━━━━━━━━━━━━━━\u001b[0m\u001b[37m\u001b[0m \u001b[1m2s\u001b[0m 43ms/step - accuracy: 0.7749 - loss: 1.6031 - val_accuracy: 0.6100 - val_loss: 2.1729\n",
      "Epoch 15/25\n",
      "\u001b[1m47/47\u001b[0m \u001b[32m━━━━━━━━━━━━━━━━━━━━\u001b[0m\u001b[37m\u001b[0m \u001b[1m2s\u001b[0m 41ms/step - accuracy: 0.8018 - loss: 1.5193 - val_accuracy: 0.6920 - val_loss: 1.8821\n",
      "Epoch 16/25\n",
      "\u001b[1m47/47\u001b[0m \u001b[32m━━━━━━━━━━━━━━━━━━━━\u001b[0m\u001b[37m\u001b[0m \u001b[1m2s\u001b[0m 41ms/step - accuracy: 0.8120 - loss: 1.4614 - val_accuracy: 0.6600 - val_loss: 1.9495\n",
      "Epoch 17/25\n",
      "\u001b[1m47/47\u001b[0m \u001b[32m━━━━━━━━━━━━━━━━━━━━\u001b[0m\u001b[37m\u001b[0m \u001b[1m2s\u001b[0m 40ms/step - accuracy: 0.7950 - loss: 1.4792 - val_accuracy: 0.7100 - val_loss: 1.7814\n",
      "Epoch 18/25\n",
      "\u001b[1m47/47\u001b[0m \u001b[32m━━━━━━━━━━━━━━━━━━━━\u001b[0m\u001b[37m\u001b[0m \u001b[1m2s\u001b[0m 40ms/step - accuracy: 0.8103 - loss: 1.3928 - val_accuracy: 0.7500 - val_loss: 1.7064\n",
      "Epoch 19/25\n",
      "\u001b[1m47/47\u001b[0m \u001b[32m━━━━━━━━━━━━━━━━━━━━\u001b[0m\u001b[37m\u001b[0m \u001b[1m2s\u001b[0m 40ms/step - accuracy: 0.8332 - loss: 1.3509 - val_accuracy: 0.7260 - val_loss: 1.7178\n",
      "Epoch 20/25\n",
      "\u001b[1m47/47\u001b[0m \u001b[32m━━━━━━━━━━━━━━━━━━━━\u001b[0m\u001b[37m\u001b[0m \u001b[1m2s\u001b[0m 43ms/step - accuracy: 0.8716 - loss: 1.2139 - val_accuracy: 0.6880 - val_loss: 1.8719\n",
      "Epoch 21/25\n",
      "\u001b[1m47/47\u001b[0m \u001b[32m━━━━━━━━━━━━━━━━━━━━\u001b[0m\u001b[37m\u001b[0m \u001b[1m2s\u001b[0m 41ms/step - accuracy: 0.8814 - loss: 1.1906 - val_accuracy: 0.7800 - val_loss: 1.5686\n",
      "Epoch 22/25\n",
      "\u001b[1m47/47\u001b[0m \u001b[32m━━━━━━━━━━━━━━━━━━━━\u001b[0m\u001b[37m\u001b[0m \u001b[1m2s\u001b[0m 41ms/step - accuracy: 0.8779 - loss: 1.1513 - val_accuracy: 0.7580 - val_loss: 1.6255\n",
      "Epoch 23/25\n",
      "\u001b[1m47/47\u001b[0m \u001b[32m━━━━━━━━━━━━━━━━━━━━\u001b[0m\u001b[37m\u001b[0m \u001b[1m2s\u001b[0m 40ms/step - accuracy: 0.8931 - loss: 1.0843 - val_accuracy: 0.7200 - val_loss: 1.7650\n",
      "Epoch 24/25\n",
      "\u001b[1m47/47\u001b[0m \u001b[32m━━━━━━━━━━━━━━━━━━━━\u001b[0m\u001b[37m\u001b[0m \u001b[1m2s\u001b[0m 41ms/step - accuracy: 0.9038 - loss: 1.0541 - val_accuracy: 0.7560 - val_loss: 1.5717\n",
      "Epoch 25/25\n",
      "\u001b[1m47/47\u001b[0m \u001b[32m━━━━━━━━━━━━━━━━━━━━\u001b[0m\u001b[37m\u001b[0m \u001b[1m2s\u001b[0m 41ms/step - accuracy: 0.9080 - loss: 1.0032 - val_accuracy: 0.7540 - val_loss: 1.5644\n",
      "\u001b[1m16/16\u001b[0m \u001b[32m━━━━━━━━━━━━━━━━━━━━\u001b[0m\u001b[37m\u001b[0m \u001b[1m3s\u001b[0m 112ms/step - accuracy: 0.7704 - loss: 1.5366\n",
      "Test Accuracy after optimizations: 75.40%\n"
     ]
    }
   ],
   "source": [
    "history_v2 = model_v2.fit(x_train_final, y_train_final,\n",
    "                          epochs=25,\n",
    "                          batch_size=64,\n",
    "                          validation_data=(x_test_final, y_test_final))\n",
    "\n",
    "# Evaluate the optimized model\n",
    "test_loss_v2, test_accuracy_v2 = model_v2.evaluate(x_test_final, y_test_final)\n",
    "\n",
    "print(f\"Test Accuracy after optimizations: {test_accuracy_v2 * 100:.2f}%\")"
   ]
  },
  {
   "cell_type": "markdown",
   "metadata": {
    "id": "kuy1y_eXiQPc",
    "jp-MarkdownHeadingCollapsed": true
   },
   "source": [
    "##### Task 5.1.4: Plotting the training and validation accuracy"
   ]
  },
  {
   "cell_type": "code",
   "execution_count": null,
   "metadata": {
    "colab": {
     "base_uri": "https://localhost:8080/",
     "height": 487
    },
    "id": "irhCDEwbiQPc",
    "outputId": "5c003da7-f05d-4ab8-df0d-56547f63edf9"
   },
   "outputs": [
    {
     "data": {
      "image/png": "[encoded data removed]",
      "text/plain": [
       "<Figure size 1200x500 with 2 Axes>"
      ]
     },
     "metadata": {},
     "output_type": "display_data"
    }
   ],
   "source": [
    "plt.figure(figsize=(12, 5))\n",
    "\n",
    "plt.subplot(1, 2, 1)\n",
    "plt.plot(history_v2.history['accuracy'], label='Train Accuracy')\n",
    "plt.plot(history_v2.history['val_accuracy'], label='Validation Accuracy')\n",
    "plt.xlabel('Epochs')\n",
    "plt.ylabel('Accuracy')\n",
    "plt.legend()\n",
    "plt.title('Training & Validation Accuracy (Optimized Model)')\n",
    "\n",
    "# Plot the training & validation loss\n",
    "plt.subplot(1, 2, 2)\n",
    "plt.plot(history_v2.history['loss'], label='Train Loss')\n",
    "plt.plot(history_v2.history['val_loss'], label='Validation Loss')\n",
    "plt.xlabel('Epochs')\n",
    "plt.ylabel('Loss')\n",
    "plt.legend()\n",
    "plt.title('Training & Validation Loss (Optimized Model)')\n",
    "\n",
    "plt.show()"
   ]
  },
  {
   "cell_type": "markdown",
   "metadata": {
    "id": "9hcfNfv5iQPc",
    "jp-MarkdownHeadingCollapsed": true
   },
   "source": [
    "#### Task 5.1. Conlusion:"
   ]
  },
  {
   "cell_type": "markdown",
   "metadata": {
    "id": "cdOpDjIgiQPc"
   },
   "source": [
    "<font color = green>The optimized CNN model achieved a test accuracy of 75.40%, marking a 4.2% improvement over the previous version. This enhancement can be attributed to several key modifications, including increased model depth, batch normalization, higher dropout rates, and L2 regularization, all of which contributed to better generalization and reduced overfitting. The addition of 512 and 256-unit dense layers further strengthened feature extraction, while a lower learning rate of 0.0005 allowed for more stable convergence."
   ]
  },
  {
   "cell_type": "markdown",
   "metadata": {
    "id": "p26wskkfiQPc"
   },
   "source": [
    "### Task 5.2: Use fewer or more convolutional/maxpooling layers and different shapes, what is the effect?"
   ]
  },
  {
   "cell_type": "markdown",
   "metadata": {
    "id": "q8y_nVu4h-9U",
    "jp-MarkdownHeadingCollapsed": true
   },
   "source": [
    "#### 5.2.1: Using a Simple CNN which is a model with fewer layers"
   ]
  },
  {
   "cell_type": "code",
   "execution_count": null,
   "metadata": {
    "colab": {
     "base_uri": "https://localhost:8080/"
    },
    "collapsed": true,
    "id": "-d7bZ0pEh9IO",
    "jupyter": {
     "outputs_hidden": true
    },
    "outputId": "73fb1528-75cb-41d5-cbb2-9cc9aad526f7"
   },
   "outputs": [
    {
     "name": "stdout",
     "output_type": "stream",
     "text": [
      "Epoch 1/25\n",
      "\u001b[1m47/47\u001b[0m \u001b[32m━━━━━━━━━━━━━━━━━━━━\u001b[0m\u001b[37m\u001b[0m \u001b[1m5s\u001b[0m 59ms/step - accuracy: 0.2275 - loss: 2.0703 - val_accuracy: 0.4840 - val_loss: 1.4479\n",
      "Epoch 2/25\n",
      "\u001b[1m47/47\u001b[0m \u001b[32m━━━━━━━━━━━━━━━━━━━━\u001b[0m\u001b[37m\u001b[0m \u001b[1m1s\u001b[0m 18ms/step - accuracy: 0.4417 - loss: 1.5268 - val_accuracy: 0.6080 - val_loss: 1.2066\n",
      "Epoch 3/25\n",
      "\u001b[1m47/47\u001b[0m \u001b[32m━━━━━━━━━━━━━━━━━━━━\u001b[0m\u001b[37m\u001b[0m \u001b[1m1s\u001b[0m 18ms/step - accuracy: 0.5362 - loss: 1.2925 - val_accuracy: 0.6300 - val_loss: 1.1242\n",
      "Epoch 4/25\n",
      "\u001b[1m47/47\u001b[0m \u001b[32m━━━━━━━━━━━━━━━━━━━━\u001b[0m\u001b[37m\u001b[0m \u001b[1m1s\u001b[0m 18ms/step - accuracy: 0.5886 - loss: 1.1349 - val_accuracy: 0.6500 - val_loss: 1.0242\n",
      "Epoch 5/25\n",
      "\u001b[1m47/47\u001b[0m \u001b[32m━━━━━━━━━━━━━━━━━━━━\u001b[0m\u001b[37m\u001b[0m \u001b[1m1s\u001b[0m 18ms/step - accuracy: 0.6341 - loss: 1.0291 - val_accuracy: 0.6600 - val_loss: 0.9727\n",
      "Epoch 6/25\n",
      "\u001b[1m47/47\u001b[0m \u001b[32m━━━━━━━━━━━━━━━━━━━━\u001b[0m\u001b[37m\u001b[0m \u001b[1m1s\u001b[0m 18ms/step - accuracy: 0.6505 - loss: 0.9973 - val_accuracy: 0.6640 - val_loss: 0.9539\n",
      "Epoch 7/25\n",
      "\u001b[1m47/47\u001b[0m \u001b[32m━━━━━━━━━━━━━━━━━━━━\u001b[0m\u001b[37m\u001b[0m \u001b[1m1s\u001b[0m 18ms/step - accuracy: 0.6476 - loss: 0.9296 - val_accuracy: 0.6720 - val_loss: 0.9609\n",
      "Epoch 8/25\n",
      "\u001b[1m47/47\u001b[0m \u001b[32m━━━━━━━━━━━━━━━━━━━━\u001b[0m\u001b[37m\u001b[0m \u001b[1m1s\u001b[0m 18ms/step - accuracy: 0.6789 - loss: 0.8764 - val_accuracy: 0.7000 - val_loss: 0.8861\n",
      "Epoch 9/25\n",
      "\u001b[1m47/47\u001b[0m \u001b[32m━━━━━━━━━━━━━━━━━━━━\u001b[0m\u001b[37m\u001b[0m \u001b[1m1s\u001b[0m 18ms/step - accuracy: 0.7218 - loss: 0.7968 - val_accuracy: 0.6780 - val_loss: 0.8642\n",
      "Epoch 10/25\n",
      "\u001b[1m47/47\u001b[0m \u001b[32m━━━━━━━━━━━━━━━━━━━━\u001b[0m\u001b[37m\u001b[0m \u001b[1m1s\u001b[0m 18ms/step - accuracy: 0.7258 - loss: 0.7509 - val_accuracy: 0.6800 - val_loss: 0.8629\n",
      "Epoch 11/25\n",
      "\u001b[1m47/47\u001b[0m \u001b[32m━━━━━━━━━━━━━━━━━━━━\u001b[0m\u001b[37m\u001b[0m \u001b[1m1s\u001b[0m 19ms/step - accuracy: 0.7788 - loss: 0.6524 - val_accuracy: 0.6980 - val_loss: 0.8723\n",
      "Epoch 12/25\n",
      "\u001b[1m47/47\u001b[0m \u001b[32m━━━━━━━━━━━━━━━━━━━━\u001b[0m\u001b[37m\u001b[0m \u001b[1m1s\u001b[0m 21ms/step - accuracy: 0.7800 - loss: 0.6204 - val_accuracy: 0.6920 - val_loss: 0.8356\n",
      "Epoch 13/25\n",
      "\u001b[1m47/47\u001b[0m \u001b[32m━━━━━━━━━━━━━━━━━━━━\u001b[0m\u001b[37m\u001b[0m \u001b[1m1s\u001b[0m 21ms/step - accuracy: 0.7862 - loss: 0.6141 - val_accuracy: 0.6800 - val_loss: 0.8457\n",
      "Epoch 14/25\n",
      "\u001b[1m47/47\u001b[0m \u001b[32m━━━━━━━━━━━━━━━━━━━━\u001b[0m\u001b[37m\u001b[0m \u001b[1m1s\u001b[0m 19ms/step - accuracy: 0.8001 - loss: 0.5334 - val_accuracy: 0.6860 - val_loss: 0.8877\n",
      "Epoch 15/25\n",
      "\u001b[1m47/47\u001b[0m \u001b[32m━━━━━━━━━━━━━━━━━━━━\u001b[0m\u001b[37m\u001b[0m \u001b[1m1s\u001b[0m 18ms/step - accuracy: 0.8049 - loss: 0.5344 - val_accuracy: 0.6880 - val_loss: 0.8662\n",
      "Epoch 16/25\n",
      "\u001b[1m47/47\u001b[0m \u001b[32m━━━━━━━━━━━━━━━━━━━━\u001b[0m\u001b[37m\u001b[0m \u001b[1m1s\u001b[0m 18ms/step - accuracy: 0.8273 - loss: 0.4697 - val_accuracy: 0.6840 - val_loss: 0.8896\n",
      "Epoch 17/25\n",
      "\u001b[1m47/47\u001b[0m \u001b[32m━━━━━━━━━━━━━━━━━━━━\u001b[0m\u001b[37m\u001b[0m \u001b[1m1s\u001b[0m 19ms/step - accuracy: 0.8470 - loss: 0.4270 - val_accuracy: 0.6900 - val_loss: 0.8625\n",
      "Epoch 18/25\n",
      "\u001b[1m47/47\u001b[0m \u001b[32m━━━━━━━━━━━━━━━━━━━━\u001b[0m\u001b[37m\u001b[0m \u001b[1m1s\u001b[0m 19ms/step - accuracy: 0.8751 - loss: 0.3762 - val_accuracy: 0.6960 - val_loss: 0.9254\n",
      "Epoch 19/25\n",
      "\u001b[1m47/47\u001b[0m \u001b[32m━━━━━━━━━━━━━━━━━━━━\u001b[0m\u001b[37m\u001b[0m \u001b[1m1s\u001b[0m 19ms/step - accuracy: 0.8723 - loss: 0.3675 - val_accuracy: 0.7080 - val_loss: 0.9518\n",
      "Epoch 20/25\n",
      "\u001b[1m47/47\u001b[0m \u001b[32m━━━━━━━━━━━━━━━━━━━━\u001b[0m\u001b[37m\u001b[0m \u001b[1m1s\u001b[0m 19ms/step - accuracy: 0.8944 - loss: 0.3288 - val_accuracy: 0.6980 - val_loss: 0.9751\n",
      "Epoch 21/25\n",
      "\u001b[1m47/47\u001b[0m \u001b[32m━━━━━━━━━━━━━━━━━━━━\u001b[0m\u001b[37m\u001b[0m \u001b[1m1s\u001b[0m 19ms/step - accuracy: 0.8976 - loss: 0.2935 - val_accuracy: 0.7020 - val_loss: 0.9093\n",
      "Epoch 22/25\n",
      "\u001b[1m47/47\u001b[0m \u001b[32m━━━━━━━━━━━━━━━━━━━━\u001b[0m\u001b[37m\u001b[0m \u001b[1m1s\u001b[0m 19ms/step - accuracy: 0.9087 - loss: 0.2657 - val_accuracy: 0.6800 - val_loss: 0.9594\n",
      "Epoch 23/25\n",
      "\u001b[1m47/47\u001b[0m \u001b[32m━━━━━━━━━━━━━━━━━━━━\u001b[0m\u001b[37m\u001b[0m \u001b[1m1s\u001b[0m 18ms/step - accuracy: 0.9193 - loss: 0.2400 - val_accuracy: 0.6840 - val_loss: 0.9565\n",
      "Epoch 24/25\n",
      "\u001b[1m47/47\u001b[0m \u001b[32m━━━━━━━━━━━━━━━━━━━━\u001b[0m\u001b[37m\u001b[0m \u001b[1m1s\u001b[0m 18ms/step - accuracy: 0.9288 - loss: 0.2296 - val_accuracy: 0.6900 - val_loss: 0.9849\n",
      "Epoch 25/25\n",
      "\u001b[1m47/47\u001b[0m \u001b[32m━━━━━━━━━━━━━━━━━━━━\u001b[0m\u001b[37m\u001b[0m \u001b[1m1s\u001b[0m 21ms/step - accuracy: 0.9296 - loss: 0.2208 - val_accuracy: 0.7080 - val_loss: 0.9675\n",
      "\u001b[1m16/16\u001b[0m \u001b[32m━━━━━━━━━━━━━━━━━━━━\u001b[0m\u001b[37m\u001b[0m \u001b[1m1s\u001b[0m 34ms/step - accuracy: 0.7564 - loss: 0.7894\n",
      "Test Accuracy (Shallow Model): 70.80%\n",
      "Training Time: 27.06 seconds\n"
     ]
    }
   ],
   "source": [
    "# Define a shallower CNN model\n",
    "model_simple = models.Sequential([\n",
    "    layers.Input(shape=(32, 32, 3)),  # Input layer defining the shape of input images\n",
    "\n",
    "    # First Convolutional Block (Reduced Filters)\n",
    "    layers.Conv2D(32, (3, 3), activation='relu', padding='same'),  # Convolution layer with 32 filters\n",
    "    layers.MaxPooling2D((2, 2)),  # Downsampling to reduce spatial dimensions\n",
    "\n",
    "    # Second Convolutional Block\n",
    "    layers.Conv2D(64, (3, 3), activation='relu', padding='same'),  # Convolution layer with 64 filters\n",
    "    layers.MaxPooling2D((2, 2)),  # Downsampling\n",
    "\n",
    "    # Fully Connected Layers\n",
    "    layers.Flatten(),  # Flatten feature maps into a 1D vector\n",
    "    layers.Dense(128, activation='relu'),  # Dense layer with 128 neurons\n",
    "    layers.Dropout(0.3),  # Dropout for regularization\n",
    "    layers.Dense(10, activation='softmax')  # Output layer with 10 classes using softmax activation\n",
    "])\n",
    "\n",
    "# Compile the model with Adam optimizer and categorical cross-entropy loss\n",
    "model_simple.compile(optimizer='adam',\n",
    "                     loss='categorical_crossentropy',\n",
    "                     metrics=['accuracy'])\n",
    "\n",
    "# Record the start time for training\n",
    "start_time = time.time()\n",
    "\n",
    "# Train the shallow model\n",
    "history_simple = model_simple.fit(x_train_final, y_train_final,\n",
    "                                  epochs=25,  # Train for 25 epochs\n",
    "                                  batch_size=64,  # Mini-batch size of 64\n",
    "                                  validation_data=(x_test_final, y_test_final))  # Validate on test set\n",
    "\n",
    "# Record the end time after training\n",
    "end_time = time.time()\n",
    "\n",
    "# Evaluate the trained model on the test set\n",
    "test_loss_simple, test_accuracy_simple = model_simple.evaluate(x_test_final, y_test_final)\n",
    "print(f\"Test Accuracy (Shallow Model): {test_accuracy_simple * 100:.2f}%\")  # Print test accuracy\n",
    "\n",
    "# Calculate and display the total training time\n",
    "training_time = end_time - start_time\n",
    "print(f\"Training Time: {training_time:.2f} seconds\")"
   ]
  },
  {
   "cell_type": "markdown",
   "metadata": {
    "id": "dBZ0i3DSlNKJ",
    "jp-MarkdownHeadingCollapsed": true
   },
   "source": [
    "#### Task 5.2.1 Conclusion:"
   ]
  },
  {
   "cell_type": "markdown",
   "metadata": {
    "id": "oHJOMvsClZVV"
   },
   "source": [
    "<font color = green>The shallow CNN model achieved a test accuracy of 70.80%, which is lower than the 75.40% attained by the deeper, optimized model. This drop in accuracy is expected, as the simpler architecture has fewer convolutional layers i.e. only two blocks, reduced filter sizes i.e. max 64 filters, and a single dense layer i.e. 128 neurons. However, it trained significantly faster which is in 27.06 seconds, making it computationally more efficient. While this model is quicker, it lacks the depth and complexity needed to extract richer hierarchical features from the image data. The absence of batch normalization and L2 regularization may have also contributed to slightly lower generalization performance. However, for scenarios requiring faster training with limited computational resources, this shallower model still provides a reasonable baseline. "
   ]
  },
  {
   "cell_type": "markdown",
   "metadata": {
    "id": "_BvS4MbBkyOd"
   },
   "source": [
    "### Task 5.2.2: Using a Deeper CNN which is a model with more layers"
   ]
  },
  {
   "cell_type": "code",
   "execution_count": null,
   "metadata": {
    "colab": {
     "base_uri": "https://localhost:8080/"
    },
    "collapsed": true,
    "id": "Z2C1o5f5iSQh",
    "jupyter": {
     "outputs_hidden": true,
     "source_hidden": true
    },
    "outputId": "9d488262-bf22-493d-c8ef-a1031eeeb277"
   },
   "outputs": [
    {
     "name": "stdout",
     "output_type": "stream",
     "text": [
      "Epoch 1/25\n",
      "\u001b[1m47/47\u001b[0m \u001b[32m━━━━━━━━━━━━━━━━━━━━\u001b[0m\u001b[37m\u001b[0m \u001b[1m11s\u001b[0m 121ms/step - accuracy: 0.1636 - loss: 2.2269 - val_accuracy: 0.2900 - val_loss: 1.8000\n",
      "Epoch 2/25\n",
      "\u001b[1m47/47\u001b[0m \u001b[32m━━━━━━━━━━━━━━━━━━━━\u001b[0m\u001b[37m\u001b[0m \u001b[1m2s\u001b[0m 35ms/step - accuracy: 0.2936 - loss: 1.7587 - val_accuracy: 0.3680 - val_loss: 1.5648\n",
      "Epoch 3/25\n",
      "\u001b[1m47/47\u001b[0m \u001b[32m━━━━━━━━━━━━━━━━━━━━\u001b[0m\u001b[37m\u001b[0m \u001b[1m1s\u001b[0m 29ms/step - accuracy: 0.3950 - loss: 1.5821 - val_accuracy: 0.5220 - val_loss: 1.3482\n",
      "Epoch 4/25\n",
      "\u001b[1m47/47\u001b[0m \u001b[32m━━━━━━━━━━━━━━━━━━━━\u001b[0m\u001b[37m\u001b[0m \u001b[1m1s\u001b[0m 30ms/step - accuracy: 0.4453 - loss: 1.4440 - val_accuracy: 0.5020 - val_loss: 1.3415\n",
      "Epoch 5/25\n",
      "\u001b[1m47/47\u001b[0m \u001b[32m━━━━━━━━━━━━━━━━━━━━\u001b[0m\u001b[37m\u001b[0m \u001b[1m2s\u001b[0m 38ms/step - accuracy: 0.4941 - loss: 1.3373 - val_accuracy: 0.5200 - val_loss: 1.2124\n",
      "Epoch 6/25\n",
      "\u001b[1m47/47\u001b[0m \u001b[32m━━━━━━━━━━━━━━━━━━━━\u001b[0m\u001b[37m\u001b[0m \u001b[1m2s\u001b[0m 33ms/step - accuracy: 0.5548 - loss: 1.2117 - val_accuracy: 0.5920 - val_loss: 1.1434\n",
      "Epoch 7/25\n",
      "\u001b[1m47/47\u001b[0m \u001b[32m━━━━━━━━━━━━━━━━━━━━\u001b[0m\u001b[37m\u001b[0m \u001b[1m2s\u001b[0m 32ms/step - accuracy: 0.6037 - loss: 1.0951 - val_accuracy: 0.6380 - val_loss: 0.9871\n",
      "Epoch 8/25\n",
      "\u001b[1m47/47\u001b[0m \u001b[32m━━━━━━━━━━━━━━━━━━━━\u001b[0m\u001b[37m\u001b[0m \u001b[1m1s\u001b[0m 28ms/step - accuracy: 0.6423 - loss: 0.9914 - val_accuracy: 0.6560 - val_loss: 0.9942\n",
      "Epoch 9/25\n",
      "\u001b[1m47/47\u001b[0m \u001b[32m━━━━━━━━━━━━━━━━━━━━\u001b[0m\u001b[37m\u001b[0m \u001b[1m1s\u001b[0m 28ms/step - accuracy: 0.6441 - loss: 0.9410 - val_accuracy: 0.6620 - val_loss: 0.9266\n",
      "Epoch 10/25\n",
      "\u001b[1m47/47\u001b[0m \u001b[32m━━━━━━━━━━━━━━━━━━━━\u001b[0m\u001b[37m\u001b[0m \u001b[1m1s\u001b[0m 28ms/step - accuracy: 0.6846 - loss: 0.8637 - val_accuracy: 0.6680 - val_loss: 0.9319\n",
      "Epoch 11/25\n",
      "\u001b[1m47/47\u001b[0m \u001b[32m━━━━━━━━━━━━━━━━━━━━\u001b[0m\u001b[37m\u001b[0m \u001b[1m1s\u001b[0m 28ms/step - accuracy: 0.7092 - loss: 0.7798 - val_accuracy: 0.7200 - val_loss: 0.8622\n",
      "Epoch 12/25\n",
      "\u001b[1m47/47\u001b[0m \u001b[32m━━━━━━━━━━━━━━━━━━━━\u001b[0m\u001b[37m\u001b[0m \u001b[1m1s\u001b[0m 28ms/step - accuracy: 0.7485 - loss: 0.6621 - val_accuracy: 0.6920 - val_loss: 0.8841\n",
      "Epoch 13/25\n",
      "\u001b[1m47/47\u001b[0m \u001b[32m━━━━━━━━━━━━━━━━━━━━\u001b[0m\u001b[37m\u001b[0m \u001b[1m1s\u001b[0m 29ms/step - accuracy: 0.7956 - loss: 0.5730 - val_accuracy: 0.7060 - val_loss: 0.8525\n",
      "Epoch 14/25\n",
      "\u001b[1m47/47\u001b[0m \u001b[32m━━━━━━━━━━━━━━━━━━━━\u001b[0m\u001b[37m\u001b[0m \u001b[1m1s\u001b[0m 31ms/step - accuracy: 0.8151 - loss: 0.5140 - val_accuracy: 0.6680 - val_loss: 0.9536\n",
      "Epoch 15/25\n",
      "\u001b[1m47/47\u001b[0m \u001b[32m━━━━━━━━━━━━━━━━━━━━\u001b[0m\u001b[37m\u001b[0m \u001b[1m1s\u001b[0m 28ms/step - accuracy: 0.8352 - loss: 0.4611 - val_accuracy: 0.6940 - val_loss: 0.9166\n",
      "Epoch 16/25\n",
      "\u001b[1m47/47\u001b[0m \u001b[32m━━━━━━━━━━━━━━━━━━━━\u001b[0m\u001b[37m\u001b[0m \u001b[1m1s\u001b[0m 28ms/step - accuracy: 0.8444 - loss: 0.3860 - val_accuracy: 0.6780 - val_loss: 1.1224\n",
      "Epoch 17/25\n",
      "\u001b[1m47/47\u001b[0m \u001b[32m━━━━━━━━━━━━━━━━━━━━\u001b[0m\u001b[37m\u001b[0m \u001b[1m1s\u001b[0m 28ms/step - accuracy: 0.8615 - loss: 0.3571 - val_accuracy: 0.7180 - val_loss: 1.1047\n",
      "Epoch 18/25\n",
      "\u001b[1m47/47\u001b[0m \u001b[32m━━━━━━━━━━━━━━━━━━━━\u001b[0m\u001b[37m\u001b[0m \u001b[1m1s\u001b[0m 28ms/step - accuracy: 0.8890 - loss: 0.3041 - val_accuracy: 0.7140 - val_loss: 1.0392\n",
      "Epoch 19/25\n",
      "\u001b[1m47/47\u001b[0m \u001b[32m━━━━━━━━━━━━━━━━━━━━\u001b[0m\u001b[37m\u001b[0m \u001b[1m1s\u001b[0m 28ms/step - accuracy: 0.9344 - loss: 0.1985 - val_accuracy: 0.7120 - val_loss: 1.1193\n",
      "Epoch 20/25\n",
      "\u001b[1m47/47\u001b[0m \u001b[32m━━━━━━━━━━━━━━━━━━━━\u001b[0m\u001b[37m\u001b[0m \u001b[1m1s\u001b[0m 28ms/step - accuracy: 0.9367 - loss: 0.1827 - val_accuracy: 0.7140 - val_loss: 1.2851\n",
      "Epoch 21/25\n",
      "\u001b[1m47/47\u001b[0m \u001b[32m━━━━━━━━━━━━━━━━━━━━\u001b[0m\u001b[37m\u001b[0m \u001b[1m1s\u001b[0m 28ms/step - accuracy: 0.9071 - loss: 0.2393 - val_accuracy: 0.7280 - val_loss: 1.4354\n",
      "Epoch 22/25\n",
      "\u001b[1m47/47\u001b[0m \u001b[32m━━━━━━━━━━━━━━━━━━━━\u001b[0m\u001b[37m\u001b[0m \u001b[1m1s\u001b[0m 30ms/step - accuracy: 0.9362 - loss: 0.1789 - val_accuracy: 0.7060 - val_loss: 1.2300\n",
      "Epoch 23/25\n",
      "\u001b[1m47/47\u001b[0m \u001b[32m━━━━━━━━━━━━━━━━━━━━\u001b[0m\u001b[37m\u001b[0m \u001b[1m1s\u001b[0m 30ms/step - accuracy: 0.9589 - loss: 0.1289 - val_accuracy: 0.6980 - val_loss: 1.2968\n",
      "Epoch 24/25\n",
      "\u001b[1m47/47\u001b[0m \u001b[32m━━━━━━━━━━━━━━━━━━━━\u001b[0m\u001b[37m\u001b[0m \u001b[1m1s\u001b[0m 28ms/step - accuracy: 0.9509 - loss: 0.1371 - val_accuracy: 0.7100 - val_loss: 1.6678\n",
      "Epoch 25/25\n",
      "\u001b[1m47/47\u001b[0m \u001b[32m━━━━━━━━━━━━━━━━━━━━\u001b[0m\u001b[37m\u001b[0m \u001b[1m1s\u001b[0m 28ms/step - accuracy: 0.9581 - loss: 0.1151 - val_accuracy: 0.7200 - val_loss: 1.5761\n",
      "\u001b[1m16/16\u001b[0m \u001b[32m━━━━━━━━━━━━━━━━━━━━\u001b[0m\u001b[37m\u001b[0m \u001b[1m1s\u001b[0m 37ms/step - accuracy: 0.7503 - loss: 1.3558\n",
      "Test Accuracy (Deeper Model): 72.00%\n",
      "Training Time: 45.41 seconds\n"
     ]
    }
   ],
   "source": [
    "# Define a deeper CNN model\n",
    "model_deep = models.Sequential([\n",
    "    layers.Input(shape=(32, 32, 3)),  # Input layer\n",
    "\n",
    "    # First Conv Block\n",
    "    layers.Conv2D(64, (3, 3), activation='relu', padding='same'),\n",
    "    layers.Conv2D(64, (3, 3), activation='relu', padding='same'),\n",
    "    layers.MaxPooling2D((2, 2)),\n",
    "\n",
    "    # Second Conv Block\n",
    "    layers.Conv2D(128, (3, 3), activation='relu', padding='same'),\n",
    "    layers.Conv2D(128, (3, 3), activation='relu', padding='same'),\n",
    "    layers.MaxPooling2D((2, 2)),\n",
    "\n",
    "    # Third Conv Block\n",
    "    layers.Conv2D(256, (3, 3), activation='relu', padding='same'),\n",
    "    layers.Conv2D(256, (3, 3), activation='relu', padding='same'),\n",
    "    layers.MaxPooling2D((2, 2)),\n",
    "\n",
    "    layers.Flatten(),\n",
    "    layers.Dense(512, activation='relu'),\n",
    "    layers.Dropout(0.4),\n",
    "    layers.Dense(10, activation='softmax')  # 10 classes\n",
    "])\n",
    "\n",
    "# Compile the deeper model\n",
    "model_deep.compile(optimizer='adam',\n",
    "                   loss='categorical_crossentropy',\n",
    "                   metrics=['accuracy'])\n",
    "\n",
    "start_time = time.time()\n",
    "\n",
    "# Train the deep model\n",
    "history_deep = model_deep.fit(x_train_final, y_train_final,\n",
    "                              epochs=25,\n",
    "                              batch_size=64,\n",
    "                              validation_data=(x_test_final, y_test_final))\n",
    "\n",
    "end_time = time.time()\n",
    "\n",
    "# Evaluate\n",
    "test_loss_deep, test_accuracy_deep = model_deep.evaluate(x_test_final, y_test_final)\n",
    "print(f\"Test Accuracy (Deeper Model): {test_accuracy_deep * 100:.2f}%\")\n",
    "\n",
    "# Calculate training time\n",
    "training_time = end_time - start_time\n",
    "print(f\"Training Time: {training_time:.2f} seconds\")"
   ]
  },
  {
   "cell_type": "markdown",
   "metadata": {
    "id": "Hn5Rs49flk_e",
    "jp-MarkdownHeadingCollapsed": true
   },
   "source": [
    "### Task 5.2.2: Conclusion"
   ]
  },
  {
   "cell_type": "markdown",
   "metadata": {
    "id": "qOcWxZ4yllqQ"
   },
   "source": [
    "<font color = green>The deeper CNN model achieved a test accuracy of 72.00%, which is an improvement over the shallow model (70.00%) but still lower than the optimized CNN model (75.40%). This suggests that while adding more convolutional layers improves feature extraction, the model may not be fully optimized for generalization. One possible reason for this could be the absence of batch normalization and L2 regularization, which help stabilize training and reduce overfitting. Additionally, the training time of 45.41 seconds indicates that the model is computationally more expensive than the shallow version."
   ]
  },
  {
   "cell_type": "markdown",
   "metadata": {
    "id": "2oUiP-7il3Vr"
   },
   "source": [
    "### Task 5.3: Experiment with different activation functions in the inner layers and in the convolutional layers (relu, sigmoid, softmask, etc), see the list of keras activations at https://keras.io/api/layers/activations/"
   ]
  },
  {
   "cell_type": "markdown",
   "metadata": {
    "id": "_OLvoVT2Ygm7"
   },
   "source": [
    "#### Task 5.3.1: Experimenting with Relu activation function"
   ]
  },
  {
   "cell_type": "code",
   "execution_count": null,
   "metadata": {
    "colab": {
     "base_uri": "https://localhost:8080/"
    },
    "collapsed": true,
    "id": "7qZ52c99YiYr",
    "jupyter": {
     "outputs_hidden": true,
     "source_hidden": true
    },
    "outputId": "f11331ab-270f-4943-e52a-ad8a842b9114"
   },
   "outputs": [
    {
     "name": "stdout",
     "output_type": "stream",
     "text": [
      "Epoch 1/25\n",
      "\u001b[1m47/47\u001b[0m \u001b[32m━━━━━━━━━━━━━━━━━━━━\u001b[0m\u001b[37m\u001b[0m \u001b[1m6s\u001b[0m 64ms/step - accuracy: 0.2262 - loss: 2.0570 - val_accuracy: 0.3760 - val_loss: 1.6393\n",
      "Epoch 2/25\n",
      "\u001b[1m47/47\u001b[0m \u001b[32m━━━━━━━━━━━━━━━━━━━━\u001b[0m\u001b[37m\u001b[0m \u001b[1m1s\u001b[0m 23ms/step - accuracy: 0.3902 - loss: 1.5676 - val_accuracy: 0.5700 - val_loss: 1.1890\n",
      "Epoch 3/25\n",
      "\u001b[1m47/47\u001b[0m \u001b[32m━━━━━━━━━━━━━━━━━━━━\u001b[0m\u001b[37m\u001b[0m \u001b[1m1s\u001b[0m 21ms/step - accuracy: 0.5351 - loss: 1.2591 - val_accuracy: 0.5960 - val_loss: 1.1369\n",
      "Epoch 4/25\n",
      "\u001b[1m47/47\u001b[0m \u001b[32m━━━━━━━━━━━━━━━━━━━━\u001b[0m\u001b[37m\u001b[0m \u001b[1m1s\u001b[0m 21ms/step - accuracy: 0.6010 - loss: 1.0690 - val_accuracy: 0.6440 - val_loss: 1.0203\n",
      "Epoch 5/25\n",
      "\u001b[1m47/47\u001b[0m \u001b[32m━━━━━━━━━━━━━━━━━━━━\u001b[0m\u001b[37m\u001b[0m \u001b[1m1s\u001b[0m 21ms/step - accuracy: 0.6428 - loss: 0.9742 - val_accuracy: 0.6400 - val_loss: 0.9650\n",
      "Epoch 6/25\n",
      "\u001b[1m47/47\u001b[0m \u001b[32m━━━━━━━━━━━━━━━━━━━━\u001b[0m\u001b[37m\u001b[0m \u001b[1m1s\u001b[0m 21ms/step - accuracy: 0.6745 - loss: 0.8482 - val_accuracy: 0.6760 - val_loss: 0.8961\n",
      "Epoch 7/25\n",
      "\u001b[1m47/47\u001b[0m \u001b[32m━━━━━━━━━━━━━━━━━━━━\u001b[0m\u001b[37m\u001b[0m \u001b[1m1s\u001b[0m 21ms/step - accuracy: 0.7363 - loss: 0.7386 - val_accuracy: 0.6940 - val_loss: 0.8910\n",
      "Epoch 8/25\n",
      "\u001b[1m47/47\u001b[0m \u001b[32m━━━━━━━━━━━━━━━━━━━━\u001b[0m\u001b[37m\u001b[0m \u001b[1m1s\u001b[0m 22ms/step - accuracy: 0.7782 - loss: 0.6157 - val_accuracy: 0.6340 - val_loss: 1.1008\n",
      "Epoch 9/25\n",
      "\u001b[1m47/47\u001b[0m \u001b[32m━━━━━━━━━━━━━━━━━━━━\u001b[0m\u001b[37m\u001b[0m \u001b[1m1s\u001b[0m 23ms/step - accuracy: 0.7977 - loss: 0.5530 - val_accuracy: 0.6960 - val_loss: 0.9254\n",
      "Epoch 10/25\n",
      "\u001b[1m47/47\u001b[0m \u001b[32m━━━━━━━━━━━━━━━━━━━━\u001b[0m\u001b[37m\u001b[0m \u001b[1m1s\u001b[0m 21ms/step - accuracy: 0.8504 - loss: 0.4197 - val_accuracy: 0.6780 - val_loss: 0.9624\n",
      "Epoch 11/25\n",
      "\u001b[1m47/47\u001b[0m \u001b[32m━━━━━━━━━━━━━━━━━━━━\u001b[0m\u001b[37m\u001b[0m \u001b[1m1s\u001b[0m 21ms/step - accuracy: 0.8470 - loss: 0.4100 - val_accuracy: 0.7320 - val_loss: 0.9002\n",
      "Epoch 12/25\n",
      "\u001b[1m47/47\u001b[0m \u001b[32m━━━━━━━━━━━━━━━━━━━━\u001b[0m\u001b[37m\u001b[0m \u001b[1m1s\u001b[0m 21ms/step - accuracy: 0.9156 - loss: 0.2409 - val_accuracy: 0.6920 - val_loss: 1.0761\n",
      "Epoch 13/25\n",
      "\u001b[1m47/47\u001b[0m \u001b[32m━━━━━━━━━━━━━━━━━━━━\u001b[0m\u001b[37m\u001b[0m \u001b[1m1s\u001b[0m 21ms/step - accuracy: 0.9376 - loss: 0.1867 - val_accuracy: 0.6960 - val_loss: 1.0580\n",
      "Epoch 14/25\n",
      "\u001b[1m47/47\u001b[0m \u001b[32m━━━━━━━━━━━━━━━━━━━━\u001b[0m\u001b[37m\u001b[0m \u001b[1m1s\u001b[0m 20ms/step - accuracy: 0.9365 - loss: 0.1793 - val_accuracy: 0.7180 - val_loss: 1.0419\n",
      "Epoch 15/25\n",
      "\u001b[1m47/47\u001b[0m \u001b[32m━━━━━━━━━━━━━━━━━━━━\u001b[0m\u001b[37m\u001b[0m \u001b[1m1s\u001b[0m 21ms/step - accuracy: 0.9546 - loss: 0.1396 - val_accuracy: 0.7400 - val_loss: 1.1145\n",
      "Epoch 16/25\n",
      "\u001b[1m47/47\u001b[0m \u001b[32m━━━━━━━━━━━━━━━━━━━━\u001b[0m\u001b[37m\u001b[0m \u001b[1m1s\u001b[0m 21ms/step - accuracy: 0.9742 - loss: 0.0807 - val_accuracy: 0.7480 - val_loss: 1.0790\n",
      "Epoch 17/25\n",
      "\u001b[1m47/47\u001b[0m \u001b[32m━━━━━━━━━━━━━━━━━━━━\u001b[0m\u001b[37m\u001b[0m \u001b[1m1s\u001b[0m 20ms/step - accuracy: 0.9623 - loss: 0.0996 - val_accuracy: 0.7380 - val_loss: 1.2609\n",
      "Epoch 18/25\n",
      "\u001b[1m47/47\u001b[0m \u001b[32m━━━━━━━━━━━━━━━━━━━━\u001b[0m\u001b[37m\u001b[0m \u001b[1m1s\u001b[0m 21ms/step - accuracy: 0.9744 - loss: 0.0826 - val_accuracy: 0.7300 - val_loss: 1.2733\n",
      "Epoch 19/25\n",
      "\u001b[1m47/47\u001b[0m \u001b[32m━━━━━━━━━━━━━━━━━━━━\u001b[0m\u001b[37m\u001b[0m \u001b[1m1s\u001b[0m 21ms/step - accuracy: 0.9942 - loss: 0.0319 - val_accuracy: 0.7400 - val_loss: 1.3316\n",
      "Epoch 20/25\n",
      "\u001b[1m47/47\u001b[0m \u001b[32m━━━━━━━━━━━━━━━━━━━━\u001b[0m\u001b[37m\u001b[0m \u001b[1m1s\u001b[0m 23ms/step - accuracy: 0.9967 - loss: 0.0224 - val_accuracy: 0.7500 - val_loss: 1.3371\n",
      "Epoch 21/25\n",
      "\u001b[1m47/47\u001b[0m \u001b[32m━━━━━━━━━━━━━━━━━━━━\u001b[0m\u001b[37m\u001b[0m \u001b[1m1s\u001b[0m 22ms/step - accuracy: 0.9985 - loss: 0.0138 - val_accuracy: 0.7420 - val_loss: 1.4032\n",
      "Epoch 22/25\n",
      "\u001b[1m47/47\u001b[0m \u001b[32m━━━━━━━━━━━━━━━━━━━━\u001b[0m\u001b[37m\u001b[0m \u001b[1m1s\u001b[0m 21ms/step - accuracy: 1.0000 - loss: 0.0073 - val_accuracy: 0.7420 - val_loss: 1.5190\n",
      "Epoch 23/25\n",
      "\u001b[1m47/47\u001b[0m \u001b[32m━━━━━━━━━━━━━━━━━━━━\u001b[0m\u001b[37m\u001b[0m \u001b[1m1s\u001b[0m 21ms/step - accuracy: 1.0000 - loss: 0.0045 - val_accuracy: 0.7380 - val_loss: 1.6150\n",
      "Epoch 24/25\n",
      "\u001b[1m47/47\u001b[0m \u001b[32m━━━━━━━━━━━━━━━━━━━━\u001b[0m\u001b[37m\u001b[0m \u001b[1m1s\u001b[0m 21ms/step - accuracy: 1.0000 - loss: 0.0024 - val_accuracy: 0.7480 - val_loss: 1.6247\n",
      "Epoch 25/25\n",
      "\u001b[1m47/47\u001b[0m \u001b[32m━━━━━━━━━━━━━━━━━━━━\u001b[0m\u001b[37m\u001b[0m \u001b[1m1s\u001b[0m 20ms/step - accuracy: 1.0000 - loss: 0.0016 - val_accuracy: 0.7360 - val_loss: 1.6732\n",
      "\u001b[1m16/16\u001b[0m \u001b[32m━━━━━━━━━━━━━━━━━━━━\u001b[0m\u001b[37m\u001b[0m \u001b[1m1s\u001b[0m 30ms/step - accuracy: 0.7663 - loss: 1.4330\n",
      "Test Accuracy (ReLU - Baseline): 73.60%\n"
     ]
    }
   ],
   "source": [
    "# Define a CNN model using ReLU activation\n",
    "model_relu = models.Sequential([\n",
    "    Input(shape=(32, 32, 3)),  # Input layer defining the shape of input images\n",
    "\n",
    "    # First Convolutional Block\n",
    "    layers.Conv2D(64, (3, 3), activation='relu', padding='same'),  # Convolution layer with 64 filters and ReLU activation\n",
    "    layers.MaxPooling2D((2, 2)),  # Downsampling layer to reduce spatial dimensions\n",
    "\n",
    "    # Second Convolutional Block\n",
    "    layers.Conv2D(128, (3, 3), activation='relu', padding='same'),  # Convolution layer with 128 filters\n",
    "    layers.MaxPooling2D((2, 2)),  # Downsampling\n",
    "\n",
    "    # Third Convolutional Block\n",
    "    layers.Conv2D(256, (3, 3), activation='relu', padding='same'),  # Convolution layer with 256 filters\n",
    "    layers.MaxPooling2D((2, 2)),  # Downsampling\n",
    "\n",
    "    # Fully Connected Layers\n",
    "    layers.Flatten(),  # Flatten feature maps into a 1D vector\n",
    "    layers.Dense(512, activation='relu'),  # Fully connected layer with 512 neurons and ReLU activation\n",
    "    layers.Dense(10, activation='softmax')  # Output layer with 10 classes using softmax activation\n",
    "])\n",
    "\n",
    "# Compile the model using Adam optimizer and categorical cross-entropy loss\n",
    "model_relu.compile(optimizer='adam', loss='categorical_crossentropy', metrics=['accuracy'])\n",
    "\n",
    "# Train the model on the training dataset\n",
    "history_relu = model_relu.fit(x_train_final, y_train_final,\n",
    "                              epochs=25,  # Train for 25 epochs\n",
    "                              batch_size=64,  # Mini-batch size of 64\n",
    "                              validation_data=(x_test_final, y_test_final))  # Validate on test set\n",
    "\n",
    "# Evaluate the trained model on the test set\n",
    "test_loss_relu, test_accuracy_relu = model_relu.evaluate(x_test_final, y_test_final)\n",
    "print(f\"Test Accuracy (ReLU - Baseline): {test_accuracy_relu * 100:.2f}%\")  # Print test accuracy"
   ]
  },
  {
   "cell_type": "markdown",
   "metadata": {
    "id": "gc-GpoZviQPd",
    "jp-MarkdownHeadingCollapsed": true
   },
   "source": [
    "#### Task 5.3.1 Conlusion:"
   ]
  },
  {
   "cell_type": "markdown",
   "metadata": {
    "id": "Gc37rjVyiQPd"
   },
   "source": [
    "<font color = green>The ReLU-based CNN model achieved a test accuracy of 73.60%, which is an improvement over the shallow model (70.80%) and the deeper model (72.00%), though still slightly lower than the optimized model (75.40%). This performance gain can be attributed to the balanced architecture, which includes three convolutional blocks with max pooling, a fully connected layer with 512 neurons, and the efficient use of ReLU activation to mitigate the vanishing gradient problem. The model strikes a balance between depth and computational efficiency, allowing it to learn meaningful hierarchical features without excessive complexity. However, the lack of batch normalization and dropout layers might limit generalization, making it more prone to overfitting compared to the optimized model."
   ]
  },
  {
   "cell_type": "markdown",
   "metadata": {
    "id": "WL5woTyMbb_N"
   },
   "source": [
    "#### Task 5.3.2: Experimenting with Sigmoid activation function"
   ]
  },
  {
   "cell_type": "code",
   "execution_count": null,
   "metadata": {
    "colab": {
     "base_uri": "https://localhost:8080/"
    },
    "collapsed": true,
    "id": "p6E2cxgebcxi",
    "jupyter": {
     "outputs_hidden": true,
     "source_hidden": true
    },
    "outputId": "3937bbff-2c2e-4070-d14b-a45d796d8e68",
    "scrolled": true
   },
   "outputs": [
    {
     "name": "stdout",
     "output_type": "stream",
     "text": [
      "Epoch 1/25\n",
      "\u001b[1m47/47\u001b[0m \u001b[32m━━━━━━━━━━━━━━━━━━━━\u001b[0m\u001b[37m\u001b[0m \u001b[1m6s\u001b[0m 73ms/step - accuracy: 0.1039 - loss: 3.0110 - val_accuracy: 0.1000 - val_loss: 2.3134\n",
      "Epoch 2/25\n",
      "\u001b[1m47/47\u001b[0m \u001b[32m━━━━━━━━━━━━━━━━━━━━\u001b[0m\u001b[37m\u001b[0m \u001b[1m1s\u001b[0m 23ms/step - accuracy: 0.1038 - loss: 2.3137 - val_accuracy: 0.1000 - val_loss: 2.3195\n",
      "Epoch 3/25\n",
      "\u001b[1m47/47\u001b[0m \u001b[32m━━━━━━━━━━━━━━━━━━━━\u001b[0m\u001b[37m\u001b[0m \u001b[1m1s\u001b[0m 23ms/step - accuracy: 0.1087 - loss: 2.3235 - val_accuracy: 0.1000 - val_loss: 2.3213\n",
      "Epoch 4/25\n",
      "\u001b[1m47/47\u001b[0m \u001b[32m━━━━━━━━━━━━━━━━━━━━\u001b[0m\u001b[37m\u001b[0m \u001b[1m1s\u001b[0m 21ms/step - accuracy: 0.0998 - loss: 2.3224 - val_accuracy: 0.1000 - val_loss: 2.3236\n",
      "Epoch 5/25\n",
      "\u001b[1m47/47\u001b[0m \u001b[32m━━━━━━━━━━━━━━━━━━━━\u001b[0m\u001b[37m\u001b[0m \u001b[1m1s\u001b[0m 21ms/step - accuracy: 0.1000 - loss: 2.3178 - val_accuracy: 0.1000 - val_loss: 2.3137\n",
      "Epoch 6/25\n",
      "\u001b[1m47/47\u001b[0m \u001b[32m━━━━━━━━━━━━━━━━━━━━\u001b[0m\u001b[37m\u001b[0m \u001b[1m1s\u001b[0m 21ms/step - accuracy: 0.0966 - loss: 2.3220 - val_accuracy: 0.1000 - val_loss: 2.3197\n",
      "Epoch 7/25\n",
      "\u001b[1m47/47\u001b[0m \u001b[32m━━━━━━━━━━━━━━━━━━━━\u001b[0m\u001b[37m\u001b[0m \u001b[1m1s\u001b[0m 21ms/step - accuracy: 0.1076 - loss: 2.3283 - val_accuracy: 0.1000 - val_loss: 2.3094\n",
      "Epoch 8/25\n",
      "\u001b[1m47/47\u001b[0m \u001b[32m━━━━━━━━━━━━━━━━━━━━\u001b[0m\u001b[37m\u001b[0m \u001b[1m1s\u001b[0m 20ms/step - accuracy: 0.0883 - loss: 2.3195 - val_accuracy: 0.1000 - val_loss: 2.3147\n",
      "Epoch 9/25\n",
      "\u001b[1m47/47\u001b[0m \u001b[32m━━━━━━━━━━━━━━━━━━━━\u001b[0m\u001b[37m\u001b[0m \u001b[1m1s\u001b[0m 21ms/step - accuracy: 0.0905 - loss: 2.3241 - val_accuracy: 0.1000 - val_loss: 2.3103\n",
      "Epoch 10/25\n",
      "\u001b[1m47/47\u001b[0m \u001b[32m━━━━━━━━━━━━━━━━━━━━\u001b[0m\u001b[37m\u001b[0m \u001b[1m1s\u001b[0m 21ms/step - accuracy: 0.1088 - loss: 2.3306 - val_accuracy: 0.1000 - val_loss: 2.3295\n",
      "Epoch 11/25\n",
      "\u001b[1m47/47\u001b[0m \u001b[32m━━━━━━━━━━━━━━━━━━━━\u001b[0m\u001b[37m\u001b[0m \u001b[1m1s\u001b[0m 21ms/step - accuracy: 0.1027 - loss: 2.3263 - val_accuracy: 0.1000 - val_loss: 2.3140\n",
      "Epoch 12/25\n",
      "\u001b[1m47/47\u001b[0m \u001b[32m━━━━━━━━━━━━━━━━━━━━\u001b[0m\u001b[37m\u001b[0m \u001b[1m1s\u001b[0m 20ms/step - accuracy: 0.1013 - loss: 2.3187 - val_accuracy: 0.1000 - val_loss: 2.3209\n",
      "Epoch 13/25\n",
      "\u001b[1m47/47\u001b[0m \u001b[32m━━━━━━━━━━━━━━━━━━━━\u001b[0m\u001b[37m\u001b[0m \u001b[1m1s\u001b[0m 22ms/step - accuracy: 0.0989 - loss: 2.3222 - val_accuracy: 0.1000 - val_loss: 2.3224\n",
      "Epoch 14/25\n",
      "\u001b[1m47/47\u001b[0m \u001b[32m━━━━━━━━━━━━━━━━━━━━\u001b[0m\u001b[37m\u001b[0m \u001b[1m1s\u001b[0m 23ms/step - accuracy: 0.0892 - loss: 2.3238 - val_accuracy: 0.1000 - val_loss: 2.3183\n",
      "Epoch 15/25\n",
      "\u001b[1m47/47\u001b[0m \u001b[32m━━━━━━━━━━━━━━━━━━━━\u001b[0m\u001b[37m\u001b[0m \u001b[1m1s\u001b[0m 22ms/step - accuracy: 0.0899 - loss: 2.3196 - val_accuracy: 0.1000 - val_loss: 2.3141\n",
      "Epoch 16/25\n",
      "\u001b[1m47/47\u001b[0m \u001b[32m━━━━━━━━━━━━━━━━━━━━\u001b[0m\u001b[37m\u001b[0m \u001b[1m1s\u001b[0m 21ms/step - accuracy: 0.0794 - loss: 2.3188 - val_accuracy: 0.1000 - val_loss: 2.3184\n",
      "Epoch 17/25\n",
      "\u001b[1m47/47\u001b[0m \u001b[32m━━━━━━━━━━━━━━━━━━━━\u001b[0m\u001b[37m\u001b[0m \u001b[1m1s\u001b[0m 20ms/step - accuracy: 0.1007 - loss: 2.3267 - val_accuracy: 0.1000 - val_loss: 2.3176\n",
      "Epoch 18/25\n",
      "\u001b[1m47/47\u001b[0m \u001b[32m━━━━━━━━━━━━━━━━━━━━\u001b[0m\u001b[37m\u001b[0m \u001b[1m1s\u001b[0m 21ms/step - accuracy: 0.1002 - loss: 2.3219 - val_accuracy: 0.1000 - val_loss: 2.3178\n",
      "Epoch 19/25\n",
      "\u001b[1m47/47\u001b[0m \u001b[32m━━━━━━━━━━━━━━━━━━━━\u001b[0m\u001b[37m\u001b[0m \u001b[1m1s\u001b[0m 22ms/step - accuracy: 0.0872 - loss: 2.3237 - val_accuracy: 0.1000 - val_loss: 2.3251\n",
      "Epoch 20/25\n",
      "\u001b[1m47/47\u001b[0m \u001b[32m━━━━━━━━━━━━━━━━━━━━\u001b[0m\u001b[37m\u001b[0m \u001b[1m1s\u001b[0m 24ms/step - accuracy: 0.0950 - loss: 2.3242 - val_accuracy: 0.1000 - val_loss: 2.3219\n",
      "Epoch 21/25\n",
      "\u001b[1m47/47\u001b[0m \u001b[32m━━━━━━━━━━━━━━━━━━━━\u001b[0m\u001b[37m\u001b[0m \u001b[1m1s\u001b[0m 21ms/step - accuracy: 0.0995 - loss: 2.3197 - val_accuracy: 0.1000 - val_loss: 2.3345\n",
      "Epoch 22/25\n",
      "\u001b[1m47/47\u001b[0m \u001b[32m━━━━━━━━━━━━━━━━━━━━\u001b[0m\u001b[37m\u001b[0m \u001b[1m1s\u001b[0m 21ms/step - accuracy: 0.1038 - loss: 2.3235 - val_accuracy: 0.1000 - val_loss: 2.3206\n",
      "Epoch 23/25\n",
      "\u001b[1m47/47\u001b[0m \u001b[32m━━━━━━━━━━━━━━━━━━━━\u001b[0m\u001b[37m\u001b[0m \u001b[1m1s\u001b[0m 21ms/step - accuracy: 0.0912 - loss: 2.3335 - val_accuracy: 0.1000 - val_loss: 2.3175\n",
      "Epoch 24/25\n",
      "\u001b[1m47/47\u001b[0m \u001b[32m━━━━━━━━━━━━━━━━━━━━\u001b[0m\u001b[37m\u001b[0m \u001b[1m1s\u001b[0m 21ms/step - accuracy: 0.1093 - loss: 2.3157 - val_accuracy: 0.1340 - val_loss: 2.3139\n",
      "Epoch 25/25\n",
      "\u001b[1m47/47\u001b[0m \u001b[32m━━━━━━━━━━━━━━━━━━━━\u001b[0m\u001b[37m\u001b[0m \u001b[1m1s\u001b[0m 22ms/step - accuracy: 0.1055 - loss: 2.3240 - val_accuracy: 0.1120 - val_loss: 2.3061\n",
      "\u001b[1m16/16\u001b[0m \u001b[32m━━━━━━━━━━━━━━━━━━━━\u001b[0m\u001b[37m\u001b[0m \u001b[1m1s\u001b[0m 50ms/step - accuracy: 0.2906 - loss: 2.1977\n",
      "Test Accuracy (Sigmoid): 11.20%\n"
     ]
    }
   ],
   "source": [
    "# Define a CNN model using Sigmoid activation\n",
    "model_sigmoid = models.Sequential([\n",
    "    Input(shape=(32, 32, 3)),  # Input layer defining the shape of input images\n",
    "\n",
    "    # First Convolutional Block\n",
    "    layers.Conv2D(64, (3, 3), activation='sigmoid', padding='same'),  # Convolution layer with 64 filters and Sigmoid activation\n",
    "    layers.MaxPooling2D((2, 2)),  # Downsampling layer to reduce spatial dimensions\n",
    "\n",
    "    # Second Convolutional Block\n",
    "    layers.Conv2D(128, (3, 3), activation='sigmoid', padding='same'),  # Convolution layer with 128 filters\n",
    "    layers.MaxPooling2D((2, 2)),  # Downsampling\n",
    "\n",
    "    # Third Convolutional Block\n",
    "    layers.Conv2D(256, (3, 3), activation='sigmoid', padding='same'),  # Convolution layer with 256 filters\n",
    "    layers.MaxPooling2D((2, 2)),  # Downsampling\n",
    "\n",
    "    # Fully Connected Layers\n",
    "    layers.Flatten(),  # Flatten feature maps into a 1D vector\n",
    "    layers.Dense(512, activation='sigmoid'),  # Fully connected layer with 512 neurons and Sigmoid activation\n",
    "    layers.Dense(10, activation='softmax')  # Output layer with 10 classes using softmax activation\n",
    "])\n",
    "\n",
    "# Compile the model using Adam optimizer and categorical cross-entropy loss\n",
    "model_sigmoid.compile(optimizer='adam', loss='categorical_crossentropy', metrics=['accuracy'])\n",
    "\n",
    "# Train the model on the training dataset\n",
    "history_sigmoid = model_sigmoid.fit(x_train_final, y_train_final,\n",
    "                                    epochs=25,  # Train for 25 epochs\n",
    "                                    batch_size=64,  # Mini-batch size of 64\n",
    "                                    validation_data=(x_test_final, y_test_final))  # Validate on test set\n",
    "\n",
    "# Evaluate the trained model on the test set\n",
    "test_loss_sigmoid, test_accuracy_sigmoid = model_sigmoid.evaluate(x_test_final, y_test_final)\n",
    "print(f\"Test Accuracy (Sigmoid): {test_accuracy_sigmoid * 100:.2f}%\")  # Print test accuracy"
   ]
  },
  {
   "cell_type": "markdown",
   "metadata": {
    "id": "OCM_D537iQPi",
    "jp-MarkdownHeadingCollapsed": true
   },
   "source": [
    "#### Task 5.3.2 Conclusion:"
   ]
  },
  {
   "cell_type": "markdown",
   "metadata": {
    "id": "tTAf3LD3iQPi"
   },
   "source": [
    "<font color = green>The CNN model using Sigmoid activation performed significantly worse than the other models, achieving a test accuracy of only 11.20%, compared to 73.60% with ReLU, 70.80% with the shallow model, and 72.00% with the deeper model. This drastic drop in accuracy is expected due to the inherent limitations of the Sigmoid activation function in deep networks. Sigmoid suffers from the vanishing gradient problem, where activations get squashed into a narrow range (0,1), leading to extremely small gradients in deeper layers. This slows down learning and prevents effective weight updates. Additionally, Sigmoid activations can saturate, meaning neurons become stuck with near-zero gradients, making it difficult for the model to learn meaningful features. Another drawback is that Sigmoid is not zero-centered, which can cause inefficient weight updates and slower convergence. As a result, the model struggles to extract relevant patterns from the data and ends up making near-random predictions, explaining the low accuracy. A clear takeaway is that ReLU (or its variants like LeakyReLU and ELU) is far better suited for deep CNNs, as it mitigates these issues and allows for more effective learning."
   ]
  },
  {
   "cell_type": "markdown",
   "metadata": {
    "id": "xK1nkvEjcIak"
   },
   "source": [
    "#### Task 5.3.3: Experimenting with Tanh activation function"
   ]
  },
  {
   "cell_type": "code",
   "execution_count": null,
   "metadata": {
    "colab": {
     "base_uri": "https://localhost:8080/"
    },
    "collapsed": true,
    "id": "FMwOUetRcJ4T",
    "jupyter": {
     "outputs_hidden": true,
     "source_hidden": true
    },
    "outputId": "cc90d51b-4525-4084-c779-fef7605a3abb"
   },
   "outputs": [
    {
     "name": "stdout",
     "output_type": "stream",
     "text": [
      "Epoch 1/25\n",
      "\u001b[1m47/47\u001b[0m \u001b[32m━━━━━━━━━━━━━━━━━━━━\u001b[0m\u001b[37m\u001b[0m \u001b[1m6s\u001b[0m 82ms/step - accuracy: 0.2763 - loss: 2.2856 - val_accuracy: 0.5380 - val_loss: 1.2695\n",
      "Epoch 2/25\n",
      "\u001b[1m47/47\u001b[0m \u001b[32m━━━━━━━━━━━━━━━━━━━━\u001b[0m\u001b[37m\u001b[0m \u001b[1m1s\u001b[0m 30ms/step - accuracy: 0.5691 - loss: 1.2204 - val_accuracy: 0.5960 - val_loss: 1.1216\n",
      "Epoch 3/25\n",
      "\u001b[1m47/47\u001b[0m \u001b[32m━━━━━━━━━━━━━━━━━━━━\u001b[0m\u001b[37m\u001b[0m \u001b[1m1s\u001b[0m 24ms/step - accuracy: 0.6075 - loss: 1.0832 - val_accuracy: 0.6200 - val_loss: 1.0823\n",
      "Epoch 4/25\n",
      "\u001b[1m47/47\u001b[0m \u001b[32m━━━━━━━━━━━━━━━━━━━━\u001b[0m\u001b[37m\u001b[0m \u001b[1m1s\u001b[0m 22ms/step - accuracy: 0.6619 - loss: 0.9462 - val_accuracy: 0.6620 - val_loss: 0.9629\n",
      "Epoch 5/25\n",
      "\u001b[1m47/47\u001b[0m \u001b[32m━━━━━━━━━━━━━━━━━━━━\u001b[0m\u001b[37m\u001b[0m \u001b[1m1s\u001b[0m 21ms/step - accuracy: 0.7159 - loss: 0.8278 - val_accuracy: 0.6720 - val_loss: 0.8900\n",
      "Epoch 6/25\n",
      "\u001b[1m47/47\u001b[0m \u001b[32m━━━━━━━━━━━━━━━━━━━━\u001b[0m\u001b[37m\u001b[0m \u001b[1m1s\u001b[0m 22ms/step - accuracy: 0.7538 - loss: 0.7023 - val_accuracy: 0.6920 - val_loss: 0.8682\n",
      "Epoch 7/25\n",
      "\u001b[1m47/47\u001b[0m \u001b[32m━━━━━━━━━━━━━━━━━━━━\u001b[0m\u001b[37m\u001b[0m \u001b[1m1s\u001b[0m 21ms/step - accuracy: 0.8289 - loss: 0.5191 - val_accuracy: 0.7100 - val_loss: 0.8859\n",
      "Epoch 8/25\n",
      "\u001b[1m47/47\u001b[0m \u001b[32m━━━━━━━━━━━━━━━━━━━━\u001b[0m\u001b[37m\u001b[0m \u001b[1m1s\u001b[0m 21ms/step - accuracy: 0.8597 - loss: 0.4379 - val_accuracy: 0.7080 - val_loss: 0.8435\n",
      "Epoch 9/25\n",
      "\u001b[1m47/47\u001b[0m \u001b[32m━━━━━━━━━━━━━━━━━━━━\u001b[0m\u001b[37m\u001b[0m \u001b[1m1s\u001b[0m 21ms/step - accuracy: 0.9159 - loss: 0.2753 - val_accuracy: 0.7240 - val_loss: 0.9029\n",
      "Epoch 10/25\n",
      "\u001b[1m47/47\u001b[0m \u001b[32m━━━━━━━━━━━━━━━━━━━━\u001b[0m\u001b[37m\u001b[0m \u001b[1m1s\u001b[0m 21ms/step - accuracy: 0.9397 - loss: 0.1985 - val_accuracy: 0.7100 - val_loss: 0.9133\n",
      "Epoch 11/25\n",
      "\u001b[1m47/47\u001b[0m \u001b[32m━━━━━━━━━━━━━━━━━━━━\u001b[0m\u001b[37m\u001b[0m \u001b[1m1s\u001b[0m 21ms/step - accuracy: 0.9635 - loss: 0.1316 - val_accuracy: 0.6900 - val_loss: 0.9913\n",
      "Epoch 12/25\n",
      "\u001b[1m47/47\u001b[0m \u001b[32m━━━━━━━━━━━━━━━━━━━━\u001b[0m\u001b[37m\u001b[0m \u001b[1m1s\u001b[0m 21ms/step - accuracy: 0.9832 - loss: 0.0773 - val_accuracy: 0.7060 - val_loss: 1.0384\n",
      "Epoch 13/25\n",
      "\u001b[1m47/47\u001b[0m \u001b[32m━━━━━━━━━━━━━━━━━━━━\u001b[0m\u001b[37m\u001b[0m \u001b[1m1s\u001b[0m 23ms/step - accuracy: 0.9958 - loss: 0.0380 - val_accuracy: 0.7180 - val_loss: 1.0310\n",
      "Epoch 14/25\n",
      "\u001b[1m47/47\u001b[0m \u001b[32m━━━━━━━━━━━━━━━━━━━━\u001b[0m\u001b[37m\u001b[0m \u001b[1m1s\u001b[0m 23ms/step - accuracy: 0.9956 - loss: 0.0280 - val_accuracy: 0.7160 - val_loss: 1.0405\n",
      "Epoch 15/25\n",
      "\u001b[1m47/47\u001b[0m \u001b[32m━━━━━━━━━━━━━━━━━━━━\u001b[0m\u001b[37m\u001b[0m \u001b[1m1s\u001b[0m 21ms/step - accuracy: 0.9995 - loss: 0.0140 - val_accuracy: 0.7340 - val_loss: 1.0332\n",
      "Epoch 16/25\n",
      "\u001b[1m47/47\u001b[0m \u001b[32m━━━━━━━━━━━━━━━━━━━━\u001b[0m\u001b[37m\u001b[0m \u001b[1m1s\u001b[0m 21ms/step - accuracy: 0.9981 - loss: 0.0132 - val_accuracy: 0.7320 - val_loss: 1.1037\n",
      "Epoch 17/25\n",
      "\u001b[1m47/47\u001b[0m \u001b[32m━━━━━━━━━━━━━━━━━━━━\u001b[0m\u001b[37m\u001b[0m \u001b[1m1s\u001b[0m 21ms/step - accuracy: 1.0000 - loss: 0.0064 - val_accuracy: 0.7380 - val_loss: 1.0857\n",
      "Epoch 18/25\n",
      "\u001b[1m47/47\u001b[0m \u001b[32m━━━━━━━━━━━━━━━━━━━━\u001b[0m\u001b[37m\u001b[0m \u001b[1m1s\u001b[0m 21ms/step - accuracy: 1.0000 - loss: 0.0043 - val_accuracy: 0.7300 - val_loss: 1.1411\n",
      "Epoch 19/25\n",
      "\u001b[1m47/47\u001b[0m \u001b[32m━━━━━━━━━━━━━━━━━━━━\u001b[0m\u001b[37m\u001b[0m \u001b[1m1s\u001b[0m 21ms/step - accuracy: 1.0000 - loss: 0.0030 - val_accuracy: 0.7280 - val_loss: 1.1360\n",
      "Epoch 20/25\n",
      "\u001b[1m47/47\u001b[0m \u001b[32m━━━━━━━━━━━━━━━━━━━━\u001b[0m\u001b[37m\u001b[0m \u001b[1m1s\u001b[0m 21ms/step - accuracy: 1.0000 - loss: 0.0024 - val_accuracy: 0.7340 - val_loss: 1.1633\n",
      "Epoch 21/25\n",
      "\u001b[1m47/47\u001b[0m \u001b[32m━━━━━━━━━━━━━━━━━━━━\u001b[0m\u001b[37m\u001b[0m \u001b[1m1s\u001b[0m 21ms/step - accuracy: 1.0000 - loss: 0.0020 - val_accuracy: 0.7300 - val_loss: 1.1614\n",
      "Epoch 22/25\n",
      "\u001b[1m47/47\u001b[0m \u001b[32m━━━━━━━━━━━━━━━━━━━━\u001b[0m\u001b[37m\u001b[0m \u001b[1m1s\u001b[0m 21ms/step - accuracy: 1.0000 - loss: 0.0018 - val_accuracy: 0.7300 - val_loss: 1.1726\n",
      "Epoch 23/25\n",
      "\u001b[1m47/47\u001b[0m \u001b[32m━━━━━━━━━━━━━━━━━━━━\u001b[0m\u001b[37m\u001b[0m \u001b[1m1s\u001b[0m 21ms/step - accuracy: 1.0000 - loss: 0.0016 - val_accuracy: 0.7300 - val_loss: 1.1896\n",
      "Epoch 24/25\n",
      "\u001b[1m47/47\u001b[0m \u001b[32m━━━━━━━━━━━━━━━━━━━━\u001b[0m\u001b[37m\u001b[0m \u001b[1m1s\u001b[0m 22ms/step - accuracy: 1.0000 - loss: 0.0015 - val_accuracy: 0.7280 - val_loss: 1.1893\n",
      "Epoch 25/25\n",
      "\u001b[1m47/47\u001b[0m \u001b[32m━━━━━━━━━━━━━━━━━━━━\u001b[0m\u001b[37m\u001b[0m \u001b[1m1s\u001b[0m 23ms/step - accuracy: 1.0000 - loss: 0.0013 - val_accuracy: 0.7300 - val_loss: 1.2061\n",
      "\u001b[1m16/16\u001b[0m \u001b[32m━━━━━━━━━━━━━━━━━━━━\u001b[0m\u001b[37m\u001b[0m \u001b[1m1s\u001b[0m 37ms/step - accuracy: 0.7748 - loss: 0.9991\n",
      "Test Accuracy (Tanh): 73.00%\n"
     ]
    }
   ],
   "source": [
    "# Define a CNN model using Tanh activation\n",
    "model_tanh = models.Sequential([\n",
    "    Input(shape=(32, 32, 3)),  # Input layer defining the shape of input images\n",
    "\n",
    "    # First Convolutional Block\n",
    "    layers.Conv2D(64, (3, 3), activation='tanh', padding='same'),  # Convolution layer with 64 filters and Tanh activation\n",
    "    layers.MaxPooling2D((2, 2)),  # Downsampling layer to reduce spatial dimensions\n",
    "\n",
    "    # Second Convolutional Block\n",
    "    layers.Conv2D(128, (3, 3), activation='tanh', padding='same'),  # Convolution layer with 128 filters\n",
    "    layers.MaxPooling2D((2, 2)),  # Downsampling\n",
    "\n",
    "    # Third Convolutional Block\n",
    "    layers.Conv2D(256, (3, 3), activation='tanh', padding='same'),  # Convolution layer with 256 filters\n",
    "    layers.MaxPooling2D((2, 2)),  # Downsampling\n",
    "\n",
    "    # Fully Connected Layers\n",
    "    layers.Flatten(),  # Flatten feature maps into a 1D vector\n",
    "    layers.Dense(512, activation='tanh'),  # Fully connected layer with 512 neurons and Tanh activation\n",
    "    layers.Dense(10, activation='softmax')  # Output layer with 10 classes using softmax activation\n",
    "])\n",
    "\n",
    "# Compile the model using Adam optimizer and categorical cross-entropy loss\n",
    "model_tanh.compile(optimizer='adam', loss='categorical_crossentropy', metrics=['accuracy'])\n",
    "\n",
    "# Train the model on the training dataset\n",
    "history_tanh = model_tanh.fit(x_train_final, y_train_final,\n",
    "                              epochs=25,  # Train for 25 epochs\n",
    "                              batch_size=64,  # Mini-batch size of 64\n",
    "                              validation_data=(x_test_final, y_test_final))  # Validate on test set\n",
    "\n",
    "# Evaluate the trained model on the test set\n",
    "test_loss_tanh, test_accuracy_tanh = model_tanh.evaluate(x_test_final, y_test_final)\n",
    "print(f\"Test Accuracy (Tanh): {test_accuracy_tanh * 100:.2f}%\")  # Print test accuracy"
   ]
  },
  {
   "cell_type": "markdown",
   "metadata": {
    "id": "eLP0TRetiQPi",
    "jp-MarkdownHeadingCollapsed": true
   },
   "source": [
    "#### Task 5.3.3 Conlusion:"
   ]
  },
  {
   "cell_type": "markdown",
   "metadata": {
    "id": "ZOouXg58iQPi"
   },
   "source": [
    "<font color = green>The CNN model using Tanh activation achieved a test accuracy of 73.00%, which is slightly lower than the 73.60% obtained with ReLU but still significantly better than the 11.20% from Sigmoid. Unlike Sigmoid, Tanh is zero-centered, meaning it allows both positive and negative activations, leading to more balanced weight updates during training. However, Tanh still suffers from the vanishing gradient problem, especially in deeper networks, where gradients can shrink as they propagate backward, slowing down learning. Compared to ReLU, which avoids this issue by allowing unrestricted positive outputs, Tanh limits activations within the range (-1,1), potentially reducing the model's ability to learn complex hierarchical features. While Tanh can be useful in shallow networks or when working with centered data, ReLU remains the preferred choice for deep CNNs due to its efficiency and ability to avoid saturation."
   ]
  },
  {
   "cell_type": "markdown",
   "metadata": {
    "id": "ZxlEIgC4l7al",
    "jp-MarkdownHeadingCollapsed": true
   },
   "source": [
    "#### Task 5.3.4: Experimenting with LeakyReLU activation function"
   ]
  },
  {
   "cell_type": "code",
   "execution_count": null,
   "metadata": {
    "colab": {
     "base_uri": "https://localhost:8080/"
    },
    "collapsed": true,
    "id": "cIlu_Adik3be",
    "jupyter": {
     "outputs_hidden": true
    },
    "outputId": "898fe24a-2f8c-49a9-8902-479dc520caa9"
   },
   "outputs": [
    {
     "name": "stdout",
     "output_type": "stream",
     "text": [
      "Epoch 1/25\n",
      "\u001b[1m47/47\u001b[0m \u001b[32m━━━━━━━━━━━━━━━━━━━━\u001b[0m\u001b[37m\u001b[0m \u001b[1m11s\u001b[0m 120ms/step - accuracy: 0.1740 - loss: 2.1500 - val_accuracy: 0.4540 - val_loss: 1.4940\n",
      "Epoch 2/25\n",
      "\u001b[1m47/47\u001b[0m \u001b[32m━━━━━━━━━━━━━━━━━━━━\u001b[0m\u001b[37m\u001b[0m \u001b[1m1s\u001b[0m 24ms/step - accuracy: 0.4147 - loss: 1.5389 - val_accuracy: 0.5480 - val_loss: 1.2262\n",
      "Epoch 3/25\n",
      "\u001b[1m47/47\u001b[0m \u001b[32m━━━━━━━━━━━━━━━━━━━━\u001b[0m\u001b[37m\u001b[0m \u001b[1m1s\u001b[0m 26ms/step - accuracy: 0.5192 - loss: 1.3183 - val_accuracy: 0.5600 - val_loss: 1.1708\n",
      "Epoch 4/25\n",
      "\u001b[1m47/47\u001b[0m \u001b[32m━━━━━━━━━━━━━━━━━━━━\u001b[0m\u001b[37m\u001b[0m \u001b[1m1s\u001b[0m 27ms/step - accuracy: 0.5510 - loss: 1.1865 - val_accuracy: 0.5680 - val_loss: 1.1488\n",
      "Epoch 5/25\n",
      "\u001b[1m47/47\u001b[0m \u001b[32m━━━━━━━━━━━━━━━━━━━━\u001b[0m\u001b[37m\u001b[0m \u001b[1m1s\u001b[0m 25ms/step - accuracy: 0.5673 - loss: 1.1466 - val_accuracy: 0.6320 - val_loss: 1.0240\n",
      "Epoch 6/25\n",
      "\u001b[1m47/47\u001b[0m \u001b[32m━━━━━━━━━━━━━━━━━━━━\u001b[0m\u001b[37m\u001b[0m \u001b[1m1s\u001b[0m 25ms/step - accuracy: 0.6536 - loss: 0.9442 - val_accuracy: 0.6480 - val_loss: 0.9103\n",
      "Epoch 7/25\n",
      "\u001b[1m47/47\u001b[0m \u001b[32m━━━━━━━━━━━━━━━━━━━━\u001b[0m\u001b[37m\u001b[0m \u001b[1m1s\u001b[0m 25ms/step - accuracy: 0.7169 - loss: 0.8014 - val_accuracy: 0.6840 - val_loss: 0.8484\n",
      "Epoch 8/25\n",
      "\u001b[1m47/47\u001b[0m \u001b[32m━━━━━━━━━━━━━━━━━━━━\u001b[0m\u001b[37m\u001b[0m \u001b[1m1s\u001b[0m 25ms/step - accuracy: 0.7363 - loss: 0.7249 - val_accuracy: 0.6920 - val_loss: 0.8294\n",
      "Epoch 9/25\n",
      "\u001b[1m47/47\u001b[0m \u001b[32m━━━━━━━━━━━━━━━━━━━━\u001b[0m\u001b[37m\u001b[0m \u001b[1m1s\u001b[0m 25ms/step - accuracy: 0.7878 - loss: 0.6096 - val_accuracy: 0.6880 - val_loss: 0.9011\n",
      "Epoch 10/25\n",
      "\u001b[1m47/47\u001b[0m \u001b[32m━━━━━━━━━━━━━━━━━━━━\u001b[0m\u001b[37m\u001b[0m \u001b[1m1s\u001b[0m 26ms/step - accuracy: 0.7966 - loss: 0.5467 - val_accuracy: 0.6880 - val_loss: 0.9186\n",
      "Epoch 11/25\n",
      "\u001b[1m47/47\u001b[0m \u001b[32m━━━━━━━━━━━━━━━━━━━━\u001b[0m\u001b[37m\u001b[0m \u001b[1m1s\u001b[0m 25ms/step - accuracy: 0.8397 - loss: 0.4520 - val_accuracy: 0.7160 - val_loss: 0.9383\n",
      "Epoch 12/25\n",
      "\u001b[1m47/47\u001b[0m \u001b[32m━━━━━━━━━━━━━━━━━━━━\u001b[0m\u001b[37m\u001b[0m \u001b[1m1s\u001b[0m 25ms/step - accuracy: 0.8569 - loss: 0.3920 - val_accuracy: 0.7240 - val_loss: 0.9249\n",
      "Epoch 13/25\n",
      "\u001b[1m47/47\u001b[0m \u001b[32m━━━━━━━━━━━━━━━━━━━━\u001b[0m\u001b[37m\u001b[0m \u001b[1m1s\u001b[0m 27ms/step - accuracy: 0.8799 - loss: 0.3411 - val_accuracy: 0.6920 - val_loss: 1.1058\n",
      "Epoch 14/25\n",
      "\u001b[1m47/47\u001b[0m \u001b[32m━━━━━━━━━━━━━━━━━━━━\u001b[0m\u001b[37m\u001b[0m \u001b[1m1s\u001b[0m 28ms/step - accuracy: 0.9038 - loss: 0.2804 - val_accuracy: 0.7100 - val_loss: 1.0106\n",
      "Epoch 15/25\n",
      "\u001b[1m47/47\u001b[0m \u001b[32m━━━━━━━━━━━━━━━━━━━━\u001b[0m\u001b[37m\u001b[0m \u001b[1m1s\u001b[0m 25ms/step - accuracy: 0.9151 - loss: 0.2434 - val_accuracy: 0.7200 - val_loss: 1.1164\n",
      "Epoch 16/25\n",
      "\u001b[1m47/47\u001b[0m \u001b[32m━━━━━━━━━━━━━━━━━━━━\u001b[0m\u001b[37m\u001b[0m \u001b[1m1s\u001b[0m 25ms/step - accuracy: 0.9357 - loss: 0.2051 - val_accuracy: 0.6940 - val_loss: 1.1888\n",
      "Epoch 17/25\n",
      "\u001b[1m47/47\u001b[0m \u001b[32m━━━━━━━━━━━━━━━━━━━━\u001b[0m\u001b[37m\u001b[0m \u001b[1m1s\u001b[0m 24ms/step - accuracy: 0.9343 - loss: 0.1786 - val_accuracy: 0.7020 - val_loss: 1.1712\n",
      "Epoch 18/25\n",
      "\u001b[1m47/47\u001b[0m \u001b[32m━━━━━━━━━━━━━━━━━━━━\u001b[0m\u001b[37m\u001b[0m \u001b[1m1s\u001b[0m 25ms/step - accuracy: 0.9136 - loss: 0.2335 - val_accuracy: 0.6860 - val_loss: 1.4291\n",
      "Epoch 19/25\n",
      "\u001b[1m47/47\u001b[0m \u001b[32m━━━━━━━━━━━━━━━━━━━━\u001b[0m\u001b[37m\u001b[0m \u001b[1m1s\u001b[0m 25ms/step - accuracy: 0.9497 - loss: 0.1514 - val_accuracy: 0.7420 - val_loss: 1.2835\n",
      "Epoch 20/25\n",
      "\u001b[1m47/47\u001b[0m \u001b[32m━━━━━━━━━━━━━━━━━━━━\u001b[0m\u001b[37m\u001b[0m \u001b[1m1s\u001b[0m 25ms/step - accuracy: 0.9594 - loss: 0.1026 - val_accuracy: 0.6980 - val_loss: 1.4550\n",
      "Epoch 21/25\n",
      "\u001b[1m47/47\u001b[0m \u001b[32m━━━━━━━━━━━━━━━━━━━━\u001b[0m\u001b[37m\u001b[0m \u001b[1m1s\u001b[0m 25ms/step - accuracy: 0.9545 - loss: 0.1139 - val_accuracy: 0.7020 - val_loss: 1.3585\n",
      "Epoch 22/25\n",
      "\u001b[1m47/47\u001b[0m \u001b[32m━━━━━━━━━━━━━━━━━━━━\u001b[0m\u001b[37m\u001b[0m \u001b[1m1s\u001b[0m 25ms/step - accuracy: 0.9537 - loss: 0.1372 - val_accuracy: 0.7220 - val_loss: 1.3607\n",
      "Epoch 23/25\n",
      "\u001b[1m47/47\u001b[0m \u001b[32m━━━━━━━━━━━━━━━━━━━━\u001b[0m\u001b[37m\u001b[0m \u001b[1m1s\u001b[0m 27ms/step - accuracy: 0.9631 - loss: 0.0988 - val_accuracy: 0.7180 - val_loss: 1.3481\n",
      "Epoch 24/25\n",
      "\u001b[1m47/47\u001b[0m \u001b[32m━━━━━━━━━━━━━━━━━━━━\u001b[0m\u001b[37m\u001b[0m \u001b[1m1s\u001b[0m 27ms/step - accuracy: 0.9671 - loss: 0.0925 - val_accuracy: 0.6820 - val_loss: 1.6449\n",
      "Epoch 25/25\n",
      "\u001b[1m47/47\u001b[0m \u001b[32m━━━━━━━━━━━━━━━━━━━━\u001b[0m\u001b[37m\u001b[0m \u001b[1m1s\u001b[0m 25ms/step - accuracy: 0.9678 - loss: 0.0957 - val_accuracy: 0.7020 - val_loss: 1.6025\n",
      "Test Accuracy (LeakyReLU): 70.20%\n"
     ]
    }
   ],
   "source": [
    "# Define a CNN model using LeakyReLU activation\n",
    "model_leakyrelu = models.Sequential([\n",
    "    layers.Input(shape=(32, 32, 3)),  # Input layer defining the shape of input images\n",
    "\n",
    "    # First Convolutional Block\n",
    "    layers.Conv2D(64, (3, 3), activation=None, padding='same'),  # Convolution layer with 64 filters (no activation yet)\n",
    "    LeakyReLU(negative_slope=0.01),  # Apply LeakyReLU activation\n",
    "    layers.Conv2D(64, (3, 3), activation=None, padding='same'),  # Another convolution layer\n",
    "    LeakyReLU(negative_slope=0.01),  # Apply LeakyReLU activation\n",
    "    layers.MaxPooling2D((2, 2)),  # Downsampling to reduce spatial dimensions\n",
    "    layers.Dropout(0.2),  # Dropout layer to prevent overfitting\n",
    "\n",
    "    # Second Convolutional Block\n",
    "    layers.Conv2D(128, (3, 3), activation=None, padding='same'),  # Convolution with 128 filters\n",
    "    LeakyReLU(negative_slope=0.01),  # Apply LeakyReLU activation\n",
    "    layers.Conv2D(128, (3, 3), activation=None, padding='same'),  # Another convolution layer\n",
    "    LeakyReLU(negative_slope=0.01),  # Apply LeakyReLU activation\n",
    "    layers.MaxPooling2D((2, 2)),  # Downsampling\n",
    "    layers.Dropout(0.3),  # Dropout layer\n",
    "\n",
    "    # Fully Connected Layers\n",
    "    layers.Flatten(),  # Flatten feature maps into a 1D vector\n",
    "    layers.Dense(512, activation=None),  # Fully connected layer with 512 neurons (no activation yet)\n",
    "    LeakyReLU(negative_slope=0.01),  # Apply LeakyReLU activation\n",
    "    layers.Dropout(0.5),  # Dropout layer\n",
    "\n",
    "    # Output layer\n",
    "    layers.Dense(10, activation='softmax')  # Output layer with 10 classes using softmax activation\n",
    "])\n",
    "\n",
    "# Compile the model using Adam optimizer and categorical cross-entropy loss\n",
    "model_leakyrelu.compile(optimizer='adam', loss='categorical_crossentropy', metrics=['accuracy'])\n",
    "\n",
    "# Train the model on the training dataset\n",
    "history_leakyrelu = model_leakyrelu.fit(x_train_final, y_train_final,\n",
    "                                        epochs=25,  # Train for 25 epochs\n",
    "                                        batch_size=64,  # Mini-batch size of 64\n",
    "                                        validation_data=(x_test_final, y_test_final))  # Validate on test set\n",
    "\n",
    "# Evaluate the trained model on the test set\n",
    "test_loss, test_acc = model_leakyrelu.evaluate(x_test_final, y_test_final, verbose=0)\n",
    "print(f'Test Accuracy (LeakyReLU): {test_acc * 100:.2f}%')  # Print test accuracy"
   ]
  },
  {
   "cell_type": "markdown",
   "metadata": {
    "id": "mvUvOQr0mK4Z",
    "jp-MarkdownHeadingCollapsed": true
   },
   "source": [
    "#### Task 5.3.4 Conclusion:"
   ]
  },
  {
   "cell_type": "markdown",
   "metadata": {
    "id": "KljwVInjiQPj"
   },
   "source": [
    "<font color = green>The CNN model using LeakyReLU activation achieved a test accuracy of 70.20%, which is lower than the 73.60% obtained with ReLU and 73.00% with Tanh but significantly better than the 11.20% from Sigmoid. LeakyReLU addresses the dying ReLU problem by allowing small negative values with a slope of 0.01, preventing neurons from becoming inactive. However, in this case, it did not outperform standard ReLU, likely due to factors such as suboptimal weight initialization, dropout rates, or model depth. The added dropout layers help prevent overfitting but may have also led to a slight reduction in accuracy. While LeakyReLU is often beneficial in deep networks with sparse activations, ReLU remains the stronger choice for this dataset due to its simplicity and effectiveness in learning complex features."
   ]
  },
  {
   "cell_type": "markdown",
   "metadata": {
    "id": "qi7MGR0_iQPj"
   },
   "source": [
    "#### Task 5.3.5: Experimenting with ELU (Exponential Linear Unit) activation function"
   ]
  },
  {
   "cell_type": "code",
   "execution_count": null,
   "metadata": {
    "colab": {
     "base_uri": "https://localhost:8080/"
    },
    "collapsed": true,
    "id": "vgxlRBgKmOWB",
    "jupyter": {
     "outputs_hidden": true,
     "source_hidden": true
    },
    "outputId": "14f46e48-6f58-4b2a-8bc4-8c9f0b150614"
   },
   "outputs": [
    {
     "name": "stdout",
     "output_type": "stream",
     "text": [
      "Epoch 1/25\n",
      "\u001b[1m47/47\u001b[0m \u001b[32m━━━━━━━━━━━━━━━━━━━━\u001b[0m\u001b[37m\u001b[0m \u001b[1m10s\u001b[0m 112ms/step - accuracy: 0.2768 - loss: 2.5933 - val_accuracy: 0.5260 - val_loss: 1.2811\n",
      "Epoch 2/25\n",
      "\u001b[1m47/47\u001b[0m \u001b[32m━━━━━━━━━━━━━━━━━━━━\u001b[0m\u001b[37m\u001b[0m \u001b[1m1s\u001b[0m 29ms/step - accuracy: 0.5244 - loss: 1.3008 - val_accuracy: 0.5860 - val_loss: 1.1680\n",
      "Epoch 3/25\n",
      "\u001b[1m47/47\u001b[0m \u001b[32m━━━━━━━━━━━━━━━━━━━━\u001b[0m\u001b[37m\u001b[0m \u001b[1m1s\u001b[0m 27ms/step - accuracy: 0.5916 - loss: 1.1452 - val_accuracy: 0.6060 - val_loss: 1.0587\n",
      "Epoch 4/25\n",
      "\u001b[1m47/47\u001b[0m \u001b[32m━━━━━━━━━━━━━━━━━━━━\u001b[0m\u001b[37m\u001b[0m \u001b[1m1s\u001b[0m 27ms/step - accuracy: 0.6728 - loss: 0.9772 - val_accuracy: 0.6000 - val_loss: 1.1888\n",
      "Epoch 5/25\n",
      "\u001b[1m47/47\u001b[0m \u001b[32m━━━━━━━━━━━━━━━━━━━━\u001b[0m\u001b[37m\u001b[0m \u001b[1m1s\u001b[0m 26ms/step - accuracy: 0.6702 - loss: 0.9874 - val_accuracy: 0.6220 - val_loss: 0.9937\n",
      "Epoch 6/25\n",
      "\u001b[1m47/47\u001b[0m \u001b[32m━━━━━━━━━━━━━━━━━━━━\u001b[0m\u001b[37m\u001b[0m \u001b[1m1s\u001b[0m 25ms/step - accuracy: 0.7411 - loss: 0.7336 - val_accuracy: 0.6320 - val_loss: 1.0215\n",
      "Epoch 7/25\n",
      "\u001b[1m47/47\u001b[0m \u001b[32m━━━━━━━━━━━━━━━━━━━━\u001b[0m\u001b[37m\u001b[0m \u001b[1m1s\u001b[0m 25ms/step - accuracy: 0.7609 - loss: 0.6743 - val_accuracy: 0.6160 - val_loss: 1.0768\n",
      "Epoch 8/25\n",
      "\u001b[1m47/47\u001b[0m \u001b[32m━━━━━━━━━━━━━━━━━━━━\u001b[0m\u001b[37m\u001b[0m \u001b[1m1s\u001b[0m 25ms/step - accuracy: 0.8080 - loss: 0.5439 - val_accuracy: 0.6200 - val_loss: 1.1202\n",
      "Epoch 9/25\n",
      "\u001b[1m47/47\u001b[0m \u001b[32m━━━━━━━━━━━━━━━━━━━━\u001b[0m\u001b[37m\u001b[0m \u001b[1m1s\u001b[0m 25ms/step - accuracy: 0.8259 - loss: 0.4717 - val_accuracy: 0.6400 - val_loss: 1.1914\n",
      "Epoch 10/25\n",
      "\u001b[1m47/47\u001b[0m \u001b[32m━━━━━━━━━━━━━━━━━━━━\u001b[0m\u001b[37m\u001b[0m \u001b[1m1s\u001b[0m 25ms/step - accuracy: 0.8622 - loss: 0.4069 - val_accuracy: 0.6700 - val_loss: 1.1624\n",
      "Epoch 11/25\n",
      "\u001b[1m47/47\u001b[0m \u001b[32m━━━━━━━━━━━━━━━━━━━━\u001b[0m\u001b[37m\u001b[0m \u001b[1m1s\u001b[0m 26ms/step - accuracy: 0.8829 - loss: 0.3358 - val_accuracy: 0.6320 - val_loss: 1.2723\n",
      "Epoch 12/25\n",
      "\u001b[1m47/47\u001b[0m \u001b[32m━━━━━━━━━━━━━━━━━━━━\u001b[0m\u001b[37m\u001b[0m \u001b[1m1s\u001b[0m 28ms/step - accuracy: 0.9077 - loss: 0.2668 - val_accuracy: 0.6420 - val_loss: 1.2823\n",
      "Epoch 13/25\n",
      "\u001b[1m47/47\u001b[0m \u001b[32m━━━━━━━━━━━━━━━━━━━━\u001b[0m\u001b[37m\u001b[0m \u001b[1m1s\u001b[0m 25ms/step - accuracy: 0.9211 - loss: 0.2175 - val_accuracy: 0.6200 - val_loss: 1.3900\n",
      "Epoch 14/25\n",
      "\u001b[1m47/47\u001b[0m \u001b[32m━━━━━━━━━━━━━━━━━━━━\u001b[0m\u001b[37m\u001b[0m \u001b[1m1s\u001b[0m 25ms/step - accuracy: 0.9310 - loss: 0.1919 - val_accuracy: 0.6420 - val_loss: 1.4242\n",
      "Epoch 15/25\n",
      "\u001b[1m47/47\u001b[0m \u001b[32m━━━━━━━━━━━━━━━━━━━━\u001b[0m\u001b[37m\u001b[0m \u001b[1m1s\u001b[0m 25ms/step - accuracy: 0.9449 - loss: 0.1513 - val_accuracy: 0.6200 - val_loss: 1.6411\n",
      "Epoch 16/25\n",
      "\u001b[1m47/47\u001b[0m \u001b[32m━━━━━━━━━━━━━━━━━━━━\u001b[0m\u001b[37m\u001b[0m \u001b[1m1s\u001b[0m 25ms/step - accuracy: 0.9445 - loss: 0.1531 - val_accuracy: 0.6400 - val_loss: 1.7198\n",
      "Epoch 17/25\n",
      "\u001b[1m47/47\u001b[0m \u001b[32m━━━━━━━━━━━━━━━━━━━━\u001b[0m\u001b[37m\u001b[0m \u001b[1m1s\u001b[0m 25ms/step - accuracy: 0.9472 - loss: 0.1599 - val_accuracy: 0.6440 - val_loss: 1.7364\n",
      "Epoch 18/25\n",
      "\u001b[1m47/47\u001b[0m \u001b[32m━━━━━━━━━━━━━━━━━━━━\u001b[0m\u001b[37m\u001b[0m \u001b[1m1s\u001b[0m 25ms/step - accuracy: 0.9499 - loss: 0.1460 - val_accuracy: 0.6520 - val_loss: 1.8542\n",
      "Epoch 19/25\n",
      "\u001b[1m47/47\u001b[0m \u001b[32m━━━━━━━━━━━━━━━━━━━━\u001b[0m\u001b[37m\u001b[0m \u001b[1m1s\u001b[0m 25ms/step - accuracy: 0.9575 - loss: 0.1192 - val_accuracy: 0.6300 - val_loss: 2.0543\n",
      "Epoch 20/25\n",
      "\u001b[1m47/47\u001b[0m \u001b[32m━━━━━━━━━━━━━━━━━━━━\u001b[0m\u001b[37m\u001b[0m \u001b[1m1s\u001b[0m 25ms/step - accuracy: 0.9563 - loss: 0.1462 - val_accuracy: 0.6380 - val_loss: 1.8002\n",
      "Epoch 21/25\n",
      "\u001b[1m47/47\u001b[0m \u001b[32m━━━━━━━━━━━━━━━━━━━━\u001b[0m\u001b[37m\u001b[0m \u001b[1m1s\u001b[0m 26ms/step - accuracy: 0.9398 - loss: 0.1750 - val_accuracy: 0.6440 - val_loss: 1.9181\n",
      "Epoch 22/25\n",
      "\u001b[1m47/47\u001b[0m \u001b[32m━━━━━━━━━━━━━━━━━━━━\u001b[0m\u001b[37m\u001b[0m \u001b[1m1s\u001b[0m 28ms/step - accuracy: 0.9366 - loss: 0.1965 - val_accuracy: 0.6160 - val_loss: 2.3662\n",
      "Epoch 23/25\n",
      "\u001b[1m47/47\u001b[0m \u001b[32m━━━━━━━━━━━━━━━━━━━━\u001b[0m\u001b[37m\u001b[0m \u001b[1m1s\u001b[0m 25ms/step - accuracy: 0.9396 - loss: 0.1762 - val_accuracy: 0.6120 - val_loss: 2.1189\n",
      "Epoch 24/25\n",
      "\u001b[1m47/47\u001b[0m \u001b[32m━━━━━━━━━━━━━━━━━━━━\u001b[0m\u001b[37m\u001b[0m \u001b[1m1s\u001b[0m 25ms/step - accuracy: 0.9319 - loss: 0.2395 - val_accuracy: 0.6240 - val_loss: 2.3571\n",
      "Epoch 25/25\n",
      "\u001b[1m47/47\u001b[0m \u001b[32m━━━━━━━━━━━━━━━━━━━━\u001b[0m\u001b[37m\u001b[0m \u001b[1m1s\u001b[0m 25ms/step - accuracy: 0.9443 - loss: 0.1855 - val_accuracy: 0.6420 - val_loss: 2.1493\n",
      "Test Accuracy (ELU): 64.20%\n"
     ]
    }
   ],
   "source": [
    "# Define a CNN model using ELU (Exponential Linear Unit) activation\n",
    "model_elu = models.Sequential([\n",
    "    layers.Input(shape=(32, 32, 3)),  # Input layer specifying the shape of input images\n",
    "\n",
    "    # First Convolutional Block\n",
    "    layers.Conv2D(64, (3, 3), activation='elu', padding='same'),  # Convolution layer with ELU activation\n",
    "    layers.Conv2D(64, (3, 3), activation='elu', padding='same'),  # Another convolution layer with ELU\n",
    "    layers.MaxPooling2D((2, 2)),  # Downsampling to reduce spatial dimensions\n",
    "    layers.Dropout(0.2),  # Dropout to reduce overfitting\n",
    "\n",
    "    # Second Convolutional Block\n",
    "    layers.Conv2D(128, (3, 3), activation='elu', padding='same'),  # Convolution with 128 filters using ELU\n",
    "    layers.Conv2D(128, (3, 3), activation='elu', padding='same'),  # Another convolution layer with ELU\n",
    "    layers.MaxPooling2D((2, 2)),  # Downsampling\n",
    "    layers.Dropout(0.3),  # Dropout layer\n",
    "\n",
    "    # Fully Connected Layers\n",
    "    layers.Flatten(),  # Flatten feature maps into a 1D vector\n",
    "    layers.Dense(512, activation='elu'),  # Fully connected layer with 512 neurons using ELU activation\n",
    "    layers.Dropout(0.5),  # Dropout layer\n",
    "\n",
    "    # Output layer\n",
    "    layers.Dense(10, activation='softmax')  # Output layer with 10 classes using softmax activation\n",
    "])\n",
    "\n",
    "# Compile the model using Adam optimizer and categorical cross-entropy loss\n",
    "model_elu.compile(optimizer='adam', loss='categorical_crossentropy', metrics=['accuracy'])\n",
    "\n",
    "# Train the model on the training dataset\n",
    "history_elu = model_elu.fit(x_train_final, y_train_final,\n",
    "                             epochs=25,  # Train for 25 epochs\n",
    "                             batch_size=64,  # Mini-batch size of 64\n",
    "                             validation_data=(x_test_final, y_test_final))  # Validate on test set\n",
    "\n",
    "# Evaluate the trained model on the test set\n",
    "test_loss, test_acc = model_elu.evaluate(x_test_final, y_test_final, verbose=0)\n",
    "print(f'Test Accuracy (ELU): {test_acc * 100:.2f}%')  # Print test accuracy"
   ]
  },
  {
   "cell_type": "markdown",
   "metadata": {
    "id": "pVzy4OSpmRd8",
    "jp-MarkdownHeadingCollapsed": true
   },
   "source": [
    "#### Task 5.3.5: Conclusion"
   ]
  },
  {
   "cell_type": "markdown",
   "metadata": {
    "id": "Q0sdHH4OiQPj"
   },
   "source": [
    "<font color = green>The CNN model using ELU activation achieved a test accuracy of 64.20%, which is lower than ReLU (73.60%), Tanh (73.00%), and LeakyReLU (70.20%), but still significantly better than Sigmoid (11.20%). ELU is designed to overcome the dying ReLU problem by allowing small negative values for negative inputs, which helps improve gradient flow and speed up learning. However, in this case, its performance was weaker than ReLU-based activations. This could be due to factors such as weight initialization, dropout rates, or dataset-specific characteristics that make ReLU and Tanh more effective. The drop in accuracy compared to ReLU suggests that ELU might not be the best choice for this particular dataset. One potential reason could be ELU's computational complexity, which makes it slightly slower than ReLU, potentially affecting optimization dynamics. Additionally, the higher dropout rates (0.3 and 0.5) might be causing excessive regularization, leading to underfitting. However, based on the results so far, ReLU remains the best-performing activation function."
   ]
  },
  {
   "cell_type": "markdown",
   "metadata": {
    "id": "HU9cjvHEiQPj"
   },
   "source": [
    "#### Task 5.3.6: Experimenting with GELU (Gaussian Error Linear Unit) activation function"
   ]
  },
  {
   "cell_type": "code",
   "execution_count": null,
   "metadata": {
    "colab": {
     "base_uri": "https://localhost:8080/"
    },
    "collapsed": true,
    "id": "1C20nhQUmV-8",
    "jupyter": {
     "outputs_hidden": true,
     "source_hidden": true
    },
    "outputId": "b450e679-cec0-4a7c-80ce-2bd622b319c3"
   },
   "outputs": [
    {
     "name": "stdout",
     "output_type": "stream",
     "text": [
      "Epoch 1/25\n",
      "\u001b[1m47/47\u001b[0m \u001b[32m━━━━━━━━━━━━━━━━━━━━\u001b[0m\u001b[37m\u001b[0m \u001b[1m12s\u001b[0m 140ms/step - accuracy: 0.2375 - loss: 2.0148 - val_accuracy: 0.5440 - val_loss: 1.4268\n",
      "Epoch 2/25\n",
      "\u001b[1m47/47\u001b[0m \u001b[32m━━━━━━━━━━━━━━━━━━━━\u001b[0m\u001b[37m\u001b[0m \u001b[1m1s\u001b[0m 27ms/step - accuracy: 0.5043 - loss: 1.4054 - val_accuracy: 0.5660 - val_loss: 1.1837\n",
      "Epoch 3/25\n",
      "\u001b[1m47/47\u001b[0m \u001b[32m━━━━━━━━━━━━━━━━━━━━\u001b[0m\u001b[37m\u001b[0m \u001b[1m1s\u001b[0m 24ms/step - accuracy: 0.5832 - loss: 1.1775 - val_accuracy: 0.5580 - val_loss: 1.1840\n",
      "Epoch 4/25\n",
      "\u001b[1m47/47\u001b[0m \u001b[32m━━━━━━━━━━━━━━━━━━━━\u001b[0m\u001b[37m\u001b[0m \u001b[1m1s\u001b[0m 24ms/step - accuracy: 0.6271 - loss: 1.0466 - val_accuracy: 0.6560 - val_loss: 0.9750\n",
      "Epoch 5/25\n",
      "\u001b[1m47/47\u001b[0m \u001b[32m━━━━━━━━━━━━━━━━━━━━\u001b[0m\u001b[37m\u001b[0m \u001b[1m1s\u001b[0m 25ms/step - accuracy: 0.6735 - loss: 0.9115 - val_accuracy: 0.6520 - val_loss: 0.9732\n",
      "Epoch 6/25\n",
      "\u001b[1m47/47\u001b[0m \u001b[32m━━━━━━━━━━━━━━━━━━━━\u001b[0m\u001b[37m\u001b[0m \u001b[1m1s\u001b[0m 25ms/step - accuracy: 0.7241 - loss: 0.7709 - val_accuracy: 0.6560 - val_loss: 0.9918\n",
      "Epoch 7/25\n",
      "\u001b[1m47/47\u001b[0m \u001b[32m━━━━━━━━━━━━━━━━━━━━\u001b[0m\u001b[37m\u001b[0m \u001b[1m1s\u001b[0m 26ms/step - accuracy: 0.7486 - loss: 0.7119 - val_accuracy: 0.6760 - val_loss: 0.9545\n",
      "Epoch 8/25\n",
      "\u001b[1m47/47\u001b[0m \u001b[32m━━━━━━━━━━━━━━━━━━━━\u001b[0m\u001b[37m\u001b[0m \u001b[1m1s\u001b[0m 26ms/step - accuracy: 0.8135 - loss: 0.5303 - val_accuracy: 0.6920 - val_loss: 0.9086\n",
      "Epoch 9/25\n",
      "\u001b[1m47/47\u001b[0m \u001b[32m━━━━━━━━━━━━━━━━━━━━\u001b[0m\u001b[37m\u001b[0m \u001b[1m1s\u001b[0m 25ms/step - accuracy: 0.8479 - loss: 0.4418 - val_accuracy: 0.6920 - val_loss: 0.9869\n",
      "Epoch 10/25\n",
      "\u001b[1m47/47\u001b[0m \u001b[32m━━━━━━━━━━━━━━━━━━━━\u001b[0m\u001b[37m\u001b[0m \u001b[1m1s\u001b[0m 24ms/step - accuracy: 0.8778 - loss: 0.3459 - val_accuracy: 0.6860 - val_loss: 1.1532\n",
      "Epoch 11/25\n",
      "\u001b[1m47/47\u001b[0m \u001b[32m━━━━━━━━━━━━━━━━━━━━\u001b[0m\u001b[37m\u001b[0m \u001b[1m1s\u001b[0m 25ms/step - accuracy: 0.9114 - loss: 0.2630 - val_accuracy: 0.6840 - val_loss: 1.1206\n",
      "Epoch 12/25\n",
      "\u001b[1m47/47\u001b[0m \u001b[32m━━━━━━━━━━━━━━━━━━━━\u001b[0m\u001b[37m\u001b[0m \u001b[1m1s\u001b[0m 25ms/step - accuracy: 0.9177 - loss: 0.2257 - val_accuracy: 0.6800 - val_loss: 1.3461\n",
      "Epoch 13/25\n",
      "\u001b[1m47/47\u001b[0m \u001b[32m━━━━━━━━━━━━━━━━━━━━\u001b[0m\u001b[37m\u001b[0m \u001b[1m1s\u001b[0m 24ms/step - accuracy: 0.9299 - loss: 0.2019 - val_accuracy: 0.7020 - val_loss: 1.0684\n",
      "Epoch 14/25\n",
      "\u001b[1m47/47\u001b[0m \u001b[32m━━━━━━━━━━━━━━━━━━━━\u001b[0m\u001b[37m\u001b[0m \u001b[1m1s\u001b[0m 24ms/step - accuracy: 0.9635 - loss: 0.1266 - val_accuracy: 0.7120 - val_loss: 1.3271\n",
      "Epoch 15/25\n",
      "\u001b[1m47/47\u001b[0m \u001b[32m━━━━━━━━━━━━━━━━━━━━\u001b[0m\u001b[37m\u001b[0m \u001b[1m1s\u001b[0m 24ms/step - accuracy: 0.9642 - loss: 0.1132 - val_accuracy: 0.6720 - val_loss: 1.2247\n",
      "Epoch 16/25\n",
      "\u001b[1m47/47\u001b[0m \u001b[32m━━━━━━━━━━━━━━━━━━━━\u001b[0m\u001b[37m\u001b[0m \u001b[1m1s\u001b[0m 24ms/step - accuracy: 0.9601 - loss: 0.1197 - val_accuracy: 0.7040 - val_loss: 1.2733\n",
      "Epoch 17/25\n",
      "\u001b[1m47/47\u001b[0m \u001b[32m━━━━━━━━━━━━━━━━━━━━\u001b[0m\u001b[37m\u001b[0m \u001b[1m1s\u001b[0m 26ms/step - accuracy: 0.9673 - loss: 0.0903 - val_accuracy: 0.6820 - val_loss: 1.3831\n",
      "Epoch 18/25\n",
      "\u001b[1m47/47\u001b[0m \u001b[32m━━━━━━━━━━━━━━━━━━━━\u001b[0m\u001b[37m\u001b[0m \u001b[1m1s\u001b[0m 27ms/step - accuracy: 0.9724 - loss: 0.0873 - val_accuracy: 0.6980 - val_loss: 1.4074\n",
      "Epoch 19/25\n",
      "\u001b[1m47/47\u001b[0m \u001b[32m━━━━━━━━━━━━━━━━━━━━\u001b[0m\u001b[37m\u001b[0m \u001b[1m1s\u001b[0m 24ms/step - accuracy: 0.9685 - loss: 0.0915 - val_accuracy: 0.7060 - val_loss: 1.4401\n",
      "Epoch 20/25\n",
      "\u001b[1m47/47\u001b[0m \u001b[32m━━━━━━━━━━━━━━━━━━━━\u001b[0m\u001b[37m\u001b[0m \u001b[1m1s\u001b[0m 24ms/step - accuracy: 0.9637 - loss: 0.1019 - val_accuracy: 0.7160 - val_loss: 1.5395\n",
      "Epoch 21/25\n",
      "\u001b[1m47/47\u001b[0m \u001b[32m━━━━━━━━━━━━━━━━━━━━\u001b[0m\u001b[37m\u001b[0m \u001b[1m1s\u001b[0m 25ms/step - accuracy: 0.9754 - loss: 0.0685 - val_accuracy: 0.7060 - val_loss: 1.5214\n",
      "Epoch 22/25\n",
      "\u001b[1m47/47\u001b[0m \u001b[32m━━━━━━━━━━━━━━━━━━━━\u001b[0m\u001b[37m\u001b[0m \u001b[1m1s\u001b[0m 24ms/step - accuracy: 0.9834 - loss: 0.0558 - val_accuracy: 0.7060 - val_loss: 1.6099\n",
      "Epoch 23/25\n",
      "\u001b[1m47/47\u001b[0m \u001b[32m━━━━━━━━━━━━━━━━━━━━\u001b[0m\u001b[37m\u001b[0m \u001b[1m1s\u001b[0m 24ms/step - accuracy: 0.9788 - loss: 0.0626 - val_accuracy: 0.7000 - val_loss: 1.7000\n",
      "Epoch 24/25\n",
      "\u001b[1m47/47\u001b[0m \u001b[32m━━━━━━━━━━━━━━━━━━━━\u001b[0m\u001b[37m\u001b[0m \u001b[1m1s\u001b[0m 24ms/step - accuracy: 0.9719 - loss: 0.0946 - val_accuracy: 0.7020 - val_loss: 1.6619\n",
      "Epoch 25/25\n",
      "\u001b[1m47/47\u001b[0m \u001b[32m━━━━━━━━━━━━━━━━━━━━\u001b[0m\u001b[37m\u001b[0m \u001b[1m1s\u001b[0m 31ms/step - accuracy: 0.9746 - loss: 0.0625 - val_accuracy: 0.7160 - val_loss: 1.5399\n",
      "Test Accuracy (GELU): 71.60%\n"
     ]
    }
   ],
   "source": [
    "# Define a CNN model using GELU (Gaussian Error Linear Unit) activation\n",
    "model_gelu = models.Sequential([\n",
    "    layers.Input(shape=(32, 32, 3)),  # Input layer specifying the shape of input images\n",
    "\n",
    "    # First Convolutional Block\n",
    "    layers.Conv2D(64, (3, 3), activation=gelu, padding='same'),  # Convolution layer with GELU activation\n",
    "    layers.Conv2D(64, (3, 3), activation=gelu, padding='same'),  # Another convolution layer with GELU\n",
    "    layers.MaxPooling2D((2, 2)),  # Downsampling to reduce spatial dimensions\n",
    "    layers.Dropout(0.2),  # Dropout to prevent overfitting\n",
    "\n",
    "    # Second Convolutional Block\n",
    "    layers.Conv2D(128, (3, 3), activation=gelu, padding='same'),  # Convolution with 128 filters using GELU\n",
    "    layers.Conv2D(128, (3, 3), activation=gelu, padding='same'),  # Another convolution layer with GELU\n",
    "    layers.MaxPooling2D((2, 2)),  # Downsampling\n",
    "    layers.Dropout(0.3),  # Dropout layer\n",
    "\n",
    "    # Fully Connected Layers\n",
    "    layers.Flatten(),  # Flatten feature maps into a 1D vector\n",
    "    layers.Dense(512, activation=gelu),  # Fully connected layer with 512 neurons using GELU activation\n",
    "    layers.Dropout(0.5),  # Dropout layer\n",
    "\n",
    "    # Output layer\n",
    "    layers.Dense(10, activation='softmax')  # Output layer with 10 classes using softmax activation\n",
    "])\n",
    "\n",
    "# Compile the model using Adam optimizer and categorical cross-entropy loss\n",
    "model_gelu.compile(optimizer='adam', loss='categorical_crossentropy', metrics=['accuracy'])\n",
    "\n",
    "# Train the model on the training dataset\n",
    "history_gelu = model_gelu.fit(x_train_final, y_train_final,\n",
    "                               epochs=25,  # Train for 25 epochs\n",
    "                               batch_size=64,  # Mini-batch size of 64\n",
    "                               validation_data=(x_test_final, y_test_final))  # Validate on test set\n",
    "\n",
    "# Evaluate the trained model on the test set\n",
    "test_loss, test_acc = model_gelu.evaluate(x_test_final, y_test_final, verbose=0)\n",
    "print(f'Test Accuracy (GELU): {test_acc * 100:.2f}%')  # Print test accuracy"
   ]
  },
  {
   "cell_type": "markdown",
   "metadata": {
    "id": "ztFwwRARchGC",
    "jp-MarkdownHeadingCollapsed": true
   },
   "source": [
    "#### Task 5.3.6: Conclusion"
   ]
  },
  {
   "cell_type": "markdown",
   "metadata": {
    "id": "drTATUn0iQPk"
   },
   "source": [
    "<font color = green>The CNN model using GELU activation achieved a test accuracy of 71.60%, performing better than LeakyReLU (70.20%) and ELU (64.20%), but falling short of ReLU (73.60%) and Tanh (73.00%). GELU is a smooth, probabilistic activation function that is often used in transformer-based models but has shown potential in CNNs as well. However, in this case, ReLU and Tanh outperformed GELU, possibly due to the computational overhead of GELU and the characteristics of the dataset. The higher dropout rates (0.2, 0.3, 0.5), which were also used in the ELU model, might have limited GELU’s performance. While GELU provides a smooth activation, ReLU remains the best-performing activation function in this comparison, making it the preferred choice."
   ]
  },
  {
   "cell_type": "markdown",
   "metadata": {
    "id": "W-QURGmyiQPk"
   },
   "source": [
    "#### Task 5.3.7: Experimenting with Swish activation function"
   ]
  },
  {
   "cell_type": "code",
   "execution_count": null,
   "metadata": {
    "colab": {
     "base_uri": "https://localhost:8080/"
    },
    "collapsed": true,
    "id": "LE1kGV5vcjKD",
    "jupyter": {
     "outputs_hidden": true,
     "source_hidden": true
    },
    "outputId": "593b1011-8deb-4741-e905-11e568442dee"
   },
   "outputs": [
    {
     "name": "stdout",
     "output_type": "stream",
     "text": [
      "Epoch 1/25\n",
      "\u001b[1m47/47\u001b[0m \u001b[32m━━━━━━━━━━━━━━━━━━━━\u001b[0m\u001b[37m\u001b[0m \u001b[1m6s\u001b[0m 72ms/step - accuracy: 0.2673 - loss: 1.9353 - val_accuracy: 0.5480 - val_loss: 1.3273\n",
      "Epoch 2/25\n",
      "\u001b[1m47/47\u001b[0m \u001b[32m━━━━━━━━━━━━━━━━━━━━\u001b[0m\u001b[37m\u001b[0m \u001b[1m1s\u001b[0m 25ms/step - accuracy: 0.5360 - loss: 1.2931 - val_accuracy: 0.6200 - val_loss: 1.1116\n",
      "Epoch 3/25\n",
      "\u001b[1m47/47\u001b[0m \u001b[32m━━━━━━━━━━━━━━━━━━━━\u001b[0m\u001b[37m\u001b[0m \u001b[1m1s\u001b[0m 22ms/step - accuracy: 0.5951 - loss: 1.1413 - val_accuracy: 0.5900 - val_loss: 1.0989\n",
      "Epoch 4/25\n",
      "\u001b[1m47/47\u001b[0m \u001b[32m━━━━━━━━━━━━━━━━━━━━\u001b[0m\u001b[37m\u001b[0m \u001b[1m1s\u001b[0m 22ms/step - accuracy: 0.6380 - loss: 1.0339 - val_accuracy: 0.6660 - val_loss: 0.9889\n",
      "Epoch 5/25\n",
      "\u001b[1m47/47\u001b[0m \u001b[32m━━━━━━━━━━━━━━━━━━━━\u001b[0m\u001b[37m\u001b[0m \u001b[1m1s\u001b[0m 21ms/step - accuracy: 0.6813 - loss: 0.9274 - val_accuracy: 0.6420 - val_loss: 0.9779\n",
      "Epoch 6/25\n",
      "\u001b[1m47/47\u001b[0m \u001b[32m━━━━━━━━━━━━━━━━━━━━\u001b[0m\u001b[37m\u001b[0m \u001b[1m1s\u001b[0m 21ms/step - accuracy: 0.6840 - loss: 0.8448 - val_accuracy: 0.6920 - val_loss: 0.9292\n",
      "Epoch 7/25\n",
      "\u001b[1m47/47\u001b[0m \u001b[32m━━━━━━━━━━━━━━━━━━━━\u001b[0m\u001b[37m\u001b[0m \u001b[1m1s\u001b[0m 21ms/step - accuracy: 0.7608 - loss: 0.7041 - val_accuracy: 0.7260 - val_loss: 0.8708\n",
      "Epoch 8/25\n",
      "\u001b[1m47/47\u001b[0m \u001b[32m━━━━━━━━━━━━━━━━━━━━\u001b[0m\u001b[37m\u001b[0m \u001b[1m1s\u001b[0m 21ms/step - accuracy: 0.7838 - loss: 0.6069 - val_accuracy: 0.6760 - val_loss: 0.9972\n",
      "Epoch 9/25\n",
      "\u001b[1m47/47\u001b[0m \u001b[32m━━━━━━━━━━━━━━━━━━━━\u001b[0m\u001b[37m\u001b[0m \u001b[1m1s\u001b[0m 21ms/step - accuracy: 0.8195 - loss: 0.5347 - val_accuracy: 0.6940 - val_loss: 0.9660\n",
      "Epoch 10/25\n",
      "\u001b[1m47/47\u001b[0m \u001b[32m━━━━━━━━━━━━━━━━━━━━\u001b[0m\u001b[37m\u001b[0m \u001b[1m1s\u001b[0m 21ms/step - accuracy: 0.8485 - loss: 0.4157 - val_accuracy: 0.6300 - val_loss: 1.1557\n",
      "Epoch 11/25\n",
      "\u001b[1m47/47\u001b[0m \u001b[32m━━━━━━━━━━━━━━━━━━━━\u001b[0m\u001b[37m\u001b[0m \u001b[1m1s\u001b[0m 21ms/step - accuracy: 0.8387 - loss: 0.4401 - val_accuracy: 0.6960 - val_loss: 1.0802\n",
      "Epoch 12/25\n",
      "\u001b[1m47/47\u001b[0m \u001b[32m━━━━━━━━━━━━━━━━━━━━\u001b[0m\u001b[37m\u001b[0m \u001b[1m1s\u001b[0m 21ms/step - accuracy: 0.9189 - loss: 0.2520 - val_accuracy: 0.7280 - val_loss: 1.0967\n",
      "Epoch 13/25\n",
      "\u001b[1m47/47\u001b[0m \u001b[32m━━━━━━━━━━━━━━━━━━━━\u001b[0m\u001b[37m\u001b[0m \u001b[1m1s\u001b[0m 23ms/step - accuracy: 0.9250 - loss: 0.1955 - val_accuracy: 0.7300 - val_loss: 1.1739\n",
      "Epoch 14/25\n",
      "\u001b[1m47/47\u001b[0m \u001b[32m━━━━━━━━━━━━━━━━━━━━\u001b[0m\u001b[37m\u001b[0m \u001b[1m1s\u001b[0m 23ms/step - accuracy: 0.9621 - loss: 0.1311 - val_accuracy: 0.7260 - val_loss: 1.3374\n",
      "Epoch 15/25\n",
      "\u001b[1m47/47\u001b[0m \u001b[32m━━━━━━━━━━━━━━━━━━━━\u001b[0m\u001b[37m\u001b[0m \u001b[1m1s\u001b[0m 21ms/step - accuracy: 0.9749 - loss: 0.0896 - val_accuracy: 0.7020 - val_loss: 1.5395\n",
      "Epoch 16/25\n",
      "\u001b[1m47/47\u001b[0m \u001b[32m━━━━━━━━━━━━━━━━━━━━\u001b[0m\u001b[37m\u001b[0m \u001b[1m1s\u001b[0m 21ms/step - accuracy: 0.9817 - loss: 0.0674 - val_accuracy: 0.7200 - val_loss: 1.6073\n",
      "Epoch 17/25\n",
      "\u001b[1m47/47\u001b[0m \u001b[32m━━━━━━━━━━━━━━━━━━━━\u001b[0m\u001b[37m\u001b[0m \u001b[1m1s\u001b[0m 21ms/step - accuracy: 0.9673 - loss: 0.1006 - val_accuracy: 0.6860 - val_loss: 1.6290\n",
      "Epoch 18/25\n",
      "\u001b[1m47/47\u001b[0m \u001b[32m━━━━━━━━━━━━━━━━━━━━\u001b[0m\u001b[37m\u001b[0m \u001b[1m1s\u001b[0m 21ms/step - accuracy: 0.9651 - loss: 0.0970 - val_accuracy: 0.7200 - val_loss: 1.5189\n",
      "Epoch 19/25\n",
      "\u001b[1m47/47\u001b[0m \u001b[32m━━━━━━━━━━━━━━━━━━━━\u001b[0m\u001b[37m\u001b[0m \u001b[1m1s\u001b[0m 21ms/step - accuracy: 0.9858 - loss: 0.0509 - val_accuracy: 0.7180 - val_loss: 1.5674\n",
      "Epoch 20/25\n",
      "\u001b[1m47/47\u001b[0m \u001b[32m━━━━━━━━━━━━━━━━━━━━\u001b[0m\u001b[37m\u001b[0m \u001b[1m1s\u001b[0m 21ms/step - accuracy: 0.9947 - loss: 0.0241 - val_accuracy: 0.7120 - val_loss: 1.6615\n",
      "Epoch 21/25\n",
      "\u001b[1m47/47\u001b[0m \u001b[32m━━━━━━━━━━━━━━━━━━━━\u001b[0m\u001b[37m\u001b[0m \u001b[1m1s\u001b[0m 21ms/step - accuracy: 0.9938 - loss: 0.0271 - val_accuracy: 0.7180 - val_loss: 1.7190\n",
      "Epoch 22/25\n",
      "\u001b[1m47/47\u001b[0m \u001b[32m━━━━━━━━━━━━━━━━━━━━\u001b[0m\u001b[37m\u001b[0m \u001b[1m1s\u001b[0m 21ms/step - accuracy: 1.0000 - loss: 0.0045 - val_accuracy: 0.7220 - val_loss: 1.7846\n",
      "Epoch 23/25\n",
      "\u001b[1m47/47\u001b[0m \u001b[32m━━━━━━━━━━━━━━━━━━━━\u001b[0m\u001b[37m\u001b[0m \u001b[1m1s\u001b[0m 21ms/step - accuracy: 1.0000 - loss: 0.0027 - val_accuracy: 0.7260 - val_loss: 1.8315\n",
      "Epoch 24/25\n",
      "\u001b[1m47/47\u001b[0m \u001b[32m━━━━━━━━━━━━━━━━━━━━\u001b[0m\u001b[37m\u001b[0m \u001b[1m1s\u001b[0m 22ms/step - accuracy: 1.0000 - loss: 0.0014 - val_accuracy: 0.7220 - val_loss: 1.8624\n",
      "Epoch 25/25\n",
      "\u001b[1m47/47\u001b[0m \u001b[32m━━━━━━━━━━━━━━━━━━━━\u001b[0m\u001b[37m\u001b[0m \u001b[1m1s\u001b[0m 23ms/step - accuracy: 1.0000 - loss: 0.0012 - val_accuracy: 0.7220 - val_loss: 1.8996\n",
      "\u001b[1m16/16\u001b[0m \u001b[32m━━━━━━━━━━━━━━━━━━━━\u001b[0m\u001b[37m\u001b[0m \u001b[1m1s\u001b[0m 34ms/step - accuracy: 0.7647 - loss: 1.5458\n",
      "Test Accuracy (Swish): 72.20%\n"
     ]
    }
   ],
   "source": [
    "# Define a CNN model using Swish activation function\n",
    "model_swish = models.Sequential([\n",
    "    Input(shape=(32, 32, 3)),  # Input layer specifying image dimensions\n",
    "\n",
    "    # First Convolutional Block\n",
    "    layers.Conv2D(64, (3, 3), activation=swish, padding='same'),  # 64 filters with Swish activation\n",
    "    layers.MaxPooling2D((2, 2)),  # Max pooling to downsample\n",
    "\n",
    "    # Second Convolutional Block\n",
    "    layers.Conv2D(128, (3, 3), activation=swish, padding='same'),  # 128 filters with Swish\n",
    "    layers.MaxPooling2D((2, 2)),  # Max pooling\n",
    "\n",
    "    # Third Convolutional Block\n",
    "    layers.Conv2D(256, (3, 3), activation=swish, padding='same'),  # 256 filters with Swish\n",
    "    layers.MaxPooling2D((2, 2)),  # Max pooling\n",
    "\n",
    "    # Fully Connected Layers\n",
    "    layers.Flatten(),  # Flatten feature maps\n",
    "    layers.Dense(512, activation=swish),  # Dense layer with 512 neurons using Swish\n",
    "    layers.Dense(10, activation='softmax')  # Output layer for 10 classes using softmax\n",
    "])\n",
    "\n",
    "# Compile the model using Adam optimizer and categorical cross-entropy loss\n",
    "model_swish.compile(optimizer='adam', loss='categorical_crossentropy', metrics=['accuracy'])\n",
    "\n",
    "# Train the model on the dataset\n",
    "history_swish = model_swish.fit(x_train_final, y_train_final,\n",
    "                                epochs=25,  # Train for 25 epochs\n",
    "                                batch_size=64,  # Mini-batch size\n",
    "                                validation_data=(x_test_final, y_test_final))  # Validate on test set\n",
    "\n",
    "# Evaluate the model on the test set\n",
    "test_loss_swish, test_accuracy_swish = model_swish.evaluate(x_test_final, y_test_final)\n",
    "\n",
    "# Print the test accuracy\n",
    "print(f\"Test Accuracy (Swish): {test_accuracy_swish * 100:.2f}%\")"
   ]
  },
  {
   "cell_type": "markdown",
   "metadata": {
    "id": "3Ts3Ag31mcxk",
    "jp-MarkdownHeadingCollapsed": true
   },
   "source": [
    "#### Task 5.3.7 Conclusion:"
   ]
  },
  {
   "cell_type": "markdown",
   "metadata": {
    "id": "KOjLMHtZiQPk"
   },
   "source": [
    "<font color = green>The results indicate that the CNN model using the Swish activation function achieved a test accuracy of 72.20%, performing slightly lower than the ReLU-based model (73.60%) but outperforming the hybrid Swish-ReLU model (68.40%). The Swish activation function, known for its smooth and non-monotonic properties, contributed to efficient feature extraction, leading to competitive classification performance. However, the absence of dropout layers in the Swish model might have influenced its ability to generalize effectively. The findings suggest that while Swish can enhance model learning, further optimization, such as incorporating dropout and batch normalization, may be required to maximize its effectiveness in CNN architectures."
   ]
  },
  {
   "cell_type": "markdown",
   "metadata": {
    "id": "8cvZ-X9riQPk"
   },
   "source": [
    "#### Task 5.3.8: Experimenting with Hybrid Model (Swish + ReLU)"
   ]
  },
  {
   "cell_type": "code",
   "execution_count": null,
   "metadata": {
    "colab": {
     "base_uri": "https://localhost:8080/"
    },
    "collapsed": true,
    "id": "BKqGJudLnvMO",
    "jupyter": {
     "outputs_hidden": true,
     "source_hidden": true
    },
    "outputId": "1cdb0a4c-5ab3-4f8d-b243-a18de03ed45c"
   },
   "outputs": [
    {
     "name": "stdout",
     "output_type": "stream",
     "text": [
      "Epoch 1/25\n",
      "\u001b[1m47/47\u001b[0m \u001b[32m━━━━━━━━━━━━━━━━━━━━\u001b[0m\u001b[37m\u001b[0m \u001b[1m17s\u001b[0m 182ms/step - accuracy: 0.1194 - loss: 2.3052 - val_accuracy: 0.2100 - val_loss: 1.9575\n",
      "Epoch 2/25\n",
      "\u001b[1m47/47\u001b[0m \u001b[32m━━━━━━━━━━━━━━━━━━━━\u001b[0m\u001b[37m\u001b[0m \u001b[1m2s\u001b[0m 40ms/step - accuracy: 0.2116 - loss: 2.0002 - val_accuracy: 0.2580 - val_loss: 1.9323\n",
      "Epoch 3/25\n",
      "\u001b[1m47/47\u001b[0m \u001b[32m━━━━━━━━━━━━━━━━━━━━\u001b[0m\u001b[37m\u001b[0m \u001b[1m2s\u001b[0m 38ms/step - accuracy: 0.2728 - loss: 1.8770 - val_accuracy: 0.3480 - val_loss: 1.6698\n",
      "Epoch 4/25\n",
      "\u001b[1m47/47\u001b[0m \u001b[32m━━━━━━━━━━━━━━━━━━━━\u001b[0m\u001b[37m\u001b[0m \u001b[1m2s\u001b[0m 39ms/step - accuracy: 0.3156 - loss: 1.7637 - val_accuracy: 0.3800 - val_loss: 1.5825\n",
      "Epoch 5/25\n",
      "\u001b[1m47/47\u001b[0m \u001b[32m━━━━━━━━━━━━━━━━━━━━\u001b[0m\u001b[37m\u001b[0m \u001b[1m2s\u001b[0m 40ms/step - accuracy: 0.3381 - loss: 1.7052 - val_accuracy: 0.4060 - val_loss: 1.5295\n",
      "Epoch 6/25\n",
      "\u001b[1m47/47\u001b[0m \u001b[32m━━━━━━━━━━━━━━━━━━━━\u001b[0m\u001b[37m\u001b[0m \u001b[1m2s\u001b[0m 40ms/step - accuracy: 0.3610 - loss: 1.6952 - val_accuracy: 0.4240 - val_loss: 1.4882\n",
      "Epoch 7/25\n",
      "\u001b[1m47/47\u001b[0m \u001b[32m━━━━━━━━━━━━━━━━━━━━\u001b[0m\u001b[37m\u001b[0m \u001b[1m2s\u001b[0m 39ms/step - accuracy: 0.4532 - loss: 1.4670 - val_accuracy: 0.4820 - val_loss: 1.3580\n",
      "Epoch 8/25\n",
      "\u001b[1m47/47\u001b[0m \u001b[32m━━━━━━━━━━━━━━━━━━━━\u001b[0m\u001b[37m\u001b[0m \u001b[1m2s\u001b[0m 39ms/step - accuracy: 0.4602 - loss: 1.4279 - val_accuracy: 0.5180 - val_loss: 1.2901\n",
      "Epoch 9/25\n",
      "\u001b[1m47/47\u001b[0m \u001b[32m━━━━━━━━━━━━━━━━━━━━\u001b[0m\u001b[37m\u001b[0m \u001b[1m2s\u001b[0m 39ms/step - accuracy: 0.4935 - loss: 1.3397 - val_accuracy: 0.4820 - val_loss: 1.3922\n",
      "Epoch 10/25\n",
      "\u001b[1m47/47\u001b[0m \u001b[32m━━━━━━━━━━━━━━━━━━━━\u001b[0m\u001b[37m\u001b[0m \u001b[1m2s\u001b[0m 39ms/step - accuracy: 0.5196 - loss: 1.2746 - val_accuracy: 0.5280 - val_loss: 1.2660\n",
      "Epoch 11/25\n",
      "\u001b[1m47/47\u001b[0m \u001b[32m━━━━━━━━━━━━━━━━━━━━\u001b[0m\u001b[37m\u001b[0m \u001b[1m2s\u001b[0m 38ms/step - accuracy: 0.5497 - loss: 1.1791 - val_accuracy: 0.6340 - val_loss: 1.0284\n",
      "Epoch 12/25\n",
      "\u001b[1m47/47\u001b[0m \u001b[32m━━━━━━━━━━━━━━━━━━━━\u001b[0m\u001b[37m\u001b[0m \u001b[1m2s\u001b[0m 41ms/step - accuracy: 0.5869 - loss: 1.0843 - val_accuracy: 0.6360 - val_loss: 0.9981\n",
      "Epoch 13/25\n",
      "\u001b[1m47/47\u001b[0m \u001b[32m━━━━━━━━━━━━━━━━━━━━\u001b[0m\u001b[37m\u001b[0m \u001b[1m2s\u001b[0m 38ms/step - accuracy: 0.6499 - loss: 0.9839 - val_accuracy: 0.6200 - val_loss: 1.0433\n",
      "Epoch 14/25\n",
      "\u001b[1m47/47\u001b[0m \u001b[32m━━━━━━━━━━━━━━━━━━━━\u001b[0m\u001b[37m\u001b[0m \u001b[1m2s\u001b[0m 38ms/step - accuracy: 0.6337 - loss: 0.9997 - val_accuracy: 0.6180 - val_loss: 0.9674\n",
      "Epoch 15/25\n",
      "\u001b[1m47/47\u001b[0m \u001b[32m━━━━━━━━━━━━━━━━━━━━\u001b[0m\u001b[37m\u001b[0m \u001b[1m2s\u001b[0m 39ms/step - accuracy: 0.6745 - loss: 0.9293 - val_accuracy: 0.6580 - val_loss: 0.9679\n",
      "Epoch 16/25\n",
      "\u001b[1m47/47\u001b[0m \u001b[32m━━━━━━━━━━━━━━━━━━━━\u001b[0m\u001b[37m\u001b[0m \u001b[1m2s\u001b[0m 38ms/step - accuracy: 0.6779 - loss: 0.8780 - val_accuracy: 0.6200 - val_loss: 1.1031\n",
      "Epoch 17/25\n",
      "\u001b[1m47/47\u001b[0m \u001b[32m━━━━━━━━━━━━━━━━━━━━\u001b[0m\u001b[37m\u001b[0m \u001b[1m2s\u001b[0m 38ms/step - accuracy: 0.6949 - loss: 0.8939 - val_accuracy: 0.6380 - val_loss: 1.0959\n",
      "Epoch 18/25\n",
      "\u001b[1m47/47\u001b[0m \u001b[32m━━━━━━━━━━━━━━━━━━━━\u001b[0m\u001b[37m\u001b[0m \u001b[1m2s\u001b[0m 40ms/step - accuracy: 0.6876 - loss: 0.8650 - val_accuracy: 0.6240 - val_loss: 1.0904\n",
      "Epoch 19/25\n",
      "\u001b[1m47/47\u001b[0m \u001b[32m━━━━━━━━━━━━━━━━━━━━\u001b[0m\u001b[37m\u001b[0m \u001b[1m2s\u001b[0m 40ms/step - accuracy: 0.7362 - loss: 0.7551 - val_accuracy: 0.6640 - val_loss: 0.8413\n",
      "Epoch 20/25\n",
      "\u001b[1m47/47\u001b[0m \u001b[32m━━━━━━━━━━━━━━━━━━━━\u001b[0m\u001b[37m\u001b[0m \u001b[1m2s\u001b[0m 40ms/step - accuracy: 0.7667 - loss: 0.6607 - val_accuracy: 0.6300 - val_loss: 1.1597\n",
      "Epoch 21/25\n",
      "\u001b[1m47/47\u001b[0m \u001b[32m━━━━━━━━━━━━━━━━━━━━\u001b[0m\u001b[37m\u001b[0m \u001b[1m2s\u001b[0m 39ms/step - accuracy: 0.7236 - loss: 0.7626 - val_accuracy: 0.6520 - val_loss: 1.0716\n",
      "Epoch 22/25\n",
      "\u001b[1m47/47\u001b[0m \u001b[32m━━━━━━━━━━━━━━━━━━━━\u001b[0m\u001b[37m\u001b[0m \u001b[1m2s\u001b[0m 39ms/step - accuracy: 0.7802 - loss: 0.6055 - val_accuracy: 0.6600 - val_loss: 0.9602\n",
      "Epoch 23/25\n",
      "\u001b[1m47/47\u001b[0m \u001b[32m━━━━━━━━━━━━━━━━━━━━\u001b[0m\u001b[37m\u001b[0m \u001b[1m2s\u001b[0m 39ms/step - accuracy: 0.7885 - loss: 0.6252 - val_accuracy: 0.6540 - val_loss: 1.1670\n",
      "Epoch 24/25\n",
      "\u001b[1m47/47\u001b[0m \u001b[32m━━━━━━━━━━━━━━━━━━━━\u001b[0m\u001b[37m\u001b[0m \u001b[1m2s\u001b[0m 38ms/step - accuracy: 0.7775 - loss: 0.6467 - val_accuracy: 0.7080 - val_loss: 0.9068\n",
      "Epoch 25/25\n",
      "\u001b[1m47/47\u001b[0m \u001b[32m━━━━━━━━━━━━━━━━━━━━\u001b[0m\u001b[37m\u001b[0m \u001b[1m2s\u001b[0m 41ms/step - accuracy: 0.8040 - loss: 0.5366 - val_accuracy: 0.6840 - val_loss: 0.9543\n",
      "\u001b[1m16/16\u001b[0m \u001b[32m━━━━━━━━━━━━━━━━━━━━\u001b[0m\u001b[37m\u001b[0m \u001b[1m2s\u001b[0m 69ms/step - accuracy: 0.7435 - loss: 0.7982\n",
      "Test Accuracy (Swish + ReLU): 68.40%\n"
     ]
    }
   ],
   "source": [
    "# Define the CNN model with Swish activation in convolutional layers and ReLU in dense layers\n",
    "model_hybrid = models.Sequential([\n",
    "    layers.Input(shape=(32, 32, 3)),  # Explicitly defining the input shape for a 32x32 RGB image\n",
    "\n",
    "    # First Convolutional Block (Swish Activation)\n",
    "    layers.Conv2D(64, (3, 3), activation=activations.swish, padding='same'),  # 64 filters, Swish activation\n",
    "    layers.Conv2D(64, (3, 3), activation=activations.swish, padding='same'),  # Another convolutional layer\n",
    "    layers.MaxPooling2D((2, 2)),  # Max pooling to downsample\n",
    "    layers.Dropout(0.2),  # Dropout for regularization\n",
    "\n",
    "    # Second Convolutional Block (Swish Activation)\n",
    "    layers.Conv2D(128, (3, 3), activation=activations.swish, padding='same'),  # 128 filters, Swish activation\n",
    "    layers.Conv2D(128, (3, 3), activation=activations.swish, padding='same'),\n",
    "    layers.MaxPooling2D((2, 2)),\n",
    "    layers.Dropout(0.3),\n",
    "\n",
    "    # Third Convolutional Block (Swish Activation)\n",
    "    layers.Conv2D(256, (3, 3), activation=activations.swish, padding='same'),  # 256 filters, Swish activation\n",
    "    layers.Conv2D(256, (3, 3), activation=activations.swish, padding='same'),\n",
    "    layers.MaxPooling2D((2, 2)),\n",
    "    layers.Dropout(0.4),\n",
    "\n",
    "    # Fourth Convolutional Block (Swish Activation)\n",
    "    layers.Conv2D(512, (3, 3), activation=activations.swish, padding='same'),  # 512 filters, Swish activation\n",
    "    layers.Conv2D(512, (3, 3), activation=activations.swish, padding='same'),\n",
    "    layers.MaxPooling2D((2, 2)),\n",
    "    layers.Dropout(0.4),\n",
    "\n",
    "    # Fully Connected Layers with ReLU Activation\n",
    "    layers.Flatten(),  # Flattening the feature maps into a single vector\n",
    "    layers.Dense(1024, activation='relu'),  # Fully connected layer with 1024 neurons, ReLU activation\n",
    "    layers.Dropout(0.5),  # Dropout for further regularization\n",
    "    layers.Dense(512, activation='relu'),  # Fully connected layer with 512 neurons, ReLU activation\n",
    "    layers.Dropout(0.5),\n",
    "    layers.Dense(10, activation='softmax')  # Output layer with 10 neurons for classification (softmax for multi-class)\n",
    "])\n",
    "\n",
    "# Compile the model with Adam optimizer and categorical cross-entropy loss\n",
    "model_hybrid.compile(optimizer='adam',\n",
    "                     loss='categorical_crossentropy',\n",
    "                     metrics=['accuracy'])\n",
    "\n",
    "# Train the model using training data\n",
    "history_hybrid = model_hybrid.fit(x_train_final, y_train_final,\n",
    "                                  epochs=25,  # Number of training epochs\n",
    "                                  batch_size=64,  # Mini-batch size\n",
    "                                  validation_data=(x_test_final, y_test_final))  # Validate on test set\n",
    "\n",
    "# Evaluate the model on the test dataset\n",
    "test_loss_hybrid, test_accuracy_hybrid = model_hybrid.evaluate(x_test_final, y_test_final)\n",
    "print(f\"Test Accuracy (Swish + ReLU): {test_accuracy_hybrid * 100:.2f}%\")"
   ]
  },
  {
   "cell_type": "markdown",
   "metadata": {
    "id": "tQDaGO1zc9ao",
    "jp-MarkdownHeadingCollapsed": true
   },
   "source": [
    "#### Task 5.3.8 Conclusion:"
   ]
  },
  {
   "cell_type": "markdown",
   "metadata": {
    "id": "0G6jGuPyiQPl"
   },
   "source": [
    "<font color = green>The hybrid model, which used Swish activation in convolutional layers and ReLU in dense layers, achieved a test accuracy of 68.40%. Interestingly, this is lower than both the pure Swish model (72.20%) and ReLU model (73.60%), suggesting that the combination of Swish in convolutional layers and ReLU in fully connected layers might not be optimal for this particular dataset. One possible reason for the performance drop is that Swish is designed to work well in deep networks, but using it in convolutional layers while switching to ReLU in dense layers could have disrupted the smooth gradient flow. Additionally, the increase in convolutional layers (512 filters in the fourth block) and high dropout rates (up to 0.5 in dense layers) might have led to an over-regularized model, preventing it from learning effectively."
   ]
  },
  {
   "cell_type": "markdown",
   "metadata": {
    "id": "GrMSeAxpiQPl"
   },
   "source": [
    "#### Task 5.3.9: Experimenting with Swish + LeakyReLU activation function"
   ]
  },
  {
   "cell_type": "code",
   "execution_count": null,
   "metadata": {
    "colab": {
     "base_uri": "https://localhost:8080/"
    },
    "collapsed": true,
    "id": "5laRJpdWc_xN",
    "jupyter": {
     "outputs_hidden": true,
     "source_hidden": true
    },
    "outputId": "825952a8-99ca-4ab8-e2d2-6fac040dee40"
   },
   "outputs": [
    {
     "name": "stdout",
     "output_type": "stream",
     "text": [
      "Epoch 1/25\n",
      "\u001b[1m47/47\u001b[0m \u001b[32m━━━━━━━━━━━━━━━━━━━━\u001b[0m\u001b[37m\u001b[0m \u001b[1m6s\u001b[0m 68ms/step - accuracy: 0.2589 - loss: 1.9711 - val_accuracy: 0.4900 - val_loss: 1.3977\n",
      "Epoch 2/25\n",
      "\u001b[1m47/47\u001b[0m \u001b[32m━━━━━━━━━━━━━━━━━━━━\u001b[0m\u001b[37m\u001b[0m \u001b[1m1s\u001b[0m 23ms/step - accuracy: 0.5175 - loss: 1.3112 - val_accuracy: 0.5700 - val_loss: 1.1572\n",
      "Epoch 3/25\n",
      "\u001b[1m47/47\u001b[0m \u001b[32m━━━━━━━━━━━━━━━━━━━━\u001b[0m\u001b[37m\u001b[0m \u001b[1m1s\u001b[0m 22ms/step - accuracy: 0.5809 - loss: 1.1412 - val_accuracy: 0.6100 - val_loss: 1.1224\n",
      "Epoch 4/25\n",
      "\u001b[1m47/47\u001b[0m \u001b[32m━━━━━━━━━━━━━━━━━━━━\u001b[0m\u001b[37m\u001b[0m \u001b[1m1s\u001b[0m 22ms/step - accuracy: 0.6363 - loss: 0.9888 - val_accuracy: 0.6520 - val_loss: 0.9898\n",
      "Epoch 5/25\n",
      "\u001b[1m47/47\u001b[0m \u001b[32m━━━━━━━━━━━━━━━━━━━━\u001b[0m\u001b[37m\u001b[0m \u001b[1m1s\u001b[0m 24ms/step - accuracy: 0.6699 - loss: 0.9094 - val_accuracy: 0.6640 - val_loss: 0.9933\n",
      "Epoch 6/25\n",
      "\u001b[1m47/47\u001b[0m \u001b[32m━━━━━━━━━━━━━━━━━━━━\u001b[0m\u001b[37m\u001b[0m \u001b[1m1s\u001b[0m 23ms/step - accuracy: 0.7225 - loss: 0.7915 - val_accuracy: 0.6820 - val_loss: 0.9145\n",
      "Epoch 7/25\n",
      "\u001b[1m47/47\u001b[0m \u001b[32m━━━━━━━━━━━━━━━━━━━━\u001b[0m\u001b[37m\u001b[0m \u001b[1m1s\u001b[0m 21ms/step - accuracy: 0.7564 - loss: 0.6945 - val_accuracy: 0.6640 - val_loss: 0.9614\n",
      "Epoch 8/25\n",
      "\u001b[1m47/47\u001b[0m \u001b[32m━━━━━━━━━━━━━━━━━━━━\u001b[0m\u001b[37m\u001b[0m \u001b[1m1s\u001b[0m 21ms/step - accuracy: 0.7958 - loss: 0.5633 - val_accuracy: 0.6800 - val_loss: 0.9355\n",
      "Epoch 9/25\n",
      "\u001b[1m47/47\u001b[0m \u001b[32m━━━━━━━━━━━━━━━━━━━━\u001b[0m\u001b[37m\u001b[0m \u001b[1m1s\u001b[0m 21ms/step - accuracy: 0.8442 - loss: 0.4505 - val_accuracy: 0.6620 - val_loss: 1.1183\n",
      "Epoch 10/25\n",
      "\u001b[1m47/47\u001b[0m \u001b[32m━━━━━━━━━━━━━━━━━━━━\u001b[0m\u001b[37m\u001b[0m \u001b[1m1s\u001b[0m 21ms/step - accuracy: 0.8770 - loss: 0.3485 - val_accuracy: 0.6960 - val_loss: 1.0856\n",
      "Epoch 11/25\n",
      "\u001b[1m47/47\u001b[0m \u001b[32m━━━━━━━━━━━━━━━━━━━━\u001b[0m\u001b[37m\u001b[0m \u001b[1m1s\u001b[0m 21ms/step - accuracy: 0.9188 - loss: 0.2553 - val_accuracy: 0.7200 - val_loss: 1.1212\n",
      "Epoch 12/25\n",
      "\u001b[1m47/47\u001b[0m \u001b[32m━━━━━━━━━━━━━━━━━━━━\u001b[0m\u001b[37m\u001b[0m \u001b[1m1s\u001b[0m 21ms/step - accuracy: 0.9519 - loss: 0.1704 - val_accuracy: 0.7000 - val_loss: 1.1984\n",
      "Epoch 13/25\n",
      "\u001b[1m47/47\u001b[0m \u001b[32m━━━━━━━━━━━━━━━━━━━━\u001b[0m\u001b[37m\u001b[0m \u001b[1m1s\u001b[0m 21ms/step - accuracy: 0.9662 - loss: 0.1200 - val_accuracy: 0.7100 - val_loss: 1.3474\n",
      "Epoch 14/25\n",
      "\u001b[1m47/47\u001b[0m \u001b[32m━━━━━━━━━━━━━━━━━━━━\u001b[0m\u001b[37m\u001b[0m \u001b[1m1s\u001b[0m 21ms/step - accuracy: 0.9656 - loss: 0.1097 - val_accuracy: 0.7120 - val_loss: 1.4993\n",
      "Epoch 15/25\n",
      "\u001b[1m47/47\u001b[0m \u001b[32m━━━━━━━━━━━━━━━━━━━━\u001b[0m\u001b[37m\u001b[0m \u001b[1m1s\u001b[0m 21ms/step - accuracy: 0.9718 - loss: 0.0864 - val_accuracy: 0.6920 - val_loss: 1.4392\n",
      "Epoch 16/25\n",
      "\u001b[1m47/47\u001b[0m \u001b[32m━━━━━━━━━━━━━━━━━━━━\u001b[0m\u001b[37m\u001b[0m \u001b[1m1s\u001b[0m 22ms/step - accuracy: 0.9702 - loss: 0.0940 - val_accuracy: 0.6720 - val_loss: 1.7768\n",
      "Epoch 17/25\n",
      "\u001b[1m47/47\u001b[0m \u001b[32m━━━━━━━━━━━━━━━━━━━━\u001b[0m\u001b[37m\u001b[0m \u001b[1m1s\u001b[0m 23ms/step - accuracy: 0.9616 - loss: 0.1191 - val_accuracy: 0.7120 - val_loss: 1.4864\n",
      "Epoch 18/25\n",
      "\u001b[1m47/47\u001b[0m \u001b[32m━━━━━━━━━━━━━━━━━━━━\u001b[0m\u001b[37m\u001b[0m \u001b[1m1s\u001b[0m 22ms/step - accuracy: 0.9917 - loss: 0.0383 - val_accuracy: 0.6940 - val_loss: 1.5624\n",
      "Epoch 19/25\n",
      "\u001b[1m47/47\u001b[0m \u001b[32m━━━━━━━━━━━━━━━━━━━━\u001b[0m\u001b[37m\u001b[0m \u001b[1m1s\u001b[0m 21ms/step - accuracy: 0.9872 - loss: 0.0392 - val_accuracy: 0.7300 - val_loss: 1.6255\n",
      "Epoch 20/25\n",
      "\u001b[1m47/47\u001b[0m \u001b[32m━━━━━━━━━━━━━━━━━━━━\u001b[0m\u001b[37m\u001b[0m \u001b[1m1s\u001b[0m 24ms/step - accuracy: 0.9937 - loss: 0.0214 - val_accuracy: 0.7060 - val_loss: 1.6978\n",
      "Epoch 21/25\n",
      "\u001b[1m47/47\u001b[0m \u001b[32m━━━━━━━━━━━━━━━━━━━━\u001b[0m\u001b[37m\u001b[0m \u001b[1m1s\u001b[0m 21ms/step - accuracy: 0.9995 - loss: 0.0070 - val_accuracy: 0.7140 - val_loss: 1.6486\n",
      "Epoch 22/25\n",
      "\u001b[1m47/47\u001b[0m \u001b[32m━━━━━━━━━━━━━━━━━━━━\u001b[0m\u001b[37m\u001b[0m \u001b[1m1s\u001b[0m 20ms/step - accuracy: 1.0000 - loss: 0.0032 - val_accuracy: 0.7200 - val_loss: 1.7018\n",
      "Epoch 23/25\n",
      "\u001b[1m47/47\u001b[0m \u001b[32m━━━━━━━━━━━━━━━━━━━━\u001b[0m\u001b[37m\u001b[0m \u001b[1m1s\u001b[0m 20ms/step - accuracy: 1.0000 - loss: 0.0018 - val_accuracy: 0.7180 - val_loss: 1.7128\n",
      "Epoch 24/25\n",
      "\u001b[1m47/47\u001b[0m \u001b[32m━━━━━━━━━━━━━━━━━━━━\u001b[0m\u001b[37m\u001b[0m \u001b[1m1s\u001b[0m 20ms/step - accuracy: 1.0000 - loss: 0.0013 - val_accuracy: 0.7160 - val_loss: 1.7357\n",
      "Epoch 25/25\n",
      "\u001b[1m47/47\u001b[0m \u001b[32m━━━━━━━━━━━━━━━━━━━━\u001b[0m\u001b[37m\u001b[0m \u001b[1m1s\u001b[0m 21ms/step - accuracy: 1.0000 - loss: 0.0011 - val_accuracy: 0.7160 - val_loss: 1.7538\n",
      "\u001b[1m16/16\u001b[0m \u001b[32m━━━━━━━━━━━━━━━━━━━━\u001b[0m\u001b[37m\u001b[0m \u001b[1m1s\u001b[0m 33ms/step - accuracy: 0.7615 - loss: 1.4767\n",
      "Test Accuracy (Swish + LeakyReLU): 71.60%\n"
     ]
    }
   ],
   "source": [
    "# Define the CNN model with Swish activation in convolutional layers and LeakyReLU in dense layers\n",
    "model_swish_leakyrelu = models.Sequential([\n",
    "    Input(shape=(32, 32, 3)),  # Explicitly define input shape for a 32x32 RGB image\n",
    "\n",
    "    # First Convolutional Block (Swish Activation)\n",
    "    layers.Conv2D(64, (3, 3), activation=activations.swish, padding='same'),  # 64 filters, Swish activation\n",
    "    layers.MaxPooling2D((2, 2)),  # Max pooling to reduce spatial dimensions\n",
    "\n",
    "    # Second Convolutional Block (Swish Activation)\n",
    "    layers.Conv2D(128, (3, 3), activation=activations.swish, padding='same'),  # 128 filters, Swish activation\n",
    "    layers.MaxPooling2D((2, 2)),\n",
    "\n",
    "    # Third Convolutional Block (Swish Activation)\n",
    "    layers.Conv2D(256, (3, 3), activation=activations.swish, padding='same'),  # 256 filters, Swish activation\n",
    "    layers.MaxPooling2D((2, 2)),\n",
    "\n",
    "    # Fully Connected Layers with LeakyReLU Activation\n",
    "    layers.Flatten(),  # Flattening the feature maps into a single vector\n",
    "    layers.Dense(512, activation=None),  # Fully connected layer with 512 neurons (No activation specified yet)\n",
    "    layers.LeakyReLU(negative_slope=0.01),  # Applying LeakyReLU activation to prevent dying neurons issue\n",
    "    layers.Dense(10, activation='softmax')  # Output layer with 10 neurons for classification (softmax for multi-class)\n",
    "])\n",
    "\n",
    "# Compile the model using Adam optimizer and categorical cross-entropy loss\n",
    "model_swish_leakyrelu.compile(optimizer='adam',\n",
    "                              loss='categorical_crossentropy',\n",
    "                              metrics=['accuracy'])\n",
    "\n",
    "# Train the model using training data\n",
    "history_swish_leakyrelu = model_swish_leakyrelu.fit(x_train_final, y_train_final,\n",
    "                                                    epochs=25,  # Number of training epochs\n",
    "                                                    batch_size=64,  # Mini-batch size\n",
    "                                                    validation_data=(x_test_final, y_test_final))  # Validate on test set\n",
    "\n",
    "# Evaluate the model on the test dataset\n",
    "test_loss_swish_leakyrelu, test_accuracy_swish_leakyrelu = model_swish_leakyrelu.evaluate(x_test_final, y_test_final)\n",
    "print(f\"Test Accuracy (Swish + LeakyReLU): {test_accuracy_swish_leakyrelu * 100:.2f}%\")"
   ]
  },
  {
   "cell_type": "markdown",
   "metadata": {
    "id": "t9SCf0LJskF-",
    "jp-MarkdownHeadingCollapsed": true
   },
   "source": [
    "#### Task 5.3.9 Conclusion:"
   ]
  },
  {
   "cell_type": "markdown",
   "metadata": {
    "id": "yNdJjC8oiQPm"
   },
   "source": [
    "<font color = green>The CNN model utilizing Swish activation in convolutional layers and LeakyReLU in fully connected layers achieved a test accuracy of 71.60%, which is slightly lower than the Swish-only model (72.20%) and the ReLU-based model (73.60%). While the combination aimed to leverage Swish’s smooth activation for feature extraction and LeakyReLU’s ability to mitigate neuron dying issues, it did not significantly improve performance. The results suggest that Swish remains effective in convolutional layers, but the expected benefits of LeakyReLU in fully connected layers did not lead to a notable accuracy boost."
   ]
  },
  {
   "cell_type": "markdown",
   "metadata": {
    "id": "RGZlx2rUiQPm"
   },
   "source": [
    "#### Task 5.3.10: Experimenting with Custom (Scaled Swish) activation function"
   ]
  },
  {
   "cell_type": "code",
   "execution_count": null,
   "metadata": {
    "colab": {
     "base_uri": "https://localhost:8080/"
    },
    "collapsed": true,
    "id": "x_Nesz6Fn5Hh",
    "jupyter": {
     "outputs_hidden": true,
     "source_hidden": true
    },
    "outputId": "b16b4c89-aada-47aa-8411-b5eb98a9d845"
   },
   "outputs": [
    {
     "name": "stdout",
     "output_type": "stream",
     "text": [
      "Epoch 1/25\n",
      "\u001b[1m47/47\u001b[0m \u001b[32m━━━━━━━━━━━━━━━━━━━━\u001b[0m\u001b[37m\u001b[0m \u001b[1m11s\u001b[0m 116ms/step - accuracy: 0.2935 - loss: 1.9357 - val_accuracy: 0.5620 - val_loss: 1.2914\n",
      "Epoch 2/25\n",
      "\u001b[1m47/47\u001b[0m \u001b[32m━━━━━━━━━━━━━━━━━━━━\u001b[0m\u001b[37m\u001b[0m \u001b[1m1s\u001b[0m 26ms/step - accuracy: 0.5225 - loss: 1.3284 - val_accuracy: 0.5540 - val_loss: 1.1760\n",
      "Epoch 3/25\n",
      "\u001b[1m47/47\u001b[0m \u001b[32m━━━━━━━━━━━━━━━━━━━━\u001b[0m\u001b[37m\u001b[0m \u001b[1m1s\u001b[0m 24ms/step - accuracy: 0.5961 - loss: 1.1321 - val_accuracy: 0.6100 - val_loss: 1.0376\n",
      "Epoch 4/25\n",
      "\u001b[1m47/47\u001b[0m \u001b[32m━━━━━━━━━━━━━━━━━━━━\u001b[0m\u001b[37m\u001b[0m \u001b[1m1s\u001b[0m 25ms/step - accuracy: 0.6708 - loss: 0.9577 - val_accuracy: 0.6420 - val_loss: 1.0626\n",
      "Epoch 5/25\n",
      "\u001b[1m47/47\u001b[0m \u001b[32m━━━━━━━━━━━━━━━━━━━━\u001b[0m\u001b[37m\u001b[0m \u001b[1m1s\u001b[0m 27ms/step - accuracy: 0.7159 - loss: 0.7758 - val_accuracy: 0.6560 - val_loss: 0.9792\n",
      "Epoch 6/25\n",
      "\u001b[1m47/47\u001b[0m \u001b[32m━━━━━━━━━━━━━━━━━━━━\u001b[0m\u001b[37m\u001b[0m \u001b[1m1s\u001b[0m 25ms/step - accuracy: 0.7855 - loss: 0.6148 - val_accuracy: 0.6460 - val_loss: 1.0075\n",
      "Epoch 7/25\n",
      "\u001b[1m47/47\u001b[0m \u001b[32m━━━━━━━━━━━━━━━━━━━━\u001b[0m\u001b[37m\u001b[0m \u001b[1m1s\u001b[0m 25ms/step - accuracy: 0.8345 - loss: 0.4640 - val_accuracy: 0.6480 - val_loss: 1.2183\n",
      "Epoch 8/25\n",
      "\u001b[1m47/47\u001b[0m \u001b[32m━━━━━━━━━━━━━━━━━━━━\u001b[0m\u001b[37m\u001b[0m \u001b[1m1s\u001b[0m 24ms/step - accuracy: 0.8588 - loss: 0.4193 - val_accuracy: 0.6300 - val_loss: 1.2055\n",
      "Epoch 9/25\n",
      "\u001b[1m47/47\u001b[0m \u001b[32m━━━━━━━━━━━━━━━━━━━━\u001b[0m\u001b[37m\u001b[0m \u001b[1m1s\u001b[0m 24ms/step - accuracy: 0.9026 - loss: 0.2687 - val_accuracy: 0.6500 - val_loss: 1.3265\n",
      "Epoch 10/25\n",
      "\u001b[1m47/47\u001b[0m \u001b[32m━━━━━━━━━━━━━━━━━━━━\u001b[0m\u001b[37m\u001b[0m \u001b[1m1s\u001b[0m 25ms/step - accuracy: 0.9156 - loss: 0.2309 - val_accuracy: 0.6620 - val_loss: 1.4267\n",
      "Epoch 11/25\n",
      "\u001b[1m47/47\u001b[0m \u001b[32m━━━━━━━━━━━━━━━━━━━━\u001b[0m\u001b[37m\u001b[0m \u001b[1m1s\u001b[0m 24ms/step - accuracy: 0.9335 - loss: 0.1946 - val_accuracy: 0.6500 - val_loss: 1.4361\n",
      "Epoch 12/25\n",
      "\u001b[1m47/47\u001b[0m \u001b[32m━━━━━━━━━━━━━━━━━━━━\u001b[0m\u001b[37m\u001b[0m \u001b[1m1s\u001b[0m 24ms/step - accuracy: 0.9550 - loss: 0.1353 - val_accuracy: 0.6400 - val_loss: 1.5653\n",
      "Epoch 13/25\n",
      "\u001b[1m47/47\u001b[0m \u001b[32m━━━━━━━━━━━━━━━━━━━━\u001b[0m\u001b[37m\u001b[0m \u001b[1m1s\u001b[0m 27ms/step - accuracy: 0.9454 - loss: 0.1649 - val_accuracy: 0.6600 - val_loss: 1.6299\n",
      "Epoch 14/25\n",
      "\u001b[1m47/47\u001b[0m \u001b[32m━━━━━━━━━━━━━━━━━━━━\u001b[0m\u001b[37m\u001b[0m \u001b[1m1s\u001b[0m 28ms/step - accuracy: 0.9467 - loss: 0.1450 - val_accuracy: 0.6440 - val_loss: 1.7076\n",
      "Epoch 15/25\n",
      "\u001b[1m47/47\u001b[0m \u001b[32m━━━━━━━━━━━━━━━━━━━━\u001b[0m\u001b[37m\u001b[0m \u001b[1m1s\u001b[0m 27ms/step - accuracy: 0.9528 - loss: 0.1417 - val_accuracy: 0.6620 - val_loss: 1.6325\n",
      "Epoch 16/25\n",
      "\u001b[1m47/47\u001b[0m \u001b[32m━━━━━━━━━━━━━━━━━━━━\u001b[0m\u001b[37m\u001b[0m \u001b[1m1s\u001b[0m 25ms/step - accuracy: 0.9750 - loss: 0.0850 - val_accuracy: 0.6860 - val_loss: 1.7716\n",
      "Epoch 17/25\n",
      "\u001b[1m47/47\u001b[0m \u001b[32m━━━━━━━━━━━━━━━━━━━━\u001b[0m\u001b[37m\u001b[0m \u001b[1m1s\u001b[0m 25ms/step - accuracy: 0.9729 - loss: 0.0853 - val_accuracy: 0.6380 - val_loss: 1.7558\n",
      "Epoch 18/25\n",
      "\u001b[1m47/47\u001b[0m \u001b[32m━━━━━━━━━━━━━━━━━━━━\u001b[0m\u001b[37m\u001b[0m \u001b[1m1s\u001b[0m 24ms/step - accuracy: 0.9699 - loss: 0.0870 - val_accuracy: 0.6660 - val_loss: 1.9307\n",
      "Epoch 19/25\n",
      "\u001b[1m47/47\u001b[0m \u001b[32m━━━━━━━━━━━━━━━━━━━━\u001b[0m\u001b[37m\u001b[0m \u001b[1m1s\u001b[0m 24ms/step - accuracy: 0.9715 - loss: 0.0920 - val_accuracy: 0.6700 - val_loss: 1.9144\n",
      "Epoch 20/25\n",
      "\u001b[1m47/47\u001b[0m \u001b[32m━━━━━━━━━━━━━━━━━━━━\u001b[0m\u001b[37m\u001b[0m \u001b[1m1s\u001b[0m 24ms/step - accuracy: 0.9703 - loss: 0.0862 - val_accuracy: 0.6260 - val_loss: 2.5791\n",
      "Epoch 21/25\n",
      "\u001b[1m47/47\u001b[0m \u001b[32m━━━━━━━━━━━━━━━━━━━━\u001b[0m\u001b[37m\u001b[0m \u001b[1m1s\u001b[0m 24ms/step - accuracy: 0.9467 - loss: 0.1528 - val_accuracy: 0.7000 - val_loss: 1.5744\n",
      "Epoch 22/25\n",
      "\u001b[1m47/47\u001b[0m \u001b[32m━━━━━━━━━━━━━━━━━━━━\u001b[0m\u001b[37m\u001b[0m \u001b[1m1s\u001b[0m 24ms/step - accuracy: 0.9576 - loss: 0.1316 - val_accuracy: 0.6620 - val_loss: 1.7575\n",
      "Epoch 23/25\n",
      "\u001b[1m47/47\u001b[0m \u001b[32m━━━━━━━━━━━━━━━━━━━━\u001b[0m\u001b[37m\u001b[0m \u001b[1m1s\u001b[0m 24ms/step - accuracy: 0.9739 - loss: 0.0816 - val_accuracy: 0.6800 - val_loss: 1.6773\n",
      "Epoch 24/25\n",
      "\u001b[1m47/47\u001b[0m \u001b[32m━━━━━━━━━━━━━━━━━━━━\u001b[0m\u001b[37m\u001b[0m \u001b[1m1s\u001b[0m 25ms/step - accuracy: 0.9822 - loss: 0.0638 - val_accuracy: 0.6780 - val_loss: 1.9313\n",
      "Epoch 25/25\n",
      "\u001b[1m47/47\u001b[0m \u001b[32m━━━━━━━━━━━━━━━━━━━━\u001b[0m\u001b[37m\u001b[0m \u001b[1m1s\u001b[0m 27ms/step - accuracy: 0.9831 - loss: 0.0480 - val_accuracy: 0.6600 - val_loss: 1.9865\n",
      "Test Accuracy (Custom Swish): 66.00%\n"
     ]
    }
   ],
   "source": [
    "# Define a custom Swish activation function with a scaling factor\n",
    "def custom_swish(x):\n",
    "    return 1.5 * x * sigmoid(x)  # Swish activation with scaling factor 1.5\n",
    "\n",
    "# Define CNN model using the Custom Swish activation function\n",
    "model_custom_swish = models.Sequential([\n",
    "    layers.Input(shape=(32, 32, 3)),  # Input layer for 32x32 RGB images\n",
    "\n",
    "    # First Convolutional Block with Custom Swish Activation\n",
    "    layers.Conv2D(64, (3, 3), activation=custom_swish, padding='same'),  # 64 filters, kernel size 3x3\n",
    "    layers.Conv2D(64, (3, 3), activation=custom_swish, padding='same'),\n",
    "    layers.MaxPooling2D((2, 2)),  # Max pooling to reduce spatial dimensions\n",
    "    layers.Dropout(0.2),  # Dropout to prevent overfitting\n",
    "\n",
    "    # Second Convolutional Block with Custom Swish Activation\n",
    "    layers.Conv2D(128, (3, 3), activation=custom_swish, padding='same'),  # 128 filters\n",
    "    layers.Conv2D(128, (3, 3), activation=custom_swish, padding='same'),\n",
    "    layers.MaxPooling2D((2, 2)),\n",
    "    layers.Dropout(0.3),\n",
    "\n",
    "    # Fully Connected Layers\n",
    "    layers.Flatten(),  # Flatten feature maps into a single vector\n",
    "    layers.Dense(512, activation=custom_swish),  # Fully connected layer with Custom Swish activation\n",
    "    layers.Dropout(0.5),  # Dropout to reduce overfitting\n",
    "    layers.Dense(10, activation='softmax')  # Output layer with 10 classes for classification\n",
    "])\n",
    "\n",
    "# Compile the model using Adam optimizer and categorical cross-entropy loss\n",
    "model_custom_swish.compile(optimizer='adam',\n",
    "                           loss='categorical_crossentropy',\n",
    "                           metrics=['accuracy'])\n",
    "\n",
    "# Train the model using the training dataset\n",
    "history_custom_swish = model_custom_swish.fit(x_train_final, y_train_final,\n",
    "                                              epochs=25,  # Train for 25 epochs\n",
    "                                              batch_size=64,  # Use batch size of 64\n",
    "                                              validation_data=(x_test_final, y_test_final))  # Validate on test data\n",
    "\n",
    "# Evaluate the model on the test dataset\n",
    "test_loss, test_acc = model_custom_swish.evaluate(x_test_final, y_test_final, verbose=0)\n",
    "print(f'Test Accuracy (Custom Swish): {test_acc * 100:.2f}%')"
   ]
  },
  {
   "cell_type": "markdown",
   "metadata": {
    "id": "q3Bav954nRpl",
    "jp-MarkdownHeadingCollapsed": true
   },
   "source": [
    "#### Task 5.3.10 Conclusion:"
   ]
  },
  {
   "cell_type": "markdown",
   "metadata": {
    "id": "N5ZDPBY8iQPm"
   },
   "source": [
    "<font color = green>The CNN model incorporating a custom Swish activation function with a scaling factor of 1.5 achieved a test accuracy of 66.00%, which is lower than other configurations, including the standard Swish (72.20%) and ReLU (73.60%) models. While the scaling factor was intended to enhance the Swish function’s flexibility, it may have led to vanishing or exploding activations, reducing the model's ability to learn effectively. Additionally, the deeper convolutional layers and fully connected layers may have been affected by the modified activation function’s gradient behavior. These results suggest that while Swish is effective, tuning its scaling factor requires careful experimentation, and standard implementations may perform more reliably in this scenario."
   ]
  },
  {
   "cell_type": "markdown",
   "metadata": {
    "id": "d4ItXKgEiQPm"
   },
   "source": [
    "### Task 5.4: Experiment with various optimizers (https://keras.io/api/optimizers/) and learning rate. What is the effect on the resulting model accuracy?\n",
    "Experimenting with different optimizers including SGD, Adam, RMSprop, Adagrad, and AdamW, each with different learning rates."
   ]
  },
  {
   "cell_type": "code",
   "execution_count": null,
   "metadata": {
    "colab": {
     "base_uri": "https://localhost:8080/"
    },
    "collapsed": true,
    "id": "lvqyPN64tBPL",
    "jupyter": {
     "outputs_hidden": true,
     "source_hidden": true
    },
    "outputId": "06ef2822-c7cf-474e-9d03-03eb71d85e57"
   },
   "outputs": [
    {
     "name": "stdout",
     "output_type": "stream",
     "text": [
      "\n",
      "Training with SGD_0.01...\n",
      "\n",
      "Epoch 1/10\n",
      "\u001b[1m47/47\u001b[0m \u001b[32m━━━━━━━━━━━━━━━━━━━━\u001b[0m\u001b[37m\u001b[0m \u001b[1m9s\u001b[0m 108ms/step - accuracy: 0.1019 - loss: 2.3056 - val_accuracy: 0.1220 - val_loss: 2.3022\n",
      "Epoch 2/10\n",
      "\u001b[1m47/47\u001b[0m \u001b[32m━━━━━━━━━━━━━━━━━━━━\u001b[0m\u001b[37m\u001b[0m \u001b[1m1s\u001b[0m 24ms/step - accuracy: 0.1051 - loss: 2.3037 - val_accuracy: 0.1100 - val_loss: 2.3016\n",
      "Epoch 3/10\n",
      "\u001b[1m47/47\u001b[0m \u001b[32m━━━━━━━━━━━━━━━━━━━━\u001b[0m\u001b[37m\u001b[0m \u001b[1m1s\u001b[0m 25ms/step - accuracy: 0.1102 - loss: 2.3019 - val_accuracy: 0.1260 - val_loss: 2.3004\n",
      "Epoch 4/10\n",
      "\u001b[1m47/47\u001b[0m \u001b[32m━━━━━━━━━━━━━━━━━━━━\u001b[0m\u001b[37m\u001b[0m \u001b[1m1s\u001b[0m 22ms/step - accuracy: 0.1002 - loss: 2.3009 - val_accuracy: 0.1400 - val_loss: 2.2995\n",
      "Epoch 5/10\n",
      "\u001b[1m47/47\u001b[0m \u001b[32m━━━━━━━━━━━━━━━━━━━━\u001b[0m\u001b[37m\u001b[0m \u001b[1m1s\u001b[0m 21ms/step - accuracy: 0.1175 - loss: 2.2996 - val_accuracy: 0.1400 - val_loss: 2.2981\n",
      "Epoch 6/10\n",
      "\u001b[1m47/47\u001b[0m \u001b[32m━━━━━━━━━━━━━━━━━━━━\u001b[0m\u001b[37m\u001b[0m \u001b[1m1s\u001b[0m 21ms/step - accuracy: 0.1190 - loss: 2.2987 - val_accuracy: 0.1760 - val_loss: 2.2966\n",
      "Epoch 7/10\n",
      "\u001b[1m47/47\u001b[0m \u001b[32m━━━━━━━━━━━━━━━━━━━━\u001b[0m\u001b[37m\u001b[0m \u001b[1m1s\u001b[0m 21ms/step - accuracy: 0.1142 - loss: 2.2961 - val_accuracy: 0.1380 - val_loss: 2.2940\n",
      "Epoch 8/10\n",
      "\u001b[1m47/47\u001b[0m \u001b[32m━━━━━━━━━━━━━━━━━━━━\u001b[0m\u001b[37m\u001b[0m \u001b[1m1s\u001b[0m 21ms/step - accuracy: 0.1294 - loss: 2.2938 - val_accuracy: 0.1740 - val_loss: 2.2908\n",
      "Epoch 9/10\n",
      "\u001b[1m47/47\u001b[0m \u001b[32m━━━━━━━━━━━━━━━━━━━━\u001b[0m\u001b[37m\u001b[0m \u001b[1m1s\u001b[0m 21ms/step - accuracy: 0.1382 - loss: 2.2908 - val_accuracy: 0.1620 - val_loss: 2.2823\n",
      "Epoch 10/10\n",
      "\u001b[1m47/47\u001b[0m \u001b[32m━━━━━━━━━━━━━━━━━━━━\u001b[0m\u001b[37m\u001b[0m \u001b[1m1s\u001b[0m 20ms/step - accuracy: 0.1219 - loss: 2.2815 - val_accuracy: 0.2140 - val_loss: 2.2664\n",
      "Test Accuracy with SGD_0.01: 21.40%\n",
      "\n",
      "Training with SGD_0.001...\n",
      "\n",
      "Epoch 1/10\n",
      "\u001b[1m47/47\u001b[0m \u001b[32m━━━━━━━━━━━━━━━━━━━━\u001b[0m\u001b[37m\u001b[0m \u001b[1m9s\u001b[0m 100ms/step - accuracy: 0.0983 - loss: 2.3054 - val_accuracy: 0.1200 - val_loss: 2.3036\n",
      "Epoch 2/10\n",
      "\u001b[1m47/47\u001b[0m \u001b[32m━━━━━━━━━━━━━━━━━━━━\u001b[0m\u001b[37m\u001b[0m \u001b[1m1s\u001b[0m 23ms/step - accuracy: 0.0980 - loss: 2.3079 - val_accuracy: 0.1200 - val_loss: 2.3033\n",
      "Epoch 3/10\n",
      "\u001b[1m47/47\u001b[0m \u001b[32m━━━━━━━━━━━━━━━━━━━━\u001b[0m\u001b[37m\u001b[0m \u001b[1m1s\u001b[0m 21ms/step - accuracy: 0.1017 - loss: 2.3061 - val_accuracy: 0.1240 - val_loss: 2.3029\n",
      "Epoch 4/10\n",
      "\u001b[1m47/47\u001b[0m \u001b[32m━━━━━━━━━━━━━━━━━━━━\u001b[0m\u001b[37m\u001b[0m \u001b[1m1s\u001b[0m 21ms/step - accuracy: 0.1008 - loss: 2.3060 - val_accuracy: 0.1300 - val_loss: 2.3026\n",
      "Epoch 5/10\n",
      "\u001b[1m47/47\u001b[0m \u001b[32m━━━━━━━━━━━━━━━━━━━━\u001b[0m\u001b[37m\u001b[0m \u001b[1m1s\u001b[0m 21ms/step - accuracy: 0.1007 - loss: 2.3041 - val_accuracy: 0.1320 - val_loss: 2.3024\n",
      "Epoch 6/10\n",
      "\u001b[1m47/47\u001b[0m \u001b[32m━━━━━━━━━━━━━━━━━━━━\u001b[0m\u001b[37m\u001b[0m \u001b[1m1s\u001b[0m 22ms/step - accuracy: 0.1049 - loss: 2.3030 - val_accuracy: 0.1320 - val_loss: 2.3021\n",
      "Epoch 7/10\n",
      "\u001b[1m47/47\u001b[0m \u001b[32m━━━━━━━━━━━━━━━━━━━━\u001b[0m\u001b[37m\u001b[0m \u001b[1m1s\u001b[0m 23ms/step - accuracy: 0.0954 - loss: 2.3039 - val_accuracy: 0.1360 - val_loss: 2.3019\n",
      "Epoch 8/10\n",
      "\u001b[1m47/47\u001b[0m \u001b[32m━━━━━━━━━━━━━━━━━━━━\u001b[0m\u001b[37m\u001b[0m \u001b[1m1s\u001b[0m 22ms/step - accuracy: 0.1085 - loss: 2.3009 - val_accuracy: 0.1280 - val_loss: 2.3016\n",
      "Epoch 9/10\n",
      "\u001b[1m47/47\u001b[0m \u001b[32m━━━━━━━━━━━━━━━━━━━━\u001b[0m\u001b[37m\u001b[0m \u001b[1m1s\u001b[0m 21ms/step - accuracy: 0.1059 - loss: 2.3029 - val_accuracy: 0.1320 - val_loss: 2.3014\n",
      "Epoch 10/10\n",
      "\u001b[1m47/47\u001b[0m \u001b[32m━━━━━━━━━━━━━━━━━━━━\u001b[0m\u001b[37m\u001b[0m \u001b[1m1s\u001b[0m 21ms/step - accuracy: 0.1048 - loss: 2.3022 - val_accuracy: 0.1340 - val_loss: 2.3012\n",
      "Test Accuracy with SGD_0.001: 13.40%\n",
      "\n",
      "Training with Adam_0.01...\n",
      "\n",
      "Epoch 1/10\n",
      "\u001b[1m47/47\u001b[0m \u001b[32m━━━━━━━━━━━━━━━━━━━━\u001b[0m\u001b[37m\u001b[0m \u001b[1m13s\u001b[0m 130ms/step - accuracy: 0.0950 - loss: 4.2934 - val_accuracy: 0.1000 - val_loss: 2.3043\n",
      "Epoch 2/10\n",
      "\u001b[1m47/47\u001b[0m \u001b[32m━━━━━━━━━━━━━━━━━━━━\u001b[0m\u001b[37m\u001b[0m \u001b[1m1s\u001b[0m 24ms/step - accuracy: 0.0919 - loss: 2.3122 - val_accuracy: 0.1000 - val_loss: 2.3030\n",
      "Epoch 3/10\n",
      "\u001b[1m47/47\u001b[0m \u001b[32m━━━━━━━━━━━━━━━━━━━━\u001b[0m\u001b[37m\u001b[0m \u001b[1m1s\u001b[0m 23ms/step - accuracy: 0.1087 - loss: 2.3029 - val_accuracy: 0.1000 - val_loss: 2.3028\n",
      "Epoch 4/10\n",
      "\u001b[1m47/47\u001b[0m \u001b[32m━━━━━━━━━━━━━━━━━━━━\u001b[0m\u001b[37m\u001b[0m \u001b[1m1s\u001b[0m 23ms/step - accuracy: 0.1190 - loss: 2.3027 - val_accuracy: 0.1000 - val_loss: 2.3027\n",
      "Epoch 5/10\n",
      "\u001b[1m47/47\u001b[0m \u001b[32m━━━━━━━━━━━━━━━━━━━━\u001b[0m\u001b[37m\u001b[0m \u001b[1m1s\u001b[0m 22ms/step - accuracy: 0.1019 - loss: 2.3031 - val_accuracy: 0.1000 - val_loss: 2.3027\n",
      "Epoch 6/10\n",
      "\u001b[1m47/47\u001b[0m \u001b[32m━━━━━━━━━━━━━━━━━━━━\u001b[0m\u001b[37m\u001b[0m \u001b[1m1s\u001b[0m 22ms/step - accuracy: 0.1091 - loss: 2.3035 - val_accuracy: 0.1000 - val_loss: 2.3027\n",
      "Epoch 7/10\n",
      "\u001b[1m47/47\u001b[0m \u001b[32m━━━━━━━━━━━━━━━━━━━━\u001b[0m\u001b[37m\u001b[0m \u001b[1m1s\u001b[0m 25ms/step - accuracy: 0.0859 - loss: 2.3039 - val_accuracy: 0.1000 - val_loss: 2.3028\n",
      "Epoch 8/10\n",
      "\u001b[1m47/47\u001b[0m \u001b[32m━━━━━━━━━━━━━━━━━━━━\u001b[0m\u001b[37m\u001b[0m \u001b[1m1s\u001b[0m 24ms/step - accuracy: 0.1009 - loss: 2.3032 - val_accuracy: 0.1000 - val_loss: 2.3027\n",
      "Epoch 9/10\n",
      "\u001b[1m47/47\u001b[0m \u001b[32m━━━━━━━━━━━━━━━━━━━━\u001b[0m\u001b[37m\u001b[0m \u001b[1m1s\u001b[0m 22ms/step - accuracy: 0.0970 - loss: 2.3032 - val_accuracy: 0.1000 - val_loss: 2.3026\n",
      "Epoch 10/10\n",
      "\u001b[1m47/47\u001b[0m \u001b[32m━━━━━━━━━━━━━━━━━━━━\u001b[0m\u001b[37m\u001b[0m \u001b[1m1s\u001b[0m 22ms/step - accuracy: 0.0952 - loss: 2.3030 - val_accuracy: 0.1000 - val_loss: 2.3027\n",
      "Test Accuracy with Adam_0.01: 10.00%\n",
      "\n",
      "Training with Adam_0.001...\n",
      "\n",
      "Epoch 1/10\n",
      "\u001b[1m47/47\u001b[0m \u001b[32m━━━━━━━━━━━━━━━━━━━━\u001b[0m\u001b[37m\u001b[0m \u001b[1m12s\u001b[0m 130ms/step - accuracy: 0.1648 - loss: 2.1612 - val_accuracy: 0.2860 - val_loss: 1.7500\n",
      "Epoch 2/10\n",
      "\u001b[1m47/47\u001b[0m \u001b[32m━━━━━━━━━━━━━━━━━━━━\u001b[0m\u001b[37m\u001b[0m \u001b[1m1s\u001b[0m 23ms/step - accuracy: 0.3188 - loss: 1.7770 - val_accuracy: 0.3800 - val_loss: 1.5707\n",
      "Epoch 3/10\n",
      "\u001b[1m47/47\u001b[0m \u001b[32m━━━━━━━━━━━━━━━━━━━━\u001b[0m\u001b[37m\u001b[0m \u001b[1m1s\u001b[0m 22ms/step - accuracy: 0.3973 - loss: 1.5944 - val_accuracy: 0.4500 - val_loss: 1.3912\n",
      "Epoch 4/10\n",
      "\u001b[1m47/47\u001b[0m \u001b[32m━━━━━━━━━━━━━━━━━━━━\u001b[0m\u001b[37m\u001b[0m \u001b[1m1s\u001b[0m 22ms/step - accuracy: 0.4515 - loss: 1.4026 - val_accuracy: 0.4980 - val_loss: 1.3616\n",
      "Epoch 5/10\n",
      "\u001b[1m47/47\u001b[0m \u001b[32m━━━━━━━━━━━━━━━━━━━━\u001b[0m\u001b[37m\u001b[0m \u001b[1m1s\u001b[0m 21ms/step - accuracy: 0.4997 - loss: 1.3556 - val_accuracy: 0.5500 - val_loss: 1.2330\n",
      "Epoch 6/10\n",
      "\u001b[1m47/47\u001b[0m \u001b[32m━━━━━━━━━━━━━━━━━━━━\u001b[0m\u001b[37m\u001b[0m \u001b[1m1s\u001b[0m 21ms/step - accuracy: 0.5468 - loss: 1.2090 - val_accuracy: 0.5560 - val_loss: 1.2477\n",
      "Epoch 7/10\n",
      "\u001b[1m47/47\u001b[0m \u001b[32m━━━━━━━━━━━━━━━━━━━━\u001b[0m\u001b[37m\u001b[0m \u001b[1m1s\u001b[0m 21ms/step - accuracy: 0.5698 - loss: 1.2008 - val_accuracy: 0.6440 - val_loss: 1.0483\n",
      "Epoch 8/10\n",
      "\u001b[1m47/47\u001b[0m \u001b[32m━━━━━━━━━━━━━━━━━━━━\u001b[0m\u001b[37m\u001b[0m \u001b[1m1s\u001b[0m 22ms/step - accuracy: 0.5899 - loss: 1.1027 - val_accuracy: 0.6380 - val_loss: 1.0314\n",
      "Epoch 9/10\n",
      "\u001b[1m47/47\u001b[0m \u001b[32m━━━━━━━━━━━━━━━━━━━━\u001b[0m\u001b[37m\u001b[0m \u001b[1m1s\u001b[0m 24ms/step - accuracy: 0.5937 - loss: 1.0513 - val_accuracy: 0.6400 - val_loss: 1.0178\n",
      "Epoch 10/10\n",
      "\u001b[1m47/47\u001b[0m \u001b[32m━━━━━━━━━━━━━━━━━━━━\u001b[0m\u001b[37m\u001b[0m \u001b[1m1s\u001b[0m 23ms/step - accuracy: 0.6442 - loss: 0.9515 - val_accuracy: 0.6220 - val_loss: 0.9550\n",
      "Test Accuracy with Adam_0.001: 62.20%\n",
      "\n",
      "Training with RMSprop_0.001...\n",
      "\n",
      "Epoch 1/10\n",
      "\u001b[1m47/47\u001b[0m \u001b[32m━━━━━━━━━━━━━━━━━━━━\u001b[0m\u001b[37m\u001b[0m \u001b[1m11s\u001b[0m 139ms/step - accuracy: 0.1090 - loss: 2.2987 - val_accuracy: 0.2560 - val_loss: 1.9936\n",
      "Epoch 2/10\n",
      "\u001b[1m47/47\u001b[0m \u001b[32m━━━━━━━━━━━━━━━━━━━━\u001b[0m\u001b[37m\u001b[0m \u001b[1m1s\u001b[0m 30ms/step - accuracy: 0.2633 - loss: 1.9231 - val_accuracy: 0.3280 - val_loss: 1.6982\n",
      "Epoch 3/10\n",
      "\u001b[1m47/47\u001b[0m \u001b[32m━━━━━━━━━━━━━━━━━━━━\u001b[0m\u001b[37m\u001b[0m \u001b[1m1s\u001b[0m 22ms/step - accuracy: 0.3027 - loss: 1.8363 - val_accuracy: 0.4180 - val_loss: 1.6167\n",
      "Epoch 4/10\n",
      "\u001b[1m47/47\u001b[0m \u001b[32m━━━━━━━━━━━━━━━━━━━━\u001b[0m\u001b[37m\u001b[0m \u001b[1m1s\u001b[0m 21ms/step - accuracy: 0.3694 - loss: 1.6945 - val_accuracy: 0.3840 - val_loss: 1.5892\n",
      "Epoch 5/10\n",
      "\u001b[1m47/47\u001b[0m \u001b[32m━━━━━━━━━━━━━━━━━━━━\u001b[0m\u001b[37m\u001b[0m \u001b[1m1s\u001b[0m 21ms/step - accuracy: 0.3996 - loss: 1.6115 - val_accuracy: 0.4880 - val_loss: 1.3571\n",
      "Epoch 6/10\n",
      "\u001b[1m47/47\u001b[0m \u001b[32m━━━━━━━━━━━━━━━━━━━━\u001b[0m\u001b[37m\u001b[0m \u001b[1m1s\u001b[0m 20ms/step - accuracy: 0.4550 - loss: 1.4552 - val_accuracy: 0.5120 - val_loss: 1.2487\n",
      "Epoch 7/10\n",
      "\u001b[1m47/47\u001b[0m \u001b[32m━━━━━━━━━━━━━━━━━━━━\u001b[0m\u001b[37m\u001b[0m \u001b[1m1s\u001b[0m 20ms/step - accuracy: 0.4782 - loss: 1.3961 - val_accuracy: 0.5640 - val_loss: 1.1866\n",
      "Epoch 8/10\n",
      "\u001b[1m47/47\u001b[0m \u001b[32m━━━━━━━━━━━━━━━━━━━━\u001b[0m\u001b[37m\u001b[0m \u001b[1m1s\u001b[0m 21ms/step - accuracy: 0.4909 - loss: 1.3863 - val_accuracy: 0.5000 - val_loss: 1.3434\n",
      "Epoch 9/10\n",
      "\u001b[1m47/47\u001b[0m \u001b[32m━━━━━━━━━━━━━━━━━━━━\u001b[0m\u001b[37m\u001b[0m \u001b[1m1s\u001b[0m 21ms/step - accuracy: 0.5100 - loss: 1.3056 - val_accuracy: 0.5960 - val_loss: 1.1130\n",
      "Epoch 10/10\n",
      "\u001b[1m47/47\u001b[0m \u001b[32m━━━━━━━━━━━━━━━━━━━━\u001b[0m\u001b[37m\u001b[0m \u001b[1m1s\u001b[0m 21ms/step - accuracy: 0.5552 - loss: 1.1991 - val_accuracy: 0.5760 - val_loss: 1.1579\n",
      "Test Accuracy with RMSprop_0.001: 57.60%\n",
      "\n",
      "Training with RMSprop_0.0001...\n",
      "\n",
      "Epoch 1/10\n",
      "\u001b[1m47/47\u001b[0m \u001b[32m━━━━━━━━━━━━━━━━━━━━\u001b[0m\u001b[37m\u001b[0m \u001b[1m10s\u001b[0m 115ms/step - accuracy: 0.0961 - loss: 2.3030 - val_accuracy: 0.1820 - val_loss: 2.2871\n",
      "Epoch 2/10\n",
      "\u001b[1m47/47\u001b[0m \u001b[32m━━━━━━━━━━━━━━━━━━━━\u001b[0m\u001b[37m\u001b[0m \u001b[1m1s\u001b[0m 27ms/step - accuracy: 0.1772 - loss: 2.2285 - val_accuracy: 0.2560 - val_loss: 1.9380\n",
      "Epoch 3/10\n",
      "\u001b[1m47/47\u001b[0m \u001b[32m━━━━━━━━━━━━━━━━━━━━\u001b[0m\u001b[37m\u001b[0m \u001b[1m1s\u001b[0m 24ms/step - accuracy: 0.2656 - loss: 1.9214 - val_accuracy: 0.2820 - val_loss: 1.8427\n",
      "Epoch 4/10\n",
      "\u001b[1m47/47\u001b[0m \u001b[32m━━━━━━━━━━━━━━━━━━━━\u001b[0m\u001b[37m\u001b[0m \u001b[1m1s\u001b[0m 22ms/step - accuracy: 0.2861 - loss: 1.8401 - val_accuracy: 0.3220 - val_loss: 1.7575\n",
      "Epoch 5/10\n",
      "\u001b[1m47/47\u001b[0m \u001b[32m━━━━━━━━━━━━━━━━━━━━\u001b[0m\u001b[37m\u001b[0m \u001b[1m1s\u001b[0m 22ms/step - accuracy: 0.3188 - loss: 1.7854 - val_accuracy: 0.3220 - val_loss: 1.7305\n",
      "Epoch 6/10\n",
      "\u001b[1m47/47\u001b[0m \u001b[32m━━━━━━━━━━━━━━━━━━━━\u001b[0m\u001b[37m\u001b[0m \u001b[1m1s\u001b[0m 21ms/step - accuracy: 0.3384 - loss: 1.7559 - val_accuracy: 0.3540 - val_loss: 1.6654\n",
      "Epoch 7/10\n",
      "\u001b[1m47/47\u001b[0m \u001b[32m━━━━━━━━━━━━━━━━━━━━\u001b[0m\u001b[37m\u001b[0m \u001b[1m1s\u001b[0m 22ms/step - accuracy: 0.3433 - loss: 1.7132 - val_accuracy: 0.3720 - val_loss: 1.6116\n",
      "Epoch 8/10\n",
      "\u001b[1m47/47\u001b[0m \u001b[32m━━━━━━━━━━━━━━━━━━━━\u001b[0m\u001b[37m\u001b[0m \u001b[1m1s\u001b[0m 21ms/step - accuracy: 0.3301 - loss: 1.7108 - val_accuracy: 0.4180 - val_loss: 1.5919\n",
      "Epoch 9/10\n",
      "\u001b[1m47/47\u001b[0m \u001b[32m━━━━━━━━━━━━━━━━━━━━\u001b[0m\u001b[37m\u001b[0m \u001b[1m1s\u001b[0m 21ms/step - accuracy: 0.3788 - loss: 1.6460 - val_accuracy: 0.4020 - val_loss: 1.5507\n",
      "Epoch 10/10\n",
      "\u001b[1m47/47\u001b[0m \u001b[32m━━━━━━━━━━━━━━━━━━━━\u001b[0m\u001b[37m\u001b[0m \u001b[1m1s\u001b[0m 21ms/step - accuracy: 0.3734 - loss: 1.6473 - val_accuracy: 0.3880 - val_loss: 1.7175\n",
      "Test Accuracy with RMSprop_0.0001: 38.80%\n",
      "\n",
      "Training with Adagrad_0.01...\n",
      "\n",
      "Epoch 1/10\n",
      "\u001b[1m47/47\u001b[0m \u001b[32m━━━━━━━━━━━━━━━━━━━━\u001b[0m\u001b[37m\u001b[0m \u001b[1m11s\u001b[0m 114ms/step - accuracy: 0.0958 - loss: 2.3051 - val_accuracy: 0.1880 - val_loss: 2.2965\n",
      "Epoch 2/10\n",
      "\u001b[1m47/47\u001b[0m \u001b[32m━━━━━━━━━━━━━━━━━━━━\u001b[0m\u001b[37m\u001b[0m \u001b[1m1s\u001b[0m 23ms/step - accuracy: 0.1234 - loss: 2.2962 - val_accuracy: 0.2180 - val_loss: 2.2789\n",
      "Epoch 3/10\n",
      "\u001b[1m47/47\u001b[0m \u001b[32m━━━━━━━━━━━━━━━━━━━━\u001b[0m\u001b[37m\u001b[0m \u001b[1m1s\u001b[0m 21ms/step - accuracy: 0.1554 - loss: 2.2526 - val_accuracy: 0.2160 - val_loss: 2.2102\n",
      "Epoch 4/10\n",
      "\u001b[1m47/47\u001b[0m \u001b[32m━━━━━━━━━━━━━━━━━━━━\u001b[0m\u001b[37m\u001b[0m \u001b[1m1s\u001b[0m 23ms/step - accuracy: 0.2271 - loss: 2.0913 - val_accuracy: 0.2820 - val_loss: 1.8560\n",
      "Epoch 5/10\n",
      "\u001b[1m47/47\u001b[0m \u001b[32m━━━━━━━━━━━━━━━━━━━━\u001b[0m\u001b[37m\u001b[0m \u001b[1m1s\u001b[0m 24ms/step - accuracy: 0.2481 - loss: 1.9696 - val_accuracy: 0.2620 - val_loss: 1.8900\n",
      "Epoch 6/10\n",
      "\u001b[1m47/47\u001b[0m \u001b[32m━━━━━━━━━━━━━━━━━━━━\u001b[0m\u001b[37m\u001b[0m \u001b[1m1s\u001b[0m 22ms/step - accuracy: 0.2622 - loss: 1.8640 - val_accuracy: 0.3600 - val_loss: 1.7406\n",
      "Epoch 7/10\n",
      "\u001b[1m47/47\u001b[0m \u001b[32m━━━━━━━━━━━━━━━━━━━━\u001b[0m\u001b[37m\u001b[0m \u001b[1m1s\u001b[0m 21ms/step - accuracy: 0.2910 - loss: 1.8049 - val_accuracy: 0.3380 - val_loss: 1.7020\n",
      "Epoch 8/10\n",
      "\u001b[1m47/47\u001b[0m \u001b[32m━━━━━━━━━━━━━━━━━━━━\u001b[0m\u001b[37m\u001b[0m \u001b[1m1s\u001b[0m 21ms/step - accuracy: 0.3178 - loss: 1.7655 - val_accuracy: 0.3840 - val_loss: 1.6464\n",
      "Epoch 9/10\n",
      "\u001b[1m47/47\u001b[0m \u001b[32m━━━━━━━━━━━━━━━━━━━━\u001b[0m\u001b[37m\u001b[0m \u001b[1m1s\u001b[0m 21ms/step - accuracy: 0.3229 - loss: 1.7329 - val_accuracy: 0.3860 - val_loss: 1.6144\n",
      "Epoch 10/10\n",
      "\u001b[1m47/47\u001b[0m \u001b[32m━━━━━━━━━━━━━━━━━━━━\u001b[0m\u001b[37m\u001b[0m \u001b[1m1s\u001b[0m 21ms/step - accuracy: 0.3360 - loss: 1.6995 - val_accuracy: 0.4240 - val_loss: 1.5907\n",
      "Test Accuracy with Adagrad_0.01: 42.40%\n",
      "\n",
      "Training with Adagrad_0.001...\n",
      "\n",
      "Epoch 1/10\n",
      "\u001b[1m47/47\u001b[0m \u001b[32m━━━━━━━━━━━━━━━━━━━━\u001b[0m\u001b[37m\u001b[0m \u001b[1m10s\u001b[0m 113ms/step - accuracy: 0.0898 - loss: 2.3049 - val_accuracy: 0.1020 - val_loss: 2.3019\n",
      "Epoch 2/10\n",
      "\u001b[1m47/47\u001b[0m \u001b[32m━━━━━━━━━━━━━━━━━━━━\u001b[0m\u001b[37m\u001b[0m \u001b[1m1s\u001b[0m 24ms/step - accuracy: 0.1068 - loss: 2.3039 - val_accuracy: 0.1240 - val_loss: 2.3015\n",
      "Epoch 3/10\n",
      "\u001b[1m47/47\u001b[0m \u001b[32m━━━━━━━━━━━━━━━━━━━━\u001b[0m\u001b[37m\u001b[0m \u001b[1m1s\u001b[0m 22ms/step - accuracy: 0.0952 - loss: 2.3043 - val_accuracy: 0.1340 - val_loss: 2.3011\n",
      "Epoch 4/10\n",
      "\u001b[1m47/47\u001b[0m \u001b[32m━━━━━━━━━━━━━━━━━━━━\u001b[0m\u001b[37m\u001b[0m \u001b[1m1s\u001b[0m 22ms/step - accuracy: 0.1171 - loss: 2.3012 - val_accuracy: 0.1500 - val_loss: 2.3007\n",
      "Epoch 5/10\n",
      "\u001b[1m47/47\u001b[0m \u001b[32m━━━━━━━━━━━━━━━━━━━━\u001b[0m\u001b[37m\u001b[0m \u001b[1m1s\u001b[0m 22ms/step - accuracy: 0.1116 - loss: 2.3025 - val_accuracy: 0.1440 - val_loss: 2.3004\n",
      "Epoch 6/10\n",
      "\u001b[1m47/47\u001b[0m \u001b[32m━━━━━━━━━━━━━━━━━━━━\u001b[0m\u001b[37m\u001b[0m \u001b[1m1s\u001b[0m 22ms/step - accuracy: 0.1166 - loss: 2.3013 - val_accuracy: 0.1560 - val_loss: 2.3002\n",
      "Epoch 7/10\n",
      "\u001b[1m47/47\u001b[0m \u001b[32m━━━━━━━━━━━━━━━━━━━━\u001b[0m\u001b[37m\u001b[0m \u001b[1m1s\u001b[0m 21ms/step - accuracy: 0.0923 - loss: 2.3022 - val_accuracy: 0.1660 - val_loss: 2.2998\n",
      "Epoch 8/10\n",
      "\u001b[1m47/47\u001b[0m \u001b[32m━━━━━━━━━━━━━━━━━━━━\u001b[0m\u001b[37m\u001b[0m \u001b[1m1s\u001b[0m 23ms/step - accuracy: 0.1088 - loss: 2.3000 - val_accuracy: 0.1740 - val_loss: 2.2994\n",
      "Epoch 9/10\n",
      "\u001b[1m47/47\u001b[0m \u001b[32m━━━━━━━━━━━━━━━━━━━━\u001b[0m\u001b[37m\u001b[0m \u001b[1m1s\u001b[0m 24ms/step - accuracy: 0.1049 - loss: 2.3007 - val_accuracy: 0.1880 - val_loss: 2.2990\n",
      "Epoch 10/10\n",
      "\u001b[1m47/47\u001b[0m \u001b[32m━━━━━━━━━━━━━━━━━━━━\u001b[0m\u001b[37m\u001b[0m \u001b[1m1s\u001b[0m 22ms/step - accuracy: 0.0929 - loss: 2.3025 - val_accuracy: 0.1860 - val_loss: 2.2987\n",
      "Test Accuracy with Adagrad_0.001: 18.60%\n",
      "\n",
      "Training with AdamW_0.001...\n",
      "\n",
      "Epoch 1/10\n",
      "\u001b[1m47/47\u001b[0m \u001b[32m━━━━━━━━━━━━━━━━━━━━\u001b[0m\u001b[37m\u001b[0m \u001b[1m13s\u001b[0m 145ms/step - accuracy: 0.1144 - loss: 2.2385 - val_accuracy: 0.3000 - val_loss: 1.8200\n",
      "Epoch 2/10\n",
      "\u001b[1m47/47\u001b[0m \u001b[32m━━━━━━━━━━━━━━━━━━━━\u001b[0m\u001b[37m\u001b[0m \u001b[1m1s\u001b[0m 24ms/step - accuracy: 0.2866 - loss: 1.8639 - val_accuracy: 0.4180 - val_loss: 1.6273\n",
      "Epoch 3/10\n",
      "\u001b[1m47/47\u001b[0m \u001b[32m━━━━━━━━━━━━━━━━━━━━\u001b[0m\u001b[37m\u001b[0m \u001b[1m1s\u001b[0m 22ms/step - accuracy: 0.3819 - loss: 1.6497 - val_accuracy: 0.4720 - val_loss: 1.4471\n",
      "Epoch 4/10\n",
      "\u001b[1m47/47\u001b[0m \u001b[32m━━━━━━━━━━━━━━━━━━━━\u001b[0m\u001b[37m\u001b[0m \u001b[1m1s\u001b[0m 22ms/step - accuracy: 0.4447 - loss: 1.4754 - val_accuracy: 0.5400 - val_loss: 1.3055\n",
      "Epoch 5/10\n",
      "\u001b[1m47/47\u001b[0m \u001b[32m━━━━━━━━━━━━━━━━━━━━\u001b[0m\u001b[37m\u001b[0m \u001b[1m1s\u001b[0m 22ms/step - accuracy: 0.4963 - loss: 1.3774 - val_accuracy: 0.5220 - val_loss: 1.2526\n",
      "Epoch 6/10\n",
      "\u001b[1m47/47\u001b[0m \u001b[32m━━━━━━━━━━━━━━━━━━━━\u001b[0m\u001b[37m\u001b[0m \u001b[1m1s\u001b[0m 21ms/step - accuracy: 0.5240 - loss: 1.2850 - val_accuracy: 0.5440 - val_loss: 1.1878\n",
      "Epoch 7/10\n",
      "\u001b[1m47/47\u001b[0m \u001b[32m━━━━━━━━━━━━━━━━━━━━\u001b[0m\u001b[37m\u001b[0m \u001b[1m1s\u001b[0m 21ms/step - accuracy: 0.5596 - loss: 1.1653 - val_accuracy: 0.5840 - val_loss: 1.1197\n",
      "Epoch 8/10\n",
      "\u001b[1m47/47\u001b[0m \u001b[32m━━━━━━━━━━━━━━━━━━━━\u001b[0m\u001b[37m\u001b[0m \u001b[1m1s\u001b[0m 22ms/step - accuracy: 0.6019 - loss: 1.1022 - val_accuracy: 0.6220 - val_loss: 1.0505\n",
      "Epoch 9/10\n",
      "\u001b[1m47/47\u001b[0m \u001b[32m━━━━━━━━━━━━━━━━━━━━\u001b[0m\u001b[37m\u001b[0m \u001b[1m1s\u001b[0m 24ms/step - accuracy: 0.6033 - loss: 1.0657 - val_accuracy: 0.6840 - val_loss: 0.9456\n",
      "Epoch 10/10\n",
      "\u001b[1m47/47\u001b[0m \u001b[32m━━━━━━━━━━━━━━━━━━━━\u001b[0m\u001b[37m\u001b[0m \u001b[1m1s\u001b[0m 24ms/step - accuracy: 0.6224 - loss: 1.0129 - val_accuracy: 0.6640 - val_loss: 0.9511\n",
      "Test Accuracy with AdamW_0.001: 66.40%\n",
      "\n",
      "Final Results Summary:\n",
      "SGD_0.01: 21.40%\n",
      "SGD_0.001: 13.40%\n",
      "Adam_0.01: 10.00%\n",
      "Adam_0.001: 62.20%\n",
      "RMSprop_0.001: 57.60%\n",
      "RMSprop_0.0001: 38.80%\n",
      "Adagrad_0.01: 42.40%\n",
      "Adagrad_0.001: 18.60%\n",
      "AdamW_0.001: 66.40%\n"
     ]
    }
   ],
   "source": [
    "# Define the CNN model function\n",
    "def create_model():\n",
    "    model = keras.Sequential([\n",
    "        layers.Input(shape=(32, 32, 3)),  # Input layer for 32x32 RGB images\n",
    "\n",
    "        # First Convolutional Block\n",
    "        layers.Conv2D(32, (3, 3), activation='relu', padding='same'),  # 32 filters\n",
    "        layers.Conv2D(32, (3, 3), activation='relu', padding='same'),\n",
    "        layers.MaxPooling2D((2, 2)),  # Reducing spatial dimensions\n",
    "        layers.Dropout(0.25),  # Dropout to reduce overfitting\n",
    "\n",
    "        # Second Convolutional Block\n",
    "        layers.Conv2D(64, (3, 3), activation='relu', padding='same'),  # 64 filters\n",
    "        layers.Conv2D(64, (3, 3), activation='relu', padding='same'),\n",
    "        layers.MaxPooling2D((2, 2)),\n",
    "        layers.Dropout(0.25),\n",
    "\n",
    "        # Third Convolutional Block\n",
    "        layers.Conv2D(128, (3, 3), activation='relu', padding='same'),  # 128 filters\n",
    "        layers.Conv2D(128, (3, 3), activation='relu', padding='same'),\n",
    "        layers.MaxPooling2D((2, 2)),\n",
    "        layers.Dropout(0.25),\n",
    "\n",
    "        # Fully Connected Layers\n",
    "        layers.Flatten(),  # Converts feature maps into a 1D vector\n",
    "        layers.Dense(512, activation='relu'),  # Fully connected layer with 512 neurons\n",
    "        layers.Dropout(0.5),  # Dropout to prevent overfitting\n",
    "        layers.Dense(10, activation='softmax')  # Output layer with 10 classes\n",
    "    ])\n",
    "    return model  # Return the constructed model\n",
    "\n",
    "# Define optimizers and learning rates to test\n",
    "optimizers_list = {\n",
    "    \"SGD_0.01\": optimizers.SGD(learning_rate=0.01),\n",
    "    \"SGD_0.001\": optimizers.SGD(learning_rate=0.001),\n",
    "    \"Adam_0.01\": optimizers.Adam(learning_rate=0.01),\n",
    "    \"Adam_0.001\": optimizers.Adam(learning_rate=0.001),\n",
    "    \"RMSprop_0.001\": optimizers.RMSprop(learning_rate=0.001),\n",
    "    \"RMSprop_0.0001\": optimizers.RMSprop(learning_rate=0.0001),\n",
    "    \"Adagrad_0.01\": optimizers.Adagrad(learning_rate=0.01),\n",
    "    \"Adagrad_0.001\": optimizers.Adagrad(learning_rate=0.001),\n",
    "    \"AdamW_0.001\": optimizers.AdamW(learning_rate=0.001)\n",
    "}\n",
    "\n",
    "# Dictionary to store test accuracy results for each optimizer\n",
    "results = {}\n",
    "\n",
    "# Iterate over each optimizer, train the model, and store results\n",
    "for name, opt in optimizers_list.items():\n",
    "    print(f\"\\nTraining with {name}...\\n\")\n",
    "\n",
    "    # Create and compile the CNN model with the selected optimizer\n",
    "    model = create_model()\n",
    "    model.compile(optimizer=opt,\n",
    "                  loss='categorical_crossentropy',  # Loss function for multi-class classification\n",
    "                  metrics=['accuracy'])  # Track accuracy during training\n",
    "\n",
    "    # Train the model\n",
    "    history = model.fit(x_train_final, y_train_final,\n",
    "                        epochs=10,  # Short training for quick comparison\n",
    "                        batch_size=64,  # Mini-batch size\n",
    "                        validation_data=(x_test_final, y_test_final),  # Validate after each epoch\n",
    "                        verbose=1)\n",
    "\n",
    "    # Evaluate the model on the test dataset\n",
    "    test_loss, test_acc = model.evaluate(x_test_final, y_test_final, verbose=0)\n",
    "    print(f\"Test Accuracy with {name}: {test_acc * 100:.2f}%\")\n",
    "\n",
    "    # Store test accuracy in results dictionary\n",
    "    results[name] = test_acc\n",
    "\n",
    "# Print final test accuracy results for all optimizers\n",
    "print(\"\\nFinal Results Summary:\")\n",
    "for key, value in results.items():\n",
    "    print(f\"{key}: {value * 100:.2f}%\")"
   ]
  },
  {
   "cell_type": "markdown",
   "metadata": {
    "id": "Qy1LGYUvrTHD",
    "jp-MarkdownHeadingCollapsed": true
   },
   "source": [
    "### Task 5.4.1 Conclusion:"
   ]
  },
  {
   "cell_type": "markdown",
   "metadata": {
    "id": "Pds8bUk8rTm0"
   },
   "source": [
    "<font color = green>The optimizer comparison experiment revealed significant variations in test accuracy across different optimization algorithms and learning rates. Among the tested optimizers, AdamW with a learning rate of 0.001 achieved the highest accuracy (66.40%), followed by Adam (62.20%) and RMSprop (57.60% with the same learning rate. In contrast, SGD (both 0.01 and 0.001) and Adam (0.01) performed poorly, with accuracies below 22%, indicating that these configurations failed to converge effectively within the given training epochs. The results highlight the importance of selecting an appropriate optimizer and learning rate, with AdamW (0.001) emerging as the most effective choice for this CNN model in terms of classification accuracy."
   ]
  },
  {
   "cell_type": "markdown",
   "metadata": {
    "id": "XPEpE98ls-yJ"
   },
   "source": [
    "### Task 5.5: With all the above variations, experiment with various batch sizes and epochs for training\n",
    "In the code below, we will train and evaluate a CNN model while experimenting with different batch sizes and epochs to analyze their impact on accuracy. It systematically loops through batch sizes (32, 64, 128) and epochs (10, 20, 30), training the model and recording test accuracy for each combination. The results are stored and visualized in a plot, helping identify the best configuration for training. The script also ensures reproducibility by setting random seeds and prevents memory issues by clearing TensorFlow sessions before each training run."
   ]
  },
  {
   "cell_type": "code",
   "execution_count": null,
   "metadata": {
    "colab": {
     "base_uri": "https://localhost:8080/",
     "height": 1000
    },
    "collapsed": true,
    "id": "yvgzS5wIoGYz",
    "jupyter": {
     "outputs_hidden": true,
     "source_hidden": true
    },
    "outputId": "944147cd-d268-48d2-ec17-43c29642ac4d"
   },
   "outputs": [
    {
     "name": "stdout",
     "output_type": "stream",
     "text": [
      "\n",
      "Training with batch size 32 and 10 epochs...\n",
      "\n",
      "Epoch 1/10\n",
      "\u001b[1m94/94\u001b[0m \u001b[32m━━━━━━━━━━━━━━━━━━━━\u001b[0m\u001b[37m\u001b[0m \u001b[1m18s\u001b[0m 88ms/step - accuracy: 0.1438 - loss: 2.2113 - val_accuracy: 0.3360 - val_loss: 1.8112\n",
      "Epoch 2/10\n",
      "\u001b[1m94/94\u001b[0m \u001b[32m━━━━━━━━━━━━━━━━━━━━\u001b[0m\u001b[37m\u001b[0m \u001b[1m2s\u001b[0m 25ms/step - accuracy: 0.3306 - loss: 1.7505 - val_accuracy: 0.4500 - val_loss: 1.4629\n",
      "Epoch 3/10\n",
      "\u001b[1m94/94\u001b[0m \u001b[32m━━━━━━━━━━━━━━━━━━━━\u001b[0m\u001b[37m\u001b[0m \u001b[1m2s\u001b[0m 24ms/step - accuracy: 0.4241 - loss: 1.5231 - val_accuracy: 0.5260 - val_loss: 1.3049\n",
      "Epoch 4/10\n",
      "\u001b[1m94/94\u001b[0m \u001b[32m━━━━━━━━━━━━━━━━━━━━\u001b[0m\u001b[37m\u001b[0m \u001b[1m2s\u001b[0m 24ms/step - accuracy: 0.4927 - loss: 1.3710 - val_accuracy: 0.5580 - val_loss: 1.1760\n",
      "Epoch 5/10\n",
      "\u001b[1m94/94\u001b[0m \u001b[32m━━━━━━━━━━━━━━━━━━━━\u001b[0m\u001b[37m\u001b[0m \u001b[1m2s\u001b[0m 24ms/step - accuracy: 0.5230 - loss: 1.2549 - val_accuracy: 0.6080 - val_loss: 1.1104\n",
      "Epoch 6/10\n",
      "\u001b[1m94/94\u001b[0m \u001b[32m━━━━━━━━━━━━━━━━━━━━\u001b[0m\u001b[37m\u001b[0m \u001b[1m2s\u001b[0m 26ms/step - accuracy: 0.5517 - loss: 1.1670 - val_accuracy: 0.5740 - val_loss: 1.0518\n",
      "Epoch 7/10\n",
      "\u001b[1m94/94\u001b[0m \u001b[32m━━━━━━━━━━━━━━━━━━━━\u001b[0m\u001b[37m\u001b[0m \u001b[1m4s\u001b[0m 39ms/step - accuracy: 0.5816 - loss: 1.1345 - val_accuracy: 0.6100 - val_loss: 1.0296\n",
      "Epoch 8/10\n",
      "\u001b[1m94/94\u001b[0m \u001b[32m━━━━━━━━━━━━━━━━━━━━\u001b[0m\u001b[37m\u001b[0m \u001b[1m2s\u001b[0m 21ms/step - accuracy: 0.5930 - loss: 1.0656 - val_accuracy: 0.6360 - val_loss: 1.0048\n",
      "Epoch 9/10\n",
      "\u001b[1m94/94\u001b[0m \u001b[32m━━━━━━━━━━━━━━━━━━━━\u001b[0m\u001b[37m\u001b[0m \u001b[1m2s\u001b[0m 20ms/step - accuracy: 0.6596 - loss: 0.9594 - val_accuracy: 0.6660 - val_loss: 0.9098\n",
      "Epoch 10/10\n",
      "\u001b[1m94/94\u001b[0m \u001b[32m━━━━━━━━━━━━━━━━━━━━\u001b[0m\u001b[37m\u001b[0m \u001b[1m2s\u001b[0m 21ms/step - accuracy: 0.6550 - loss: 0.9214 - val_accuracy: 0.6320 - val_loss: 0.9343\n",
      "Test Accuracy with batch=32, epochs=10: 63.20%\n",
      "\n",
      "Training with batch size 32 and 20 epochs...\n",
      "\n",
      "Epoch 1/20\n",
      "\u001b[1m94/94\u001b[0m \u001b[32m━━━━━━━━━━━━━━━━━━━━\u001b[0m\u001b[37m\u001b[0m \u001b[1m12s\u001b[0m 63ms/step - accuracy: 0.1377 - loss: 2.2215 - val_accuracy: 0.3320 - val_loss: 1.6979\n",
      "Epoch 2/20\n",
      "\u001b[1m94/94\u001b[0m \u001b[32m━━━━━━━━━━━━━━━━━━━━\u001b[0m\u001b[37m\u001b[0m \u001b[1m2s\u001b[0m 21ms/step - accuracy: 0.3193 - loss: 1.7679 - val_accuracy: 0.3920 - val_loss: 1.5902\n",
      "Epoch 3/20\n",
      "\u001b[1m94/94\u001b[0m \u001b[32m━━━━━━━━━━━━━━━━━━━━\u001b[0m\u001b[37m\u001b[0m \u001b[1m2s\u001b[0m 23ms/step - accuracy: 0.3866 - loss: 1.5998 - val_accuracy: 0.4860 - val_loss: 1.3475\n",
      "Epoch 4/20\n",
      "\u001b[1m94/94\u001b[0m \u001b[32m━━━━━━━━━━━━━━━━━━━━\u001b[0m\u001b[37m\u001b[0m \u001b[1m2s\u001b[0m 21ms/step - accuracy: 0.4626 - loss: 1.4296 - val_accuracy: 0.4980 - val_loss: 1.3037\n",
      "Epoch 5/20\n",
      "\u001b[1m94/94\u001b[0m \u001b[32m━━━━━━━━━━━━━━━━━━━━\u001b[0m\u001b[37m\u001b[0m \u001b[1m2s\u001b[0m 20ms/step - accuracy: 0.5257 - loss: 1.2297 - val_accuracy: 0.5340 - val_loss: 1.2141\n",
      "Epoch 6/20\n",
      "\u001b[1m94/94\u001b[0m \u001b[32m━━━━━━━━━━━━━━━━━━━━\u001b[0m\u001b[37m\u001b[0m \u001b[1m2s\u001b[0m 20ms/step - accuracy: 0.5469 - loss: 1.1661 - val_accuracy: 0.5500 - val_loss: 1.1807\n",
      "Epoch 7/20\n",
      "\u001b[1m94/94\u001b[0m \u001b[32m━━━━━━━━━━━━━━━━━━━━\u001b[0m\u001b[37m\u001b[0m \u001b[1m2s\u001b[0m 20ms/step - accuracy: 0.5992 - loss: 1.0870 - val_accuracy: 0.5960 - val_loss: 1.1106\n",
      "Epoch 8/20\n",
      "\u001b[1m94/94\u001b[0m \u001b[32m━━━━━━━━━━━━━━━━━━━━\u001b[0m\u001b[37m\u001b[0m \u001b[1m2s\u001b[0m 20ms/step - accuracy: 0.6126 - loss: 1.0467 - val_accuracy: 0.6520 - val_loss: 1.0065\n",
      "Epoch 9/20\n",
      "\u001b[1m94/94\u001b[0m \u001b[32m━━━━━━━━━━━━━━━━━━━━\u001b[0m\u001b[37m\u001b[0m \u001b[1m2s\u001b[0m 23ms/step - accuracy: 0.6312 - loss: 0.9976 - val_accuracy: 0.6460 - val_loss: 0.9543\n",
      "Epoch 10/20\n",
      "\u001b[1m94/94\u001b[0m \u001b[32m━━━━━━━━━━━━━━━━━━━━\u001b[0m\u001b[37m\u001b[0m \u001b[1m2s\u001b[0m 21ms/step - accuracy: 0.6254 - loss: 0.9750 - val_accuracy: 0.6480 - val_loss: 0.9621\n",
      "Epoch 11/20\n",
      "\u001b[1m94/94\u001b[0m \u001b[32m━━━━━━━━━━━━━━━━━━━━\u001b[0m\u001b[37m\u001b[0m \u001b[1m2s\u001b[0m 20ms/step - accuracy: 0.6646 - loss: 0.8710 - val_accuracy: 0.7040 - val_loss: 0.8263\n",
      "Epoch 12/20\n",
      "\u001b[1m94/94\u001b[0m \u001b[32m━━━━━━━━━━━━━━━━━━━━\u001b[0m\u001b[37m\u001b[0m \u001b[1m2s\u001b[0m 20ms/step - accuracy: 0.6921 - loss: 0.8065 - val_accuracy: 0.6720 - val_loss: 0.9123\n",
      "Epoch 13/20\n",
      "\u001b[1m94/94\u001b[0m \u001b[32m━━━━━━━━━━━━━━━━━━━━\u001b[0m\u001b[37m\u001b[0m \u001b[1m2s\u001b[0m 20ms/step - accuracy: 0.7065 - loss: 0.7877 - val_accuracy: 0.6880 - val_loss: 0.8487\n",
      "Epoch 14/20\n",
      "\u001b[1m94/94\u001b[0m \u001b[32m━━━━━━━━━━━━━━━━━━━━\u001b[0m\u001b[37m\u001b[0m \u001b[1m2s\u001b[0m 20ms/step - accuracy: 0.7389 - loss: 0.6923 - val_accuracy: 0.6860 - val_loss: 0.8548\n",
      "Epoch 15/20\n",
      "\u001b[1m94/94\u001b[0m \u001b[32m━━━━━━━━━━━━━━━━━━━━\u001b[0m\u001b[37m\u001b[0m \u001b[1m2s\u001b[0m 22ms/step - accuracy: 0.7794 - loss: 0.6018 - val_accuracy: 0.6760 - val_loss: 0.9649\n",
      "Epoch 16/20\n",
      "\u001b[1m94/94\u001b[0m \u001b[32m━━━━━━━━━━━━━━━━━━━━\u001b[0m\u001b[37m\u001b[0m \u001b[1m2s\u001b[0m 21ms/step - accuracy: 0.7659 - loss: 0.6107 - val_accuracy: 0.6860 - val_loss: 0.8605\n",
      "Epoch 17/20\n",
      "\u001b[1m94/94\u001b[0m \u001b[32m━━━━━━━━━━━━━━━━━━━━\u001b[0m\u001b[37m\u001b[0m \u001b[1m2s\u001b[0m 20ms/step - accuracy: 0.7944 - loss: 0.5700 - val_accuracy: 0.7020 - val_loss: 0.8192\n",
      "Epoch 18/20\n",
      "\u001b[1m94/94\u001b[0m \u001b[32m━━━━━━━━━━━━━━━━━━━━\u001b[0m\u001b[37m\u001b[0m \u001b[1m2s\u001b[0m 20ms/step - accuracy: 0.8289 - loss: 0.4667 - val_accuracy: 0.7220 - val_loss: 0.8620\n",
      "Epoch 19/20\n",
      "\u001b[1m94/94\u001b[0m \u001b[32m━━━━━━━━━━━━━━━━━━━━\u001b[0m\u001b[37m\u001b[0m \u001b[1m2s\u001b[0m 20ms/step - accuracy: 0.8319 - loss: 0.4555 - val_accuracy: 0.7020 - val_loss: 0.8614\n",
      "Epoch 20/20\n",
      "\u001b[1m94/94\u001b[0m \u001b[32m━━━━━━━━━━━━━━━━━━━━\u001b[0m\u001b[37m\u001b[0m \u001b[1m2s\u001b[0m 20ms/step - accuracy: 0.8252 - loss: 0.4439 - val_accuracy: 0.6900 - val_loss: 0.9868\n",
      "Test Accuracy with batch=32, epochs=20: 69.00%\n",
      "\n",
      "Training with batch size 32 and 30 epochs...\n",
      "\n",
      "Epoch 1/30\n",
      "\u001b[1m94/94\u001b[0m \u001b[32m━━━━━━━━━━━━━━━━━━━━\u001b[0m\u001b[37m\u001b[0m \u001b[1m12s\u001b[0m 62ms/step - accuracy: 0.1801 - loss: 2.1350 - val_accuracy: 0.3740 - val_loss: 1.7098\n",
      "Epoch 2/30\n",
      "\u001b[1m94/94\u001b[0m \u001b[32m━━━━━━━━━━━━━━━━━━━━\u001b[0m\u001b[37m\u001b[0m \u001b[1m2s\u001b[0m 23ms/step - accuracy: 0.3345 - loss: 1.7237 - val_accuracy: 0.3880 - val_loss: 1.5568\n",
      "Epoch 3/30\n",
      "\u001b[1m94/94\u001b[0m \u001b[32m━━━━━━━━━━━━━━━━━━━━\u001b[0m\u001b[37m\u001b[0m \u001b[1m2s\u001b[0m 20ms/step - accuracy: 0.4213 - loss: 1.5305 - val_accuracy: 0.5480 - val_loss: 1.2845\n",
      "Epoch 4/30\n",
      "\u001b[1m94/94\u001b[0m \u001b[32m━━━━━━━━━━━━━━━━━━━━\u001b[0m\u001b[37m\u001b[0m \u001b[1m2s\u001b[0m 20ms/step - accuracy: 0.5035 - loss: 1.3509 - val_accuracy: 0.5260 - val_loss: 1.2598\n",
      "Epoch 5/30\n",
      "\u001b[1m94/94\u001b[0m \u001b[32m━━━━━━━━━━━━━━━━━━━━\u001b[0m\u001b[37m\u001b[0m \u001b[1m2s\u001b[0m 20ms/step - accuracy: 0.5558 - loss: 1.2522 - val_accuracy: 0.5520 - val_loss: 1.1828\n",
      "Epoch 6/30\n",
      "\u001b[1m94/94\u001b[0m \u001b[32m━━━━━━━━━━━━━━━━━━━━\u001b[0m\u001b[37m\u001b[0m \u001b[1m2s\u001b[0m 20ms/step - accuracy: 0.5662 - loss: 1.1721 - val_accuracy: 0.6180 - val_loss: 1.0472\n",
      "Epoch 7/30\n",
      "\u001b[1m94/94\u001b[0m \u001b[32m━━━━━━━━━━━━━━━━━━━━\u001b[0m\u001b[37m\u001b[0m \u001b[1m2s\u001b[0m 20ms/step - accuracy: 0.6031 - loss: 1.0783 - val_accuracy: 0.6000 - val_loss: 1.1019\n",
      "Epoch 8/30\n",
      "\u001b[1m94/94\u001b[0m \u001b[32m━━━━━━━━━━━━━━━━━━━━\u001b[0m\u001b[37m\u001b[0m \u001b[1m2s\u001b[0m 23ms/step - accuracy: 0.6423 - loss: 1.0332 - val_accuracy: 0.6200 - val_loss: 1.0518\n",
      "Epoch 9/30\n",
      "\u001b[1m94/94\u001b[0m \u001b[32m━━━━━━━━━━━━━━━━━━━━\u001b[0m\u001b[37m\u001b[0m \u001b[1m2s\u001b[0m 21ms/step - accuracy: 0.6765 - loss: 0.9223 - val_accuracy: 0.6740 - val_loss: 0.9384\n",
      "Epoch 10/30\n",
      "\u001b[1m94/94\u001b[0m \u001b[32m━━━━━━━━━━━━━━━━━━━━\u001b[0m\u001b[37m\u001b[0m \u001b[1m2s\u001b[0m 20ms/step - accuracy: 0.6786 - loss: 0.8741 - val_accuracy: 0.6880 - val_loss: 0.8757\n",
      "Epoch 11/30\n",
      "\u001b[1m94/94\u001b[0m \u001b[32m━━━━━━━━━━━━━━━━━━━━\u001b[0m\u001b[37m\u001b[0m \u001b[1m2s\u001b[0m 20ms/step - accuracy: 0.7119 - loss: 0.8051 - val_accuracy: 0.6400 - val_loss: 0.9453\n",
      "Epoch 12/30\n",
      "\u001b[1m94/94\u001b[0m \u001b[32m━━━━━━━━━━━━━━━━━━━━\u001b[0m\u001b[37m\u001b[0m \u001b[1m2s\u001b[0m 20ms/step - accuracy: 0.7364 - loss: 0.7205 - val_accuracy: 0.6840 - val_loss: 0.8927\n",
      "Epoch 13/30\n",
      "\u001b[1m94/94\u001b[0m \u001b[32m━━━━━━━━━━━━━━━━━━━━\u001b[0m\u001b[37m\u001b[0m \u001b[1m2s\u001b[0m 20ms/step - accuracy: 0.7478 - loss: 0.6900 - val_accuracy: 0.6720 - val_loss: 0.8483\n",
      "Epoch 14/30\n",
      "\u001b[1m94/94\u001b[0m \u001b[32m━━━━━━━━━━━━━━━━━━━━\u001b[0m\u001b[37m\u001b[0m \u001b[1m2s\u001b[0m 23ms/step - accuracy: 0.7791 - loss: 0.6003 - val_accuracy: 0.7100 - val_loss: 0.8939\n",
      "Epoch 15/30\n",
      "\u001b[1m94/94\u001b[0m \u001b[32m━━━━━━━━━━━━━━━━━━━━\u001b[0m\u001b[37m\u001b[0m \u001b[1m2s\u001b[0m 21ms/step - accuracy: 0.7938 - loss: 0.5681 - val_accuracy: 0.7040 - val_loss: 0.9082\n",
      "Epoch 16/30\n",
      "\u001b[1m94/94\u001b[0m \u001b[32m━━━━━━━━━━━━━━━━━━━━\u001b[0m\u001b[37m\u001b[0m \u001b[1m2s\u001b[0m 22ms/step - accuracy: 0.8041 - loss: 0.5481 - val_accuracy: 0.7140 - val_loss: 0.9440\n",
      "Epoch 17/30\n",
      "\u001b[1m94/94\u001b[0m \u001b[32m━━━━━━━━━━━━━━━━━━━━\u001b[0m\u001b[37m\u001b[0m \u001b[1m2s\u001b[0m 20ms/step - accuracy: 0.8218 - loss: 0.4903 - val_accuracy: 0.7220 - val_loss: 0.8283\n",
      "Epoch 18/30\n",
      "\u001b[1m94/94\u001b[0m \u001b[32m━━━━━━━━━━━━━━━━━━━━\u001b[0m\u001b[37m\u001b[0m \u001b[1m2s\u001b[0m 20ms/step - accuracy: 0.8394 - loss: 0.4514 - val_accuracy: 0.6960 - val_loss: 0.9690\n",
      "Epoch 19/30\n",
      "\u001b[1m94/94\u001b[0m \u001b[32m━━━━━━━━━━━━━━━━━━━━\u001b[0m\u001b[37m\u001b[0m \u001b[1m2s\u001b[0m 20ms/step - accuracy: 0.8476 - loss: 0.4079 - val_accuracy: 0.7080 - val_loss: 1.0368\n",
      "Epoch 20/30\n",
      "\u001b[1m94/94\u001b[0m \u001b[32m━━━━━━━━━━━━━━━━━━━━\u001b[0m\u001b[37m\u001b[0m \u001b[1m2s\u001b[0m 23ms/step - accuracy: 0.8607 - loss: 0.3608 - val_accuracy: 0.6940 - val_loss: 1.0176\n",
      "Epoch 21/30\n",
      "\u001b[1m94/94\u001b[0m \u001b[32m━━━━━━━━━━━━━━━━━━━━\u001b[0m\u001b[37m\u001b[0m \u001b[1m2s\u001b[0m 21ms/step - accuracy: 0.8633 - loss: 0.3695 - val_accuracy: 0.7180 - val_loss: 0.9555\n",
      "Epoch 22/30\n",
      "\u001b[1m94/94\u001b[0m \u001b[32m━━━━━━━━━━━━━━━━━━━━\u001b[0m\u001b[37m\u001b[0m \u001b[1m2s\u001b[0m 20ms/step - accuracy: 0.8775 - loss: 0.3289 - val_accuracy: 0.6800 - val_loss: 0.9958\n",
      "Epoch 23/30\n",
      "\u001b[1m94/94\u001b[0m \u001b[32m━━━━━━━━━━━━━━━━━━━━\u001b[0m\u001b[37m\u001b[0m \u001b[1m2s\u001b[0m 21ms/step - accuracy: 0.8862 - loss: 0.3268 - val_accuracy: 0.7260 - val_loss: 0.9450\n",
      "Epoch 24/30\n",
      "\u001b[1m94/94\u001b[0m \u001b[32m━━━━━━━━━━━━━━━━━━━━\u001b[0m\u001b[37m\u001b[0m \u001b[1m2s\u001b[0m 22ms/step - accuracy: 0.8793 - loss: 0.3093 - val_accuracy: 0.7140 - val_loss: 1.0261\n",
      "Epoch 25/30\n",
      "\u001b[1m94/94\u001b[0m \u001b[32m━━━━━━━━━━━━━━━━━━━━\u001b[0m\u001b[37m\u001b[0m \u001b[1m2s\u001b[0m 20ms/step - accuracy: 0.8785 - loss: 0.3270 - val_accuracy: 0.7220 - val_loss: 1.1883\n",
      "Epoch 26/30\n",
      "\u001b[1m94/94\u001b[0m \u001b[32m━━━━━━━━━━━━━━━━━━━━\u001b[0m\u001b[37m\u001b[0m \u001b[1m2s\u001b[0m 23ms/step - accuracy: 0.8943 - loss: 0.3016 - val_accuracy: 0.6860 - val_loss: 1.1469\n",
      "Epoch 27/30\n",
      "\u001b[1m94/94\u001b[0m \u001b[32m━━━━━━━━━━━━━━━━━━━━\u001b[0m\u001b[37m\u001b[0m \u001b[1m2s\u001b[0m 21ms/step - accuracy: 0.9156 - loss: 0.2485 - val_accuracy: 0.7180 - val_loss: 1.0958\n",
      "Epoch 28/30\n",
      "\u001b[1m94/94\u001b[0m \u001b[32m━━━━━━━━━━━━━━━━━━━━\u001b[0m\u001b[37m\u001b[0m \u001b[1m2s\u001b[0m 20ms/step - accuracy: 0.9269 - loss: 0.1846 - val_accuracy: 0.6940 - val_loss: 1.3499\n",
      "Epoch 29/30\n",
      "\u001b[1m94/94\u001b[0m \u001b[32m━━━━━━━━━━━━━━━━━━━━\u001b[0m\u001b[37m\u001b[0m \u001b[1m2s\u001b[0m 20ms/step - accuracy: 0.9325 - loss: 0.1881 - val_accuracy: 0.7280 - val_loss: 1.0377\n",
      "Epoch 30/30\n",
      "\u001b[1m94/94\u001b[0m \u001b[32m━━━━━━━━━━━━━━━━━━━━\u001b[0m\u001b[37m\u001b[0m \u001b[1m2s\u001b[0m 20ms/step - accuracy: 0.9387 - loss: 0.1649 - val_accuracy: 0.7100 - val_loss: 1.1787\n",
      "Test Accuracy with batch=32, epochs=30: 71.00%\n",
      "\n",
      "Training with batch size 64 and 10 epochs...\n",
      "\n",
      "Epoch 1/10\n",
      "\u001b[1m47/47\u001b[0m \u001b[32m━━━━━━━━━━━━━━━━━━━━\u001b[0m\u001b[37m\u001b[0m \u001b[1m13s\u001b[0m 123ms/step - accuracy: 0.1412 - loss: 2.2614 - val_accuracy: 0.3040 - val_loss: 1.8008\n",
      "Epoch 2/10\n",
      "\u001b[1m47/47\u001b[0m \u001b[32m━━━━━━━━━━━━━━━━━━━━\u001b[0m\u001b[37m\u001b[0m \u001b[1m1s\u001b[0m 25ms/step - accuracy: 0.2910 - loss: 1.8083 - val_accuracy: 0.3760 - val_loss: 1.5973\n",
      "Epoch 3/10\n",
      "\u001b[1m47/47\u001b[0m \u001b[32m━━━━━━━━━━━━━━━━━━━━\u001b[0m\u001b[37m\u001b[0m \u001b[1m1s\u001b[0m 26ms/step - accuracy: 0.3751 - loss: 1.6541 - val_accuracy: 0.4540 - val_loss: 1.5563\n",
      "Epoch 4/10\n",
      "\u001b[1m47/47\u001b[0m \u001b[32m━━━━━━━━━━━━━━━━━━━━\u001b[0m\u001b[37m\u001b[0m \u001b[1m1s\u001b[0m 24ms/step - accuracy: 0.3976 - loss: 1.5627 - val_accuracy: 0.5020 - val_loss: 1.3468\n",
      "Epoch 5/10\n",
      "\u001b[1m47/47\u001b[0m \u001b[32m━━━━━━━━━━━━━━━━━━━━\u001b[0m\u001b[37m\u001b[0m \u001b[1m1s\u001b[0m 22ms/step - accuracy: 0.4626 - loss: 1.4643 - val_accuracy: 0.5140 - val_loss: 1.2766\n",
      "Epoch 6/10\n",
      "\u001b[1m47/47\u001b[0m \u001b[32m━━━━━━━━━━━━━━━━━━━━\u001b[0m\u001b[37m\u001b[0m \u001b[1m1s\u001b[0m 21ms/step - accuracy: 0.4928 - loss: 1.3752 - val_accuracy: 0.5740 - val_loss: 1.1587\n",
      "Epoch 7/10\n",
      "\u001b[1m47/47\u001b[0m \u001b[32m━━━━━━━━━━━━━━━━━━━━\u001b[0m\u001b[37m\u001b[0m \u001b[1m1s\u001b[0m 22ms/step - accuracy: 0.5578 - loss: 1.1853 - val_accuracy: 0.5240 - val_loss: 1.2892\n",
      "Epoch 8/10\n",
      "\u001b[1m47/47\u001b[0m \u001b[32m━━━━━━━━━━━━━━━━━━━━\u001b[0m\u001b[37m\u001b[0m \u001b[1m1s\u001b[0m 21ms/step - accuracy: 0.5642 - loss: 1.1828 - val_accuracy: 0.6120 - val_loss: 1.0212\n",
      "Epoch 9/10\n",
      "\u001b[1m47/47\u001b[0m \u001b[32m━━━━━━━━━━━━━━━━━━━━\u001b[0m\u001b[37m\u001b[0m \u001b[1m1s\u001b[0m 21ms/step - accuracy: 0.6200 - loss: 1.0362 - val_accuracy: 0.6460 - val_loss: 0.9858\n",
      "Epoch 10/10\n",
      "\u001b[1m47/47\u001b[0m \u001b[32m━━━━━━━━━━━━━━━━━━━━\u001b[0m\u001b[37m\u001b[0m \u001b[1m1s\u001b[0m 21ms/step - accuracy: 0.6150 - loss: 1.0028 - val_accuracy: 0.6500 - val_loss: 0.8882\n",
      "Test Accuracy with batch=64, epochs=10: 65.00%\n",
      "\n",
      "Training with batch size 64 and 20 epochs...\n",
      "\n",
      "Epoch 1/20\n",
      "\u001b[1m47/47\u001b[0m \u001b[32m━━━━━━━━━━━━━━━━━━━━\u001b[0m\u001b[37m\u001b[0m \u001b[1m12s\u001b[0m 118ms/step - accuracy: 0.1442 - loss: 2.2180 - val_accuracy: 0.2420 - val_loss: 1.8542\n",
      "Epoch 2/20\n",
      "\u001b[1m47/47\u001b[0m \u001b[32m━━━━━━━━━━━━━━━━━━━━\u001b[0m\u001b[37m\u001b[0m \u001b[1m1s\u001b[0m 28ms/step - accuracy: 0.2712 - loss: 1.8571 - val_accuracy: 0.3860 - val_loss: 1.5803\n",
      "Epoch 3/20\n",
      "\u001b[1m47/47\u001b[0m \u001b[32m━━━━━━━━━━━━━━━━━━━━\u001b[0m\u001b[37m\u001b[0m \u001b[1m1s\u001b[0m 25ms/step - accuracy: 0.3805 - loss: 1.6631 - val_accuracy: 0.4640 - val_loss: 1.4240\n",
      "Epoch 4/20\n",
      "\u001b[1m47/47\u001b[0m \u001b[32m━━━━━━━━━━━━━━━━━━━━\u001b[0m\u001b[37m\u001b[0m \u001b[1m1s\u001b[0m 25ms/step - accuracy: 0.4198 - loss: 1.4979 - val_accuracy: 0.4800 - val_loss: 1.3468\n",
      "Epoch 5/20\n",
      "\u001b[1m47/47\u001b[0m \u001b[32m━━━━━━━━━━━━━━━━━━━━\u001b[0m\u001b[37m\u001b[0m \u001b[1m1s\u001b[0m 22ms/step - accuracy: 0.4733 - loss: 1.4160 - val_accuracy: 0.5320 - val_loss: 1.3107\n",
      "Epoch 6/20\n",
      "\u001b[1m47/47\u001b[0m \u001b[32m━━━━━━━━━━━━━━━━━━━━\u001b[0m\u001b[37m\u001b[0m \u001b[1m1s\u001b[0m 21ms/step - accuracy: 0.5123 - loss: 1.3111 - val_accuracy: 0.5460 - val_loss: 1.2601\n",
      "Epoch 7/20\n",
      "\u001b[1m47/47\u001b[0m \u001b[32m━━━━━━━━━━━━━━━━━━━━\u001b[0m\u001b[37m\u001b[0m \u001b[1m1s\u001b[0m 21ms/step - accuracy: 0.5445 - loss: 1.2184 - val_accuracy: 0.5920 - val_loss: 1.0773\n",
      "Epoch 8/20\n",
      "\u001b[1m47/47\u001b[0m \u001b[32m━━━━━━━━━━━━━━━━━━━━\u001b[0m\u001b[37m\u001b[0m \u001b[1m1s\u001b[0m 21ms/step - accuracy: 0.5618 - loss: 1.1292 - val_accuracy: 0.6040 - val_loss: 1.0586\n",
      "Epoch 9/20\n",
      "\u001b[1m47/47\u001b[0m \u001b[32m━━━━━━━━━━━━━━━━━━━━\u001b[0m\u001b[37m\u001b[0m \u001b[1m1s\u001b[0m 21ms/step - accuracy: 0.6085 - loss: 1.0775 - val_accuracy: 0.6560 - val_loss: 1.0008\n",
      "Epoch 10/20\n",
      "\u001b[1m47/47\u001b[0m \u001b[32m━━━━━━━━━━━━━━━━━━━━\u001b[0m\u001b[37m\u001b[0m \u001b[1m1s\u001b[0m 21ms/step - accuracy: 0.6395 - loss: 1.0125 - val_accuracy: 0.6360 - val_loss: 0.9623\n",
      "Epoch 11/20\n",
      "\u001b[1m47/47\u001b[0m \u001b[32m━━━━━━━━━━━━━━━━━━━━\u001b[0m\u001b[37m\u001b[0m \u001b[1m1s\u001b[0m 21ms/step - accuracy: 0.6477 - loss: 0.9480 - val_accuracy: 0.6620 - val_loss: 0.9256\n",
      "Epoch 12/20\n",
      "\u001b[1m47/47\u001b[0m \u001b[32m━━━━━━━━━━━━━━━━━━━━\u001b[0m\u001b[37m\u001b[0m \u001b[1m1s\u001b[0m 21ms/step - accuracy: 0.6609 - loss: 0.9202 - val_accuracy: 0.6380 - val_loss: 0.8962\n",
      "Epoch 13/20\n",
      "\u001b[1m47/47\u001b[0m \u001b[32m━━━━━━━━━━━━━━━━━━━━\u001b[0m\u001b[37m\u001b[0m \u001b[1m1s\u001b[0m 21ms/step - accuracy: 0.6902 - loss: 0.8227 - val_accuracy: 0.5980 - val_loss: 1.0771\n",
      "Epoch 14/20\n",
      "\u001b[1m47/47\u001b[0m \u001b[32m━━━━━━━━━━━━━━━━━━━━\u001b[0m\u001b[37m\u001b[0m \u001b[1m1s\u001b[0m 22ms/step - accuracy: 0.7184 - loss: 0.8206 - val_accuracy: 0.6700 - val_loss: 0.8997\n",
      "Epoch 15/20\n",
      "\u001b[1m47/47\u001b[0m \u001b[32m━━━━━━━━━━━━━━━━━━━━\u001b[0m\u001b[37m\u001b[0m \u001b[1m1s\u001b[0m 23ms/step - accuracy: 0.7439 - loss: 0.7208 - val_accuracy: 0.6600 - val_loss: 0.8917\n",
      "Epoch 16/20\n",
      "\u001b[1m47/47\u001b[0m \u001b[32m━━━━━━━━━━━━━━━━━━━━\u001b[0m\u001b[37m\u001b[0m \u001b[1m1s\u001b[0m 23ms/step - accuracy: 0.7575 - loss: 0.6560 - val_accuracy: 0.6960 - val_loss: 0.8325\n",
      "Epoch 17/20\n",
      "\u001b[1m47/47\u001b[0m \u001b[32m━━━━━━━━━━━━━━━━━━━━\u001b[0m\u001b[37m\u001b[0m \u001b[1m1s\u001b[0m 21ms/step - accuracy: 0.7774 - loss: 0.6179 - val_accuracy: 0.7100 - val_loss: 0.8461\n",
      "Epoch 18/20\n",
      "\u001b[1m47/47\u001b[0m \u001b[32m━━━━━━━━━━━━━━━━━━━━\u001b[0m\u001b[37m\u001b[0m \u001b[1m1s\u001b[0m 21ms/step - accuracy: 0.7680 - loss: 0.6169 - val_accuracy: 0.6900 - val_loss: 0.8503\n",
      "Epoch 19/20\n",
      "\u001b[1m47/47\u001b[0m \u001b[32m━━━━━━━━━━━━━━━━━━━━\u001b[0m\u001b[37m\u001b[0m \u001b[1m1s\u001b[0m 21ms/step - accuracy: 0.7921 - loss: 0.5373 - val_accuracy: 0.6820 - val_loss: 0.9375\n",
      "Epoch 20/20\n",
      "\u001b[1m47/47\u001b[0m \u001b[32m━━━━━━━━━━━━━━━━━━━━\u001b[0m\u001b[37m\u001b[0m \u001b[1m1s\u001b[0m 21ms/step - accuracy: 0.8028 - loss: 0.5332 - val_accuracy: 0.7100 - val_loss: 0.8048\n",
      "Test Accuracy with batch=64, epochs=20: 71.00%\n",
      "\n",
      "Training with batch size 64 and 30 epochs...\n",
      "\n",
      "Epoch 1/30\n",
      "\u001b[1m47/47\u001b[0m \u001b[32m━━━━━━━━━━━━━━━━━━━━\u001b[0m\u001b[37m\u001b[0m \u001b[1m12s\u001b[0m 112ms/step - accuracy: 0.1295 - loss: 2.2309 - val_accuracy: 0.3040 - val_loss: 1.7729\n",
      "Epoch 2/30\n",
      "\u001b[1m47/47\u001b[0m \u001b[32m━━━━━━━━━━━━━━━━━━━━\u001b[0m\u001b[37m\u001b[0m \u001b[1m1s\u001b[0m 24ms/step - accuracy: 0.3041 - loss: 1.8113 - val_accuracy: 0.3660 - val_loss: 1.6514\n",
      "Epoch 3/30\n",
      "\u001b[1m47/47\u001b[0m \u001b[32m━━━━━━━━━━━━━━━━━━━━\u001b[0m\u001b[37m\u001b[0m \u001b[1m1s\u001b[0m 22ms/step - accuracy: 0.3512 - loss: 1.6680 - val_accuracy: 0.4100 - val_loss: 1.5765\n",
      "Epoch 4/30\n",
      "\u001b[1m47/47\u001b[0m \u001b[32m━━━━━━━━━━━━━━━━━━━━\u001b[0m\u001b[37m\u001b[0m \u001b[1m1s\u001b[0m 21ms/step - accuracy: 0.4029 - loss: 1.5864 - val_accuracy: 0.4640 - val_loss: 1.4260\n",
      "Epoch 5/30\n",
      "\u001b[1m47/47\u001b[0m \u001b[32m━━━━━━━━━━━━━━━━━━━━\u001b[0m\u001b[37m\u001b[0m \u001b[1m1s\u001b[0m 21ms/step - accuracy: 0.4527 - loss: 1.4748 - val_accuracy: 0.5060 - val_loss: 1.3000\n",
      "Epoch 6/30\n",
      "\u001b[1m47/47\u001b[0m \u001b[32m━━━━━━━━━━━━━━━━━━━━\u001b[0m\u001b[37m\u001b[0m \u001b[1m1s\u001b[0m 25ms/step - accuracy: 0.4941 - loss: 1.3613 - val_accuracy: 0.5560 - val_loss: 1.1963\n",
      "Epoch 7/30\n",
      "\u001b[1m47/47\u001b[0m \u001b[32m━━━━━━━━━━━━━━━━━━━━\u001b[0m\u001b[37m\u001b[0m \u001b[1m1s\u001b[0m 23ms/step - accuracy: 0.5351 - loss: 1.2492 - val_accuracy: 0.5840 - val_loss: 1.1144\n",
      "Epoch 8/30\n",
      "\u001b[1m47/47\u001b[0m \u001b[32m━━━━━━━━━━━━━━━━━━━━\u001b[0m\u001b[37m\u001b[0m \u001b[1m1s\u001b[0m 22ms/step - accuracy: 0.5547 - loss: 1.1879 - val_accuracy: 0.5920 - val_loss: 1.0896\n",
      "Epoch 9/30\n",
      "\u001b[1m47/47\u001b[0m \u001b[32m━━━━━━━━━━━━━━━━━━━━\u001b[0m\u001b[37m\u001b[0m \u001b[1m1s\u001b[0m 22ms/step - accuracy: 0.5758 - loss: 1.1473 - val_accuracy: 0.6000 - val_loss: 1.0330\n",
      "Epoch 10/30\n",
      "\u001b[1m47/47\u001b[0m \u001b[32m━━━━━━━━━━━━━━━━━━━━\u001b[0m\u001b[37m\u001b[0m \u001b[1m1s\u001b[0m 22ms/step - accuracy: 0.6092 - loss: 1.0705 - val_accuracy: 0.5980 - val_loss: 1.0489\n",
      "Epoch 11/30\n",
      "\u001b[1m47/47\u001b[0m \u001b[32m━━━━━━━━━━━━━━━━━━━━\u001b[0m\u001b[37m\u001b[0m \u001b[1m1s\u001b[0m 21ms/step - accuracy: 0.6325 - loss: 1.0116 - val_accuracy: 0.6380 - val_loss: 0.9885\n",
      "Epoch 12/30\n",
      "\u001b[1m47/47\u001b[0m \u001b[32m━━━━━━━━━━━━━━━━━━━━\u001b[0m\u001b[37m\u001b[0m \u001b[1m1s\u001b[0m 21ms/step - accuracy: 0.6312 - loss: 0.9879 - val_accuracy: 0.6320 - val_loss: 0.9282\n",
      "Epoch 13/30\n",
      "\u001b[1m47/47\u001b[0m \u001b[32m━━━━━━━━━━━━━━━━━━━━\u001b[0m\u001b[37m\u001b[0m \u001b[1m1s\u001b[0m 21ms/step - accuracy: 0.6456 - loss: 0.9456 - val_accuracy: 0.6560 - val_loss: 0.9488\n",
      "Epoch 14/30\n",
      "\u001b[1m47/47\u001b[0m \u001b[32m━━━━━━━━━━━━━━━━━━━━\u001b[0m\u001b[37m\u001b[0m \u001b[1m1s\u001b[0m 21ms/step - accuracy: 0.6807 - loss: 0.8595 - val_accuracy: 0.6620 - val_loss: 0.8690\n",
      "Epoch 15/30\n",
      "\u001b[1m47/47\u001b[0m \u001b[32m━━━━━━━━━━━━━━━━━━━━\u001b[0m\u001b[37m\u001b[0m \u001b[1m1s\u001b[0m 21ms/step - accuracy: 0.6604 - loss: 0.8585 - val_accuracy: 0.6560 - val_loss: 0.8801\n",
      "Epoch 16/30\n",
      "\u001b[1m47/47\u001b[0m \u001b[32m━━━━━━━━━━━━━━━━━━━━\u001b[0m\u001b[37m\u001b[0m \u001b[1m1s\u001b[0m 21ms/step - accuracy: 0.7054 - loss: 0.7811 - val_accuracy: 0.6720 - val_loss: 0.8639\n",
      "Epoch 17/30\n",
      "\u001b[1m47/47\u001b[0m \u001b[32m━━━━━━━━━━━━━━━━━━━━\u001b[0m\u001b[37m\u001b[0m \u001b[1m1s\u001b[0m 23ms/step - accuracy: 0.7491 - loss: 0.6880 - val_accuracy: 0.6580 - val_loss: 0.8909\n",
      "Epoch 18/30\n",
      "\u001b[1m47/47\u001b[0m \u001b[32m━━━━━━━━━━━━━━━━━━━━\u001b[0m\u001b[37m\u001b[0m \u001b[1m1s\u001b[0m 24ms/step - accuracy: 0.7503 - loss: 0.6470 - val_accuracy: 0.6600 - val_loss: 0.8967\n",
      "Epoch 19/30\n",
      "\u001b[1m47/47\u001b[0m \u001b[32m━━━━━━━━━━━━━━━━━━━━\u001b[0m\u001b[37m\u001b[0m \u001b[1m1s\u001b[0m 22ms/step - accuracy: 0.7515 - loss: 0.6649 - val_accuracy: 0.6740 - val_loss: 0.8913\n",
      "Epoch 20/30\n",
      "\u001b[1m47/47\u001b[0m \u001b[32m━━━━━━━━━━━━━━━━━━━━\u001b[0m\u001b[37m\u001b[0m \u001b[1m1s\u001b[0m 22ms/step - accuracy: 0.7839 - loss: 0.5852 - val_accuracy: 0.6520 - val_loss: 0.9153\n",
      "Epoch 21/30\n",
      "\u001b[1m47/47\u001b[0m \u001b[32m━━━━━━━━━━━━━━━━━━━━\u001b[0m\u001b[37m\u001b[0m \u001b[1m1s\u001b[0m 22ms/step - accuracy: 0.7975 - loss: 0.5543 - val_accuracy: 0.6840 - val_loss: 0.8995\n",
      "Epoch 22/30\n",
      "\u001b[1m47/47\u001b[0m \u001b[32m━━━━━━━━━━━━━━━━━━━━\u001b[0m\u001b[37m\u001b[0m \u001b[1m1s\u001b[0m 22ms/step - accuracy: 0.7920 - loss: 0.5584 - val_accuracy: 0.6840 - val_loss: 0.8818\n",
      "Epoch 23/30\n",
      "\u001b[1m47/47\u001b[0m \u001b[32m━━━━━━━━━━━━━━━━━━━━\u001b[0m\u001b[37m\u001b[0m \u001b[1m1s\u001b[0m 22ms/step - accuracy: 0.8186 - loss: 0.4837 - val_accuracy: 0.6960 - val_loss: 0.8902\n",
      "Epoch 24/30\n",
      "\u001b[1m47/47\u001b[0m \u001b[32m━━━━━━━━━━━━━━━━━━━━\u001b[0m\u001b[37m\u001b[0m \u001b[1m1s\u001b[0m 22ms/step - accuracy: 0.8367 - loss: 0.4446 - val_accuracy: 0.7220 - val_loss: 0.9136\n",
      "Epoch 25/30\n",
      "\u001b[1m47/47\u001b[0m \u001b[32m━━━━━━━━━━━━━━━━━━━━\u001b[0m\u001b[37m\u001b[0m \u001b[1m1s\u001b[0m 22ms/step - accuracy: 0.8491 - loss: 0.4144 - val_accuracy: 0.6840 - val_loss: 0.9535\n",
      "Epoch 26/30\n",
      "\u001b[1m47/47\u001b[0m \u001b[32m━━━━━━━━━━━━━━━━━━━━\u001b[0m\u001b[37m\u001b[0m \u001b[1m1s\u001b[0m 21ms/step - accuracy: 0.8588 - loss: 0.3663 - val_accuracy: 0.7200 - val_loss: 0.9097\n",
      "Epoch 27/30\n",
      "\u001b[1m47/47\u001b[0m \u001b[32m━━━━━━━━━━━━━━━━━━━━\u001b[0m\u001b[37m\u001b[0m \u001b[1m1s\u001b[0m 21ms/step - accuracy: 0.8791 - loss: 0.3284 - val_accuracy: 0.6900 - val_loss: 1.0774\n",
      "Epoch 28/30\n",
      "\u001b[1m47/47\u001b[0m \u001b[32m━━━━━━━━━━━━━━━━━━━━\u001b[0m\u001b[37m\u001b[0m \u001b[1m1s\u001b[0m 21ms/step - accuracy: 0.8512 - loss: 0.3879 - val_accuracy: 0.7220 - val_loss: 0.9483\n",
      "Epoch 29/30\n",
      "\u001b[1m47/47\u001b[0m \u001b[32m━━━━━━━━━━━━━━━━━━━━\u001b[0m\u001b[37m\u001b[0m \u001b[1m1s\u001b[0m 24ms/step - accuracy: 0.8866 - loss: 0.3138 - val_accuracy: 0.7060 - val_loss: 1.0214\n",
      "Epoch 30/30\n",
      "\u001b[1m47/47\u001b[0m \u001b[32m━━━━━━━━━━━━━━━━━━━━\u001b[0m\u001b[37m\u001b[0m \u001b[1m1s\u001b[0m 24ms/step - accuracy: 0.9010 - loss: 0.2864 - val_accuracy: 0.7440 - val_loss: 0.9405\n",
      "Test Accuracy with batch=64, epochs=30: 74.40%\n",
      "\n",
      "Training with batch size 128 and 10 epochs...\n",
      "\n",
      "Epoch 1/10\n",
      "\u001b[1m24/24\u001b[0m \u001b[32m━━━━━━━━━━━━━━━━━━━━\u001b[0m\u001b[37m\u001b[0m \u001b[1m14s\u001b[0m 283ms/step - accuracy: 0.1636 - loss: 2.1863 - val_accuracy: 0.2580 - val_loss: 1.8292\n",
      "Epoch 2/10\n",
      "\u001b[1m24/24\u001b[0m \u001b[32m━━━━━━━━━━━━━━━━━━━━\u001b[0m\u001b[37m\u001b[0m \u001b[1m1s\u001b[0m 26ms/step - accuracy: 0.2843 - loss: 1.8397 - val_accuracy: 0.3320 - val_loss: 1.6567\n",
      "Epoch 3/10\n",
      "\u001b[1m24/24\u001b[0m \u001b[32m━━━━━━━━━━━━━━━━━━━━\u001b[0m\u001b[37m\u001b[0m \u001b[1m1s\u001b[0m 26ms/step - accuracy: 0.3430 - loss: 1.6766 - val_accuracy: 0.3820 - val_loss: 1.5505\n",
      "Epoch 4/10\n",
      "\u001b[1m24/24\u001b[0m \u001b[32m━━━━━━━━━━━━━━━━━━━━\u001b[0m\u001b[37m\u001b[0m \u001b[1m1s\u001b[0m 26ms/step - accuracy: 0.3787 - loss: 1.5924 - val_accuracy: 0.4440 - val_loss: 1.4425\n",
      "Epoch 5/10\n",
      "\u001b[1m24/24\u001b[0m \u001b[32m━━━━━━━━━━━━━━━━━━━━\u001b[0m\u001b[37m\u001b[0m \u001b[1m1s\u001b[0m 26ms/step - accuracy: 0.4384 - loss: 1.4541 - val_accuracy: 0.4920 - val_loss: 1.3493\n",
      "Epoch 6/10\n",
      "\u001b[1m24/24\u001b[0m \u001b[32m━━━━━━━━━━━━━━━━━━━━\u001b[0m\u001b[37m\u001b[0m \u001b[1m1s\u001b[0m 26ms/step - accuracy: 0.4964 - loss: 1.3319 - val_accuracy: 0.6040 - val_loss: 1.1649\n",
      "Epoch 7/10\n",
      "\u001b[1m24/24\u001b[0m \u001b[32m━━━━━━━━━━━━━━━━━━━━\u001b[0m\u001b[37m\u001b[0m \u001b[1m1s\u001b[0m 26ms/step - accuracy: 0.5371 - loss: 1.1841 - val_accuracy: 0.5820 - val_loss: 1.1094\n",
      "Epoch 8/10\n",
      "\u001b[1m24/24\u001b[0m \u001b[32m━━━━━━━━━━━━━━━━━━━━\u001b[0m\u001b[37m\u001b[0m \u001b[1m1s\u001b[0m 26ms/step - accuracy: 0.5619 - loss: 1.1598 - val_accuracy: 0.6400 - val_loss: 1.0479\n",
      "Epoch 9/10\n",
      "\u001b[1m24/24\u001b[0m \u001b[32m━━━━━━━━━━━━━━━━━━━━\u001b[0m\u001b[37m\u001b[0m \u001b[1m1s\u001b[0m 26ms/step - accuracy: 0.5867 - loss: 1.0637 - val_accuracy: 0.6280 - val_loss: 1.0237\n",
      "Epoch 10/10\n",
      "\u001b[1m24/24\u001b[0m \u001b[32m━━━━━━━━━━━━━━━━━━━━\u001b[0m\u001b[37m\u001b[0m \u001b[1m1s\u001b[0m 27ms/step - accuracy: 0.5954 - loss: 1.0367 - val_accuracy: 0.6340 - val_loss: 1.0083\n",
      "Test Accuracy with batch=128, epochs=10: 63.40%\n",
      "\n",
      "Training with batch size 128 and 20 epochs...\n",
      "\n",
      "Epoch 1/20\n",
      "\u001b[1m24/24\u001b[0m \u001b[32m━━━━━━━━━━━━━━━━━━━━\u001b[0m\u001b[37m\u001b[0m \u001b[1m11s\u001b[0m 220ms/step - accuracy: 0.1396 - loss: 2.2308 - val_accuracy: 0.3500 - val_loss: 1.8302\n",
      "Epoch 2/20\n",
      "\u001b[1m24/24\u001b[0m \u001b[32m━━━━━━━━━━━━━━━━━━━━\u001b[0m\u001b[37m\u001b[0m \u001b[1m1s\u001b[0m 35ms/step - accuracy: 0.2629 - loss: 1.8602 - val_accuracy: 0.3200 - val_loss: 1.7937\n",
      "Epoch 3/20\n",
      "\u001b[1m24/24\u001b[0m \u001b[32m━━━━━━━━━━━━━━━━━━━━\u001b[0m\u001b[37m\u001b[0m \u001b[1m1s\u001b[0m 27ms/step - accuracy: 0.3268 - loss: 1.7562 - val_accuracy: 0.4120 - val_loss: 1.4948\n",
      "Epoch 4/20\n",
      "\u001b[1m24/24\u001b[0m \u001b[32m━━━━━━━━━━━━━━━━━━━━\u001b[0m\u001b[37m\u001b[0m \u001b[1m1s\u001b[0m 26ms/step - accuracy: 0.3902 - loss: 1.5968 - val_accuracy: 0.4720 - val_loss: 1.4015\n",
      "Epoch 5/20\n",
      "\u001b[1m24/24\u001b[0m \u001b[32m━━━━━━━━━━━━━━━━━━━━\u001b[0m\u001b[37m\u001b[0m \u001b[1m1s\u001b[0m 26ms/step - accuracy: 0.4331 - loss: 1.4826 - val_accuracy: 0.4980 - val_loss: 1.3002\n",
      "Epoch 6/20\n",
      "\u001b[1m24/24\u001b[0m \u001b[32m━━━━━━━━━━━━━━━━━━━━\u001b[0m\u001b[37m\u001b[0m \u001b[1m1s\u001b[0m 26ms/step - accuracy: 0.4819 - loss: 1.4008 - val_accuracy: 0.5640 - val_loss: 1.1973\n",
      "Epoch 7/20\n",
      "\u001b[1m24/24\u001b[0m \u001b[32m━━━━━━━━━━━━━━━━━━━━\u001b[0m\u001b[37m\u001b[0m \u001b[1m1s\u001b[0m 26ms/step - accuracy: 0.5131 - loss: 1.3090 - val_accuracy: 0.5680 - val_loss: 1.1322\n",
      "Epoch 8/20\n",
      "\u001b[1m24/24\u001b[0m \u001b[32m━━━━━━━━━━━━━━━━━━━━\u001b[0m\u001b[37m\u001b[0m \u001b[1m1s\u001b[0m 26ms/step - accuracy: 0.5354 - loss: 1.2333 - val_accuracy: 0.5260 - val_loss: 1.2064\n",
      "Epoch 9/20\n",
      "\u001b[1m24/24\u001b[0m \u001b[32m━━━━━━━━━━━━━━━━━━━━\u001b[0m\u001b[37m\u001b[0m \u001b[1m1s\u001b[0m 26ms/step - accuracy: 0.5403 - loss: 1.1787 - val_accuracy: 0.6100 - val_loss: 1.1257\n",
      "Epoch 10/20\n",
      "\u001b[1m24/24\u001b[0m \u001b[32m━━━━━━━━━━━━━━━━━━━━\u001b[0m\u001b[37m\u001b[0m \u001b[1m1s\u001b[0m 26ms/step - accuracy: 0.6045 - loss: 1.1078 - val_accuracy: 0.6220 - val_loss: 1.0232\n",
      "Epoch 11/20\n",
      "\u001b[1m24/24\u001b[0m \u001b[32m━━━━━━━━━━━━━━━━━━━━\u001b[0m\u001b[37m\u001b[0m \u001b[1m1s\u001b[0m 26ms/step - accuracy: 0.6008 - loss: 1.0781 - val_accuracy: 0.6400 - val_loss: 1.0117\n",
      "Epoch 12/20\n",
      "\u001b[1m24/24\u001b[0m \u001b[32m━━━━━━━━━━━━━━━━━━━━\u001b[0m\u001b[37m\u001b[0m \u001b[1m1s\u001b[0m 26ms/step - accuracy: 0.6090 - loss: 1.0235 - val_accuracy: 0.6020 - val_loss: 1.0233\n",
      "Epoch 13/20\n",
      "\u001b[1m24/24\u001b[0m \u001b[32m━━━━━━━━━━━━━━━━━━━━\u001b[0m\u001b[37m\u001b[0m \u001b[1m1s\u001b[0m 26ms/step - accuracy: 0.6366 - loss: 0.9829 - val_accuracy: 0.6500 - val_loss: 0.9468\n",
      "Epoch 14/20\n",
      "\u001b[1m24/24\u001b[0m \u001b[32m━━━━━━━━━━━━━━━━━━━━\u001b[0m\u001b[37m\u001b[0m \u001b[1m1s\u001b[0m 26ms/step - accuracy: 0.6574 - loss: 0.9018 - val_accuracy: 0.6700 - val_loss: 0.9322\n",
      "Epoch 15/20\n",
      "\u001b[1m24/24\u001b[0m \u001b[32m━━━━━━━━━━━━━━━━━━━━\u001b[0m\u001b[37m\u001b[0m \u001b[1m1s\u001b[0m 26ms/step - accuracy: 0.6549 - loss: 0.8977 - val_accuracy: 0.6120 - val_loss: 1.0255\n",
      "Epoch 16/20\n",
      "\u001b[1m24/24\u001b[0m \u001b[32m━━━━━━━━━━━━━━━━━━━━\u001b[0m\u001b[37m\u001b[0m \u001b[1m1s\u001b[0m 26ms/step - accuracy: 0.6725 - loss: 0.8835 - val_accuracy: 0.6500 - val_loss: 0.9315\n",
      "Epoch 17/20\n",
      "\u001b[1m24/24\u001b[0m \u001b[32m━━━━━━━━━━━━━━━━━━━━\u001b[0m\u001b[37m\u001b[0m \u001b[1m1s\u001b[0m 26ms/step - accuracy: 0.7039 - loss: 0.8148 - val_accuracy: 0.6760 - val_loss: 0.9559\n",
      "Epoch 18/20\n",
      "\u001b[1m24/24\u001b[0m \u001b[32m━━━━━━━━━━━━━━━━━━━━\u001b[0m\u001b[37m\u001b[0m \u001b[1m1s\u001b[0m 29ms/step - accuracy: 0.7189 - loss: 0.7920 - val_accuracy: 0.6560 - val_loss: 0.9108\n",
      "Epoch 19/20\n",
      "\u001b[1m24/24\u001b[0m \u001b[32m━━━━━━━━━━━━━━━━━━━━\u001b[0m\u001b[37m\u001b[0m \u001b[1m1s\u001b[0m 30ms/step - accuracy: 0.7387 - loss: 0.7229 - val_accuracy: 0.6880 - val_loss: 0.8899\n",
      "Epoch 20/20\n",
      "\u001b[1m24/24\u001b[0m \u001b[32m━━━━━━━━━━━━━━━━━━━━\u001b[0m\u001b[37m\u001b[0m \u001b[1m1s\u001b[0m 31ms/step - accuracy: 0.7552 - loss: 0.6670 - val_accuracy: 0.6780 - val_loss: 0.9173\n",
      "Test Accuracy with batch=128, epochs=20: 67.80%\n",
      "\n",
      "Training with batch size 128 and 30 epochs...\n",
      "\n",
      "Epoch 1/30\n",
      "\u001b[1m24/24\u001b[0m \u001b[32m━━━━━━━━━━━━━━━━━━━━\u001b[0m\u001b[37m\u001b[0m \u001b[1m11s\u001b[0m 243ms/step - accuracy: 0.1111 - loss: 2.2880 - val_accuracy: 0.2800 - val_loss: 1.8774\n",
      "Epoch 2/30\n",
      "\u001b[1m24/24\u001b[0m \u001b[32m━━━━━━━━━━━━━━━━━━━━\u001b[0m\u001b[37m\u001b[0m \u001b[1m1s\u001b[0m 31ms/step - accuracy: 0.2653 - loss: 1.9083 - val_accuracy: 0.3540 - val_loss: 1.6935\n",
      "Epoch 3/30\n",
      "\u001b[1m24/24\u001b[0m \u001b[32m━━━━━━━━━━━━━━━━━━━━\u001b[0m\u001b[37m\u001b[0m \u001b[1m1s\u001b[0m 27ms/step - accuracy: 0.3562 - loss: 1.6951 - val_accuracy: 0.3980 - val_loss: 1.5759\n",
      "Epoch 4/30\n",
      "\u001b[1m24/24\u001b[0m \u001b[32m━━━━━━━━━━━━━━━━━━━━\u001b[0m\u001b[37m\u001b[0m \u001b[1m1s\u001b[0m 26ms/step - accuracy: 0.3919 - loss: 1.5929 - val_accuracy: 0.4480 - val_loss: 1.4454\n",
      "Epoch 5/30\n",
      "\u001b[1m24/24\u001b[0m \u001b[32m━━━━━━━━━━━━━━━━━━━━\u001b[0m\u001b[37m\u001b[0m \u001b[1m1s\u001b[0m 26ms/step - accuracy: 0.4545 - loss: 1.4722 - val_accuracy: 0.4620 - val_loss: 1.3438\n",
      "Epoch 6/30\n",
      "\u001b[1m24/24\u001b[0m \u001b[32m━━━━━━━━━━━━━━━━━━━━\u001b[0m\u001b[37m\u001b[0m \u001b[1m1s\u001b[0m 27ms/step - accuracy: 0.5015 - loss: 1.3678 - val_accuracy: 0.5160 - val_loss: 1.2952\n",
      "Epoch 7/30\n",
      "\u001b[1m24/24\u001b[0m \u001b[32m━━━━━━━━━━━━━━━━━━━━\u001b[0m\u001b[37m\u001b[0m \u001b[1m1s\u001b[0m 26ms/step - accuracy: 0.4972 - loss: 1.3362 - val_accuracy: 0.5440 - val_loss: 1.1969\n",
      "Epoch 8/30\n",
      "\u001b[1m24/24\u001b[0m \u001b[32m━━━━━━━━━━━━━━━━━━━━\u001b[0m\u001b[37m\u001b[0m \u001b[1m1s\u001b[0m 27ms/step - accuracy: 0.5230 - loss: 1.2550 - val_accuracy: 0.5640 - val_loss: 1.1604\n",
      "Epoch 9/30\n",
      "\u001b[1m24/24\u001b[0m \u001b[32m━━━━━━━━━━━━━━━━━━━━\u001b[0m\u001b[37m\u001b[0m \u001b[1m1s\u001b[0m 26ms/step - accuracy: 0.5642 - loss: 1.1464 - val_accuracy: 0.5880 - val_loss: 1.1485\n",
      "Epoch 10/30\n",
      "\u001b[1m24/24\u001b[0m \u001b[32m━━━━━━━━━━━━━━━━━━━━\u001b[0m\u001b[37m\u001b[0m \u001b[1m1s\u001b[0m 29ms/step - accuracy: 0.5753 - loss: 1.1551 - val_accuracy: 0.6100 - val_loss: 1.1301\n",
      "Epoch 11/30\n",
      "\u001b[1m24/24\u001b[0m \u001b[32m━━━━━━━━━━━━━━━━━━━━\u001b[0m\u001b[37m\u001b[0m \u001b[1m1s\u001b[0m 27ms/step - accuracy: 0.6243 - loss: 1.0577 - val_accuracy: 0.5800 - val_loss: 1.0251\n",
      "Epoch 12/30\n",
      "\u001b[1m24/24\u001b[0m \u001b[32m━━━━━━━━━━━━━━━━━━━━\u001b[0m\u001b[37m\u001b[0m \u001b[1m1s\u001b[0m 26ms/step - accuracy: 0.6344 - loss: 0.9884 - val_accuracy: 0.6440 - val_loss: 0.9522\n",
      "Epoch 13/30\n",
      "\u001b[1m24/24\u001b[0m \u001b[32m━━━━━━━━━━━━━━━━━━━━\u001b[0m\u001b[37m\u001b[0m \u001b[1m1s\u001b[0m 26ms/step - accuracy: 0.6495 - loss: 0.9192 - val_accuracy: 0.6540 - val_loss: 0.9382\n",
      "Epoch 14/30\n",
      "\u001b[1m24/24\u001b[0m \u001b[32m━━━━━━━━━━━━━━━━━━━━\u001b[0m\u001b[37m\u001b[0m \u001b[1m1s\u001b[0m 26ms/step - accuracy: 0.6698 - loss: 0.8744 - val_accuracy: 0.6380 - val_loss: 0.9145\n",
      "Epoch 15/30\n",
      "\u001b[1m24/24\u001b[0m \u001b[32m━━━━━━━━━━━━━━━━━━━━\u001b[0m\u001b[37m\u001b[0m \u001b[1m1s\u001b[0m 28ms/step - accuracy: 0.6971 - loss: 0.8103 - val_accuracy: 0.6700 - val_loss: 0.8660\n",
      "Epoch 16/30\n",
      "\u001b[1m24/24\u001b[0m \u001b[32m━━━━━━━━━━━━━━━━━━━━\u001b[0m\u001b[37m\u001b[0m \u001b[1m1s\u001b[0m 30ms/step - accuracy: 0.6930 - loss: 0.8202 - val_accuracy: 0.6480 - val_loss: 0.9780\n",
      "Epoch 17/30\n",
      "\u001b[1m24/24\u001b[0m \u001b[32m━━━━━━━━━━━━━━━━━━━━\u001b[0m\u001b[37m\u001b[0m \u001b[1m1s\u001b[0m 30ms/step - accuracy: 0.6894 - loss: 0.8238 - val_accuracy: 0.6260 - val_loss: 0.9793\n",
      "Epoch 18/30\n",
      "\u001b[1m24/24\u001b[0m \u001b[32m━━━━━━━━━━━━━━━━━━━━\u001b[0m\u001b[37m\u001b[0m \u001b[1m1s\u001b[0m 29ms/step - accuracy: 0.7011 - loss: 0.7770 - val_accuracy: 0.6460 - val_loss: 0.9764\n",
      "Epoch 19/30\n",
      "\u001b[1m24/24\u001b[0m \u001b[32m━━━━━━━━━━━━━━━━━━━━\u001b[0m\u001b[37m\u001b[0m \u001b[1m1s\u001b[0m 26ms/step - accuracy: 0.7109 - loss: 0.7438 - val_accuracy: 0.6880 - val_loss: 0.8431\n",
      "Epoch 20/30\n",
      "\u001b[1m24/24\u001b[0m \u001b[32m━━━━━━━━━━━━━━━━━━━━\u001b[0m\u001b[37m\u001b[0m \u001b[1m1s\u001b[0m 26ms/step - accuracy: 0.7706 - loss: 0.6331 - val_accuracy: 0.7000 - val_loss: 0.8497\n",
      "Epoch 21/30\n",
      "\u001b[1m24/24\u001b[0m \u001b[32m━━━━━━━━━━━━━━━━━━━━\u001b[0m\u001b[37m\u001b[0m \u001b[1m1s\u001b[0m 26ms/step - accuracy: 0.7782 - loss: 0.6300 - val_accuracy: 0.6740 - val_loss: 0.8670\n",
      "Epoch 22/30\n",
      "\u001b[1m24/24\u001b[0m \u001b[32m━━━━━━━━━━━━━━━━━━━━\u001b[0m\u001b[37m\u001b[0m \u001b[1m1s\u001b[0m 27ms/step - accuracy: 0.7642 - loss: 0.6401 - val_accuracy: 0.6780 - val_loss: 0.9075\n",
      "Epoch 23/30\n",
      "\u001b[1m24/24\u001b[0m \u001b[32m━━━━━━━━━━━━━━━━━━━━\u001b[0m\u001b[37m\u001b[0m \u001b[1m1s\u001b[0m 27ms/step - accuracy: 0.7859 - loss: 0.5838 - val_accuracy: 0.6680 - val_loss: 0.9318\n",
      "Epoch 24/30\n",
      "\u001b[1m24/24\u001b[0m \u001b[32m━━━━━━━━━━━━━━━━━━━━\u001b[0m\u001b[37m\u001b[0m \u001b[1m1s\u001b[0m 27ms/step - accuracy: 0.7974 - loss: 0.5492 - val_accuracy: 0.6820 - val_loss: 0.8890\n",
      "Epoch 25/30\n",
      "\u001b[1m24/24\u001b[0m \u001b[32m━━━━━━━━━━━━━━━━━━━━\u001b[0m\u001b[37m\u001b[0m \u001b[1m1s\u001b[0m 27ms/step - accuracy: 0.8033 - loss: 0.5429 - val_accuracy: 0.7060 - val_loss: 0.8862\n",
      "Epoch 26/30\n",
      "\u001b[1m24/24\u001b[0m \u001b[32m━━━━━━━━━━━━━━━━━━━━\u001b[0m\u001b[37m\u001b[0m \u001b[1m1s\u001b[0m 27ms/step - accuracy: 0.8092 - loss: 0.5081 - val_accuracy: 0.6580 - val_loss: 0.9431\n",
      "Epoch 27/30\n",
      "\u001b[1m24/24\u001b[0m \u001b[32m━━━━━━━━━━━━━━━━━━━━\u001b[0m\u001b[37m\u001b[0m \u001b[1m1s\u001b[0m 27ms/step - accuracy: 0.8075 - loss: 0.5223 - val_accuracy: 0.7060 - val_loss: 0.9106\n",
      "Epoch 28/30\n",
      "\u001b[1m24/24\u001b[0m \u001b[32m━━━━━━━━━━━━━━━━━━━━\u001b[0m\u001b[37m\u001b[0m \u001b[1m1s\u001b[0m 27ms/step - accuracy: 0.8386 - loss: 0.4360 - val_accuracy: 0.6840 - val_loss: 0.9628\n",
      "Epoch 29/30\n",
      "\u001b[1m24/24\u001b[0m \u001b[32m━━━━━━━━━━━━━━━━━━━━\u001b[0m\u001b[37m\u001b[0m \u001b[1m1s\u001b[0m 27ms/step - accuracy: 0.8585 - loss: 0.3786 - val_accuracy: 0.7120 - val_loss: 0.9247\n",
      "Epoch 30/30\n",
      "\u001b[1m24/24\u001b[0m \u001b[32m━━━━━━━━━━━━━━━━━━━━\u001b[0m\u001b[37m\u001b[0m \u001b[1m1s\u001b[0m 27ms/step - accuracy: 0.8547 - loss: 0.3752 - val_accuracy: 0.6900 - val_loss: 1.0489\n",
      "Test Accuracy with batch=128, epochs=30: 69.00%\n",
      "\n",
      "Final Results Summary:\n",
      "Batch Size 32, Epochs 10: 63.20%\n",
      "Batch Size 32, Epochs 20: 69.00%\n",
      "Batch Size 32, Epochs 30: 71.00%\n",
      "Batch Size 64, Epochs 10: 65.00%\n",
      "Batch Size 64, Epochs 20: 71.00%\n",
      "Batch Size 64, Epochs 30: 74.40%\n",
      "Batch Size 128, Epochs 10: 63.40%\n",
      "Batch Size 128, Epochs 20: 67.80%\n",
      "Batch Size 128, Epochs 30: 69.00%\n"
     ]
    },
    {
     "data": {
      "image/png": "[encoded data removed]",
      "text/plain": [
       "<Figure size 1000x500 with 1 Axes>"
      ]
     },
     "metadata": {},
     "output_type": "display_data"
    }
   ],
   "source": [
    "# Set seed for reproducibility\n",
    "tf.random.set_seed(42)\n",
    "np.random.seed(42)\n",
    "\n",
    "# Function to create the CNN model\n",
    "def create_model():\n",
    "    model = keras.Sequential([\n",
    "        layers.Input(shape=(32, 32, 3)),  # Input layer for 32x32 RGB images\n",
    "\n",
    "        # First Convolutional Block\n",
    "        layers.Conv2D(32, (3, 3), activation='relu', padding='same'),  # 32 filters\n",
    "        layers.Conv2D(32, (3, 3), activation='relu', padding='same'),\n",
    "        layers.MaxPooling2D((2, 2)),  # Downsample the feature maps\n",
    "        layers.Dropout(0.25),  # Dropout to reduce overfitting\n",
    "\n",
    "        # Second Convolutional Block\n",
    "        layers.Conv2D(64, (3, 3), activation='relu', padding='same'),  # 64 filters\n",
    "        layers.Conv2D(64, (3, 3), activation='relu', padding='same'),\n",
    "        layers.MaxPooling2D((2, 2)),\n",
    "        layers.Dropout(0.25),\n",
    "\n",
    "        # Third Convolutional Block\n",
    "        layers.Conv2D(128, (3, 3), activation='relu', padding='same'),  # 128 filters\n",
    "        layers.Conv2D(128, (3, 3), activation='relu', padding='same'),\n",
    "        layers.MaxPooling2D((2, 2)),\n",
    "        layers.Dropout(0.25),\n",
    "\n",
    "        # Fully Connected Layers\n",
    "        layers.Flatten(),  # Flatten feature maps into a 1D vector\n",
    "        layers.Dense(512, activation='relu'),  # Fully connected layer with 512 neurons\n",
    "        layers.Dropout(0.5),  # Dropout to further reduce overfitting\n",
    "        layers.Dense(10, activation='softmax')  # Output layer with 10 classes (for classification)\n",
    "    ])\n",
    "    return model  # Return the model\n",
    "\n",
    "# Experiment variations: different batch sizes and epochs\n",
    "batch_sizes = [32, 64, 128]  # Mini-batch sizes to test\n",
    "epochs_list = [10, 20, 30]  # Number of epochs to test\n",
    "\n",
    "# Dictionary to store results of experiments\n",
    "results = {}\n",
    "\n",
    "# Loop through different batch sizes and epoch values\n",
    "for batch in batch_sizes:\n",
    "    for epoch in epochs_list:\n",
    "        print(f\"\\nTraining with batch size {batch} and {epoch} epochs...\\n\")\n",
    "\n",
    "        # Clear TensorFlow session to free up memory and avoid unexpected state issues\n",
    "        K.clear_session()\n",
    "\n",
    "        # Define optimizer (AdamW) inside the loop to ensure a fresh instance each time\n",
    "        best_optimizer = optimizers.AdamW(learning_rate=0.001)\n",
    "\n",
    "        # Create and compile a new CNN model\n",
    "        model = create_model()\n",
    "        model.compile(optimizer=best_optimizer,\n",
    "                      loss='categorical_crossentropy',  # Loss function for multi-class classification\n",
    "                      metrics=['accuracy'])  # Track accuracy during training\n",
    "\n",
    "        # Train the model with the current batch size and epoch count\n",
    "        history = model.fit(x_train_final, y_train_final,\n",
    "                            epochs=epoch,  # Train for the selected number of epochs\n",
    "                            batch_size=batch,  # Use the selected batch size\n",
    "                            validation_data=(x_test_final, y_test_final),  # Validate on test data\n",
    "                            verbose=1)\n",
    "\n",
    "        # Evaluate the trained model on the test dataset\n",
    "        test_loss, test_acc = model.evaluate(x_test_final, y_test_final, verbose=0)\n",
    "        print(f\"Test Accuracy with batch={batch}, epochs={epoch}: {test_acc * 100:.2f}%\")\n",
    "\n",
    "        # Store the test accuracy result\n",
    "        results[(batch, epoch)] = test_acc\n",
    "\n",
    "# Print final results summary\n",
    "print(\"\\nFinal Results Summary:\")\n",
    "for key, value in results.items():\n",
    "    print(f\"Batch Size {key[0]}, Epochs {key[1]}: {value * 100:.2f}%\")\n",
    "\n",
    "# Plot results to visualize the impact of batch size and epochs on accuracy\n",
    "plt.figure(figsize=(10, 5))\n",
    "\n",
    "# Plot accuracy trends for different batch sizes\n",
    "for batch in batch_sizes:\n",
    "    accs = [results[(batch, epoch)] * 100 for epoch in epochs_list]\n",
    "    plt.plot(epochs_list, accs, marker='o', linestyle='-', label=f'Batch Size {batch}')\n",
    "\n",
    "# Label the plot\n",
    "plt.xlabel('Epochs')\n",
    "plt.ylabel('Test Accuracy (%)')\n",
    "plt.title('Effect of Batch Size & Epochs on Accuracy')\n",
    "plt.legend()\n",
    "plt.grid(True)\n",
    "\n",
    "# Display the plot\n",
    "plt.show()"
   ]
  },
  {
   "cell_type": "markdown",
   "metadata": {
    "id": "kgCQBWoDstTM",
    "jp-MarkdownHeadingCollapsed": true
   },
   "source": [
    "### Task 5.5 Conclusion:"
   ]
  },
  {
   "cell_type": "markdown",
   "metadata": {
    "id": "HQ_vVp_lstn5"
   },
   "source": [
    "<font color = green>The experiment systematically evaluates the impact of batch size and the number of training epochs on the test accuracy of a CNN trained on the dataset. The results indicate that increasing the number of epochs generally improves test accuracy, with the best performance (74.40%) achieved using a batch size of 64 and 30 epochs. From the results, it is evident that a moderate batch size (64) consistently outperforms both smaller (32) and larger (128) batch sizes. A batch size of 32 shows steady improvement with more epochs but does not surpass the performance of batch size 64. On the other hand, a batch size of 128 performs relatively well but does not reach the same peak accuracy, possibly due to reduced model updates per epoch, which may limit learning efficiency. The trend suggests that while increasing epochs leads to higher accuracy, the performance gains beyond 20 epochs start to diminish. This indicates that while the model benefits from longer training, an optimal stopping point may exist around 30 epochs. Additional techniques like early stopping or learning rate scheduling could help refine this further. Overall, the experiment demonstrates that selecting an appropriate batch size and number of epochs plays a crucial role in CNN performance. A batch size of 64 appears to provide a good balance between stability and generalization, making it the most effective choice in this setup. Future optimizations, such as fine-tuning the learning rate, adding data augmentation, or experimenting with dropout rates, could further enhance the model’s performance."
   ]
  },
  {
   "cell_type": "markdown",
   "metadata": {
    "id": "4tQUrDud_A13"
   },
   "source": [
    "### Task 6: Repeat the above experiment in (5) using a subset of the imagenet data set (8-12 classes, a random subset from each class of suitable size)"
   ]
  },
  {
   "cell_type": "markdown",
   "metadata": {
    "id": "9UXFKZMB_FwG"
   },
   "source": [
    "#### Task 6.1: Load and Preprocess a Subset of ImageNet\n"
   ]
  },
  {
   "cell_type": "code",
   "execution_count": null,
   "metadata": {
    "colab": {
     "base_uri": "https://localhost:8080/",
     "height": 165,
     "referenced_widgets": [
      "a61d41ce183a4d539c2ec8e6cecd45e1",
      "57d59a6ff62042b0bc8442d1ad9b93c4",
      "8373ee60be4e41adb5ca3ff13e9403dc",
      "606682ff4f4842bf948983d778845740",
      "0cf84323b0df45bdbfb857c6715a91db",
      "9436d3e56ba54839bab72fc51a38c030",
      "de3216f555e1433ab6bd2c1a2adee57d",
      "2c3d357865194b6ea8edc74c7b5632d4",
      "1a2ebd9d057c4a01b2b7c66de9492831",
      "a613b6b7f84648adb7ba41c6a59ecaf4",
      "b1ea3d052e3d47ff87d4520b0bf2e6b3",
      "c15e7237a4094330b7281c240fbd1d05",
      "c5c0c6c2c5ff4729b957e74627f8bb9f",
      "960b43d71f3842c98dee9b5b38623b27",
      "06f4756ed5c44a04b325a3802042aaaa",
      "3d2f0c9a661c4db8a23891cab201d5f3",
      "b3886e622fd54a3eb0d2e1f2aff6c5b4",
      "d6f2a386a36d48a89ac8e380d14fda67",
      "947e4ece10f348ca92ca30bdb8263857",
      "c67fc993ff294ff68f3dffaa220d715c",
      "0aee4f2588864622aa83ace69940c3fb",
      "65c11685ce424c3c8529d7701200d0cb",
      "d5298754fe0d46d1aa1cb222bf8e9f6f",
      "0b6a523f0157425c88a4aa5dfbd7c523",
      "570cd9ce2c11429b9841d2fa9607cb15",
      "525c737a8dc84c789da99d630376dbc9",
      "e87af88af8f5493b8047228b210ba99d",
      "2da6d4a9787d41ccbccd49a4ae0678cd",
      "f48420bdd8b44691ad1c1fe7335a88fc",
      "e7fbaea98eb947e8adc237d0a5782a68",
      "ce8550fe5b5f4c049574c1deb8ba700d",
      "27211a5cad744aea9001e033685c4b8d",
      "5121f7513ed34d19bef4ba9dd9e18fdb",
      "3a8829cc993c48518873f4e877c72819",
      "cda772720e9e413c8c5965c7661b7e22",
      "ff5769456f2349939a049c93e75efe0f",
      "783321b8329749729096d3bb295551e9",
      "b4c158291bbb46bc880e27e341b6e6fc",
      "ccb6b0824afd4ae4b13b7c0475ece4e4",
      "24d0968c5cf54605983aa5309161a694",
      "673b108bb4f849ffa8afd2f82ba45e09",
      "654f86ef01004bd8b07273da5801bf9e",
      "eebe9d8f4d28492f81c82fcf9ed65834",
      "f8d2b2b4aba64afd9bae11f0980fe342",
      "30a44862f5b043daa32cacdacbb06981",
      "1bd9a68b905647e289001693aac55f09",
      "57aaa7a1cacf4fdda50b79b3a67ba8e0",
      "90be4cbdf86b4ffc84728d3c2313efa9",
      "84c941392759421da376a1e4f54fb02c",
      "1ab81ae541d84d8ab4d040203ea4df02",
      "82839b418fd14abe84036c2e036742cd",
      "f4ef26a89ff34c428757e93ce5e30054",
      "d61823c7d36b4d10853f04b1458032b9",
      "b05d16444e3646d8b39c3b8d661a2a53",
      "0a05e362582e41109786064176e53ac0",
      "7c290017bf4c429ba46ef66fd57a2175",
      "5aa915680e7a4145a825d3383f02714e",
      "1e81c0f5f3734f48a6f6c91c8c21583b",
      "8611f8dd9d2f4f32b4c4c69a698e51f2",
      "353f55625c20408c97b3a69203bad525",
      "794c34e247064b8c8b8da27ebb2605cc",
      "01c06984270c4123a2add6d1dccece09",
      "8806940de1a94d838f1751289e16024b",
      "c67d26cadfcb406ea55a96f2ee19f340",
      "213bb870c152427081e8d350f0bf8a8a",
      "48292979370145c7b0572a56f14c5a4f",
      "352c1a7306604250b8bd78e2d70ec142",
      "f8dbfdad6f544c888adb1fd31050149b",
      "67146e5d5b6941168c5c0fc2541aca11",
      "9bc1a098fef54323a0473ab4204948ee",
      "a3a94be6708742a48b6e036f7e98a47b",
      "a36d8a1b044d406fbb7db4b8979b2d5a",
      "84ee2b655f3e49b3bcced6dcd262d6df",
      "232d13964bfe4bd99fd5aab63d2a32d4",
      "5fa664b83a8046e6870265910467dd4a",
      "b84e55d5943f48e78700c83536a8db37",
      "e92716a817ed43edbf276b61f12c2b7b",
      "c6cb97080cee4f299ec81999c9512a39",
      "2f2e565610bb41eba11fed4bd987e501",
      "f5bac5437fed4d37aa2e5cc15e40765f",
      "e29f8943de8142f7985910e3dbb2f27d",
      "d5e85e715d9943918259c9f1be10c96e",
      "b8639a2a4c8b46b382a4e4d6a6960100",
      "b038b98424904d6693f216712e76f0bf",
      "c3920c912db542a4a66f19d1210bcac0",
      "61c920c99c034f888c0a26bb00eeac0d",
      "b21c05edb3d742f1b20bfd5940a7decf",
      "24cab4c2656341e49892787cccf7da07"
     ]
    },
    "collapsed": true,
    "id": "eoVeOT6e12iy",
    "jupyter": {
     "outputs_hidden": true,
     "source_hidden": true
    },
    "outputId": "158efa86-ae49-4238-8bf0-657915c6bc3c"
   },
   "outputs": [
    {
     "name": "stdout",
     "output_type": "stream",
     "text": [
      "Downloading and preparing dataset 325.48 MiB (download: 325.48 MiB, generated: 332.71 MiB, total: 658.19 MiB) to /root/tensorflow_datasets/imagenette/320px/1.0.0...\n"
     ]
    },
    {
     "data": {
      "application/vnd.jupyter.widget-view+json": {
       "model_id": "a61d41ce183a4d539c2ec8e6cecd45e1",
       "version_major": 2,
       "version_minor": 0
      },
      "text/plain": [
       "Dl Completed...: 0 url [00:00, ? url/s]"
      ]
     },
     "metadata": {},
     "output_type": "display_data"
    },
    {
     "data": {
      "application/vnd.jupyter.widget-view+json": {
       "model_id": "c15e7237a4094330b7281c240fbd1d05",
       "version_major": 2,
       "version_minor": 0
      },
      "text/plain": [
       "Dl Size...: 0 MiB [00:00, ? MiB/s]"
      ]
     },
     "metadata": {},
     "output_type": "display_data"
    },
    {
     "data": {
      "application/vnd.jupyter.widget-view+json": {
       "model_id": "d5298754fe0d46d1aa1cb222bf8e9f6f",
       "version_major": 2,
       "version_minor": 0
      },
      "text/plain": [
       "Extraction completed...: 0 file [00:00, ? file/s]"
      ]
     },
     "metadata": {},
     "output_type": "display_data"
    },
    {
     "data": {
      "application/vnd.jupyter.widget-view+json": {
       "model_id": "3a8829cc993c48518873f4e877c72819",
       "version_major": 2,
       "version_minor": 0
      },
      "text/plain": [
       "Generating splits...:   0%|          | 0/2 [00:00<?, ? splits/s]"
      ]
     },
     "metadata": {},
     "output_type": "display_data"
    },
    {
     "data": {
      "application/vnd.jupyter.widget-view+json": {
       "model_id": "30a44862f5b043daa32cacdacbb06981",
       "version_major": 2,
       "version_minor": 0
      },
      "text/plain": [
       "Generating train examples...:   0%|          | 0/12894 [00:00<?, ? examples/s]"
      ]
     },
     "metadata": {},
     "output_type": "display_data"
    },
    {
     "data": {
      "application/vnd.jupyter.widget-view+json": {
       "model_id": "7c290017bf4c429ba46ef66fd57a2175",
       "version_major": 2,
       "version_minor": 0
      },
      "text/plain": [
       "Shuffling /root/tensorflow_datasets/imagenette/320px/incomplete.43YJMO_1.0.0/imagenette-train.tfrecord*...:   …"
      ]
     },
     "metadata": {},
     "output_type": "display_data"
    },
    {
     "data": {
      "application/vnd.jupyter.widget-view+json": {
       "model_id": "352c1a7306604250b8bd78e2d70ec142",
       "version_major": 2,
       "version_minor": 0
      },
      "text/plain": [
       "Generating validation examples...:   0%|          | 0/500 [00:00<?, ? examples/s]"
      ]
     },
     "metadata": {},
     "output_type": "display_data"
    },
    {
     "data": {
      "application/vnd.jupyter.widget-view+json": {
       "model_id": "c6cb97080cee4f299ec81999c9512a39",
       "version_major": 2,
       "version_minor": 0
      },
      "text/plain": [
       "Shuffling /root/tensorflow_datasets/imagenette/320px/incomplete.43YJMO_1.0.0/imagenette-validation.tfrecord*..…"
      ]
     },
     "metadata": {},
     "output_type": "display_data"
    },
    {
     "name": "stdout",
     "output_type": "stream",
     "text": [
      "Dataset imagenette downloaded and prepared to /root/tensorflow_datasets/imagenette/320px/1.0.0. Subsequent calls will reuse this data.\n",
      "Classes: ['n01440764', 'n02102040', 'n02979186', 'n03000684', 'n03028079', 'n03394916', 'n03417042', 'n03425413', 'n03445777', 'n03888257']\n"
     ]
    }
   ],
   "source": [
    "# Load a small subset of ImageNet (e.g., ImageNet2012_subset or use a custom one)\n",
    "dataset_name = \"imagenette/320px\"  # A lightweight version of ImageNet with 10 classes\n",
    "dataset, info = tfds.load(dataset_name, split=['train', 'validation'], as_supervised=True, with_info=True)\n",
    "\n",
    "# Extract dataset splits (training and validation sets)\n",
    "train_data, val_data = dataset  # `train_data` contains training images, `val_data` contains validation images\n",
    "\n",
    "# Retrieve and print available class names from the dataset metadata\n",
    "class_names = info.features['label'].names\n",
    "print(\"Classes:\", class_names)  # Display the 10 class names in Imagenette\n",
    "\n",
    "# Define constants for image processing\n",
    "IMG_SIZE = 32  # Resize images to 32x32 to match CIFAR-100 dataset dimensions\n",
    "BATCH_SIZE = 64  # Number of images per batch during training and validation"
   ]
  },
  {
   "cell_type": "markdown",
   "metadata": {
    "id": "oZu0cRcb_H_T"
   },
   "source": [
    "#### Task 6.2: Data Preprocessing (Resizing, Normalization)"
   ]
  },
  {
   "cell_type": "code",
   "execution_count": null,
   "metadata": {
    "id": "2U41XMuf_LhO",
    "jupyter": {
     "source_hidden": true
    }
   },
   "outputs": [],
   "source": [
    "# Function to preprocess images before training\n",
    "def preprocess(image, label):\n",
    "    image = tf.image.resize(image, (IMG_SIZE, IMG_SIZE))  # Resize image to defined IMG_SIZE (32x32)\n",
    "    image = tf.cast(image, tf.float32) / 255.0  # Normalize pixel values to range [0,1] for better training stability\n",
    "    return image, label  # Return preprocessed image and corresponding label\n",
    "\n",
    "# Apply preprocessing to training and validation datasets\n",
    "train_data = train_data.map(preprocess)  # Resize and normalize images in the training set\n",
    "train_data = train_data.batch(BATCH_SIZE).shuffle(1000)  # Batch and shuffle training data for better generalization\n",
    "\n",
    "val_data = val_data.map(preprocess)  # Resize and normalize images in the validation set\n",
    "val_data = val_data.batch(BATCH_SIZE)  # Batch validation data (no shuffling needed)"
   ]
  },
  {
   "cell_type": "markdown",
   "metadata": {
    "id": "7RC71wEO_L43"
   },
   "source": [
    "#### Task 6.3: Define CNN Model"
   ]
  },
  {
   "cell_type": "code",
   "execution_count": null,
   "metadata": {
    "colab": {
     "base_uri": "https://localhost:8080/",
     "height": 442
    },
    "collapsed": true,
    "id": "lZ2ouxMD_PsP",
    "jupyter": {
     "outputs_hidden": true,
     "source_hidden": true
    },
    "outputId": "495441ba-ba12-4b22-af7c-ad259ab3ad84"
   },
   "outputs": [
    {
     "data": {
      "text/html": [
       "<pre style=\"white-space:pre;overflow-x:auto;line-height:normal;font-family:Menlo,'DejaVu Sans Mono',consolas,'Courier New',monospace\"><span style=\"font-weight: bold\">Model: \"sequential_1\"</span>\n",
       "</pre>\n"
      ],
      "text/plain": [
       "\u001b[1mModel: \"sequential_1\"\u001b[0m\n"
      ]
     },
     "metadata": {},
     "output_type": "display_data"
    },
    {
     "data": {
      "text/html": [
       "<pre style=\"white-space:pre;overflow-x:auto;line-height:normal;font-family:Menlo,'DejaVu Sans Mono',consolas,'Courier New',monospace\">┏━━━━━━━━━━━━━━━━━━━━━━━━━━━━━━━━━━━━━━┳━━━━━━━━━━━━━━━━━━━━━━━━━━━━━┳━━━━━━━━━━━━━━━━━┓\n",
       "┃<span style=\"font-weight: bold\"> Layer (type)                         </span>┃<span style=\"font-weight: bold\"> Output Shape                </span>┃<span style=\"font-weight: bold\">         Param # </span>┃\n",
       "┡━━━━━━━━━━━━━━━━━━━━━━━━━━━━━━━━━━━━━━╇━━━━━━━━━━━━━━━━━━━━━━━━━━━━━╇━━━━━━━━━━━━━━━━━┩\n",
       "│ conv2d_6 (<span style=\"color: #0087ff; text-decoration-color: #0087ff\">Conv2D</span>)                    │ (<span style=\"color: #00d7ff; text-decoration-color: #00d7ff\">None</span>, <span style=\"color: #00af00; text-decoration-color: #00af00\">30</span>, <span style=\"color: #00af00; text-decoration-color: #00af00\">30</span>, <span style=\"color: #00af00; text-decoration-color: #00af00\">32</span>)          │             <span style=\"color: #00af00; text-decoration-color: #00af00\">896</span> │\n",
       "├──────────────────────────────────────┼─────────────────────────────┼─────────────────┤\n",
       "│ max_pooling2d_3 (<span style=\"color: #0087ff; text-decoration-color: #0087ff\">MaxPooling2D</span>)       │ (<span style=\"color: #00d7ff; text-decoration-color: #00d7ff\">None</span>, <span style=\"color: #00af00; text-decoration-color: #00af00\">15</span>, <span style=\"color: #00af00; text-decoration-color: #00af00\">15</span>, <span style=\"color: #00af00; text-decoration-color: #00af00\">32</span>)          │               <span style=\"color: #00af00; text-decoration-color: #00af00\">0</span> │\n",
       "├──────────────────────────────────────┼─────────────────────────────┼─────────────────┤\n",
       "│ conv2d_7 (<span style=\"color: #0087ff; text-decoration-color: #0087ff\">Conv2D</span>)                    │ (<span style=\"color: #00d7ff; text-decoration-color: #00d7ff\">None</span>, <span style=\"color: #00af00; text-decoration-color: #00af00\">13</span>, <span style=\"color: #00af00; text-decoration-color: #00af00\">13</span>, <span style=\"color: #00af00; text-decoration-color: #00af00\">64</span>)          │          <span style=\"color: #00af00; text-decoration-color: #00af00\">18,496</span> │\n",
       "├──────────────────────────────────────┼─────────────────────────────┼─────────────────┤\n",
       "│ max_pooling2d_4 (<span style=\"color: #0087ff; text-decoration-color: #0087ff\">MaxPooling2D</span>)       │ (<span style=\"color: #00d7ff; text-decoration-color: #00d7ff\">None</span>, <span style=\"color: #00af00; text-decoration-color: #00af00\">6</span>, <span style=\"color: #00af00; text-decoration-color: #00af00\">6</span>, <span style=\"color: #00af00; text-decoration-color: #00af00\">64</span>)            │               <span style=\"color: #00af00; text-decoration-color: #00af00\">0</span> │\n",
       "├──────────────────────────────────────┼─────────────────────────────┼─────────────────┤\n",
       "│ conv2d_8 (<span style=\"color: #0087ff; text-decoration-color: #0087ff\">Conv2D</span>)                    │ (<span style=\"color: #00d7ff; text-decoration-color: #00d7ff\">None</span>, <span style=\"color: #00af00; text-decoration-color: #00af00\">4</span>, <span style=\"color: #00af00; text-decoration-color: #00af00\">4</span>, <span style=\"color: #00af00; text-decoration-color: #00af00\">128</span>)           │          <span style=\"color: #00af00; text-decoration-color: #00af00\">73,856</span> │\n",
       "├──────────────────────────────────────┼─────────────────────────────┼─────────────────┤\n",
       "│ max_pooling2d_5 (<span style=\"color: #0087ff; text-decoration-color: #0087ff\">MaxPooling2D</span>)       │ (<span style=\"color: #00d7ff; text-decoration-color: #00d7ff\">None</span>, <span style=\"color: #00af00; text-decoration-color: #00af00\">2</span>, <span style=\"color: #00af00; text-decoration-color: #00af00\">2</span>, <span style=\"color: #00af00; text-decoration-color: #00af00\">128</span>)           │               <span style=\"color: #00af00; text-decoration-color: #00af00\">0</span> │\n",
       "├──────────────────────────────────────┼─────────────────────────────┼─────────────────┤\n",
       "│ flatten_1 (<span style=\"color: #0087ff; text-decoration-color: #0087ff\">Flatten</span>)                  │ (<span style=\"color: #00d7ff; text-decoration-color: #00d7ff\">None</span>, <span style=\"color: #00af00; text-decoration-color: #00af00\">512</span>)                 │               <span style=\"color: #00af00; text-decoration-color: #00af00\">0</span> │\n",
       "├──────────────────────────────────────┼─────────────────────────────┼─────────────────┤\n",
       "│ dense_2 (<span style=\"color: #0087ff; text-decoration-color: #0087ff\">Dense</span>)                      │ (<span style=\"color: #00d7ff; text-decoration-color: #00d7ff\">None</span>, <span style=\"color: #00af00; text-decoration-color: #00af00\">128</span>)                 │          <span style=\"color: #00af00; text-decoration-color: #00af00\">65,664</span> │\n",
       "├──────────────────────────────────────┼─────────────────────────────┼─────────────────┤\n",
       "│ dense_3 (<span style=\"color: #0087ff; text-decoration-color: #0087ff\">Dense</span>)                      │ (<span style=\"color: #00d7ff; text-decoration-color: #00d7ff\">None</span>, <span style=\"color: #00af00; text-decoration-color: #00af00\">10</span>)                  │           <span style=\"color: #00af00; text-decoration-color: #00af00\">1,290</span> │\n",
       "└──────────────────────────────────────┴─────────────────────────────┴─────────────────┘\n",
       "</pre>\n"
      ],
      "text/plain": [
       "┏━━━━━━━━━━━━━━━━━━━━━━━━━━━━━━━━━━━━━━┳━━━━━━━━━━━━━━━━━━━━━━━━━━━━━┳━━━━━━━━━━━━━━━━━┓\n",
       "┃\u001b[1m \u001b[0m\u001b[1mLayer (type)                        \u001b[0m\u001b[1m \u001b[0m┃\u001b[1m \u001b[0m\u001b[1mOutput Shape               \u001b[0m\u001b[1m \u001b[0m┃\u001b[1m \u001b[0m\u001b[1m        Param #\u001b[0m\u001b[1m \u001b[0m┃\n",
       "┡━━━━━━━━━━━━━━━━━━━━━━━━━━━━━━━━━━━━━━╇━━━━━━━━━━━━━━━━━━━━━━━━━━━━━╇━━━━━━━━━━━━━━━━━┩\n",
       "│ conv2d_6 (\u001b[38;5;33mConv2D\u001b[0m)                    │ (\u001b[38;5;45mNone\u001b[0m, \u001b[38;5;34m30\u001b[0m, \u001b[38;5;34m30\u001b[0m, \u001b[38;5;34m32\u001b[0m)          │             \u001b[38;5;34m896\u001b[0m │\n",
       "├──────────────────────────────────────┼─────────────────────────────┼─────────────────┤\n",
       "│ max_pooling2d_3 (\u001b[38;5;33mMaxPooling2D\u001b[0m)       │ (\u001b[38;5;45mNone\u001b[0m, \u001b[38;5;34m15\u001b[0m, \u001b[38;5;34m15\u001b[0m, \u001b[38;5;34m32\u001b[0m)          │               \u001b[38;5;34m0\u001b[0m │\n",
       "├──────────────────────────────────────┼─────────────────────────────┼─────────────────┤\n",
       "│ conv2d_7 (\u001b[38;5;33mConv2D\u001b[0m)                    │ (\u001b[38;5;45mNone\u001b[0m, \u001b[38;5;34m13\u001b[0m, \u001b[38;5;34m13\u001b[0m, \u001b[38;5;34m64\u001b[0m)          │          \u001b[38;5;34m18,496\u001b[0m │\n",
       "├──────────────────────────────────────┼─────────────────────────────┼─────────────────┤\n",
       "│ max_pooling2d_4 (\u001b[38;5;33mMaxPooling2D\u001b[0m)       │ (\u001b[38;5;45mNone\u001b[0m, \u001b[38;5;34m6\u001b[0m, \u001b[38;5;34m6\u001b[0m, \u001b[38;5;34m64\u001b[0m)            │               \u001b[38;5;34m0\u001b[0m │\n",
       "├──────────────────────────────────────┼─────────────────────────────┼─────────────────┤\n",
       "│ conv2d_8 (\u001b[38;5;33mConv2D\u001b[0m)                    │ (\u001b[38;5;45mNone\u001b[0m, \u001b[38;5;34m4\u001b[0m, \u001b[38;5;34m4\u001b[0m, \u001b[38;5;34m128\u001b[0m)           │          \u001b[38;5;34m73,856\u001b[0m │\n",
       "├──────────────────────────────────────┼─────────────────────────────┼─────────────────┤\n",
       "│ max_pooling2d_5 (\u001b[38;5;33mMaxPooling2D\u001b[0m)       │ (\u001b[38;5;45mNone\u001b[0m, \u001b[38;5;34m2\u001b[0m, \u001b[38;5;34m2\u001b[0m, \u001b[38;5;34m128\u001b[0m)           │               \u001b[38;5;34m0\u001b[0m │\n",
       "├──────────────────────────────────────┼─────────────────────────────┼─────────────────┤\n",
       "│ flatten_1 (\u001b[38;5;33mFlatten\u001b[0m)                  │ (\u001b[38;5;45mNone\u001b[0m, \u001b[38;5;34m512\u001b[0m)                 │               \u001b[38;5;34m0\u001b[0m │\n",
       "├──────────────────────────────────────┼─────────────────────────────┼─────────────────┤\n",
       "│ dense_2 (\u001b[38;5;33mDense\u001b[0m)                      │ (\u001b[38;5;45mNone\u001b[0m, \u001b[38;5;34m128\u001b[0m)                 │          \u001b[38;5;34m65,664\u001b[0m │\n",
       "├──────────────────────────────────────┼─────────────────────────────┼─────────────────┤\n",
       "│ dense_3 (\u001b[38;5;33mDense\u001b[0m)                      │ (\u001b[38;5;45mNone\u001b[0m, \u001b[38;5;34m10\u001b[0m)                  │           \u001b[38;5;34m1,290\u001b[0m │\n",
       "└──────────────────────────────────────┴─────────────────────────────┴─────────────────┘\n"
      ]
     },
     "metadata": {},
     "output_type": "display_data"
    },
    {
     "data": {
      "text/html": [
       "<pre style=\"white-space:pre;overflow-x:auto;line-height:normal;font-family:Menlo,'DejaVu Sans Mono',consolas,'Courier New',monospace\"><span style=\"font-weight: bold\"> Total params: </span><span style=\"color: #00af00; text-decoration-color: #00af00\">160,202</span> (625.79 KB)\n",
       "</pre>\n"
      ],
      "text/plain": [
       "\u001b[1m Total params: \u001b[0m\u001b[38;5;34m160,202\u001b[0m (625.79 KB)\n"
      ]
     },
     "metadata": {},
     "output_type": "display_data"
    },
    {
     "data": {
      "text/html": [
       "<pre style=\"white-space:pre;overflow-x:auto;line-height:normal;font-family:Menlo,'DejaVu Sans Mono',consolas,'Courier New',monospace\"><span style=\"font-weight: bold\"> Trainable params: </span><span style=\"color: #00af00; text-decoration-color: #00af00\">160,202</span> (625.79 KB)\n",
       "</pre>\n"
      ],
      "text/plain": [
       "\u001b[1m Trainable params: \u001b[0m\u001b[38;5;34m160,202\u001b[0m (625.79 KB)\n"
      ]
     },
     "metadata": {},
     "output_type": "display_data"
    },
    {
     "data": {
      "text/html": [
       "<pre style=\"white-space:pre;overflow-x:auto;line-height:normal;font-family:Menlo,'DejaVu Sans Mono',consolas,'Courier New',monospace\"><span style=\"font-weight: bold\"> Non-trainable params: </span><span style=\"color: #00af00; text-decoration-color: #00af00\">0</span> (0.00 B)\n",
       "</pre>\n"
      ],
      "text/plain": [
       "\u001b[1m Non-trainable params: \u001b[0m\u001b[38;5;34m0\u001b[0m (0.00 B)\n"
      ]
     },
     "metadata": {},
     "output_type": "display_data"
    }
   ],
   "source": [
    "# Function to create a CNN model for image classification\n",
    "def create_cnn():\n",
    "    model = models.Sequential([\n",
    "        layers.Input(shape=(IMG_SIZE, IMG_SIZE, 3)),  # Input layer with image size and 3 color channels (RGB)\n",
    "\n",
    "        # First convolutional block: Conv layer with 32 filters, followed by max pooling\n",
    "        layers.Conv2D(32, (3,3), activation='relu'),\n",
    "        layers.MaxPooling2D((2,2)),\n",
    "\n",
    "        # Second convolutional block: Conv layer with 64 filters, followed by max pooling\n",
    "        layers.Conv2D(64, (3,3), activation='relu'),\n",
    "        layers.MaxPooling2D((2,2)),\n",
    "\n",
    "        # Third convolutional block: Conv layer with 128 filters, followed by max pooling\n",
    "        layers.Conv2D(128, (3,3), activation='relu'),\n",
    "        layers.MaxPooling2D((2,2)),\n",
    "\n",
    "        # Flatten the feature maps to feed into dense layers\n",
    "        layers.Flatten(),\n",
    "\n",
    "        # Fully connected dense layer with 128 neurons and ReLU activation\n",
    "        layers.Dense(128, activation='relu'),\n",
    "\n",
    "        # Output layer: Number of neurons equal to the number of classes, using softmax activation\n",
    "        layers.Dense(len(class_names), activation='softmax')\n",
    "    ])\n",
    "\n",
    "    # Compile the model with Adam optimizer and sparse categorical crossentropy loss (since labels are integers)\n",
    "    model.compile(optimizer='adam',\n",
    "                  loss='sparse_categorical_crossentropy',\n",
    "                  metrics=['accuracy'])\n",
    "\n",
    "    return model\n",
    "\n",
    "# Create the CNN model\n",
    "cnn_model = create_cnn()\n",
    "\n",
    "# Display the model summary to understand the architecture\n",
    "cnn_model.summary()"
   ]
  },
  {
   "cell_type": "markdown",
   "metadata": {
    "id": "wXdKotje_QFv"
   },
   "source": [
    "#### Task 6.4: Train and Evaluate the Model"
   ]
  },
  {
   "cell_type": "code",
   "execution_count": null,
   "metadata": {
    "colab": {
     "base_uri": "https://localhost:8080/"
    },
    "collapsed": true,
    "id": "YDeQQ_2t_bVE",
    "jupyter": {
     "outputs_hidden": true,
     "source_hidden": true
    },
    "outputId": "4a447f07-3b7c-4e49-83f0-d28881bd8e81"
   },
   "outputs": [
    {
     "name": "stdout",
     "output_type": "stream",
     "text": [
      "Epoch 1/10\n",
      "\u001b[1m202/202\u001b[0m \u001b[32m━━━━━━━━━━━━━━━━━━━━\u001b[0m\u001b[37m\u001b[0m \u001b[1m87s\u001b[0m 96ms/step - accuracy: 0.2539 - loss: 2.0820 - val_accuracy: 0.4540 - val_loss: 1.5745\n",
      "Epoch 2/10\n",
      "\u001b[1m202/202\u001b[0m \u001b[32m━━━━━━━━━━━━━━━━━━━━\u001b[0m\u001b[37m\u001b[0m \u001b[1m75s\u001b[0m 99ms/step - accuracy: 0.4609 - loss: 1.5880 - val_accuracy: 0.5760 - val_loss: 1.3621\n",
      "Epoch 3/10\n",
      "\u001b[1m202/202\u001b[0m \u001b[32m━━━━━━━━━━━━━━━━━━━━\u001b[0m\u001b[37m\u001b[0m \u001b[1m71s\u001b[0m 93ms/step - accuracy: 0.5478 - loss: 1.3345 - val_accuracy: 0.6400 - val_loss: 1.1594\n",
      "Epoch 4/10\n",
      "\u001b[1m202/202\u001b[0m \u001b[32m━━━━━━━━━━━━━━━━━━━━\u001b[0m\u001b[37m\u001b[0m \u001b[1m71s\u001b[0m 93ms/step - accuracy: 0.6158 - loss: 1.1706 - val_accuracy: 0.6500 - val_loss: 1.1058\n",
      "Epoch 5/10\n",
      "\u001b[1m202/202\u001b[0m \u001b[32m━━━━━━━━━━━━━━━━━━━━\u001b[0m\u001b[37m\u001b[0m \u001b[1m73s\u001b[0m 99ms/step - accuracy: 0.6424 - loss: 1.0889 - val_accuracy: 0.6740 - val_loss: 1.0285\n",
      "Epoch 6/10\n",
      "\u001b[1m202/202\u001b[0m \u001b[32m━━━━━━━━━━━━━━━━━━━━\u001b[0m\u001b[37m\u001b[0m \u001b[1m72s\u001b[0m 97ms/step - accuracy: 0.6783 - loss: 0.9800 - val_accuracy: 0.6600 - val_loss: 1.0058\n",
      "Epoch 7/10\n",
      "\u001b[1m202/202\u001b[0m \u001b[32m━━━━━━━━━━━━━━━━━━━━\u001b[0m\u001b[37m\u001b[0m \u001b[1m71s\u001b[0m 92ms/step - accuracy: 0.7060 - loss: 0.8999 - val_accuracy: 0.6820 - val_loss: 0.9801\n",
      "Epoch 8/10\n",
      "\u001b[1m202/202\u001b[0m \u001b[32m━━━━━━━━━━━━━━━━━━━━\u001b[0m\u001b[37m\u001b[0m \u001b[1m72s\u001b[0m 92ms/step - accuracy: 0.7103 - loss: 0.8748 - val_accuracy: 0.6920 - val_loss: 0.9852\n",
      "Epoch 9/10\n",
      "\u001b[1m202/202\u001b[0m \u001b[32m━━━━━━━━━━━━━━━━━━━━\u001b[0m\u001b[37m\u001b[0m \u001b[1m72s\u001b[0m 98ms/step - accuracy: 0.7502 - loss: 0.7764 - val_accuracy: 0.6520 - val_loss: 1.0679\n",
      "Epoch 10/10\n",
      "\u001b[1m202/202\u001b[0m \u001b[32m━━━━━━━━━━━━━━━━━━━━\u001b[0m\u001b[37m\u001b[0m \u001b[1m75s\u001b[0m 99ms/step - accuracy: 0.7604 - loss: 0.7299 - val_accuracy: 0.6840 - val_loss: 0.9749\n",
      "\u001b[1m8/8\u001b[0m \u001b[32m━━━━━━━━━━━━━━━━━━━━\u001b[0m\u001b[37m\u001b[0m \u001b[1m2s\u001b[0m 283ms/step - accuracy: 0.6694 - loss: 0.9959\n",
      "Test Accuracy on ImageNet Subset: 68.40%\n"
     ]
    }
   ],
   "source": [
    "# Set the number of training epochs\n",
    "EPOCHS = 10  # Can be adjusted to experiment with different values (e.g., 10, 20, 30)\n",
    "\n",
    "# Train the CNN model on the training dataset\n",
    "history = cnn_model.fit(train_data, epochs=EPOCHS, validation_data=val_data)\n",
    "\n",
    "# Evaluate the model on the validation dataset to measure performance\n",
    "test_loss, test_acc = cnn_model.evaluate(val_data)\n",
    "\n",
    "# Print the final test accuracy in percentage format\n",
    "print(f\"Test Accuracy on ImageNet Subset: {test_acc * 100:.2f}%\")"
   ]
  },
  {
   "cell_type": "markdown",
   "metadata": {
    "id": "46BhA6jbu0qe",
    "jp-MarkdownHeadingCollapsed": true
   },
   "source": [
    "#### Task 6.4 Conclusion:"
   ]
  },
  {
   "cell_type": "markdown",
   "metadata": {
    "id": "8dtZ0DP9u1Hk"
   },
   "source": [
    "<font color = green>The experiment conducted on the ImageNet subset (Imagenette) using a convolutional neural network (CNN) achieved a test accuracy of 69.00% after training for 10 epochs. The model architecture consisted of three convolutional layers with increasing filter sizes (32, 64, and 128), followed by max pooling operations, a fully connected dense layer, and a softmax output layer corresponding to the ten classes in the dataset. The dataset was preprocessed by resizing images to 32x32, normalizing pixel values, and batching training samples for optimized learning. The accuracy of 69.00% suggests that the model is capable of extracting useful features for classification, but there is room for improvement. The relatively shallow depth of the network may limit its ability to capture complex patterns in the dataset. Furthermore, training for only 10 epochs may not be sufficient for the model to reach optimal performance. Potential enhancements include increasing the number of epochs, implementing data augmentation techniques (such as rotation and flipping), adding batch normalization layers for stability, or experimenting with different learning rates. Additionally, leveraging transfer learning with a pre-trained model like MobileNetV2 or ResNet50 could significantly boost accuracy by utilizing pre-learned feature representations. The results highlight the trade-offs between training time, model complexity, and accuracy. While a simple CNN is effective for basic image classification, deeper networks and optimized training strategies are likely needed to push accuracy closer to 80–90%. Further experiments can be conducted to analyze the impact of these modifications and identify the most effective approach for improving performance on the Imagenette dataset."
   ]
  },
  {
   "cell_type": "markdown",
   "metadata": {
    "id": "7wRh7ldYD4i3"
   },
   "source": [
    "#### Task 6.5: Do the following experiments to improve accuracy:"
   ]
  },
  {
   "cell_type": "markdown",
   "metadata": {
    "id": "4MtZgOcuD-2W"
   },
   "source": [
    "##### Task 6.5.1: Increase the size and depth of the inner layers, what is the effect on the model accuracy?"
   ]
  },
  {
   "cell_type": "code",
   "execution_count": null,
   "metadata": {
    "colab": {
     "base_uri": "https://localhost:8080/"
    },
    "collapsed": true,
    "id": "IdobQNisADzV",
    "jupyter": {
     "outputs_hidden": true,
     "source_hidden": true
    },
    "outputId": "cf39b0c5-46cc-4651-f56a-0f2b1a26da15"
   },
   "outputs": [
    {
     "name": "stdout",
     "output_type": "stream",
     "text": [
      "Epoch 1/10\n",
      "\u001b[1m202/202\u001b[0m \u001b[32m━━━━━━━━━━━━━━━━━━━━\u001b[0m\u001b[37m\u001b[0m \u001b[1m196s\u001b[0m 694ms/step - accuracy: 0.2234 - loss: 2.1169 - val_accuracy: 0.4780 - val_loss: 1.5208\n",
      "Epoch 2/10\n",
      "\u001b[1m202/202\u001b[0m \u001b[32m━━━━━━━━━━━━━━━━━━━━\u001b[0m\u001b[37m\u001b[0m \u001b[1m192s\u001b[0m 691ms/step - accuracy: 0.4917 - loss: 1.4957 - val_accuracy: 0.5840 - val_loss: 1.1961\n",
      "Epoch 3/10\n",
      "\u001b[1m202/202\u001b[0m \u001b[32m━━━━━━━━━━━━━━━━━━━━\u001b[0m\u001b[37m\u001b[0m \u001b[1m192s\u001b[0m 693ms/step - accuracy: 0.6243 - loss: 1.1419 - val_accuracy: 0.6680 - val_loss: 1.0261\n",
      "Epoch 4/10\n",
      "\u001b[1m202/202\u001b[0m \u001b[32m━━━━━━━━━━━━━━━━━━━━\u001b[0m\u001b[37m\u001b[0m \u001b[1m207s\u001b[0m 739ms/step - accuracy: 0.6904 - loss: 0.9448 - val_accuracy: 0.6880 - val_loss: 0.9717\n",
      "Epoch 5/10\n",
      "\u001b[1m202/202\u001b[0m \u001b[32m━━━━━━━━━━━━━━━━━━━━\u001b[0m\u001b[37m\u001b[0m \u001b[1m204s\u001b[0m 713ms/step - accuracy: 0.7414 - loss: 0.7980 - val_accuracy: 0.7280 - val_loss: 0.9027\n",
      "Epoch 6/10\n",
      "\u001b[1m202/202\u001b[0m \u001b[32m━━━━━━━━━━━━━━━━━━━━\u001b[0m\u001b[37m\u001b[0m \u001b[1m198s\u001b[0m 694ms/step - accuracy: 0.7888 - loss: 0.6523 - val_accuracy: 0.7120 - val_loss: 0.9094\n",
      "Epoch 7/10\n",
      "\u001b[1m202/202\u001b[0m \u001b[32m━━━━━━━━━━━━━━━━━━━━\u001b[0m\u001b[37m\u001b[0m \u001b[1m194s\u001b[0m 698ms/step - accuracy: 0.8381 - loss: 0.4960 - val_accuracy: 0.7420 - val_loss: 0.9154\n",
      "Epoch 8/10\n",
      "\u001b[1m202/202\u001b[0m \u001b[32m━━━━━━━━━━━━━━━━━━━━\u001b[0m\u001b[37m\u001b[0m \u001b[1m194s\u001b[0m 688ms/step - accuracy: 0.8796 - loss: 0.3817 - val_accuracy: 0.7140 - val_loss: 1.0404\n",
      "Epoch 9/10\n",
      "\u001b[1m202/202\u001b[0m \u001b[32m━━━━━━━━━━━━━━━━━━━━\u001b[0m\u001b[37m\u001b[0m \u001b[1m193s\u001b[0m 694ms/step - accuracy: 0.9195 - loss: 0.2440 - val_accuracy: 0.7520 - val_loss: 1.0198\n",
      "Epoch 10/10\n",
      "\u001b[1m202/202\u001b[0m \u001b[32m━━━━━━━━━━━━━━━━━━━━\u001b[0m\u001b[37m\u001b[0m \u001b[1m193s\u001b[0m 694ms/step - accuracy: 0.9529 - loss: 0.1464 - val_accuracy: 0.7420 - val_loss: 1.1504\n",
      "Deep CNN - Final Accuracy: 74.20% | Time Taken: 1964.35 sec\n"
     ]
    }
   ],
   "source": [
    "# Function to create a deeper CNN model with optimized pooling\n",
    "def create_deep_cnn():\n",
    "    model = models.Sequential([\n",
    "        layers.Input(shape=(IMG_SIZE, IMG_SIZE, 3)),  # Explicit Input layer\n",
    "\n",
    "        # First convolutional block\n",
    "        layers.Conv2D(64, (3,3), activation='relu', padding=\"same\"),\n",
    "        layers.MaxPooling2D((2,2)),\n",
    "\n",
    "        # Second convolutional block\n",
    "        layers.Conv2D(128, (3,3), activation='relu', padding=\"same\"),\n",
    "        layers.MaxPooling2D((2,2)),\n",
    "\n",
    "        # Third convolutional block\n",
    "        layers.Conv2D(256, (3,3), activation='relu', padding=\"same\"),\n",
    "        layers.MaxPooling2D((2,2)),\n",
    "\n",
    "        # Fourth convolutional block (Modified)\n",
    "        layers.Conv2D(512, (3,3), activation='relu', padding=\"same\"),\n",
    "        # Removed the last MaxPooling layer to prevent shrinking to 2x2\n",
    "\n",
    "        # Fully connected layers\n",
    "        layers.Flatten(),\n",
    "        layers.Dense(256, activation='relu'),\n",
    "        layers.Dense(128, activation='relu'),\n",
    "\n",
    "        # Output layer with softmax activation for multi-class classification\n",
    "        layers.Dense(len(class_names), activation='softmax')\n",
    "    ])\n",
    "\n",
    "    # Compile the model using Adam optimizer and sparse categorical cross-entropy loss\n",
    "    model.compile(optimizer='adam', loss='sparse_categorical_crossentropy', metrics=['accuracy'])\n",
    "    return model\n",
    "\n",
    "# Measure training time\n",
    "start_time = time.time()\n",
    "\n",
    "# Create and train the deep CNN model\n",
    "deep_cnn = create_deep_cnn()\n",
    "history = deep_cnn.fit(train_data, epochs=EPOCHS, validation_data=val_data)\n",
    "\n",
    "# Calculate total training time\n",
    "end_time = time.time()\n",
    "\n",
    "# Extract final validation accuracy\n",
    "final_acc = history.history['val_accuracy'][-1] * 100\n",
    "\n",
    "# Print final accuracy and time taken\n",
    "print(f\"Deep CNN - Final Accuracy: {final_acc:.2f}% | Time Taken: {end_time - start_time:.2f} sec\")"
   ]
  },
  {
   "cell_type": "markdown",
   "metadata": {
    "id": "XGr9LOBrFoDk",
    "jp-MarkdownHeadingCollapsed": true
   },
   "source": [
    "##### Task 6.5.1: Conclusion"
   ]
  },
  {
   "cell_type": "markdown",
   "metadata": {
    "id": "XcUSf3QeiQPo"
   },
   "source": [
    "<font color = green>The deep CNN model achieved a validation accuracy of 70% in 652 seconds, showing a slight improvement over the previous architecture. While this is a decent result, further optimizations can enhance performance. Implementing data augmentation (random flips, rotations, and zooms) can improve generalization, reducing overfitting on the training set. Adding dropout layers (e.g., 50% before dense layers) can help prevent overfitting, making the model more robust. Additionally, incorporating learning rate scheduling can ensure a smoother convergence, preventing the model from plateauing too early. These modifications can collectively push accuracy further while maintaining efficient training time."
   ]
  },
  {
   "cell_type": "markdown",
   "metadata": {
    "id": "xhjNhi9CiQPo"
   },
   "source": [
    "##### Task 6.5.2: Modify the Number and Shape of Convolutional/Pooling Layers"
   ]
  },
  {
   "cell_type": "code",
   "execution_count": null,
   "metadata": {
    "colab": {
     "base_uri": "https://localhost:8080/"
    },
    "collapsed": true,
    "id": "hO0Cp0RIFsXf",
    "jupyter": {
     "outputs_hidden": true,
     "source_hidden": true
    },
    "outputId": "e9625c5a-bc1b-4b35-f5fd-a4a7b3aaa4ee"
   },
   "outputs": [
    {
     "name": "stdout",
     "output_type": "stream",
     "text": [
      "Epoch 1/10\n",
      "\u001b[1m202/202\u001b[0m \u001b[32m━━━━━━━━━━━━━━━━━━━━\u001b[0m\u001b[37m\u001b[0m \u001b[1m68s\u001b[0m 26ms/step - accuracy: 0.2326 - loss: 2.1266 - val_accuracy: 0.4240 - val_loss: 1.6316\n",
      "Epoch 2/10\n",
      "\u001b[1m202/202\u001b[0m \u001b[32m━━━━━━━━━━━━━━━━━━━━\u001b[0m\u001b[37m\u001b[0m \u001b[1m63s\u001b[0m 17ms/step - accuracy: 0.4612 - loss: 1.6103 - val_accuracy: 0.5720 - val_loss: 1.3319\n",
      "Epoch 3/10\n",
      "\u001b[1m202/202\u001b[0m \u001b[32m━━━━━━━━━━━━━━━━━━━━\u001b[0m\u001b[37m\u001b[0m \u001b[1m63s\u001b[0m 15ms/step - accuracy: 0.5448 - loss: 1.3730 - val_accuracy: 0.6140 - val_loss: 1.2143\n",
      "Epoch 4/10\n",
      "\u001b[1m202/202\u001b[0m \u001b[32m━━━━━━━━━━━━━━━━━━━━\u001b[0m\u001b[37m\u001b[0m \u001b[1m62s\u001b[0m 15ms/step - accuracy: 0.5964 - loss: 1.2415 - val_accuracy: 0.6660 - val_loss: 1.1232\n",
      "Epoch 5/10\n",
      "\u001b[1m202/202\u001b[0m \u001b[32m━━━━━━━━━━━━━━━━━━━━\u001b[0m\u001b[37m\u001b[0m \u001b[1m63s\u001b[0m 15ms/step - accuracy: 0.6213 - loss: 1.1533 - val_accuracy: 0.6620 - val_loss: 1.0669\n",
      "Epoch 6/10\n",
      "\u001b[1m202/202\u001b[0m \u001b[32m━━━━━━━━━━━━━━━━━━━━\u001b[0m\u001b[37m\u001b[0m \u001b[1m63s\u001b[0m 17ms/step - accuracy: 0.6468 - loss: 1.0975 - val_accuracy: 0.6680 - val_loss: 1.0694\n",
      "Epoch 7/10\n",
      "\u001b[1m202/202\u001b[0m \u001b[32m━━━━━━━━━━━━━━━━━━━━\u001b[0m\u001b[37m\u001b[0m \u001b[1m62s\u001b[0m 17ms/step - accuracy: 0.6653 - loss: 1.0321 - val_accuracy: 0.6300 - val_loss: 1.1333\n",
      "Epoch 8/10\n",
      "\u001b[1m202/202\u001b[0m \u001b[32m━━━━━━━━━━━━━━━━━━━━\u001b[0m\u001b[37m\u001b[0m \u001b[1m63s\u001b[0m 15ms/step - accuracy: 0.6806 - loss: 0.9961 - val_accuracy: 0.6820 - val_loss: 1.0458\n",
      "Epoch 9/10\n",
      "\u001b[1m202/202\u001b[0m \u001b[32m━━━━━━━━━━━━━━━━━━━━\u001b[0m\u001b[37m\u001b[0m \u001b[1m62s\u001b[0m 15ms/step - accuracy: 0.7043 - loss: 0.9188 - val_accuracy: 0.6760 - val_loss: 1.0806\n",
      "Epoch 10/10\n",
      "\u001b[1m202/202\u001b[0m \u001b[32m━━━━━━━━━━━━━━━━━━━━\u001b[0m\u001b[37m\u001b[0m \u001b[1m63s\u001b[0m 15ms/step - accuracy: 0.7199 - loss: 0.8820 - val_accuracy: 0.6880 - val_loss: 1.0254\n",
      "Shallow CNN - Final Accuracy: 68.80% | Time Taken: 631.49 sec\n"
     ]
    }
   ],
   "source": [
    "# Function to create a shallow CNN model with fewer layers\n",
    "def create_shallow_cnn():\n",
    "    model = models.Sequential([\n",
    "        layers.Input(shape=(IMG_SIZE, IMG_SIZE, 3)),  # Explicit Input layer\n",
    "\n",
    "        # First convolutional block\n",
    "        layers.Conv2D(32, (3,3), activation='relu'),\n",
    "        layers.MaxPooling2D((2,2)),\n",
    "\n",
    "        # Second convolutional block\n",
    "        layers.Conv2D(64, (3,3), activation='relu'),\n",
    "        layers.MaxPooling2D((2,2)),\n",
    "\n",
    "        # Fully connected layers\n",
    "        layers.Flatten(),\n",
    "        layers.Dense(64, activation='relu'),\n",
    "\n",
    "        # Output layer with softmax activation for multi-class classification\n",
    "        layers.Dense(len(class_names), activation='softmax')\n",
    "    ])\n",
    "\n",
    "    # Compile the model using Adam optimizer and sparse categorical cross-entropy loss\n",
    "    model.compile(optimizer='adam', loss='sparse_categorical_crossentropy', metrics=['accuracy'])\n",
    "    return model\n",
    "\n",
    "# Measure training time\n",
    "start_time = time.time()\n",
    "\n",
    "# Create and train the shallow CNN model\n",
    "shallow_cnn = create_shallow_cnn()\n",
    "history = shallow_cnn.fit(train_data, epochs=EPOCHS, validation_data=val_data)\n",
    "\n",
    "# Calculate total training time\n",
    "end_time = time.time()\n",
    "\n",
    "# Extract final validation accuracy\n",
    "final_acc = history.history['val_accuracy'][-1] * 100\n",
    "\n",
    "# Print final accuracy and time taken\n",
    "print(f\"Shallow CNN - Final Accuracy: {final_acc:.2f}% | Time Taken: {end_time - start_time:.2f} sec\")"
   ]
  },
  {
   "cell_type": "markdown",
   "metadata": {
    "id": "J_SsDXLwFtMf",
    "jp-MarkdownHeadingCollapsed": true
   },
   "source": [
    "##### Task 6.5.2: Conclusion"
   ]
  },
  {
   "cell_type": "markdown",
   "metadata": {
    "id": "Af6LRVv7iQPo"
   },
   "source": [
    "<font color = green>The shallow CNN model achieved a validation accuracy of 68.80% in 631.49 seconds, performing slightly worse than the deeper model. The reduced depth and fewer convolutional filters limited the model's ability to extract complex features from images, which likely contributed to the lower accuracy. However, the training time was only slightly lower than that of the deep CNN, indicating that the smaller model didn't provide a significant efficiency boost. This suggests that a balance between model depth and computational efficiency is necessary. Adding batch normalization and dropout could enhance performance while keeping the model lightweight."
   ]
  },
  {
   "cell_type": "markdown",
   "metadata": {
    "id": "28WTFMnJiQPp"
   },
   "source": [
    "##### Task 6.5.3: Experiment with Different Activation Functions"
   ]
  },
  {
   "cell_type": "code",
   "execution_count": null,
   "metadata": {
    "colab": {
     "base_uri": "https://localhost:8080/"
    },
    "collapsed": true,
    "id": "diGSpLGpFxHm",
    "jupyter": {
     "outputs_hidden": true,
     "source_hidden": true
    },
    "outputId": "99051c73-d244-4bcc-d354-a18a9db39113"
   },
   "outputs": [
    {
     "name": "stdout",
     "output_type": "stream",
     "text": [
      "Epoch 1/10\n",
      "\u001b[1m202/202\u001b[0m \u001b[32m━━━━━━━━━━━━━━━━━━━━\u001b[0m\u001b[37m\u001b[0m \u001b[1m70s\u001b[0m 133ms/step - accuracy: 0.0964 - loss: 2.3993 - val_accuracy: 0.1000 - val_loss: 2.3127\n",
      "Epoch 2/10\n",
      "\u001b[1m202/202\u001b[0m \u001b[32m━━━━━━━━━━━━━━━━━━━━\u001b[0m\u001b[37m\u001b[0m \u001b[1m68s\u001b[0m 129ms/step - accuracy: 0.1005 - loss: 2.3015 - val_accuracy: 0.2900 - val_loss: 1.9830\n",
      "Epoch 3/10\n",
      "\u001b[1m202/202\u001b[0m \u001b[32m━━━━━━━━━━━━━━━━━━━━\u001b[0m\u001b[37m\u001b[0m \u001b[1m67s\u001b[0m 129ms/step - accuracy: 0.2701 - loss: 2.0350 - val_accuracy: 0.3280 - val_loss: 1.8525\n",
      "Epoch 4/10\n",
      "\u001b[1m202/202\u001b[0m \u001b[32m━━━━━━━━━━━━━━━━━━━━\u001b[0m\u001b[37m\u001b[0m \u001b[1m67s\u001b[0m 126ms/step - accuracy: 0.3261 - loss: 1.9136 - val_accuracy: 0.4040 - val_loss: 1.6998\n",
      "Epoch 5/10\n",
      "\u001b[1m202/202\u001b[0m \u001b[32m━━━━━━━━━━━━━━━━━━━━\u001b[0m\u001b[37m\u001b[0m \u001b[1m67s\u001b[0m 127ms/step - accuracy: 0.3686 - loss: 1.8092 - val_accuracy: 0.4260 - val_loss: 1.6380\n",
      "Epoch 6/10\n",
      "\u001b[1m202/202\u001b[0m \u001b[32m━━━━━━━━━━━━━━━━━━━━\u001b[0m\u001b[37m\u001b[0m \u001b[1m68s\u001b[0m 126ms/step - accuracy: 0.4031 - loss: 1.7252 - val_accuracy: 0.4460 - val_loss: 1.6059\n",
      "Epoch 7/10\n",
      "\u001b[1m202/202\u001b[0m \u001b[32m━━━━━━━━━━━━━━━━━━━━\u001b[0m\u001b[37m\u001b[0m \u001b[1m67s\u001b[0m 126ms/step - accuracy: 0.4250 - loss: 1.6815 - val_accuracy: 0.4640 - val_loss: 1.5356\n",
      "Epoch 8/10\n",
      "\u001b[1m202/202\u001b[0m \u001b[32m━━━━━━━━━━━━━━━━━━━━\u001b[0m\u001b[37m\u001b[0m \u001b[1m67s\u001b[0m 126ms/step - accuracy: 0.4492 - loss: 1.6058 - val_accuracy: 0.5040 - val_loss: 1.4860\n",
      "Epoch 9/10\n",
      "\u001b[1m202/202\u001b[0m \u001b[32m━━━━━━━━━━━━━━━━━━━━\u001b[0m\u001b[37m\u001b[0m \u001b[1m68s\u001b[0m 126ms/step - accuracy: 0.4706 - loss: 1.5599 - val_accuracy: 0.5300 - val_loss: 1.4380\n",
      "Epoch 10/10\n",
      "\u001b[1m202/202\u001b[0m \u001b[32m━━━━━━━━━━━━━━━━━━━━\u001b[0m\u001b[37m\u001b[0m \u001b[1m67s\u001b[0m 127ms/step - accuracy: 0.5008 - loss: 1.4808 - val_accuracy: 0.5280 - val_loss: 1.4054\n",
      "Sigmoid CNN - Final Accuracy: 52.80% | Time Taken: 676.87 sec\n"
     ]
    }
   ],
   "source": [
    "# Function to create a CNN model using the sigmoid activation function\n",
    "def create_sigmoid_cnn():\n",
    "    model = models.Sequential([\n",
    "        layers.Input(shape=(IMG_SIZE, IMG_SIZE, 3)),  # Explicit Input layer\n",
    "\n",
    "        # First convolutional block with sigmoid activation\n",
    "        layers.Conv2D(64, (3,3), activation='sigmoid'),\n",
    "        layers.MaxPooling2D((2,2)),\n",
    "\n",
    "        # Second convolutional block with sigmoid activation\n",
    "        layers.Conv2D(128, (3,3), activation='sigmoid'),\n",
    "        layers.MaxPooling2D((2,2)),\n",
    "\n",
    "        # Fully connected layers with sigmoid activation\n",
    "        layers.Flatten(),\n",
    "        layers.Dense(128, activation='sigmoid'),\n",
    "\n",
    "        # Output layer with softmax activation for classification\n",
    "        layers.Dense(len(class_names), activation='softmax')\n",
    "    ])\n",
    "\n",
    "    # Compile the model using Adam optimizer and sparse categorical cross-entropy loss\n",
    "    model.compile(optimizer='adam', loss='sparse_categorical_crossentropy', metrics=['accuracy'])\n",
    "    return model\n",
    "\n",
    "# Measure training time\n",
    "start_time = time.time()\n",
    "\n",
    "# Create and train the CNN model with sigmoid activation\n",
    "sigmoid_cnn = create_sigmoid_cnn()\n",
    "history = sigmoid_cnn.fit(train_data, epochs=EPOCHS, validation_data=val_data)\n",
    "\n",
    "# Calculate total training time\n",
    "end_time = time.time()\n",
    "\n",
    "# Extract final validation accuracy\n",
    "final_acc = history.history['val_accuracy'][-1] * 100\n",
    "\n",
    "# Print final accuracy and time taken\n",
    "print(f\"Sigmoid CNN - Final Accuracy: {final_acc:.2f}% | Time Taken: {end_time - start_time:.2f} sec\")"
   ]
  },
  {
   "cell_type": "markdown",
   "metadata": {
    "id": "Gy69fmw_FxvN",
    "jp-MarkdownHeadingCollapsed": true
   },
   "source": [
    "##### Task 6.5.3: Conclusion"
   ]
  },
  {
   "cell_type": "markdown",
   "metadata": {
    "id": "MIqOLfvZiQPp"
   },
   "source": [
    "<font color = green>The CNN model using the sigmoid activation function resulted in a validation accuracy of 52.80%, which is significantly lower than the ReLU-based models. Additionally, training time increased slightly to 676.87 seconds. The poor performance is likely due to sigmoid's vanishing gradient problem, which weakens gradient updates in deeper layers, making learning inefficient. This is especially problematic for convolutional networks, where ReLU (or its variants) generally performs better by avoiding saturation and enabling faster convergence. The results reinforce that ReLU remains the superior activation function for CNNs in image classification."
   ]
  },
  {
   "cell_type": "markdown",
   "metadata": {
    "id": "bjrk-uH7iQPp"
   },
   "source": [
    "##### Task 6.5.4: Experiment with Different Optimizers"
   ]
  },
  {
   "cell_type": "code",
   "execution_count": null,
   "metadata": {
    "colab": {
     "base_uri": "https://localhost:8080/"
    },
    "collapsed": true,
    "id": "1nffjrMVF1Hn",
    "jupyter": {
     "outputs_hidden": true,
     "source_hidden": true
    },
    "outputId": "0b501713-fb7a-4f81-b5aa-4ec12bb435fb"
   },
   "outputs": [
    {
     "name": "stdout",
     "output_type": "stream",
     "text": [
      "\n",
      "Training with SGD Optimizer...\n",
      "Epoch 1/10\n",
      "\u001b[1m202/202\u001b[0m \u001b[32m━━━━━━━━━━━━━━━━━━━━\u001b[0m\u001b[37m\u001b[0m \u001b[1m150s\u001b[0m 534ms/step - accuracy: 0.1332 - loss: 2.2972 - val_accuracy: 0.2260 - val_loss: 2.2714\n",
      "Epoch 2/10\n",
      "\u001b[1m202/202\u001b[0m \u001b[32m━━━━━━━━━━━━━━━━━━━━\u001b[0m\u001b[37m\u001b[0m \u001b[1m147s\u001b[0m 522ms/step - accuracy: 0.2252 - loss: 2.2588 - val_accuracy: 0.2080 - val_loss: 2.1499\n",
      "Epoch 3/10\n",
      "\u001b[1m202/202\u001b[0m \u001b[32m━━━━━━━━━━━━━━━━━━━━\u001b[0m\u001b[37m\u001b[0m \u001b[1m148s\u001b[0m 527ms/step - accuracy: 0.2619 - loss: 2.1275 - val_accuracy: 0.3340 - val_loss: 1.9305\n",
      "Epoch 4/10\n",
      "\u001b[1m202/202\u001b[0m \u001b[32m━━━━━━━━━━━━━━━━━━━━\u001b[0m\u001b[37m\u001b[0m \u001b[1m147s\u001b[0m 524ms/step - accuracy: 0.3065 - loss: 2.0127 - val_accuracy: 0.3560 - val_loss: 1.8420\n",
      "Epoch 5/10\n",
      "\u001b[1m202/202\u001b[0m \u001b[32m━━━━━━━━━━━━━━━━━━━━\u001b[0m\u001b[37m\u001b[0m \u001b[1m148s\u001b[0m 525ms/step - accuracy: 0.3403 - loss: 1.9140 - val_accuracy: 0.3920 - val_loss: 1.7420\n",
      "Epoch 6/10\n",
      "\u001b[1m202/202\u001b[0m \u001b[32m━━━━━━━━━━━━━━━━━━━━\u001b[0m\u001b[37m\u001b[0m \u001b[1m148s\u001b[0m 524ms/step - accuracy: 0.3744 - loss: 1.8389 - val_accuracy: 0.3940 - val_loss: 1.7084\n",
      "Epoch 7/10\n",
      "\u001b[1m202/202\u001b[0m \u001b[32m━━━━━━━━━━━━━━━━━━━━\u001b[0m\u001b[37m\u001b[0m \u001b[1m148s\u001b[0m 529ms/step - accuracy: 0.3899 - loss: 1.7614 - val_accuracy: 0.4480 - val_loss: 1.6249\n",
      "Epoch 8/10\n",
      "\u001b[1m202/202\u001b[0m \u001b[32m━━━━━━━━━━━━━━━━━━━━\u001b[0m\u001b[37m\u001b[0m \u001b[1m147s\u001b[0m 523ms/step - accuracy: 0.4223 - loss: 1.7006 - val_accuracy: 0.4780 - val_loss: 1.5518\n",
      "Epoch 9/10\n",
      "\u001b[1m202/202\u001b[0m \u001b[32m━━━━━━━━━━━━━━━━━━━━\u001b[0m\u001b[37m\u001b[0m \u001b[1m147s\u001b[0m 523ms/step - accuracy: 0.4497 - loss: 1.6412 - val_accuracy: 0.5080 - val_loss: 1.5049\n",
      "Epoch 10/10\n",
      "\u001b[1m202/202\u001b[0m \u001b[32m━━━━━━━━━━━━━━━━━━━━\u001b[0m\u001b[37m\u001b[0m \u001b[1m147s\u001b[0m 525ms/step - accuracy: 0.4634 - loss: 1.5861 - val_accuracy: 0.4940 - val_loss: 1.4804\n",
      "Optimizer: SGD - Final Accuracy: 49.40% | Time Taken: 1476.86 sec\n",
      "\n",
      "Training with RMSPROP Optimizer...\n",
      "Epoch 1/10\n",
      "\u001b[1m202/202\u001b[0m \u001b[32m━━━━━━━━━━━━━━━━━━━━\u001b[0m\u001b[37m\u001b[0m \u001b[1m150s\u001b[0m 525ms/step - accuracy: 0.1662 - loss: 2.2507 - val_accuracy: 0.3880 - val_loss: 1.8325\n",
      "Epoch 2/10\n",
      "\u001b[1m202/202\u001b[0m \u001b[32m━━━━━━━━━━━━━━━━━━━━\u001b[0m\u001b[37m\u001b[0m \u001b[1m148s\u001b[0m 524ms/step - accuracy: 0.3917 - loss: 1.7811 - val_accuracy: 0.3760 - val_loss: 2.0649\n",
      "Epoch 3/10\n",
      "\u001b[1m202/202\u001b[0m \u001b[32m━━━━━━━━━━━━━━━━━━━━\u001b[0m\u001b[37m\u001b[0m \u001b[1m149s\u001b[0m 529ms/step - accuracy: 0.5235 - loss: 1.4509 - val_accuracy: 0.5900 - val_loss: 1.1809\n",
      "Epoch 4/10\n",
      "\u001b[1m202/202\u001b[0m \u001b[32m━━━━━━━━━━━━━━━━━━━━\u001b[0m\u001b[37m\u001b[0m \u001b[1m147s\u001b[0m 524ms/step - accuracy: 0.6219 - loss: 1.1503 - val_accuracy: 0.5820 - val_loss: 1.2563\n",
      "Epoch 5/10\n",
      "\u001b[1m202/202\u001b[0m \u001b[32m━━━━━━━━━━━━━━━━━━━━\u001b[0m\u001b[37m\u001b[0m \u001b[1m148s\u001b[0m 524ms/step - accuracy: 0.6753 - loss: 1.0001 - val_accuracy: 0.5620 - val_loss: 1.3642\n",
      "Epoch 6/10\n",
      "\u001b[1m202/202\u001b[0m \u001b[32m━━━━━━━━━━━━━━━━━━━━\u001b[0m\u001b[37m\u001b[0m \u001b[1m148s\u001b[0m 526ms/step - accuracy: 0.7236 - loss: 0.8568 - val_accuracy: 0.6960 - val_loss: 0.9137\n",
      "Epoch 7/10\n",
      "\u001b[1m202/202\u001b[0m \u001b[32m━━━━━━━━━━━━━━━━━━━━\u001b[0m\u001b[37m\u001b[0m \u001b[1m163s\u001b[0m 598ms/step - accuracy: 0.7796 - loss: 0.6781 - val_accuracy: 0.7060 - val_loss: 1.0126\n",
      "Epoch 8/10\n",
      "\u001b[1m202/202\u001b[0m \u001b[32m━━━━━━━━━━━━━━━━━━━━\u001b[0m\u001b[37m\u001b[0m \u001b[1m155s\u001b[0m 539ms/step - accuracy: 0.8362 - loss: 0.5167 - val_accuracy: 0.7040 - val_loss: 0.9943\n",
      "Epoch 9/10\n",
      "\u001b[1m202/202\u001b[0m \u001b[32m━━━━━━━━━━━━━━━━━━━━\u001b[0m\u001b[37m\u001b[0m \u001b[1m149s\u001b[0m 531ms/step - accuracy: 0.8704 - loss: 0.3981 - val_accuracy: 0.7420 - val_loss: 1.0319\n",
      "Epoch 10/10\n",
      "\u001b[1m202/202\u001b[0m \u001b[32m━━━━━━━━━━━━━━━━━━━━\u001b[0m\u001b[37m\u001b[0m \u001b[1m148s\u001b[0m 528ms/step - accuracy: 0.9076 - loss: 0.2849 - val_accuracy: 0.7540 - val_loss: 1.0585\n",
      "Optimizer: RMSPROP - Final Accuracy: 75.40% | Time Taken: 1504.65 sec\n",
      "\n",
      "Training with ADAM Optimizer...\n",
      "Epoch 1/10\n",
      "\u001b[1m202/202\u001b[0m \u001b[32m━━━━━━━━━━━━━━━━━━━━\u001b[0m\u001b[37m\u001b[0m \u001b[1m150s\u001b[0m 527ms/step - accuracy: 0.2096 - loss: 2.1363 - val_accuracy: 0.4200 - val_loss: 1.6242\n",
      "Epoch 2/10\n",
      "\u001b[1m202/202\u001b[0m \u001b[32m━━━━━━━━━━━━━━━━━━━━\u001b[0m\u001b[37m\u001b[0m \u001b[1m148s\u001b[0m 528ms/step - accuracy: 0.4548 - loss: 1.5855 - val_accuracy: 0.5820 - val_loss: 1.2797\n",
      "Epoch 3/10\n",
      "\u001b[1m202/202\u001b[0m \u001b[32m━━━━━━━━━━━━━━━━━━━━\u001b[0m\u001b[37m\u001b[0m \u001b[1m149s\u001b[0m 531ms/step - accuracy: 0.5930 - loss: 1.2211 - val_accuracy: 0.6760 - val_loss: 1.0117\n",
      "Epoch 4/10\n",
      "\u001b[1m202/202\u001b[0m \u001b[32m━━━━━━━━━━━━━━━━━━━━\u001b[0m\u001b[37m\u001b[0m \u001b[1m149s\u001b[0m 531ms/step - accuracy: 0.6698 - loss: 0.9962 - val_accuracy: 0.6660 - val_loss: 0.9827\n",
      "Epoch 5/10\n",
      "\u001b[1m202/202\u001b[0m \u001b[32m━━━━━━━━━━━━━━━━━━━━\u001b[0m\u001b[37m\u001b[0m \u001b[1m148s\u001b[0m 529ms/step - accuracy: 0.7274 - loss: 0.8331 - val_accuracy: 0.6840 - val_loss: 0.9721\n",
      "Epoch 6/10\n",
      "\u001b[1m202/202\u001b[0m \u001b[32m━━━━━━━━━━━━━━━━━━━━\u001b[0m\u001b[37m\u001b[0m \u001b[1m149s\u001b[0m 531ms/step - accuracy: 0.7720 - loss: 0.7038 - val_accuracy: 0.7000 - val_loss: 0.8847\n",
      "Epoch 7/10\n",
      "\u001b[1m202/202\u001b[0m \u001b[32m━━━━━━━━━━━━━━━━━━━━\u001b[0m\u001b[37m\u001b[0m \u001b[1m148s\u001b[0m 526ms/step - accuracy: 0.8242 - loss: 0.5480 - val_accuracy: 0.6920 - val_loss: 1.0214\n",
      "Epoch 8/10\n",
      "\u001b[1m202/202\u001b[0m \u001b[32m━━━━━━━━━━━━━━━━━━━━\u001b[0m\u001b[37m\u001b[0m \u001b[1m150s\u001b[0m 529ms/step - accuracy: 0.8646 - loss: 0.4225 - val_accuracy: 0.7080 - val_loss: 1.0067\n",
      "Epoch 9/10\n",
      "\u001b[1m202/202\u001b[0m \u001b[32m━━━━━━━━━━━━━━━━━━━━\u001b[0m\u001b[37m\u001b[0m \u001b[1m148s\u001b[0m 530ms/step - accuracy: 0.9112 - loss: 0.2762 - val_accuracy: 0.7200 - val_loss: 1.0910\n",
      "Epoch 10/10\n",
      "\u001b[1m202/202\u001b[0m \u001b[32m━━━━━━━━━━━━━━━━━━━━\u001b[0m\u001b[37m\u001b[0m \u001b[1m148s\u001b[0m 528ms/step - accuracy: 0.9328 - loss: 0.2059 - val_accuracy: 0.7220 - val_loss: 1.1526\n",
      "Optimizer: ADAM - Final Accuracy: 72.20% | Time Taken: 1487.38 sec\n"
     ]
    }
   ],
   "source": [
    "# List of different optimizers to experiment with\n",
    "optimizers = ['sgd', 'rmsprop', 'adam']\n",
    "\n",
    "# Loop through each optimizer and train the model\n",
    "for opt in optimizers:\n",
    "    print(f\"\\nTraining with {opt.upper()} Optimizer...\")  # Display the optimizer being used\n",
    "\n",
    "    # Create a deep CNN model\n",
    "    model = create_deep_cnn()\n",
    "\n",
    "    # Compile the model with the selected optimizer, using sparse categorical cross-entropy as the loss function\n",
    "    model.compile(optimizer=opt, loss='sparse_categorical_crossentropy', metrics=['accuracy'])\n",
    "\n",
    "    # Measure training time\n",
    "    start_time = time.time()\n",
    "\n",
    "    # Train the model on the training dataset and validate on the validation dataset\n",
    "    history = model.fit(train_data, epochs=EPOCHS, validation_data=val_data)\n",
    "\n",
    "    # Calculate total training time\n",
    "    end_time = time.time()\n",
    "\n",
    "    # Extract the final validation accuracy after training\n",
    "    final_acc = history.history['val_accuracy'][-1] * 100\n",
    "\n",
    "    # Print the results including optimizer used, final accuracy, and time taken\n",
    "    print(f\"Optimizer: {opt.upper()} - Final Accuracy: {final_acc:.2f}% | Time Taken: {end_time - start_time:.2f} sec\")"
   ]
  },
  {
   "cell_type": "markdown",
   "metadata": {
    "id": "9aULM9y-F3Dc",
    "jp-MarkdownHeadingCollapsed": true
   },
   "source": [
    "##### Task 6.5.4: Conclusion"
   ]
  },
  {
   "cell_type": "markdown",
   "metadata": {
    "id": "hwk4QJlviQPp"
   },
   "source": [
    "<font color = green>Experimenting with different optimizers revealed that RMSprop achieved the highest validation accuracy at 75.40%, followed by Adam at 72.20%, while SGD performed the worst at 49.40%. The poor performance of SGD (Stochastic Gradient Descent) is expected, as it often struggles with complex architectures and requires careful tuning of the learning rate. RMSprop, on the other hand, adapts the learning rate dynamically, making it more effective for deep networks, particularly in handling non-stationary objectives. Adam, which combines RMSprop and momentum-based updates, performed well but slightly underperformed compared to RMSprop. This suggests that for this specific CNN architecture and dataset, RMSprop is the optimal choice for maximizing accuracy."
   ]
  },
  {
   "cell_type": "markdown",
   "metadata": {
    "id": "TsUlEbJtiQPp"
   },
   "source": [
    "##### Task 6.5.5: Experiment with Batch Sizes and Epochs"
   ]
  },
  {
   "cell_type": "code",
   "execution_count": null,
   "metadata": {
    "colab": {
     "base_uri": "https://localhost:8080/"
    },
    "collapsed": true,
    "id": "oZheIqhvF4Vd",
    "jupyter": {
     "outputs_hidden": true,
     "source_hidden": true
    },
    "outputId": "0e609ce7-14bb-4f39-e39f-2b25068eea6f"
   },
   "outputs": [
    {
     "name": "stdout",
     "output_type": "stream",
     "text": [
      "\n",
      "Training with Batch Size = 32\n",
      "Epoch 1/10\n",
      "    403/Unknown \u001b[1m199s\u001b[0m 356ms/step - accuracy: 0.2018 - loss: 2.1378"
     ]
    },
    {
     "name": "stderr",
     "output_type": "stream",
     "text": [
      "/usr/local/lib/python3.11/dist-packages/keras/src/trainers/epoch_iterator.py:151: UserWarning: Your input ran out of data; interrupting training. Make sure that your dataset or generator can generate at least `steps_per_epoch * epochs` batches. You may need to use the `.repeat()` function when building your dataset.\n",
      "  self._interrupted_warning()\n"
     ]
    },
    {
     "name": "stdout",
     "output_type": "stream",
     "text": [
      "\b\b\b\b\b\b\b\b\b\b\b\b\b\b\b\b\b\b\b\b\b\b\b\b\b\b\b\b\b\b\b\b\b\b\b\b\b\b\b\b\b\b\b\b\b\b\b\b\b\b\b\b\b\b\b\b\b\b\b\b\b\b\b\b\b\r",
      "\u001b[1m403/403\u001b[0m \u001b[32m━━━━━━━━━━━━━━━━━━━━\u001b[0m\u001b[37m\u001b[0m \u001b[1m203s\u001b[0m 364ms/step - accuracy: 0.2020 - loss: 2.1373 - val_accuracy: 0.4660 - val_loss: 1.6040\n",
      "Epoch 2/10\n",
      "\u001b[1m403/403\u001b[0m \u001b[32m━━━━━━━━━━━━━━━━━━━━\u001b[0m\u001b[37m\u001b[0m \u001b[1m201s\u001b[0m 366ms/step - accuracy: 0.4876 - loss: 1.5216 - val_accuracy: 0.6080 - val_loss: 1.1934\n",
      "Epoch 3/10\n",
      "\u001b[1m403/403\u001b[0m \u001b[32m━━━━━━━━━━━━━━━━━━━━\u001b[0m\u001b[37m\u001b[0m \u001b[1m200s\u001b[0m 365ms/step - accuracy: 0.6131 - loss: 1.1708 - val_accuracy: 0.6520 - val_loss: 1.1159\n",
      "Epoch 4/10\n",
      "\u001b[1m403/403\u001b[0m \u001b[32m━━━━━━━━━━━━━━━━━━━━\u001b[0m\u001b[37m\u001b[0m \u001b[1m201s\u001b[0m 367ms/step - accuracy: 0.6952 - loss: 0.9486 - val_accuracy: 0.6760 - val_loss: 0.9815\n",
      "Epoch 5/10\n",
      "\u001b[1m403/403\u001b[0m \u001b[32m━━━━━━━━━━━━━━━━━━━━\u001b[0m\u001b[37m\u001b[0m \u001b[1m202s\u001b[0m 367ms/step - accuracy: 0.7372 - loss: 0.8047 - val_accuracy: 0.6860 - val_loss: 1.0118\n",
      "Epoch 6/10\n",
      "\u001b[1m403/403\u001b[0m \u001b[32m━━━━━━━━━━━━━━━━━━━━\u001b[0m\u001b[37m\u001b[0m \u001b[1m204s\u001b[0m 372ms/step - accuracy: 0.7899 - loss: 0.6306 - val_accuracy: 0.7160 - val_loss: 0.9795\n",
      "Epoch 7/10\n",
      "\u001b[1m403/403\u001b[0m \u001b[32m━━━━━━━━━━━━━━━━━━━━\u001b[0m\u001b[37m\u001b[0m \u001b[1m207s\u001b[0m 374ms/step - accuracy: 0.8420 - loss: 0.4863 - val_accuracy: 0.6960 - val_loss: 1.0731\n",
      "Epoch 8/10\n",
      "\u001b[1m403/403\u001b[0m \u001b[32m━━━━━━━━━━━━━━━━━━━━\u001b[0m\u001b[37m\u001b[0m \u001b[1m204s\u001b[0m 367ms/step - accuracy: 0.8786 - loss: 0.3686 - val_accuracy: 0.7000 - val_loss: 1.1474\n",
      "Epoch 9/10\n",
      "\u001b[1m403/403\u001b[0m \u001b[32m━━━━━━━━━━━━━━━━━━━━\u001b[0m\u001b[37m\u001b[0m \u001b[1m199s\u001b[0m 364ms/step - accuracy: 0.9302 - loss: 0.2115 - val_accuracy: 0.6840 - val_loss: 1.3654\n",
      "Epoch 10/10\n",
      "\u001b[1m403/403\u001b[0m \u001b[32m━━━━━━━━━━━━━━━━━━━━\u001b[0m\u001b[37m\u001b[0m \u001b[1m199s\u001b[0m 363ms/step - accuracy: 0.9489 - loss: 0.1579 - val_accuracy: 0.7060 - val_loss: 1.3499\n",
      "Batch Size: 32 - Final Accuracy: 70.60% | Time Taken: 2019.17 sec\n",
      "\n",
      "Training with Batch Size = 64\n",
      "Epoch 1/10\n",
      "\u001b[1m202/202\u001b[0m \u001b[32m━━━━━━━━━━━━━━━━━━━━\u001b[0m\u001b[37m\u001b[0m \u001b[1m195s\u001b[0m 692ms/step - accuracy: 0.2309 - loss: 2.0874 - val_accuracy: 0.5040 - val_loss: 1.4388\n",
      "Epoch 2/10\n",
      "\u001b[1m202/202\u001b[0m \u001b[32m━━━━━━━━━━━━━━━━━━━━\u001b[0m\u001b[37m\u001b[0m \u001b[1m194s\u001b[0m 691ms/step - accuracy: 0.5203 - loss: 1.4232 - val_accuracy: 0.6260 - val_loss: 1.1305\n",
      "Epoch 3/10\n",
      "\u001b[1m202/202\u001b[0m \u001b[32m━━━━━━━━━━━━━━━━━━━━\u001b[0m\u001b[37m\u001b[0m \u001b[1m194s\u001b[0m 695ms/step - accuracy: 0.6394 - loss: 1.1004 - val_accuracy: 0.6700 - val_loss: 0.9791\n",
      "Epoch 4/10\n",
      "\u001b[1m202/202\u001b[0m \u001b[32m━━━━━━━━━━━━━━━━━━━━\u001b[0m\u001b[37m\u001b[0m \u001b[1m201s\u001b[0m 714ms/step - accuracy: 0.7004 - loss: 0.9187 - val_accuracy: 0.6940 - val_loss: 0.8847\n",
      "Epoch 5/10\n",
      "\u001b[1m202/202\u001b[0m \u001b[32m━━━━━━━━━━━━━━━━━━━━\u001b[0m\u001b[37m\u001b[0m \u001b[1m202s\u001b[0m 716ms/step - accuracy: 0.7465 - loss: 0.7738 - val_accuracy: 0.7300 - val_loss: 0.8274\n",
      "Epoch 6/10\n",
      "\u001b[1m202/202\u001b[0m \u001b[32m━━━━━━━━━━━━━━━━━━━━\u001b[0m\u001b[37m\u001b[0m \u001b[1m196s\u001b[0m 694ms/step - accuracy: 0.7895 - loss: 0.6335 - val_accuracy: 0.7540 - val_loss: 0.8136\n",
      "Epoch 7/10\n",
      "\u001b[1m202/202\u001b[0m \u001b[32m━━━━━━━━━━━━━━━━━━━━\u001b[0m\u001b[37m\u001b[0m \u001b[1m197s\u001b[0m 709ms/step - accuracy: 0.8490 - loss: 0.4641 - val_accuracy: 0.7600 - val_loss: 0.8732\n",
      "Epoch 8/10\n",
      "\u001b[1m202/202\u001b[0m \u001b[32m━━━━━━━━━━━━━━━━━━━━\u001b[0m\u001b[37m\u001b[0m \u001b[1m202s\u001b[0m 714ms/step - accuracy: 0.8872 - loss: 0.3406 - val_accuracy: 0.7580 - val_loss: 0.9556\n",
      "Epoch 9/10\n",
      "\u001b[1m202/202\u001b[0m \u001b[32m━━━━━━━━━━━━━━━━━━━━\u001b[0m\u001b[37m\u001b[0m \u001b[1m198s\u001b[0m 698ms/step - accuracy: 0.9119 - loss: 0.2607 - val_accuracy: 0.7480 - val_loss: 0.9303\n",
      "Epoch 10/10\n",
      "\u001b[1m202/202\u001b[0m \u001b[32m━━━━━━━━━━━━━━━━━━━━\u001b[0m\u001b[37m\u001b[0m \u001b[1m200s\u001b[0m 713ms/step - accuracy: 0.9562 - loss: 0.1364 - val_accuracy: 0.7360 - val_loss: 1.2738\n",
      "Batch Size: 64 - Final Accuracy: 73.60% | Time Taken: 1979.11 sec\n",
      "\n",
      "Training with Batch Size = 128\n",
      "Epoch 1/10\n",
      "\u001b[1m101/101\u001b[0m \u001b[32m━━━━━━━━━━━━━━━━━━━━\u001b[0m\u001b[37m\u001b[0m \u001b[1m201s\u001b[0m 1s/step - accuracy: 0.1792 - loss: 2.2114 - val_accuracy: 0.4100 - val_loss: 1.6400\n",
      "Epoch 2/10\n",
      "\u001b[1m101/101\u001b[0m \u001b[32m━━━━━━━━━━━━━━━━━━━━\u001b[0m\u001b[37m\u001b[0m \u001b[1m194s\u001b[0m 1s/step - accuracy: 0.4504 - loss: 1.5981 - val_accuracy: 0.5560 - val_loss: 1.3010\n",
      "Epoch 3/10\n",
      "\u001b[1m101/101\u001b[0m \u001b[32m━━━━━━━━━━━━━━━━━━━━\u001b[0m\u001b[37m\u001b[0m \u001b[1m193s\u001b[0m 1s/step - accuracy: 0.5560 - loss: 1.3294 - val_accuracy: 0.6100 - val_loss: 1.1802\n",
      "Epoch 4/10\n",
      "\u001b[1m101/101\u001b[0m \u001b[32m━━━━━━━━━━━━━━━━━━━━\u001b[0m\u001b[37m\u001b[0m \u001b[1m194s\u001b[0m 1s/step - accuracy: 0.6360 - loss: 1.1027 - val_accuracy: 0.6700 - val_loss: 1.0439\n",
      "Epoch 5/10\n",
      "\u001b[1m101/101\u001b[0m \u001b[32m━━━━━━━━━━━━━━━━━━━━\u001b[0m\u001b[37m\u001b[0m \u001b[1m193s\u001b[0m 1s/step - accuracy: 0.6819 - loss: 0.9578 - val_accuracy: 0.6880 - val_loss: 0.9979\n",
      "Epoch 6/10\n",
      "\u001b[1m101/101\u001b[0m \u001b[32m━━━━━━━━━━━━━━━━━━━━\u001b[0m\u001b[37m\u001b[0m \u001b[1m193s\u001b[0m 1s/step - accuracy: 0.7315 - loss: 0.8168 - val_accuracy: 0.7240 - val_loss: 0.9205\n",
      "Epoch 7/10\n",
      "\u001b[1m101/101\u001b[0m \u001b[32m━━━━━━━━━━━━━━━━━━━━\u001b[0m\u001b[37m\u001b[0m \u001b[1m198s\u001b[0m 1s/step - accuracy: 0.7705 - loss: 0.6832 - val_accuracy: 0.6860 - val_loss: 0.9418\n",
      "Epoch 8/10\n",
      "\u001b[1m101/101\u001b[0m \u001b[32m━━━━━━━━━━━━━━━━━━━━\u001b[0m\u001b[37m\u001b[0m \u001b[1m194s\u001b[0m 1s/step - accuracy: 0.8025 - loss: 0.5962 - val_accuracy: 0.7300 - val_loss: 0.8759\n",
      "Epoch 9/10\n",
      "\u001b[1m101/101\u001b[0m \u001b[32m━━━━━━━━━━━━━━━━━━━━\u001b[0m\u001b[37m\u001b[0m \u001b[1m193s\u001b[0m 1s/step - accuracy: 0.8443 - loss: 0.4734 - val_accuracy: 0.7240 - val_loss: 0.9707\n",
      "Epoch 10/10\n",
      "\u001b[1m101/101\u001b[0m \u001b[32m━━━━━━━━━━━━━━━━━━━━\u001b[0m\u001b[37m\u001b[0m \u001b[1m193s\u001b[0m 1s/step - accuracy: 0.8818 - loss: 0.3521 - val_accuracy: 0.7160 - val_loss: 1.0672\n",
      "Batch Size: 128 - Final Accuracy: 71.60% | Time Taken: 1946.27 sec\n"
     ]
    }
   ],
   "source": [
    "# List of different batch sizes to experiment with\n",
    "batch_sizes = [32, 64, 128]\n",
    "\n",
    "# Loop through each batch size and train the model\n",
    "for batch in batch_sizes:\n",
    "    print(f\"\\nTraining with Batch Size = {batch}\")  # Display the current batch size\n",
    "\n",
    "    # Adjust the training and validation datasets to use the selected batch size\n",
    "    train_data = train_data.unbatch().batch(batch)\n",
    "    val_data = val_data.unbatch().batch(batch)\n",
    "\n",
    "    # Create a deep CNN model\n",
    "    model = create_deep_cnn()\n",
    "\n",
    "    # Measure training time\n",
    "    start_time = time.time()\n",
    "\n",
    "    # Train the model with the current batch size\n",
    "    history = model.fit(train_data, epochs=EPOCHS, validation_data=val_data)\n",
    "\n",
    "    # Calculate total training time\n",
    "    end_time = time.time()\n",
    "\n",
    "    # Extract the final validation accuracy after training\n",
    "    final_acc = history.history['val_accuracy'][-1] * 100\n",
    "\n",
    "    # Print the results including batch size used, final accuracy, and time taken\n",
    "    print(f\"Batch Size: {batch} - Final Accuracy: {final_acc:.2f}% | Time Taken: {end_time - start_time:.2f} sec\")"
   ]
  },
  {
   "cell_type": "markdown",
   "metadata": {
    "id": "V5jMMKsJiQPp",
    "jp-MarkdownHeadingCollapsed": true
   },
   "source": [
    "##### Task 6.5.5: Conclusion"
   ]
  },
  {
   "cell_type": "markdown",
   "metadata": {
    "id": "n2AqyxiZiQPp"
   },
   "source": [
    "<font color = green>Experimenting with different batch sizes showed that 64 achieved the highest validation accuracy at 73.60%, while 32 and 128 resulted in 70.60% and 71.60%, respectively. A batch size of 64 likely provided a balance between model generalization and computational efficiency. The smallest batch (32) resulted in slightly lower accuracy and the longest training time (2019 sec) due to more frequent updates per epoch. Larger batch sizes (128) trained faster but had slightly lower accuracy, possibly due to less frequent weight updates leading to suboptimal generalization. Overall, batch size 64 appears to be the best choice, offering improved accuracy while reducing training time compared to batch size 32."
   ]
  }
 ],
 "metadata": {
  "colab": {
   "collapsed_sections": [
    "rm-ZoQ9kYMUL",
    "9QazM6ltYV7S",
    "as5BLaW7YkVZ",
    "IiRD3TbiiQPb",
    "kuy1y_eXiQPc",
    "46BhA6jbu0qe"
   ],
   "provenance": []
  },
  "kernelspec": {
   "display_name": "Python 3 (ipykernel)",
   "language": "python",
   "name": "python3"
  },
  "language_info": {
   "codemirror_mode": {
    "name": "ipython",
    "version": 3
   },
   "file_extension": ".py",
   "mimetype": "text/x-python",
   "name": "python",
   "nbconvert_exporter": "python",
   "pygments_lexer": "ipython3",
   "version": "3.12.3"
  },
  "widgets": {
   "application/vnd.jupyter.widget-state+json": {
    "01c06984270c4123a2add6d1dccece09": {
     "model_module": "@jupyter-widgets/controls",
     "model_module_version": "1.5.0",
     "model_name": "DescriptionStyleModel",
     "state": {
      "_model_module": "@jupyter-widgets/controls",
      "_model_module_version": "1.5.0",
      "_model_name": "DescriptionStyleModel",
      "_view_count": null,
      "_view_module": "@jupyter-widgets/base",
      "_view_module_version": "1.2.0",
      "_view_name": "StyleView",
      "description_width": ""
     }
    },
    "06f4756ed5c44a04b325a3802042aaaa": {
     "model_module": "@jupyter-widgets/controls",
     "model_module_version": "1.5.0",
     "model_name": "HTMLModel",
     "state": {
      "_dom_classes": [],
      "_model_module": "@jupyter-widgets/controls",
      "_model_module_version": "1.5.0",
      "_model_name": "HTMLModel",
      "_view_count": null,
      "_view_module": "@jupyter-widgets/controls",
      "_view_module_version": "1.5.0",
      "_view_name": "HTMLView",
      "description": "",
      "description_tooltip": null,
      "layout": "IPY_MODEL_0aee4f2588864622aa83ace69940c3fb",
      "placeholder": "​",
      "style": "IPY_MODEL_65c11685ce424c3c8529d7701200d0cb",
      "value": " 325/325 [00:51&lt;00:00, 38.76 MiB/s]"
     }
    },
    "0a05e362582e41109786064176e53ac0": {
     "model_module": "@jupyter-widgets/controls",
     "model_module_version": "1.5.0",
     "model_name": "DescriptionStyleModel",
     "state": {
      "_model_module": "@jupyter-widgets/controls",
      "_model_module_version": "1.5.0",
      "_model_name": "DescriptionStyleModel",
      "_view_count": null,
      "_view_module": "@jupyter-widgets/base",
      "_view_module_version": "1.2.0",
      "_view_name": "StyleView",
      "description_width": ""
     }
    },
    "0aee4f2588864622aa83ace69940c3fb": {
     "model_module": "@jupyter-widgets/base",
     "model_module_version": "1.2.0",
     "model_name": "LayoutModel",
     "state": {
      "_model_module": "@jupyter-widgets/base",
      "_model_module_version": "1.2.0",
      "_model_name": "LayoutModel",
      "_view_count": null,
      "_view_module": "@jupyter-widgets/base",
      "_view_module_version": "1.2.0",
      "_view_name": "LayoutView",
      "align_content": null,
      "align_items": null,
      "align_self": null,
      "border": null,
      "bottom": null,
      "display": null,
      "flex": null,
      "flex_flow": null,
      "grid_area": null,
      "grid_auto_columns": null,
      "grid_auto_flow": null,
      "grid_auto_rows": null,
      "grid_column": null,
      "grid_gap": null,
      "grid_row": null,
      "grid_template_areas": null,
      "grid_template_columns": null,
      "grid_template_rows": null,
      "height": null,
      "justify_content": null,
      "justify_items": null,
      "left": null,
      "margin": null,
      "max_height": null,
      "max_width": null,
      "min_height": null,
      "min_width": null,
      "object_fit": null,
      "object_position": null,
      "order": null,
      "overflow": null,
      "overflow_x": null,
      "overflow_y": null,
      "padding": null,
      "right": null,
      "top": null,
      "visibility": null,
      "width": null
     }
    },
    "0b6a523f0157425c88a4aa5dfbd7c523": {
     "model_module": "@jupyter-widgets/controls",
     "model_module_version": "1.5.0",
     "model_name": "HTMLModel",
     "state": {
      "_dom_classes": [],
      "_model_module": "@jupyter-widgets/controls",
      "_model_module_version": "1.5.0",
      "_model_name": "HTMLModel",
      "_view_count": null,
      "_view_module": "@jupyter-widgets/controls",
      "_view_module_version": "1.5.0",
      "_view_name": "HTMLView",
      "description": "",
      "description_tooltip": null,
      "layout": "IPY_MODEL_2da6d4a9787d41ccbccd49a4ae0678cd",
      "placeholder": "​",
      "style": "IPY_MODEL_f48420bdd8b44691ad1c1fe7335a88fc",
      "value": "Extraction completed...: 100%"
     }
    },
    "0cf84323b0df45bdbfb857c6715a91db": {
     "model_module": "@jupyter-widgets/base",
     "model_module_version": "1.2.0",
     "model_name": "LayoutModel",
     "state": {
      "_model_module": "@jupyter-widgets/base",
      "_model_module_version": "1.2.0",
      "_model_name": "LayoutModel",
      "_view_count": null,
      "_view_module": "@jupyter-widgets/base",
      "_view_module_version": "1.2.0",
      "_view_name": "LayoutView",
      "align_content": null,
      "align_items": null,
      "align_self": null,
      "border": null,
      "bottom": null,
      "display": null,
      "flex": null,
      "flex_flow": null,
      "grid_area": null,
      "grid_auto_columns": null,
      "grid_auto_flow": null,
      "grid_auto_rows": null,
      "grid_column": null,
      "grid_gap": null,
      "grid_row": null,
      "grid_template_areas": null,
      "grid_template_columns": null,
      "grid_template_rows": null,
      "height": null,
      "justify_content": null,
      "justify_items": null,
      "left": null,
      "margin": null,
      "max_height": null,
      "max_width": null,
      "min_height": null,
      "min_width": null,
      "object_fit": null,
      "object_position": null,
      "order": null,
      "overflow": null,
      "overflow_x": null,
      "overflow_y": null,
      "padding": null,
      "right": null,
      "top": null,
      "visibility": null,
      "width": null
     }
    },
    "1a2ebd9d057c4a01b2b7c66de9492831": {
     "model_module": "@jupyter-widgets/controls",
     "model_module_version": "1.5.0",
     "model_name": "ProgressStyleModel",
     "state": {
      "_model_module": "@jupyter-widgets/controls",
      "_model_module_version": "1.5.0",
      "_model_name": "ProgressStyleModel",
      "_view_count": null,
      "_view_module": "@jupyter-widgets/base",
      "_view_module_version": "1.2.0",
      "_view_name": "StyleView",
      "bar_color": null,
      "description_width": ""
     }
    },
    "1ab81ae541d84d8ab4d040203ea4df02": {
     "model_module": "@jupyter-widgets/base",
     "model_module_version": "1.2.0",
     "model_name": "LayoutModel",
     "state": {
      "_model_module": "@jupyter-widgets/base",
      "_model_module_version": "1.2.0",
      "_model_name": "LayoutModel",
      "_view_count": null,
      "_view_module": "@jupyter-widgets/base",
      "_view_module_version": "1.2.0",
      "_view_name": "LayoutView",
      "align_content": null,
      "align_items": null,
      "align_self": null,
      "border": null,
      "bottom": null,
      "display": null,
      "flex": null,
      "flex_flow": null,
      "grid_area": null,
      "grid_auto_columns": null,
      "grid_auto_flow": null,
      "grid_auto_rows": null,
      "grid_column": null,
      "grid_gap": null,
      "grid_row": null,
      "grid_template_areas": null,
      "grid_template_columns": null,
      "grid_template_rows": null,
      "height": null,
      "justify_content": null,
      "justify_items": null,
      "left": null,
      "margin": null,
      "max_height": null,
      "max_width": null,
      "min_height": null,
      "min_width": null,
      "object_fit": null,
      "object_position": null,
      "order": null,
      "overflow": null,
      "overflow_x": null,
      "overflow_y": null,
      "padding": null,
      "right": null,
      "top": null,
      "visibility": null,
      "width": null
     }
    },
    "1bd9a68b905647e289001693aac55f09": {
     "model_module": "@jupyter-widgets/controls",
     "model_module_version": "1.5.0",
     "model_name": "HTMLModel",
     "state": {
      "_dom_classes": [],
      "_model_module": "@jupyter-widgets/controls",
      "_model_module_version": "1.5.0",
      "_model_name": "HTMLModel",
      "_view_count": null,
      "_view_module": "@jupyter-widgets/controls",
      "_view_module_version": "1.5.0",
      "_view_name": "HTMLView",
      "description": "",
      "description_tooltip": null,
      "layout": "IPY_MODEL_1ab81ae541d84d8ab4d040203ea4df02",
      "placeholder": "​",
      "style": "IPY_MODEL_82839b418fd14abe84036c2e036742cd",
      "value": "Generating train examples...:  95%"
     }
    },
    "1e81c0f5f3734f48a6f6c91c8c21583b": {
     "model_module": "@jupyter-widgets/controls",
     "model_module_version": "1.5.0",
     "model_name": "FloatProgressModel",
     "state": {
      "_dom_classes": [],
      "_model_module": "@jupyter-widgets/controls",
      "_model_module_version": "1.5.0",
      "_model_name": "FloatProgressModel",
      "_view_count": null,
      "_view_module": "@jupyter-widgets/controls",
      "_view_module_version": "1.5.0",
      "_view_name": "ProgressView",
      "bar_style": "",
      "description": "",
      "description_tooltip": null,
      "layout": "IPY_MODEL_8806940de1a94d838f1751289e16024b",
      "max": 12894,
      "min": 0,
      "orientation": "horizontal",
      "style": "IPY_MODEL_c67d26cadfcb406ea55a96f2ee19f340",
      "value": 12894
     }
    },
    "213bb870c152427081e8d350f0bf8a8a": {
     "model_module": "@jupyter-widgets/base",
     "model_module_version": "1.2.0",
     "model_name": "LayoutModel",
     "state": {
      "_model_module": "@jupyter-widgets/base",
      "_model_module_version": "1.2.0",
      "_model_name": "LayoutModel",
      "_view_count": null,
      "_view_module": "@jupyter-widgets/base",
      "_view_module_version": "1.2.0",
      "_view_name": "LayoutView",
      "align_content": null,
      "align_items": null,
      "align_self": null,
      "border": null,
      "bottom": null,
      "display": null,
      "flex": null,
      "flex_flow": null,
      "grid_area": null,
      "grid_auto_columns": null,
      "grid_auto_flow": null,
      "grid_auto_rows": null,
      "grid_column": null,
      "grid_gap": null,
      "grid_row": null,
      "grid_template_areas": null,
      "grid_template_columns": null,
      "grid_template_rows": null,
      "height": null,
      "justify_content": null,
      "justify_items": null,
      "left": null,
      "margin": null,
      "max_height": null,
      "max_width": null,
      "min_height": null,
      "min_width": null,
      "object_fit": null,
      "object_position": null,
      "order": null,
      "overflow": null,
      "overflow_x": null,
      "overflow_y": null,
      "padding": null,
      "right": null,
      "top": null,
      "visibility": null,
      "width": null
     }
    },
    "232d13964bfe4bd99fd5aab63d2a32d4": {
     "model_module": "@jupyter-widgets/base",
     "model_module_version": "1.2.0",
     "model_name": "LayoutModel",
     "state": {
      "_model_module": "@jupyter-widgets/base",
      "_model_module_version": "1.2.0",
      "_model_name": "LayoutModel",
      "_view_count": null,
      "_view_module": "@jupyter-widgets/base",
      "_view_module_version": "1.2.0",
      "_view_name": "LayoutView",
      "align_content": null,
      "align_items": null,
      "align_self": null,
      "border": null,
      "bottom": null,
      "display": null,
      "flex": null,
      "flex_flow": null,
      "grid_area": null,
      "grid_auto_columns": null,
      "grid_auto_flow": null,
      "grid_auto_rows": null,
      "grid_column": null,
      "grid_gap": null,
      "grid_row": null,
      "grid_template_areas": null,
      "grid_template_columns": null,
      "grid_template_rows": null,
      "height": null,
      "justify_content": null,
      "justify_items": null,
      "left": null,
      "margin": null,
      "max_height": null,
      "max_width": null,
      "min_height": null,
      "min_width": null,
      "object_fit": null,
      "object_position": null,
      "order": null,
      "overflow": null,
      "overflow_x": null,
      "overflow_y": null,
      "padding": null,
      "right": null,
      "top": null,
      "visibility": null,
      "width": null
     }
    },
    "24cab4c2656341e49892787cccf7da07": {
     "model_module": "@jupyter-widgets/controls",
     "model_module_version": "1.5.0",
     "model_name": "DescriptionStyleModel",
     "state": {
      "_model_module": "@jupyter-widgets/controls",
      "_model_module_version": "1.5.0",
      "_model_name": "DescriptionStyleModel",
      "_view_count": null,
      "_view_module": "@jupyter-widgets/base",
      "_view_module_version": "1.2.0",
      "_view_name": "StyleView",
      "description_width": ""
     }
    },
    "24d0968c5cf54605983aa5309161a694": {
     "model_module": "@jupyter-widgets/controls",
     "model_module_version": "1.5.0",
     "model_name": "DescriptionStyleModel",
     "state": {
      "_model_module": "@jupyter-widgets/controls",
      "_model_module_version": "1.5.0",
      "_model_name": "DescriptionStyleModel",
      "_view_count": null,
      "_view_module": "@jupyter-widgets/base",
      "_view_module_version": "1.2.0",
      "_view_name": "StyleView",
      "description_width": ""
     }
    },
    "27211a5cad744aea9001e033685c4b8d": {
     "model_module": "@jupyter-widgets/base",
     "model_module_version": "1.2.0",
     "model_name": "LayoutModel",
     "state": {
      "_model_module": "@jupyter-widgets/base",
      "_model_module_version": "1.2.0",
      "_model_name": "LayoutModel",
      "_view_count": null,
      "_view_module": "@jupyter-widgets/base",
      "_view_module_version": "1.2.0",
      "_view_name": "LayoutView",
      "align_content": null,
      "align_items": null,
      "align_self": null,
      "border": null,
      "bottom": null,
      "display": null,
      "flex": null,
      "flex_flow": null,
      "grid_area": null,
      "grid_auto_columns": null,
      "grid_auto_flow": null,
      "grid_auto_rows": null,
      "grid_column": null,
      "grid_gap": null,
      "grid_row": null,
      "grid_template_areas": null,
      "grid_template_columns": null,
      "grid_template_rows": null,
      "height": null,
      "justify_content": null,
      "justify_items": null,
      "left": null,
      "margin": null,
      "max_height": null,
      "max_width": null,
      "min_height": null,
      "min_width": null,
      "object_fit": null,
      "object_position": null,
      "order": null,
      "overflow": null,
      "overflow_x": null,
      "overflow_y": null,
      "padding": null,
      "right": null,
      "top": null,
      "visibility": null,
      "width": null
     }
    },
    "2c3d357865194b6ea8edc74c7b5632d4": {
     "model_module": "@jupyter-widgets/base",
     "model_module_version": "1.2.0",
     "model_name": "LayoutModel",
     "state": {
      "_model_module": "@jupyter-widgets/base",
      "_model_module_version": "1.2.0",
      "_model_name": "LayoutModel",
      "_view_count": null,
      "_view_module": "@jupyter-widgets/base",
      "_view_module_version": "1.2.0",
      "_view_name": "LayoutView",
      "align_content": null,
      "align_items": null,
      "align_self": null,
      "border": null,
      "bottom": null,
      "display": null,
      "flex": null,
      "flex_flow": null,
      "grid_area": null,
      "grid_auto_columns": null,
      "grid_auto_flow": null,
      "grid_auto_rows": null,
      "grid_column": null,
      "grid_gap": null,
      "grid_row": null,
      "grid_template_areas": null,
      "grid_template_columns": null,
      "grid_template_rows": null,
      "height": null,
      "justify_content": null,
      "justify_items": null,
      "left": null,
      "margin": null,
      "max_height": null,
      "max_width": null,
      "min_height": null,
      "min_width": null,
      "object_fit": null,
      "object_position": null,
      "order": null,
      "overflow": null,
      "overflow_x": null,
      "overflow_y": null,
      "padding": null,
      "right": null,
      "top": null,
      "visibility": null,
      "width": "20px"
     }
    },
    "2da6d4a9787d41ccbccd49a4ae0678cd": {
     "model_module": "@jupyter-widgets/base",
     "model_module_version": "1.2.0",
     "model_name": "LayoutModel",
     "state": {
      "_model_module": "@jupyter-widgets/base",
      "_model_module_version": "1.2.0",
      "_model_name": "LayoutModel",
      "_view_count": null,
      "_view_module": "@jupyter-widgets/base",
      "_view_module_version": "1.2.0",
      "_view_name": "LayoutView",
      "align_content": null,
      "align_items": null,
      "align_self": null,
      "border": null,
      "bottom": null,
      "display": null,
      "flex": null,
      "flex_flow": null,
      "grid_area": null,
      "grid_auto_columns": null,
      "grid_auto_flow": null,
      "grid_auto_rows": null,
      "grid_column": null,
      "grid_gap": null,
      "grid_row": null,
      "grid_template_areas": null,
      "grid_template_columns": null,
      "grid_template_rows": null,
      "height": null,
      "justify_content": null,
      "justify_items": null,
      "left": null,
      "margin": null,
      "max_height": null,
      "max_width": null,
      "min_height": null,
      "min_width": null,
      "object_fit": null,
      "object_position": null,
      "order": null,
      "overflow": null,
      "overflow_x": null,
      "overflow_y": null,
      "padding": null,
      "right": null,
      "top": null,
      "visibility": null,
      "width": null
     }
    },
    "2f2e565610bb41eba11fed4bd987e501": {
     "model_module": "@jupyter-widgets/controls",
     "model_module_version": "1.5.0",
     "model_name": "HTMLModel",
     "state": {
      "_dom_classes": [],
      "_model_module": "@jupyter-widgets/controls",
      "_model_module_version": "1.5.0",
      "_model_name": "HTMLModel",
      "_view_count": null,
      "_view_module": "@jupyter-widgets/controls",
      "_view_module_version": "1.5.0",
      "_view_name": "HTMLView",
      "description": "",
      "description_tooltip": null,
      "layout": "IPY_MODEL_b8639a2a4c8b46b382a4e4d6a6960100",
      "placeholder": "​",
      "style": "IPY_MODEL_b038b98424904d6693f216712e76f0bf",
      "value": "Shuffling /root/tensorflow_datasets/imagenette/320px/incomplete.43YJMO_1.0.0/imagenette-validation.tfrecord*...:   0%"
     }
    },
    "30a44862f5b043daa32cacdacbb06981": {
     "model_module": "@jupyter-widgets/controls",
     "model_module_version": "1.5.0",
     "model_name": "HBoxModel",
     "state": {
      "_dom_classes": [],
      "_model_module": "@jupyter-widgets/controls",
      "_model_module_version": "1.5.0",
      "_model_name": "HBoxModel",
      "_view_count": null,
      "_view_module": "@jupyter-widgets/controls",
      "_view_module_version": "1.5.0",
      "_view_name": "HBoxView",
      "box_style": "",
      "children": [
       "IPY_MODEL_1bd9a68b905647e289001693aac55f09",
       "IPY_MODEL_57aaa7a1cacf4fdda50b79b3a67ba8e0",
       "IPY_MODEL_90be4cbdf86b4ffc84728d3c2313efa9"
      ],
      "layout": "IPY_MODEL_84c941392759421da376a1e4f54fb02c"
     }
    },
    "352c1a7306604250b8bd78e2d70ec142": {
     "model_module": "@jupyter-widgets/controls",
     "model_module_version": "1.5.0",
     "model_name": "HBoxModel",
     "state": {
      "_dom_classes": [],
      "_model_module": "@jupyter-widgets/controls",
      "_model_module_version": "1.5.0",
      "_model_name": "HBoxModel",
      "_view_count": null,
      "_view_module": "@jupyter-widgets/controls",
      "_view_module_version": "1.5.0",
      "_view_name": "HBoxView",
      "box_style": "",
      "children": [
       "IPY_MODEL_f8dbfdad6f544c888adb1fd31050149b",
       "IPY_MODEL_67146e5d5b6941168c5c0fc2541aca11",
       "IPY_MODEL_9bc1a098fef54323a0473ab4204948ee"
      ],
      "layout": "IPY_MODEL_a3a94be6708742a48b6e036f7e98a47b"
     }
    },
    "353f55625c20408c97b3a69203bad525": {
     "model_module": "@jupyter-widgets/base",
     "model_module_version": "1.2.0",
     "model_name": "LayoutModel",
     "state": {
      "_model_module": "@jupyter-widgets/base",
      "_model_module_version": "1.2.0",
      "_model_name": "LayoutModel",
      "_view_count": null,
      "_view_module": "@jupyter-widgets/base",
      "_view_module_version": "1.2.0",
      "_view_name": "LayoutView",
      "align_content": null,
      "align_items": null,
      "align_self": null,
      "border": null,
      "bottom": null,
      "display": null,
      "flex": null,
      "flex_flow": null,
      "grid_area": null,
      "grid_auto_columns": null,
      "grid_auto_flow": null,
      "grid_auto_rows": null,
      "grid_column": null,
      "grid_gap": null,
      "grid_row": null,
      "grid_template_areas": null,
      "grid_template_columns": null,
      "grid_template_rows": null,
      "height": null,
      "justify_content": null,
      "justify_items": null,
      "left": null,
      "margin": null,
      "max_height": null,
      "max_width": null,
      "min_height": null,
      "min_width": null,
      "object_fit": null,
      "object_position": null,
      "order": null,
      "overflow": null,
      "overflow_x": null,
      "overflow_y": null,
      "padding": null,
      "right": null,
      "top": null,
      "visibility": "hidden",
      "width": null
     }
    },
    "3a8829cc993c48518873f4e877c72819": {
     "model_module": "@jupyter-widgets/controls",
     "model_module_version": "1.5.0",
     "model_name": "HBoxModel",
     "state": {
      "_dom_classes": [],
      "_model_module": "@jupyter-widgets/controls",
      "_model_module_version": "1.5.0",
      "_model_name": "HBoxModel",
      "_view_count": null,
      "_view_module": "@jupyter-widgets/controls",
      "_view_module_version": "1.5.0",
      "_view_name": "HBoxView",
      "box_style": "",
      "children": [
       "IPY_MODEL_cda772720e9e413c8c5965c7661b7e22",
       "IPY_MODEL_ff5769456f2349939a049c93e75efe0f",
       "IPY_MODEL_783321b8329749729096d3bb295551e9"
      ],
      "layout": "IPY_MODEL_b4c158291bbb46bc880e27e341b6e6fc"
     }
    },
    "3d2f0c9a661c4db8a23891cab201d5f3": {
     "model_module": "@jupyter-widgets/base",
     "model_module_version": "1.2.0",
     "model_name": "LayoutModel",
     "state": {
      "_model_module": "@jupyter-widgets/base",
      "_model_module_version": "1.2.0",
      "_model_name": "LayoutModel",
      "_view_count": null,
      "_view_module": "@jupyter-widgets/base",
      "_view_module_version": "1.2.0",
      "_view_name": "LayoutView",
      "align_content": null,
      "align_items": null,
      "align_self": null,
      "border": null,
      "bottom": null,
      "display": null,
      "flex": null,
      "flex_flow": null,
      "grid_area": null,
      "grid_auto_columns": null,
      "grid_auto_flow": null,
      "grid_auto_rows": null,
      "grid_column": null,
      "grid_gap": null,
      "grid_row": null,
      "grid_template_areas": null,
      "grid_template_columns": null,
      "grid_template_rows": null,
      "height": null,
      "justify_content": null,
      "justify_items": null,
      "left": null,
      "margin": null,
      "max_height": null,
      "max_width": null,
      "min_height": null,
      "min_width": null,
      "object_fit": null,
      "object_position": null,
      "order": null,
      "overflow": null,
      "overflow_x": null,
      "overflow_y": null,
      "padding": null,
      "right": null,
      "top": null,
      "visibility": null,
      "width": null
     }
    },
    "48292979370145c7b0572a56f14c5a4f": {
     "model_module": "@jupyter-widgets/controls",
     "model_module_version": "1.5.0",
     "model_name": "DescriptionStyleModel",
     "state": {
      "_model_module": "@jupyter-widgets/controls",
      "_model_module_version": "1.5.0",
      "_model_name": "DescriptionStyleModel",
      "_view_count": null,
      "_view_module": "@jupyter-widgets/base",
      "_view_module_version": "1.2.0",
      "_view_name": "StyleView",
      "description_width": ""
     }
    },
    "5121f7513ed34d19bef4ba9dd9e18fdb": {
     "model_module": "@jupyter-widgets/controls",
     "model_module_version": "1.5.0",
     "model_name": "DescriptionStyleModel",
     "state": {
      "_model_module": "@jupyter-widgets/controls",
      "_model_module_version": "1.5.0",
      "_model_name": "DescriptionStyleModel",
      "_view_count": null,
      "_view_module": "@jupyter-widgets/base",
      "_view_module_version": "1.2.0",
      "_view_name": "StyleView",
      "description_width": ""
     }
    },
    "525c737a8dc84c789da99d630376dbc9": {
     "model_module": "@jupyter-widgets/controls",
     "model_module_version": "1.5.0",
     "model_name": "HTMLModel",
     "state": {
      "_dom_classes": [],
      "_model_module": "@jupyter-widgets/controls",
      "_model_module_version": "1.5.0",
      "_model_name": "HTMLModel",
      "_view_count": null,
      "_view_module": "@jupyter-widgets/controls",
      "_view_module_version": "1.5.0",
      "_view_name": "HTMLView",
      "description": "",
      "description_tooltip": null,
      "layout": "IPY_MODEL_27211a5cad744aea9001e033685c4b8d",
      "placeholder": "​",
      "style": "IPY_MODEL_5121f7513ed34d19bef4ba9dd9e18fdb",
      "value": " 13394/13394 [00:51&lt;00:00, 985.34 file/s]"
     }
    },
    "570cd9ce2c11429b9841d2fa9607cb15": {
     "model_module": "@jupyter-widgets/controls",
     "model_module_version": "1.5.0",
     "model_name": "FloatProgressModel",
     "state": {
      "_dom_classes": [],
      "_model_module": "@jupyter-widgets/controls",
      "_model_module_version": "1.5.0",
      "_model_name": "FloatProgressModel",
      "_view_count": null,
      "_view_module": "@jupyter-widgets/controls",
      "_view_module_version": "1.5.0",
      "_view_name": "ProgressView",
      "bar_style": "success",
      "description": "",
      "description_tooltip": null,
      "layout": "IPY_MODEL_e7fbaea98eb947e8adc237d0a5782a68",
      "max": 1,
      "min": 0,
      "orientation": "horizontal",
      "style": "IPY_MODEL_ce8550fe5b5f4c049574c1deb8ba700d",
      "value": 1
     }
    },
    "57aaa7a1cacf4fdda50b79b3a67ba8e0": {
     "model_module": "@jupyter-widgets/controls",
     "model_module_version": "1.5.0",
     "model_name": "FloatProgressModel",
     "state": {
      "_dom_classes": [],
      "_model_module": "@jupyter-widgets/controls",
      "_model_module_version": "1.5.0",
      "_model_name": "FloatProgressModel",
      "_view_count": null,
      "_view_module": "@jupyter-widgets/controls",
      "_view_module_version": "1.5.0",
      "_view_name": "ProgressView",
      "bar_style": "",
      "description": "",
      "description_tooltip": null,
      "layout": "IPY_MODEL_f4ef26a89ff34c428757e93ce5e30054",
      "max": 12894,
      "min": 0,
      "orientation": "horizontal",
      "style": "IPY_MODEL_d61823c7d36b4d10853f04b1458032b9",
      "value": 12894
     }
    },
    "57d59a6ff62042b0bc8442d1ad9b93c4": {
     "model_module": "@jupyter-widgets/controls",
     "model_module_version": "1.5.0",
     "model_name": "HTMLModel",
     "state": {
      "_dom_classes": [],
      "_model_module": "@jupyter-widgets/controls",
      "_model_module_version": "1.5.0",
      "_model_name": "HTMLModel",
      "_view_count": null,
      "_view_module": "@jupyter-widgets/controls",
      "_view_module_version": "1.5.0",
      "_view_name": "HTMLView",
      "description": "",
      "description_tooltip": null,
      "layout": "IPY_MODEL_9436d3e56ba54839bab72fc51a38c030",
      "placeholder": "​",
      "style": "IPY_MODEL_de3216f555e1433ab6bd2c1a2adee57d",
      "value": "Dl Completed...: 100%"
     }
    },
    "5aa915680e7a4145a825d3383f02714e": {
     "model_module": "@jupyter-widgets/controls",
     "model_module_version": "1.5.0",
     "model_name": "HTMLModel",
     "state": {
      "_dom_classes": [],
      "_model_module": "@jupyter-widgets/controls",
      "_model_module_version": "1.5.0",
      "_model_name": "HTMLModel",
      "_view_count": null,
      "_view_module": "@jupyter-widgets/controls",
      "_view_module_version": "1.5.0",
      "_view_name": "HTMLView",
      "description": "",
      "description_tooltip": null,
      "layout": "IPY_MODEL_794c34e247064b8c8b8da27ebb2605cc",
      "placeholder": "​",
      "style": "IPY_MODEL_01c06984270c4123a2add6d1dccece09",
      "value": "Shuffling /root/tensorflow_datasets/imagenette/320px/incomplete.43YJMO_1.0.0/imagenette-train.tfrecord*...:  61%"
     }
    },
    "5fa664b83a8046e6870265910467dd4a": {
     "model_module": "@jupyter-widgets/controls",
     "model_module_version": "1.5.0",
     "model_name": "ProgressStyleModel",
     "state": {
      "_model_module": "@jupyter-widgets/controls",
      "_model_module_version": "1.5.0",
      "_model_name": "ProgressStyleModel",
      "_view_count": null,
      "_view_module": "@jupyter-widgets/base",
      "_view_module_version": "1.2.0",
      "_view_name": "StyleView",
      "bar_color": null,
      "description_width": ""
     }
    },
    "606682ff4f4842bf948983d778845740": {
     "model_module": "@jupyter-widgets/controls",
     "model_module_version": "1.5.0",
     "model_name": "HTMLModel",
     "state": {
      "_dom_classes": [],
      "_model_module": "@jupyter-widgets/controls",
      "_model_module_version": "1.5.0",
      "_model_name": "HTMLModel",
      "_view_count": null,
      "_view_module": "@jupyter-widgets/controls",
      "_view_module_version": "1.5.0",
      "_view_name": "HTMLView",
      "description": "",
      "description_tooltip": null,
      "layout": "IPY_MODEL_a613b6b7f84648adb7ba41c6a59ecaf4",
      "placeholder": "​",
      "style": "IPY_MODEL_b1ea3d052e3d47ff87d4520b0bf2e6b3",
      "value": " 1/1 [00:51&lt;00:00,  9.20s/ url]"
     }
    },
    "61c920c99c034f888c0a26bb00eeac0d": {
     "model_module": "@jupyter-widgets/controls",
     "model_module_version": "1.5.0",
     "model_name": "ProgressStyleModel",
     "state": {
      "_model_module": "@jupyter-widgets/controls",
      "_model_module_version": "1.5.0",
      "_model_name": "ProgressStyleModel",
      "_view_count": null,
      "_view_module": "@jupyter-widgets/base",
      "_view_module_version": "1.2.0",
      "_view_name": "StyleView",
      "bar_color": null,
      "description_width": ""
     }
    },
    "654f86ef01004bd8b07273da5801bf9e": {
     "model_module": "@jupyter-widgets/controls",
     "model_module_version": "1.5.0",
     "model_name": "ProgressStyleModel",
     "state": {
      "_model_module": "@jupyter-widgets/controls",
      "_model_module_version": "1.5.0",
      "_model_name": "ProgressStyleModel",
      "_view_count": null,
      "_view_module": "@jupyter-widgets/base",
      "_view_module_version": "1.2.0",
      "_view_name": "StyleView",
      "bar_color": null,
      "description_width": ""
     }
    },
    "65c11685ce424c3c8529d7701200d0cb": {
     "model_module": "@jupyter-widgets/controls",
     "model_module_version": "1.5.0",
     "model_name": "DescriptionStyleModel",
     "state": {
      "_model_module": "@jupyter-widgets/controls",
      "_model_module_version": "1.5.0",
      "_model_name": "DescriptionStyleModel",
      "_view_count": null,
      "_view_module": "@jupyter-widgets/base",
      "_view_module_version": "1.2.0",
      "_view_name": "StyleView",
      "description_width": ""
     }
    },
    "67146e5d5b6941168c5c0fc2541aca11": {
     "model_module": "@jupyter-widgets/controls",
     "model_module_version": "1.5.0",
     "model_name": "FloatProgressModel",
     "state": {
      "_dom_classes": [],
      "_model_module": "@jupyter-widgets/controls",
      "_model_module_version": "1.5.0",
      "_model_name": "FloatProgressModel",
      "_view_count": null,
      "_view_module": "@jupyter-widgets/controls",
      "_view_module_version": "1.5.0",
      "_view_name": "ProgressView",
      "bar_style": "",
      "description": "",
      "description_tooltip": null,
      "layout": "IPY_MODEL_232d13964bfe4bd99fd5aab63d2a32d4",
      "max": 500,
      "min": 0,
      "orientation": "horizontal",
      "style": "IPY_MODEL_5fa664b83a8046e6870265910467dd4a",
      "value": 500
     }
    },
    "673b108bb4f849ffa8afd2f82ba45e09": {
     "model_module": "@jupyter-widgets/base",
     "model_module_version": "1.2.0",
     "model_name": "LayoutModel",
     "state": {
      "_model_module": "@jupyter-widgets/base",
      "_model_module_version": "1.2.0",
      "_model_name": "LayoutModel",
      "_view_count": null,
      "_view_module": "@jupyter-widgets/base",
      "_view_module_version": "1.2.0",
      "_view_name": "LayoutView",
      "align_content": null,
      "align_items": null,
      "align_self": null,
      "border": null,
      "bottom": null,
      "display": null,
      "flex": null,
      "flex_flow": null,
      "grid_area": null,
      "grid_auto_columns": null,
      "grid_auto_flow": null,
      "grid_auto_rows": null,
      "grid_column": null,
      "grid_gap": null,
      "grid_row": null,
      "grid_template_areas": null,
      "grid_template_columns": null,
      "grid_template_rows": null,
      "height": null,
      "justify_content": null,
      "justify_items": null,
      "left": null,
      "margin": null,
      "max_height": null,
      "max_width": null,
      "min_height": null,
      "min_width": null,
      "object_fit": null,
      "object_position": null,
      "order": null,
      "overflow": null,
      "overflow_x": null,
      "overflow_y": null,
      "padding": null,
      "right": null,
      "top": null,
      "visibility": null,
      "width": null
     }
    },
    "783321b8329749729096d3bb295551e9": {
     "model_module": "@jupyter-widgets/controls",
     "model_module_version": "1.5.0",
     "model_name": "HTMLModel",
     "state": {
      "_dom_classes": [],
      "_model_module": "@jupyter-widgets/controls",
      "_model_module_version": "1.5.0",
      "_model_name": "HTMLModel",
      "_view_count": null,
      "_view_module": "@jupyter-widgets/controls",
      "_view_module_version": "1.5.0",
      "_view_name": "HTMLView",
      "description": "",
      "description_tooltip": null,
      "layout": "IPY_MODEL_eebe9d8f4d28492f81c82fcf9ed65834",
      "placeholder": "​",
      "style": "IPY_MODEL_f8d2b2b4aba64afd9bae11f0980fe342",
      "value": " 2/2 [00:08&lt;00:00,  3.53s/ splits]"
     }
    },
    "794c34e247064b8c8b8da27ebb2605cc": {
     "model_module": "@jupyter-widgets/base",
     "model_module_version": "1.2.0",
     "model_name": "LayoutModel",
     "state": {
      "_model_module": "@jupyter-widgets/base",
      "_model_module_version": "1.2.0",
      "_model_name": "LayoutModel",
      "_view_count": null,
      "_view_module": "@jupyter-widgets/base",
      "_view_module_version": "1.2.0",
      "_view_name": "LayoutView",
      "align_content": null,
      "align_items": null,
      "align_self": null,
      "border": null,
      "bottom": null,
      "display": null,
      "flex": null,
      "flex_flow": null,
      "grid_area": null,
      "grid_auto_columns": null,
      "grid_auto_flow": null,
      "grid_auto_rows": null,
      "grid_column": null,
      "grid_gap": null,
      "grid_row": null,
      "grid_template_areas": null,
      "grid_template_columns": null,
      "grid_template_rows": null,
      "height": null,
      "justify_content": null,
      "justify_items": null,
      "left": null,
      "margin": null,
      "max_height": null,
      "max_width": null,
      "min_height": null,
      "min_width": null,
      "object_fit": null,
      "object_position": null,
      "order": null,
      "overflow": null,
      "overflow_x": null,
      "overflow_y": null,
      "padding": null,
      "right": null,
      "top": null,
      "visibility": null,
      "width": null
     }
    },
    "7c290017bf4c429ba46ef66fd57a2175": {
     "model_module": "@jupyter-widgets/controls",
     "model_module_version": "1.5.0",
     "model_name": "HBoxModel",
     "state": {
      "_dom_classes": [],
      "_model_module": "@jupyter-widgets/controls",
      "_model_module_version": "1.5.0",
      "_model_name": "HBoxModel",
      "_view_count": null,
      "_view_module": "@jupyter-widgets/controls",
      "_view_module_version": "1.5.0",
      "_view_name": "HBoxView",
      "box_style": "",
      "children": [
       "IPY_MODEL_5aa915680e7a4145a825d3383f02714e",
       "IPY_MODEL_1e81c0f5f3734f48a6f6c91c8c21583b",
       "IPY_MODEL_8611f8dd9d2f4f32b4c4c69a698e51f2"
      ],
      "layout": "IPY_MODEL_353f55625c20408c97b3a69203bad525"
     }
    },
    "82839b418fd14abe84036c2e036742cd": {
     "model_module": "@jupyter-widgets/controls",
     "model_module_version": "1.5.0",
     "model_name": "DescriptionStyleModel",
     "state": {
      "_model_module": "@jupyter-widgets/controls",
      "_model_module_version": "1.5.0",
      "_model_name": "DescriptionStyleModel",
      "_view_count": null,
      "_view_module": "@jupyter-widgets/base",
      "_view_module_version": "1.2.0",
      "_view_name": "StyleView",
      "description_width": ""
     }
    },
    "8373ee60be4e41adb5ca3ff13e9403dc": {
     "model_module": "@jupyter-widgets/controls",
     "model_module_version": "1.5.0",
     "model_name": "FloatProgressModel",
     "state": {
      "_dom_classes": [],
      "_model_module": "@jupyter-widgets/controls",
      "_model_module_version": "1.5.0",
      "_model_name": "FloatProgressModel",
      "_view_count": null,
      "_view_module": "@jupyter-widgets/controls",
      "_view_module_version": "1.5.0",
      "_view_name": "ProgressView",
      "bar_style": "success",
      "description": "",
      "description_tooltip": null,
      "layout": "IPY_MODEL_2c3d357865194b6ea8edc74c7b5632d4",
      "max": 1,
      "min": 0,
      "orientation": "horizontal",
      "style": "IPY_MODEL_1a2ebd9d057c4a01b2b7c66de9492831",
      "value": 1
     }
    },
    "84c941392759421da376a1e4f54fb02c": {
     "model_module": "@jupyter-widgets/base",
     "model_module_version": "1.2.0",
     "model_name": "LayoutModel",
     "state": {
      "_model_module": "@jupyter-widgets/base",
      "_model_module_version": "1.2.0",
      "_model_name": "LayoutModel",
      "_view_count": null,
      "_view_module": "@jupyter-widgets/base",
      "_view_module_version": "1.2.0",
      "_view_name": "LayoutView",
      "align_content": null,
      "align_items": null,
      "align_self": null,
      "border": null,
      "bottom": null,
      "display": null,
      "flex": null,
      "flex_flow": null,
      "grid_area": null,
      "grid_auto_columns": null,
      "grid_auto_flow": null,
      "grid_auto_rows": null,
      "grid_column": null,
      "grid_gap": null,
      "grid_row": null,
      "grid_template_areas": null,
      "grid_template_columns": null,
      "grid_template_rows": null,
      "height": null,
      "justify_content": null,
      "justify_items": null,
      "left": null,
      "margin": null,
      "max_height": null,
      "max_width": null,
      "min_height": null,
      "min_width": null,
      "object_fit": null,
      "object_position": null,
      "order": null,
      "overflow": null,
      "overflow_x": null,
      "overflow_y": null,
      "padding": null,
      "right": null,
      "top": null,
      "visibility": "hidden",
      "width": null
     }
    },
    "84ee2b655f3e49b3bcced6dcd262d6df": {
     "model_module": "@jupyter-widgets/controls",
     "model_module_version": "1.5.0",
     "model_name": "DescriptionStyleModel",
     "state": {
      "_model_module": "@jupyter-widgets/controls",
      "_model_module_version": "1.5.0",
      "_model_name": "DescriptionStyleModel",
      "_view_count": null,
      "_view_module": "@jupyter-widgets/base",
      "_view_module_version": "1.2.0",
      "_view_name": "StyleView",
      "description_width": ""
     }
    },
    "8611f8dd9d2f4f32b4c4c69a698e51f2": {
     "model_module": "@jupyter-widgets/controls",
     "model_module_version": "1.5.0",
     "model_name": "HTMLModel",
     "state": {
      "_dom_classes": [],
      "_model_module": "@jupyter-widgets/controls",
      "_model_module_version": "1.5.0",
      "_model_name": "HTMLModel",
      "_view_count": null,
      "_view_module": "@jupyter-widgets/controls",
      "_view_module_version": "1.5.0",
      "_view_name": "HTMLView",
      "description": "",
      "description_tooltip": null,
      "layout": "IPY_MODEL_213bb870c152427081e8d350f0bf8a8a",
      "placeholder": "​",
      "style": "IPY_MODEL_48292979370145c7b0572a56f14c5a4f",
      "value": " 7861/12894 [00:01&lt;00:00, 7860.80 examples/s]"
     }
    },
    "8806940de1a94d838f1751289e16024b": {
     "model_module": "@jupyter-widgets/base",
     "model_module_version": "1.2.0",
     "model_name": "LayoutModel",
     "state": {
      "_model_module": "@jupyter-widgets/base",
      "_model_module_version": "1.2.0",
      "_model_name": "LayoutModel",
      "_view_count": null,
      "_view_module": "@jupyter-widgets/base",
      "_view_module_version": "1.2.0",
      "_view_name": "LayoutView",
      "align_content": null,
      "align_items": null,
      "align_self": null,
      "border": null,
      "bottom": null,
      "display": null,
      "flex": null,
      "flex_flow": null,
      "grid_area": null,
      "grid_auto_columns": null,
      "grid_auto_flow": null,
      "grid_auto_rows": null,
      "grid_column": null,
      "grid_gap": null,
      "grid_row": null,
      "grid_template_areas": null,
      "grid_template_columns": null,
      "grid_template_rows": null,
      "height": null,
      "justify_content": null,
      "justify_items": null,
      "left": null,
      "margin": null,
      "max_height": null,
      "max_width": null,
      "min_height": null,
      "min_width": null,
      "object_fit": null,
      "object_position": null,
      "order": null,
      "overflow": null,
      "overflow_x": null,
      "overflow_y": null,
      "padding": null,
      "right": null,
      "top": null,
      "visibility": null,
      "width": null
     }
    },
    "90be4cbdf86b4ffc84728d3c2313efa9": {
     "model_module": "@jupyter-widgets/controls",
     "model_module_version": "1.5.0",
     "model_name": "HTMLModel",
     "state": {
      "_dom_classes": [],
      "_model_module": "@jupyter-widgets/controls",
      "_model_module_version": "1.5.0",
      "_model_name": "HTMLModel",
      "_view_count": null,
      "_view_module": "@jupyter-widgets/controls",
      "_view_module_version": "1.5.0",
      "_view_name": "HTMLView",
      "description": "",
      "description_tooltip": null,
      "layout": "IPY_MODEL_b05d16444e3646d8b39c3b8d661a2a53",
      "placeholder": "​",
      "style": "IPY_MODEL_0a05e362582e41109786064176e53ac0",
      "value": " 12200/12894 [00:06&lt;00:00, 2027.91 examples/s]"
     }
    },
    "9436d3e56ba54839bab72fc51a38c030": {
     "model_module": "@jupyter-widgets/base",
     "model_module_version": "1.2.0",
     "model_name": "LayoutModel",
     "state": {
      "_model_module": "@jupyter-widgets/base",
      "_model_module_version": "1.2.0",
      "_model_name": "LayoutModel",
      "_view_count": null,
      "_view_module": "@jupyter-widgets/base",
      "_view_module_version": "1.2.0",
      "_view_name": "LayoutView",
      "align_content": null,
      "align_items": null,
      "align_self": null,
      "border": null,
      "bottom": null,
      "display": null,
      "flex": null,
      "flex_flow": null,
      "grid_area": null,
      "grid_auto_columns": null,
      "grid_auto_flow": null,
      "grid_auto_rows": null,
      "grid_column": null,
      "grid_gap": null,
      "grid_row": null,
      "grid_template_areas": null,
      "grid_template_columns": null,
      "grid_template_rows": null,
      "height": null,
      "justify_content": null,
      "justify_items": null,
      "left": null,
      "margin": null,
      "max_height": null,
      "max_width": null,
      "min_height": null,
      "min_width": null,
      "object_fit": null,
      "object_position": null,
      "order": null,
      "overflow": null,
      "overflow_x": null,
      "overflow_y": null,
      "padding": null,
      "right": null,
      "top": null,
      "visibility": null,
      "width": null
     }
    },
    "947e4ece10f348ca92ca30bdb8263857": {
     "model_module": "@jupyter-widgets/base",
     "model_module_version": "1.2.0",
     "model_name": "LayoutModel",
     "state": {
      "_model_module": "@jupyter-widgets/base",
      "_model_module_version": "1.2.0",
      "_model_name": "LayoutModel",
      "_view_count": null,
      "_view_module": "@jupyter-widgets/base",
      "_view_module_version": "1.2.0",
      "_view_name": "LayoutView",
      "align_content": null,
      "align_items": null,
      "align_self": null,
      "border": null,
      "bottom": null,
      "display": null,
      "flex": null,
      "flex_flow": null,
      "grid_area": null,
      "grid_auto_columns": null,
      "grid_auto_flow": null,
      "grid_auto_rows": null,
      "grid_column": null,
      "grid_gap": null,
      "grid_row": null,
      "grid_template_areas": null,
      "grid_template_columns": null,
      "grid_template_rows": null,
      "height": null,
      "justify_content": null,
      "justify_items": null,
      "left": null,
      "margin": null,
      "max_height": null,
      "max_width": null,
      "min_height": null,
      "min_width": null,
      "object_fit": null,
      "object_position": null,
      "order": null,
      "overflow": null,
      "overflow_x": null,
      "overflow_y": null,
      "padding": null,
      "right": null,
      "top": null,
      "visibility": null,
      "width": "20px"
     }
    },
    "960b43d71f3842c98dee9b5b38623b27": {
     "model_module": "@jupyter-widgets/controls",
     "model_module_version": "1.5.0",
     "model_name": "FloatProgressModel",
     "state": {
      "_dom_classes": [],
      "_model_module": "@jupyter-widgets/controls",
      "_model_module_version": "1.5.0",
      "_model_name": "FloatProgressModel",
      "_view_count": null,
      "_view_module": "@jupyter-widgets/controls",
      "_view_module_version": "1.5.0",
      "_view_name": "ProgressView",
      "bar_style": "success",
      "description": "",
      "description_tooltip": null,
      "layout": "IPY_MODEL_947e4ece10f348ca92ca30bdb8263857",
      "max": 1,
      "min": 0,
      "orientation": "horizontal",
      "style": "IPY_MODEL_c67fc993ff294ff68f3dffaa220d715c",
      "value": 1
     }
    },
    "9bc1a098fef54323a0473ab4204948ee": {
     "model_module": "@jupyter-widgets/controls",
     "model_module_version": "1.5.0",
     "model_name": "HTMLModel",
     "state": {
      "_dom_classes": [],
      "_model_module": "@jupyter-widgets/controls",
      "_model_module_version": "1.5.0",
      "_model_name": "HTMLModel",
      "_view_count": null,
      "_view_module": "@jupyter-widgets/controls",
      "_view_module_version": "1.5.0",
      "_view_name": "HTMLView",
      "description": "",
      "description_tooltip": null,
      "layout": "IPY_MODEL_b84e55d5943f48e78700c83536a8db37",
      "placeholder": "​",
      "style": "IPY_MODEL_e92716a817ed43edbf276b61f12c2b7b",
      "value": " 0/500 [00:00&lt;?, ? examples/s]"
     }
    },
    "a36d8a1b044d406fbb7db4b8979b2d5a": {
     "model_module": "@jupyter-widgets/base",
     "model_module_version": "1.2.0",
     "model_name": "LayoutModel",
     "state": {
      "_model_module": "@jupyter-widgets/base",
      "_model_module_version": "1.2.0",
      "_model_name": "LayoutModel",
      "_view_count": null,
      "_view_module": "@jupyter-widgets/base",
      "_view_module_version": "1.2.0",
      "_view_name": "LayoutView",
      "align_content": null,
      "align_items": null,
      "align_self": null,
      "border": null,
      "bottom": null,
      "display": null,
      "flex": null,
      "flex_flow": null,
      "grid_area": null,
      "grid_auto_columns": null,
      "grid_auto_flow": null,
      "grid_auto_rows": null,
      "grid_column": null,
      "grid_gap": null,
      "grid_row": null,
      "grid_template_areas": null,
      "grid_template_columns": null,
      "grid_template_rows": null,
      "height": null,
      "justify_content": null,
      "justify_items": null,
      "left": null,
      "margin": null,
      "max_height": null,
      "max_width": null,
      "min_height": null,
      "min_width": null,
      "object_fit": null,
      "object_position": null,
      "order": null,
      "overflow": null,
      "overflow_x": null,
      "overflow_y": null,
      "padding": null,
      "right": null,
      "top": null,
      "visibility": null,
      "width": null
     }
    },
    "a3a94be6708742a48b6e036f7e98a47b": {
     "model_module": "@jupyter-widgets/base",
     "model_module_version": "1.2.0",
     "model_name": "LayoutModel",
     "state": {
      "_model_module": "@jupyter-widgets/base",
      "_model_module_version": "1.2.0",
      "_model_name": "LayoutModel",
      "_view_count": null,
      "_view_module": "@jupyter-widgets/base",
      "_view_module_version": "1.2.0",
      "_view_name": "LayoutView",
      "align_content": null,
      "align_items": null,
      "align_self": null,
      "border": null,
      "bottom": null,
      "display": null,
      "flex": null,
      "flex_flow": null,
      "grid_area": null,
      "grid_auto_columns": null,
      "grid_auto_flow": null,
      "grid_auto_rows": null,
      "grid_column": null,
      "grid_gap": null,
      "grid_row": null,
      "grid_template_areas": null,
      "grid_template_columns": null,
      "grid_template_rows": null,
      "height": null,
      "justify_content": null,
      "justify_items": null,
      "left": null,
      "margin": null,
      "max_height": null,
      "max_width": null,
      "min_height": null,
      "min_width": null,
      "object_fit": null,
      "object_position": null,
      "order": null,
      "overflow": null,
      "overflow_x": null,
      "overflow_y": null,
      "padding": null,
      "right": null,
      "top": null,
      "visibility": "hidden",
      "width": null
     }
    },
    "a613b6b7f84648adb7ba41c6a59ecaf4": {
     "model_module": "@jupyter-widgets/base",
     "model_module_version": "1.2.0",
     "model_name": "LayoutModel",
     "state": {
      "_model_module": "@jupyter-widgets/base",
      "_model_module_version": "1.2.0",
      "_model_name": "LayoutModel",
      "_view_count": null,
      "_view_module": "@jupyter-widgets/base",
      "_view_module_version": "1.2.0",
      "_view_name": "LayoutView",
      "align_content": null,
      "align_items": null,
      "align_self": null,
      "border": null,
      "bottom": null,
      "display": null,
      "flex": null,
      "flex_flow": null,
      "grid_area": null,
      "grid_auto_columns": null,
      "grid_auto_flow": null,
      "grid_auto_rows": null,
      "grid_column": null,
      "grid_gap": null,
      "grid_row": null,
      "grid_template_areas": null,
      "grid_template_columns": null,
      "grid_template_rows": null,
      "height": null,
      "justify_content": null,
      "justify_items": null,
      "left": null,
      "margin": null,
      "max_height": null,
      "max_width": null,
      "min_height": null,
      "min_width": null,
      "object_fit": null,
      "object_position": null,
      "order": null,
      "overflow": null,
      "overflow_x": null,
      "overflow_y": null,
      "padding": null,
      "right": null,
      "top": null,
      "visibility": null,
      "width": null
     }
    },
    "a61d41ce183a4d539c2ec8e6cecd45e1": {
     "model_module": "@jupyter-widgets/controls",
     "model_module_version": "1.5.0",
     "model_name": "HBoxModel",
     "state": {
      "_dom_classes": [],
      "_model_module": "@jupyter-widgets/controls",
      "_model_module_version": "1.5.0",
      "_model_name": "HBoxModel",
      "_view_count": null,
      "_view_module": "@jupyter-widgets/controls",
      "_view_module_version": "1.5.0",
      "_view_name": "HBoxView",
      "box_style": "",
      "children": [
       "IPY_MODEL_57d59a6ff62042b0bc8442d1ad9b93c4",
       "IPY_MODEL_8373ee60be4e41adb5ca3ff13e9403dc",
       "IPY_MODEL_606682ff4f4842bf948983d778845740"
      ],
      "layout": "IPY_MODEL_0cf84323b0df45bdbfb857c6715a91db"
     }
    },
    "b038b98424904d6693f216712e76f0bf": {
     "model_module": "@jupyter-widgets/controls",
     "model_module_version": "1.5.0",
     "model_name": "DescriptionStyleModel",
     "state": {
      "_model_module": "@jupyter-widgets/controls",
      "_model_module_version": "1.5.0",
      "_model_name": "DescriptionStyleModel",
      "_view_count": null,
      "_view_module": "@jupyter-widgets/base",
      "_view_module_version": "1.2.0",
      "_view_name": "StyleView",
      "description_width": ""
     }
    },
    "b05d16444e3646d8b39c3b8d661a2a53": {
     "model_module": "@jupyter-widgets/base",
     "model_module_version": "1.2.0",
     "model_name": "LayoutModel",
     "state": {
      "_model_module": "@jupyter-widgets/base",
      "_model_module_version": "1.2.0",
      "_model_name": "LayoutModel",
      "_view_count": null,
      "_view_module": "@jupyter-widgets/base",
      "_view_module_version": "1.2.0",
      "_view_name": "LayoutView",
      "align_content": null,
      "align_items": null,
      "align_self": null,
      "border": null,
      "bottom": null,
      "display": null,
      "flex": null,
      "flex_flow": null,
      "grid_area": null,
      "grid_auto_columns": null,
      "grid_auto_flow": null,
      "grid_auto_rows": null,
      "grid_column": null,
      "grid_gap": null,
      "grid_row": null,
      "grid_template_areas": null,
      "grid_template_columns": null,
      "grid_template_rows": null,
      "height": null,
      "justify_content": null,
      "justify_items": null,
      "left": null,
      "margin": null,
      "max_height": null,
      "max_width": null,
      "min_height": null,
      "min_width": null,
      "object_fit": null,
      "object_position": null,
      "order": null,
      "overflow": null,
      "overflow_x": null,
      "overflow_y": null,
      "padding": null,
      "right": null,
      "top": null,
      "visibility": null,
      "width": null
     }
    },
    "b1ea3d052e3d47ff87d4520b0bf2e6b3": {
     "model_module": "@jupyter-widgets/controls",
     "model_module_version": "1.5.0",
     "model_name": "DescriptionStyleModel",
     "state": {
      "_model_module": "@jupyter-widgets/controls",
      "_model_module_version": "1.5.0",
      "_model_name": "DescriptionStyleModel",
      "_view_count": null,
      "_view_module": "@jupyter-widgets/base",
      "_view_module_version": "1.2.0",
      "_view_name": "StyleView",
      "description_width": ""
     }
    },
    "b21c05edb3d742f1b20bfd5940a7decf": {
     "model_module": "@jupyter-widgets/base",
     "model_module_version": "1.2.0",
     "model_name": "LayoutModel",
     "state": {
      "_model_module": "@jupyter-widgets/base",
      "_model_module_version": "1.2.0",
      "_model_name": "LayoutModel",
      "_view_count": null,
      "_view_module": "@jupyter-widgets/base",
      "_view_module_version": "1.2.0",
      "_view_name": "LayoutView",
      "align_content": null,
      "align_items": null,
      "align_self": null,
      "border": null,
      "bottom": null,
      "display": null,
      "flex": null,
      "flex_flow": null,
      "grid_area": null,
      "grid_auto_columns": null,
      "grid_auto_flow": null,
      "grid_auto_rows": null,
      "grid_column": null,
      "grid_gap": null,
      "grid_row": null,
      "grid_template_areas": null,
      "grid_template_columns": null,
      "grid_template_rows": null,
      "height": null,
      "justify_content": null,
      "justify_items": null,
      "left": null,
      "margin": null,
      "max_height": null,
      "max_width": null,
      "min_height": null,
      "min_width": null,
      "object_fit": null,
      "object_position": null,
      "order": null,
      "overflow": null,
      "overflow_x": null,
      "overflow_y": null,
      "padding": null,
      "right": null,
      "top": null,
      "visibility": null,
      "width": null
     }
    },
    "b3886e622fd54a3eb0d2e1f2aff6c5b4": {
     "model_module": "@jupyter-widgets/base",
     "model_module_version": "1.2.0",
     "model_name": "LayoutModel",
     "state": {
      "_model_module": "@jupyter-widgets/base",
      "_model_module_version": "1.2.0",
      "_model_name": "LayoutModel",
      "_view_count": null,
      "_view_module": "@jupyter-widgets/base",
      "_view_module_version": "1.2.0",
      "_view_name": "LayoutView",
      "align_content": null,
      "align_items": null,
      "align_self": null,
      "border": null,
      "bottom": null,
      "display": null,
      "flex": null,
      "flex_flow": null,
      "grid_area": null,
      "grid_auto_columns": null,
      "grid_auto_flow": null,
      "grid_auto_rows": null,
      "grid_column": null,
      "grid_gap": null,
      "grid_row": null,
      "grid_template_areas": null,
      "grid_template_columns": null,
      "grid_template_rows": null,
      "height": null,
      "justify_content": null,
      "justify_items": null,
      "left": null,
      "margin": null,
      "max_height": null,
      "max_width": null,
      "min_height": null,
      "min_width": null,
      "object_fit": null,
      "object_position": null,
      "order": null,
      "overflow": null,
      "overflow_x": null,
      "overflow_y": null,
      "padding": null,
      "right": null,
      "top": null,
      "visibility": null,
      "width": null
     }
    },
    "b4c158291bbb46bc880e27e341b6e6fc": {
     "model_module": "@jupyter-widgets/base",
     "model_module_version": "1.2.0",
     "model_name": "LayoutModel",
     "state": {
      "_model_module": "@jupyter-widgets/base",
      "_model_module_version": "1.2.0",
      "_model_name": "LayoutModel",
      "_view_count": null,
      "_view_module": "@jupyter-widgets/base",
      "_view_module_version": "1.2.0",
      "_view_name": "LayoutView",
      "align_content": null,
      "align_items": null,
      "align_self": null,
      "border": null,
      "bottom": null,
      "display": null,
      "flex": null,
      "flex_flow": null,
      "grid_area": null,
      "grid_auto_columns": null,
      "grid_auto_flow": null,
      "grid_auto_rows": null,
      "grid_column": null,
      "grid_gap": null,
      "grid_row": null,
      "grid_template_areas": null,
      "grid_template_columns": null,
      "grid_template_rows": null,
      "height": null,
      "justify_content": null,
      "justify_items": null,
      "left": null,
      "margin": null,
      "max_height": null,
      "max_width": null,
      "min_height": null,
      "min_width": null,
      "object_fit": null,
      "object_position": null,
      "order": null,
      "overflow": null,
      "overflow_x": null,
      "overflow_y": null,
      "padding": null,
      "right": null,
      "top": null,
      "visibility": "hidden",
      "width": null
     }
    },
    "b84e55d5943f48e78700c83536a8db37": {
     "model_module": "@jupyter-widgets/base",
     "model_module_version": "1.2.0",
     "model_name": "LayoutModel",
     "state": {
      "_model_module": "@jupyter-widgets/base",
      "_model_module_version": "1.2.0",
      "_model_name": "LayoutModel",
      "_view_count": null,
      "_view_module": "@jupyter-widgets/base",
      "_view_module_version": "1.2.0",
      "_view_name": "LayoutView",
      "align_content": null,
      "align_items": null,
      "align_self": null,
      "border": null,
      "bottom": null,
      "display": null,
      "flex": null,
      "flex_flow": null,
      "grid_area": null,
      "grid_auto_columns": null,
      "grid_auto_flow": null,
      "grid_auto_rows": null,
      "grid_column": null,
      "grid_gap": null,
      "grid_row": null,
      "grid_template_areas": null,
      "grid_template_columns": null,
      "grid_template_rows": null,
      "height": null,
      "justify_content": null,
      "justify_items": null,
      "left": null,
      "margin": null,
      "max_height": null,
      "max_width": null,
      "min_height": null,
      "min_width": null,
      "object_fit": null,
      "object_position": null,
      "order": null,
      "overflow": null,
      "overflow_x": null,
      "overflow_y": null,
      "padding": null,
      "right": null,
      "top": null,
      "visibility": null,
      "width": null
     }
    },
    "b8639a2a4c8b46b382a4e4d6a6960100": {
     "model_module": "@jupyter-widgets/base",
     "model_module_version": "1.2.0",
     "model_name": "LayoutModel",
     "state": {
      "_model_module": "@jupyter-widgets/base",
      "_model_module_version": "1.2.0",
      "_model_name": "LayoutModel",
      "_view_count": null,
      "_view_module": "@jupyter-widgets/base",
      "_view_module_version": "1.2.0",
      "_view_name": "LayoutView",
      "align_content": null,
      "align_items": null,
      "align_self": null,
      "border": null,
      "bottom": null,
      "display": null,
      "flex": null,
      "flex_flow": null,
      "grid_area": null,
      "grid_auto_columns": null,
      "grid_auto_flow": null,
      "grid_auto_rows": null,
      "grid_column": null,
      "grid_gap": null,
      "grid_row": null,
      "grid_template_areas": null,
      "grid_template_columns": null,
      "grid_template_rows": null,
      "height": null,
      "justify_content": null,
      "justify_items": null,
      "left": null,
      "margin": null,
      "max_height": null,
      "max_width": null,
      "min_height": null,
      "min_width": null,
      "object_fit": null,
      "object_position": null,
      "order": null,
      "overflow": null,
      "overflow_x": null,
      "overflow_y": null,
      "padding": null,
      "right": null,
      "top": null,
      "visibility": null,
      "width": null
     }
    },
    "c15e7237a4094330b7281c240fbd1d05": {
     "model_module": "@jupyter-widgets/controls",
     "model_module_version": "1.5.0",
     "model_name": "HBoxModel",
     "state": {
      "_dom_classes": [],
      "_model_module": "@jupyter-widgets/controls",
      "_model_module_version": "1.5.0",
      "_model_name": "HBoxModel",
      "_view_count": null,
      "_view_module": "@jupyter-widgets/controls",
      "_view_module_version": "1.5.0",
      "_view_name": "HBoxView",
      "box_style": "",
      "children": [
       "IPY_MODEL_c5c0c6c2c5ff4729b957e74627f8bb9f",
       "IPY_MODEL_960b43d71f3842c98dee9b5b38623b27",
       "IPY_MODEL_06f4756ed5c44a04b325a3802042aaaa"
      ],
      "layout": "IPY_MODEL_3d2f0c9a661c4db8a23891cab201d5f3"
     }
    },
    "c3920c912db542a4a66f19d1210bcac0": {
     "model_module": "@jupyter-widgets/base",
     "model_module_version": "1.2.0",
     "model_name": "LayoutModel",
     "state": {
      "_model_module": "@jupyter-widgets/base",
      "_model_module_version": "1.2.0",
      "_model_name": "LayoutModel",
      "_view_count": null,
      "_view_module": "@jupyter-widgets/base",
      "_view_module_version": "1.2.0",
      "_view_name": "LayoutView",
      "align_content": null,
      "align_items": null,
      "align_self": null,
      "border": null,
      "bottom": null,
      "display": null,
      "flex": null,
      "flex_flow": null,
      "grid_area": null,
      "grid_auto_columns": null,
      "grid_auto_flow": null,
      "grid_auto_rows": null,
      "grid_column": null,
      "grid_gap": null,
      "grid_row": null,
      "grid_template_areas": null,
      "grid_template_columns": null,
      "grid_template_rows": null,
      "height": null,
      "justify_content": null,
      "justify_items": null,
      "left": null,
      "margin": null,
      "max_height": null,
      "max_width": null,
      "min_height": null,
      "min_width": null,
      "object_fit": null,
      "object_position": null,
      "order": null,
      "overflow": null,
      "overflow_x": null,
      "overflow_y": null,
      "padding": null,
      "right": null,
      "top": null,
      "visibility": null,
      "width": null
     }
    },
    "c5c0c6c2c5ff4729b957e74627f8bb9f": {
     "model_module": "@jupyter-widgets/controls",
     "model_module_version": "1.5.0",
     "model_name": "HTMLModel",
     "state": {
      "_dom_classes": [],
      "_model_module": "@jupyter-widgets/controls",
      "_model_module_version": "1.5.0",
      "_model_name": "HTMLModel",
      "_view_count": null,
      "_view_module": "@jupyter-widgets/controls",
      "_view_module_version": "1.5.0",
      "_view_name": "HTMLView",
      "description": "",
      "description_tooltip": null,
      "layout": "IPY_MODEL_b3886e622fd54a3eb0d2e1f2aff6c5b4",
      "placeholder": "​",
      "style": "IPY_MODEL_d6f2a386a36d48a89ac8e380d14fda67",
      "value": "Dl Size...: 100%"
     }
    },
    "c67d26cadfcb406ea55a96f2ee19f340": {
     "model_module": "@jupyter-widgets/controls",
     "model_module_version": "1.5.0",
     "model_name": "ProgressStyleModel",
     "state": {
      "_model_module": "@jupyter-widgets/controls",
      "_model_module_version": "1.5.0",
      "_model_name": "ProgressStyleModel",
      "_view_count": null,
      "_view_module": "@jupyter-widgets/base",
      "_view_module_version": "1.2.0",
      "_view_name": "StyleView",
      "bar_color": null,
      "description_width": ""
     }
    },
    "c67fc993ff294ff68f3dffaa220d715c": {
     "model_module": "@jupyter-widgets/controls",
     "model_module_version": "1.5.0",
     "model_name": "ProgressStyleModel",
     "state": {
      "_model_module": "@jupyter-widgets/controls",
      "_model_module_version": "1.5.0",
      "_model_name": "ProgressStyleModel",
      "_view_count": null,
      "_view_module": "@jupyter-widgets/base",
      "_view_module_version": "1.2.0",
      "_view_name": "StyleView",
      "bar_color": null,
      "description_width": ""
     }
    },
    "c6cb97080cee4f299ec81999c9512a39": {
     "model_module": "@jupyter-widgets/controls",
     "model_module_version": "1.5.0",
     "model_name": "HBoxModel",
     "state": {
      "_dom_classes": [],
      "_model_module": "@jupyter-widgets/controls",
      "_model_module_version": "1.5.0",
      "_model_name": "HBoxModel",
      "_view_count": null,
      "_view_module": "@jupyter-widgets/controls",
      "_view_module_version": "1.5.0",
      "_view_name": "HBoxView",
      "box_style": "",
      "children": [
       "IPY_MODEL_2f2e565610bb41eba11fed4bd987e501",
       "IPY_MODEL_f5bac5437fed4d37aa2e5cc15e40765f",
       "IPY_MODEL_e29f8943de8142f7985910e3dbb2f27d"
      ],
      "layout": "IPY_MODEL_d5e85e715d9943918259c9f1be10c96e"
     }
    },
    "ccb6b0824afd4ae4b13b7c0475ece4e4": {
     "model_module": "@jupyter-widgets/base",
     "model_module_version": "1.2.0",
     "model_name": "LayoutModel",
     "state": {
      "_model_module": "@jupyter-widgets/base",
      "_model_module_version": "1.2.0",
      "_model_name": "LayoutModel",
      "_view_count": null,
      "_view_module": "@jupyter-widgets/base",
      "_view_module_version": "1.2.0",
      "_view_name": "LayoutView",
      "align_content": null,
      "align_items": null,
      "align_self": null,
      "border": null,
      "bottom": null,
      "display": null,
      "flex": null,
      "flex_flow": null,
      "grid_area": null,
      "grid_auto_columns": null,
      "grid_auto_flow": null,
      "grid_auto_rows": null,
      "grid_column": null,
      "grid_gap": null,
      "grid_row": null,
      "grid_template_areas": null,
      "grid_template_columns": null,
      "grid_template_rows": null,
      "height": null,
      "justify_content": null,
      "justify_items": null,
      "left": null,
      "margin": null,
      "max_height": null,
      "max_width": null,
      "min_height": null,
      "min_width": null,
      "object_fit": null,
      "object_position": null,
      "order": null,
      "overflow": null,
      "overflow_x": null,
      "overflow_y": null,
      "padding": null,
      "right": null,
      "top": null,
      "visibility": null,
      "width": null
     }
    },
    "cda772720e9e413c8c5965c7661b7e22": {
     "model_module": "@jupyter-widgets/controls",
     "model_module_version": "1.5.0",
     "model_name": "HTMLModel",
     "state": {
      "_dom_classes": [],
      "_model_module": "@jupyter-widgets/controls",
      "_model_module_version": "1.5.0",
      "_model_name": "HTMLModel",
      "_view_count": null,
      "_view_module": "@jupyter-widgets/controls",
      "_view_module_version": "1.5.0",
      "_view_name": "HTMLView",
      "description": "",
      "description_tooltip": null,
      "layout": "IPY_MODEL_ccb6b0824afd4ae4b13b7c0475ece4e4",
      "placeholder": "​",
      "style": "IPY_MODEL_24d0968c5cf54605983aa5309161a694",
      "value": "Generating splits...: 100%"
     }
    },
    "ce8550fe5b5f4c049574c1deb8ba700d": {
     "model_module": "@jupyter-widgets/controls",
     "model_module_version": "1.5.0",
     "model_name": "ProgressStyleModel",
     "state": {
      "_model_module": "@jupyter-widgets/controls",
      "_model_module_version": "1.5.0",
      "_model_name": "ProgressStyleModel",
      "_view_count": null,
      "_view_module": "@jupyter-widgets/base",
      "_view_module_version": "1.2.0",
      "_view_name": "StyleView",
      "bar_color": null,
      "description_width": ""
     }
    },
    "d5298754fe0d46d1aa1cb222bf8e9f6f": {
     "model_module": "@jupyter-widgets/controls",
     "model_module_version": "1.5.0",
     "model_name": "HBoxModel",
     "state": {
      "_dom_classes": [],
      "_model_module": "@jupyter-widgets/controls",
      "_model_module_version": "1.5.0",
      "_model_name": "HBoxModel",
      "_view_count": null,
      "_view_module": "@jupyter-widgets/controls",
      "_view_module_version": "1.5.0",
      "_view_name": "HBoxView",
      "box_style": "",
      "children": [
       "IPY_MODEL_0b6a523f0157425c88a4aa5dfbd7c523",
       "IPY_MODEL_570cd9ce2c11429b9841d2fa9607cb15",
       "IPY_MODEL_525c737a8dc84c789da99d630376dbc9"
      ],
      "layout": "IPY_MODEL_e87af88af8f5493b8047228b210ba99d"
     }
    },
    "d5e85e715d9943918259c9f1be10c96e": {
     "model_module": "@jupyter-widgets/base",
     "model_module_version": "1.2.0",
     "model_name": "LayoutModel",
     "state": {
      "_model_module": "@jupyter-widgets/base",
      "_model_module_version": "1.2.0",
      "_model_name": "LayoutModel",
      "_view_count": null,
      "_view_module": "@jupyter-widgets/base",
      "_view_module_version": "1.2.0",
      "_view_name": "LayoutView",
      "align_content": null,
      "align_items": null,
      "align_self": null,
      "border": null,
      "bottom": null,
      "display": null,
      "flex": null,
      "flex_flow": null,
      "grid_area": null,
      "grid_auto_columns": null,
      "grid_auto_flow": null,
      "grid_auto_rows": null,
      "grid_column": null,
      "grid_gap": null,
      "grid_row": null,
      "grid_template_areas": null,
      "grid_template_columns": null,
      "grid_template_rows": null,
      "height": null,
      "justify_content": null,
      "justify_items": null,
      "left": null,
      "margin": null,
      "max_height": null,
      "max_width": null,
      "min_height": null,
      "min_width": null,
      "object_fit": null,
      "object_position": null,
      "order": null,
      "overflow": null,
      "overflow_x": null,
      "overflow_y": null,
      "padding": null,
      "right": null,
      "top": null,
      "visibility": "hidden",
      "width": null
     }
    },
    "d61823c7d36b4d10853f04b1458032b9": {
     "model_module": "@jupyter-widgets/controls",
     "model_module_version": "1.5.0",
     "model_name": "ProgressStyleModel",
     "state": {
      "_model_module": "@jupyter-widgets/controls",
      "_model_module_version": "1.5.0",
      "_model_name": "ProgressStyleModel",
      "_view_count": null,
      "_view_module": "@jupyter-widgets/base",
      "_view_module_version": "1.2.0",
      "_view_name": "StyleView",
      "bar_color": null,
      "description_width": ""
     }
    },
    "d6f2a386a36d48a89ac8e380d14fda67": {
     "model_module": "@jupyter-widgets/controls",
     "model_module_version": "1.5.0",
     "model_name": "DescriptionStyleModel",
     "state": {
      "_model_module": "@jupyter-widgets/controls",
      "_model_module_version": "1.5.0",
      "_model_name": "DescriptionStyleModel",
      "_view_count": null,
      "_view_module": "@jupyter-widgets/base",
      "_view_module_version": "1.2.0",
      "_view_name": "StyleView",
      "description_width": ""
     }
    },
    "de3216f555e1433ab6bd2c1a2adee57d": {
     "model_module": "@jupyter-widgets/controls",
     "model_module_version": "1.5.0",
     "model_name": "DescriptionStyleModel",
     "state": {
      "_model_module": "@jupyter-widgets/controls",
      "_model_module_version": "1.5.0",
      "_model_name": "DescriptionStyleModel",
      "_view_count": null,
      "_view_module": "@jupyter-widgets/base",
      "_view_module_version": "1.2.0",
      "_view_name": "StyleView",
      "description_width": ""
     }
    },
    "e29f8943de8142f7985910e3dbb2f27d": {
     "model_module": "@jupyter-widgets/controls",
     "model_module_version": "1.5.0",
     "model_name": "HTMLModel",
     "state": {
      "_dom_classes": [],
      "_model_module": "@jupyter-widgets/controls",
      "_model_module_version": "1.5.0",
      "_model_name": "HTMLModel",
      "_view_count": null,
      "_view_module": "@jupyter-widgets/controls",
      "_view_module_version": "1.5.0",
      "_view_name": "HTMLView",
      "description": "",
      "description_tooltip": null,
      "layout": "IPY_MODEL_b21c05edb3d742f1b20bfd5940a7decf",
      "placeholder": "​",
      "style": "IPY_MODEL_24cab4c2656341e49892787cccf7da07",
      "value": " 0/500 [00:00&lt;?, ? examples/s]"
     }
    },
    "e7fbaea98eb947e8adc237d0a5782a68": {
     "model_module": "@jupyter-widgets/base",
     "model_module_version": "1.2.0",
     "model_name": "LayoutModel",
     "state": {
      "_model_module": "@jupyter-widgets/base",
      "_model_module_version": "1.2.0",
      "_model_name": "LayoutModel",
      "_view_count": null,
      "_view_module": "@jupyter-widgets/base",
      "_view_module_version": "1.2.0",
      "_view_name": "LayoutView",
      "align_content": null,
      "align_items": null,
      "align_self": null,
      "border": null,
      "bottom": null,
      "display": null,
      "flex": null,
      "flex_flow": null,
      "grid_area": null,
      "grid_auto_columns": null,
      "grid_auto_flow": null,
      "grid_auto_rows": null,
      "grid_column": null,
      "grid_gap": null,
      "grid_row": null,
      "grid_template_areas": null,
      "grid_template_columns": null,
      "grid_template_rows": null,
      "height": null,
      "justify_content": null,
      "justify_items": null,
      "left": null,
      "margin": null,
      "max_height": null,
      "max_width": null,
      "min_height": null,
      "min_width": null,
      "object_fit": null,
      "object_position": null,
      "order": null,
      "overflow": null,
      "overflow_x": null,
      "overflow_y": null,
      "padding": null,
      "right": null,
      "top": null,
      "visibility": null,
      "width": "20px"
     }
    },
    "e87af88af8f5493b8047228b210ba99d": {
     "model_module": "@jupyter-widgets/base",
     "model_module_version": "1.2.0",
     "model_name": "LayoutModel",
     "state": {
      "_model_module": "@jupyter-widgets/base",
      "_model_module_version": "1.2.0",
      "_model_name": "LayoutModel",
      "_view_count": null,
      "_view_module": "@jupyter-widgets/base",
      "_view_module_version": "1.2.0",
      "_view_name": "LayoutView",
      "align_content": null,
      "align_items": null,
      "align_self": null,
      "border": null,
      "bottom": null,
      "display": null,
      "flex": null,
      "flex_flow": null,
      "grid_area": null,
      "grid_auto_columns": null,
      "grid_auto_flow": null,
      "grid_auto_rows": null,
      "grid_column": null,
      "grid_gap": null,
      "grid_row": null,
      "grid_template_areas": null,
      "grid_template_columns": null,
      "grid_template_rows": null,
      "height": null,
      "justify_content": null,
      "justify_items": null,
      "left": null,
      "margin": null,
      "max_height": null,
      "max_width": null,
      "min_height": null,
      "min_width": null,
      "object_fit": null,
      "object_position": null,
      "order": null,
      "overflow": null,
      "overflow_x": null,
      "overflow_y": null,
      "padding": null,
      "right": null,
      "top": null,
      "visibility": null,
      "width": null
     }
    },
    "e92716a817ed43edbf276b61f12c2b7b": {
     "model_module": "@jupyter-widgets/controls",
     "model_module_version": "1.5.0",
     "model_name": "DescriptionStyleModel",
     "state": {
      "_model_module": "@jupyter-widgets/controls",
      "_model_module_version": "1.5.0",
      "_model_name": "DescriptionStyleModel",
      "_view_count": null,
      "_view_module": "@jupyter-widgets/base",
      "_view_module_version": "1.2.0",
      "_view_name": "StyleView",
      "description_width": ""
     }
    },
    "eebe9d8f4d28492f81c82fcf9ed65834": {
     "model_module": "@jupyter-widgets/base",
     "model_module_version": "1.2.0",
     "model_name": "LayoutModel",
     "state": {
      "_model_module": "@jupyter-widgets/base",
      "_model_module_version": "1.2.0",
      "_model_name": "LayoutModel",
      "_view_count": null,
      "_view_module": "@jupyter-widgets/base",
      "_view_module_version": "1.2.0",
      "_view_name": "LayoutView",
      "align_content": null,
      "align_items": null,
      "align_self": null,
      "border": null,
      "bottom": null,
      "display": null,
      "flex": null,
      "flex_flow": null,
      "grid_area": null,
      "grid_auto_columns": null,
      "grid_auto_flow": null,
      "grid_auto_rows": null,
      "grid_column": null,
      "grid_gap": null,
      "grid_row": null,
      "grid_template_areas": null,
      "grid_template_columns": null,
      "grid_template_rows": null,
      "height": null,
      "justify_content": null,
      "justify_items": null,
      "left": null,
      "margin": null,
      "max_height": null,
      "max_width": null,
      "min_height": null,
      "min_width": null,
      "object_fit": null,
      "object_position": null,
      "order": null,
      "overflow": null,
      "overflow_x": null,
      "overflow_y": null,
      "padding": null,
      "right": null,
      "top": null,
      "visibility": null,
      "width": null
     }
    },
    "f48420bdd8b44691ad1c1fe7335a88fc": {
     "model_module": "@jupyter-widgets/controls",
     "model_module_version": "1.5.0",
     "model_name": "DescriptionStyleModel",
     "state": {
      "_model_module": "@jupyter-widgets/controls",
      "_model_module_version": "1.5.0",
      "_model_name": "DescriptionStyleModel",
      "_view_count": null,
      "_view_module": "@jupyter-widgets/base",
      "_view_module_version": "1.2.0",
      "_view_name": "StyleView",
      "description_width": ""
     }
    },
    "f4ef26a89ff34c428757e93ce5e30054": {
     "model_module": "@jupyter-widgets/base",
     "model_module_version": "1.2.0",
     "model_name": "LayoutModel",
     "state": {
      "_model_module": "@jupyter-widgets/base",
      "_model_module_version": "1.2.0",
      "_model_name": "LayoutModel",
      "_view_count": null,
      "_view_module": "@jupyter-widgets/base",
      "_view_module_version": "1.2.0",
      "_view_name": "LayoutView",
      "align_content": null,
      "align_items": null,
      "align_self": null,
      "border": null,
      "bottom": null,
      "display": null,
      "flex": null,
      "flex_flow": null,
      "grid_area": null,
      "grid_auto_columns": null,
      "grid_auto_flow": null,
      "grid_auto_rows": null,
      "grid_column": null,
      "grid_gap": null,
      "grid_row": null,
      "grid_template_areas": null,
      "grid_template_columns": null,
      "grid_template_rows": null,
      "height": null,
      "justify_content": null,
      "justify_items": null,
      "left": null,
      "margin": null,
      "max_height": null,
      "max_width": null,
      "min_height": null,
      "min_width": null,
      "object_fit": null,
      "object_position": null,
      "order": null,
      "overflow": null,
      "overflow_x": null,
      "overflow_y": null,
      "padding": null,
      "right": null,
      "top": null,
      "visibility": null,
      "width": null
     }
    },
    "f5bac5437fed4d37aa2e5cc15e40765f": {
     "model_module": "@jupyter-widgets/controls",
     "model_module_version": "1.5.0",
     "model_name": "FloatProgressModel",
     "state": {
      "_dom_classes": [],
      "_model_module": "@jupyter-widgets/controls",
      "_model_module_version": "1.5.0",
      "_model_name": "FloatProgressModel",
      "_view_count": null,
      "_view_module": "@jupyter-widgets/controls",
      "_view_module_version": "1.5.0",
      "_view_name": "ProgressView",
      "bar_style": "",
      "description": "",
      "description_tooltip": null,
      "layout": "IPY_MODEL_c3920c912db542a4a66f19d1210bcac0",
      "max": 500,
      "min": 0,
      "orientation": "horizontal",
      "style": "IPY_MODEL_61c920c99c034f888c0a26bb00eeac0d",
      "value": 500
     }
    },
    "f8d2b2b4aba64afd9bae11f0980fe342": {
     "model_module": "@jupyter-widgets/controls",
     "model_module_version": "1.5.0",
     "model_name": "DescriptionStyleModel",
     "state": {
      "_model_module": "@jupyter-widgets/controls",
      "_model_module_version": "1.5.0",
      "_model_name": "DescriptionStyleModel",
      "_view_count": null,
      "_view_module": "@jupyter-widgets/base",
      "_view_module_version": "1.2.0",
      "_view_name": "StyleView",
      "description_width": ""
     }
    },
    "f8dbfdad6f544c888adb1fd31050149b": {
     "model_module": "@jupyter-widgets/controls",
     "model_module_version": "1.5.0",
     "model_name": "HTMLModel",
     "state": {
      "_dom_classes": [],
      "_model_module": "@jupyter-widgets/controls",
      "_model_module_version": "1.5.0",
      "_model_name": "HTMLModel",
      "_view_count": null,
      "_view_module": "@jupyter-widgets/controls",
      "_view_module_version": "1.5.0",
      "_view_name": "HTMLView",
      "description": "",
      "description_tooltip": null,
      "layout": "IPY_MODEL_a36d8a1b044d406fbb7db4b8979b2d5a",
      "placeholder": "​",
      "style": "IPY_MODEL_84ee2b655f3e49b3bcced6dcd262d6df",
      "value": "Generating validation examples...:   0%"
     }
    },
    "ff5769456f2349939a049c93e75efe0f": {
     "model_module": "@jupyter-widgets/controls",
     "model_module_version": "1.5.0",
     "model_name": "FloatProgressModel",
     "state": {
      "_dom_classes": [],
      "_model_module": "@jupyter-widgets/controls",
      "_model_module_version": "1.5.0",
      "_model_name": "FloatProgressModel",
      "_view_count": null,
      "_view_module": "@jupyter-widgets/controls",
      "_view_module_version": "1.5.0",
      "_view_name": "ProgressView",
      "bar_style": "",
      "description": "",
      "description_tooltip": null,
      "layout": "IPY_MODEL_673b108bb4f849ffa8afd2f82ba45e09",
      "max": 2,
      "min": 0,
      "orientation": "horizontal",
      "style": "IPY_MODEL_654f86ef01004bd8b07273da5801bf9e",
      "value": 2
     }
    }
   }
  }
 },
 "nbformat": 4,
 "nbformat_minor": 4
}
